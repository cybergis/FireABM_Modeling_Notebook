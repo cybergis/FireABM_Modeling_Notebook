{
 "cells": [
  {
   "cell_type": "markdown",
   "metadata": {},
   "source": [
    "# Evaluating Routing Strategies for Emergency Evacuation: A Spatially Explicit Agent-Based Modeling Approach\n",
    "\n",
    "## Code demonstration notebook"
   ]
  },
  {
   "cell_type": "markdown",
   "metadata": {},
   "source": [
    "This notebook demonstrates code to run a wildfire evacuation agent based model. This notebook is a companion to the forthcoming manuscript, \"Evaluating Routing Strategies for Emergency Evacuation: A Spatially Explicit Agent-Based Modeling Approach\" by Rebecca Vandewalle, Furqan Baig, Santiago Nunez-Corrales, Jeon Young Kang, and Shaowen Wang.\n",
    "\n",
    "Notebook author: Rebecca Vandewalle\n",
    "<br>Last updated: 1-4-24"
   ]
  },
  {
   "cell_type": "markdown",
   "metadata": {},
   "source": [
    "<a id='top'></a>\n",
    "## Table of Contents\n",
    "- [Introduction](#intro)\n",
    "- [Quick Start](#quick_start)\n",
    "- [Import Libraries and Setup](#import_lib)\n",
    "- [Model Overview](#mod_overview)\n",
    "- [Driving Strategy Demonstration](#drive_demo)\n",
    "- [Working With and Customizing Input Data](#cust_input)\n",
    "- [Scaling Up](#scaling_up)\n",
    "- [Analyzing Simulation Results](#analyz_res)"
   ]
  },
  {
   "cell_type": "markdown",
   "metadata": {},
   "source": [
    "<a id='intro'></a>\n",
    "## Introduction"
   ]
  },
  {
   "cell_type": "markdown",
   "metadata": {},
   "source": [
    "The main code base is flexible and can serve a variety of purposes; not all available parameters are used in the manuscript. Broadly, the code models the process of evacuation on a road network in which roads are progressively closed by wildfire spread. Individual households, represented by a vehicle, must navigate out of the danger zone and re-route if the road they are currently on becomes blocked by the wildfire. \n",
    "\n",
    "The forthcoming manuscript specifically looks at patterns in evacuation clearance and congestion that change based on how vehicle routing decisions are modeled. Specifically three driving strategies are compared, 2 based off of common modeling assumptions (quickest path and shortest path), and one that attempts to more closely model evacuee behavior (preference for major roads). These strategies and the assumptions behind them are described in more detail in the manuscript and demonstrated in this notebook."
   ]
  },
  {
   "cell_type": "markdown",
   "metadata": {},
   "source": [
    "### Manuscript research questions"
   ]
  },
  {
   "cell_type": "markdown",
   "metadata": {},
   "source": [
    "- How does routing preference (shortest path vs. quickest path vs. major roads) affect evacuation clearance times? \n",
    "- How does congestion vary between routing strategies over space and time?"
   ]
  },
  {
   "cell_type": "markdown",
   "metadata": {},
   "source": [
    "### How the code addresses the research questions"
   ]
  },
  {
   "cell_type": "markdown",
   "metadata": {},
   "source": [
    "This code base described in the manuscript and in this notebook is used to run wildfire evacuation simulations for the same set of random seeds for each of the three driving strategies. The seed values control the initial vehicle placement. Every other parameter is the same for each simulation run except for the driving strategy used. This results in a repeated measures experiment setup; every initial vehicle configuration is run with all three driving strategies. Simulation timing and spatial-temporal congestion patterns are compared between the driving strategies to see how the strategy effects time time needed for vehicles to leave the evacuation zone and how traffic patterns potentially differ."
   ]
  },
  {
   "cell_type": "markdown",
   "metadata": {},
   "source": [
    "### Notebook Overview"
   ]
  },
  {
   "cell_type": "markdown",
   "metadata": {},
   "source": [
    "The quick start section demonstrates a fastest way to run a single simulation. Subsequent sections will provide an overview of the model, demonstrate driving strategies, show how to customize input data, discuss scaling up using high performance computing resources, and finally mention analyzing output results.\n",
    "\n",
    "For a more detailed discussion of certain aspects of the model, refer to the help files in the `DOCUMENTATION` folder."
   ]
  },
  {
   "cell_type": "markdown",
   "metadata": {},
   "source": [
    "<a id='quick_start'></a>\n",
    "## Quick Start\n",
    "([back to Table of Contents](#top))"
   ]
  },
  {
   "cell_type": "markdown",
   "metadata": {},
   "source": [
    "In the quick start, this notebook is set up to run a small sample simulation to showcase working code.\n",
    "\n",
    "First, install legacy software versions (for backwards compatibility). Uncomment the first two lines to install older versions of networkx and osmnx. \n",
    "\n",
    "Expected output:\n",
    "\n",
    "```Networkx version is  2.5.1\n",
    "OSMnx version is  1.0.1```"
   ]
  },
  {
   "cell_type": "code",
   "execution_count": 2,
   "metadata": {},
   "outputs": [
    {
     "name": "stderr",
     "output_type": "stream",
     "text": [
      "/cvmfs/iguide.purdue.edu/software/conda/iguide/lib/python3.8/site-packages/geopandas/_compat.py:124: UserWarning: The Shapely GEOS version (3.10.3-CAPI-1.16.1) is incompatible with the GEOS version PyGEOS was compiled with (3.11.2-CAPI-1.17.2). Conversions between both will be slow.\n",
      "  warnings.warn(\n"
     ]
    },
    {
     "name": "stdout",
     "output_type": "stream",
     "text": [
      "Networkx version is  3.1\n",
      "OSMnx version is  1.2.2\n"
     ]
    }
   ],
   "source": [
    "!pip install --upgrade networkx==2.5.1 --quiet\n",
    "!pip install --upgrade osmnx==1.0.1 --quiet\n",
    "\n",
    "import networkx\n",
<<<<<<< Updated upstream
    "# import Osmnx library\n",
    "try:\n",
    "    import osmnx\n",
    "except:\n",
    "    print('Installing osmnx')\n",
    "    ! pip install osmnx\n",
    "    import osmnx\n",
=======
    "import osmnx\n",
>>>>>>> Stashed changes
    "\n",
    "print(\"Networkx version is \", networkx.__version__)\n",
    "print(\"OSMnx version is \",osmnx.__version__)"
   ]
  },
  {
   "cell_type": "markdown",
   "metadata": {},
   "source": [
    "Create an output directory to save generated results."
   ]
  },
  {
   "cell_type": "code",
   "execution_count": 2,
   "metadata": {},
   "outputs": [],
   "source": [
    "# determine current path and make output directory for quick start\n",
    "\n",
    "import os\n",
    "out_path = os.getcwd() # save current path \n",
    "if not os.path.isdir('demo_quick_start'): # create quick start output directory\n",
    "    os.mkdir('demo_quick_start')"
   ]
  },
  {
   "cell_type": "markdown",
   "metadata": {},
   "source": [
    "The following line of code runs the wildfire agent-based model evacuation simulation one time and saves the results in the `demo_quick_start` folder. "
   ]
  },
  {
   "cell_type": "markdown",
   "metadata": {},
   "source": [
    "Important parameters (these will be described in more depth later on):\n",
    "- `-nv`: number of vehicles to include in the simulation\n",
    "- `-sd`: seed, this number is used to set the randomization of the initial vehicle positions\n",
    "- `-epath`: current path\n",
    "- `-ofd`: name of the output directory used to store results\n",
    "- `-strat`: driving strategy used (`quickest`, `dist`, or `dist+road_type_weight`)\n",
    "- `-rg`: formatted Osmnx road graph stored as a pickle file\n",
    "- `-exdsc`: experiment description (a tag to help keep track of runs)"
   ]
  },
  {
   "cell_type": "code",
   "execution_count": 3,
   "metadata": {},
   "outputs": [
    {
     "name": "stdout",
     "output_type": "stream",
     "text": [
      "/cvmfs/iguide.purdue.edu/software/conda/iguide/lib/python3.8/site-packages/geopandas/_compat.py:124: UserWarning: The Shapely GEOS version (3.10.3-CAPI-1.16.1) is incompatible with the GEOS version PyGEOS was compiled with (3.11.2-CAPI-1.17.2). Conversions between both will be slow.\n",
      "  warnings.warn(\n",
      "Traceback (most recent call last):\n",
      "  File \"run_fireabm.py\", line 12, in <module>\n",
      "    from FireABM_opt_Keel import load_road_graph, get_node_edge_gdf, create_bboxes, load_shpfile, setup_sim, NetABM\n",
      "  File \"/home/jovyan/FireABM_Modeling_Notebook/FireABM_opt_Keel.py\", line 15, in <module>\n",
      "    from networkx.utils import generate_unique_node\n",
      "ImportError: cannot import name 'generate_unique_node' from 'networkx.utils' (/cvmfs/iguide.purdue.edu/software/conda/iguide/lib/python3.8/site-packages/networkx/utils/__init__.py)\n"
     ]
    }
   ],
   "source": [
    "# run a small simulation\n",
    "\n",
    "!python run_fireabm.py -nv 10 -sd 1 -epath \"$out_path\" \\\n",
    "-ofd demo_quick_start -strat dist -rg Sta_Rosa_2000.pkl \\\n",
    "-exdsc 'demo_run' -strd 1.0"
   ]
  },
  {
   "cell_type": "markdown",
   "metadata": {},
   "source": [
    "If you have run the previous cell with the default parameters, you will find three types of results are saved in subfolders for each run:\n",
    "- in folder `1files`: A file of run information, which stores things like the number of vehicles, seeds, driving strategies, clearance times etc.\n",
    "- in folder `1trajs`: A file of trajectories taken by each vehicle\n",
    "- in folder `1videos`: A video of the completed simulation run\n",
    "\n",
    "Note that the '1' at the start of the folder names is from the experiment number, a flag to help keep track of different groups simulation runs. It is set by default in `run_fireabm.py`."
   ]
  },
  {
   "cell_type": "markdown",
   "metadata": {},
   "source": [
    "Now that you have seen that the simulation, code can run, you can explore how it works in more detail in the next section."
   ]
  },
  {
   "cell_type": "markdown",
   "metadata": {},
   "source": [
    "# Explore the Simulation Code"
   ]
  },
  {
   "cell_type": "markdown",
   "metadata": {},
   "source": [
    "In this section, the simulation code is discribed in more detail."
   ]
  },
  {
   "cell_type": "markdown",
   "metadata": {},
   "source": [
    "<a id='import_lib'></a>\n",
    "## Import Libraries and Setup\n",
    "([back to Table of Contents](#top))"
   ]
  },
  {
   "cell_type": "markdown",
   "metadata": {},
   "source": [
    "First, libraries and modules used in this notebook are imported and a few helper variables and functions are defined."
   ]
  },
  {
   "cell_type": "code",
   "execution_count": 1,
   "metadata": {},
   "outputs": [],
   "source": [
    "# import libraries\n",
    "\n",
    "import os\n",
    "import glob\n",
    "import IPython\n",
    "from datetime import datetime\n",
    "from shapely.ops import unary_union\n",
    "import pytz\n",
    "from pathlib import Path\n",
    "from IPython.display import Video, HTML\n",
    "from ipywidgets import Video, Layout"
   ]
  },
  {
   "cell_type": "code",
   "execution_count": 5,
   "metadata": {},
   "outputs": [],
   "source": [
    "# set notebook parameters\n",
    "\n",
    "out_path = Path(os.getcwd())\n",
    "time_zone = pytz.timezone('America/Chicago') "
   ]
  },
  {
   "cell_type": "code",
   "execution_count": 6,
   "metadata": {},
   "outputs": [],
   "source": [
    "# import functions and text of FireABM_opt.py\n",
    "\n",
    "from FireABM_opt import *\n",
    "fabm_file=open('FireABM_opt.py')\n",
    "fabm_lines=fabm_file.readlines()\n",
    "\n",
    "run_fabm_file=open('run_fireabm.py')\n",
    "run_fabm_lines=run_fabm_file.readlines()"
   ]
  },
  {
   "cell_type": "code",
   "execution_count": 7,
   "metadata": {},
   "outputs": [],
   "source": [
    "# define helper function for displaying code\n",
    "# start and stop are 0-indexed, line numbers are 1-indexed\n",
    "\n",
    "def display_code_txt(start, stop, lines_obj):\n",
    "    return IPython.display.Code(data=\"\".join([(str(i+start+1)+\" \"+x) \n",
    "                                              for i, x in enumerate(lines_obj[start:stop])]), language='py3')"
   ]
  },
  {
   "cell_type": "markdown",
   "metadata": {},
   "source": [
    "<a id='mod_overview'></a>\n",
    "## Model Overview\n",
    "([back to Table of Contents](#top))"
   ]
  },
  {
   "cell_type": "markdown",
   "metadata": {},
   "source": [
    "Running the simulation model takes two steps. The simulation needs to be called twice, once to set up the simulation by calling the `__init__` function, and once to actually run the simulation using the `run` function."
   ]
  },
  {
   "cell_type": "markdown",
   "metadata": {},
   "source": [
    "Here the simulation `__init__` function in `FireABM_opt.py` is shown. Not all parameters are used in manuscript experiments; relavent parameters are defined below."
   ]
  },
  {
   "cell_type": "code",
   "execution_count": 8,
   "metadata": {},
   "outputs": [
    {
     "data": {
      "text/html": [
       "<style>pre { line-height: 125%; }\n",
       "td.linenos .normal { color: inherit; background-color: transparent; padding-left: 5px; padding-right: 5px; }\n",
       "span.linenos { color: inherit; background-color: transparent; padding-left: 5px; padding-right: 5px; }\n",
       "td.linenos .special { color: #000000; background-color: #ffffc0; padding-left: 5px; padding-right: 5px; }\n",
       "span.linenos.special { color: #000000; background-color: #ffffc0; padding-left: 5px; padding-right: 5px; }\n",
       ".output_html .hll { background-color: #ffffcc }\n",
       ".output_html { background: #f8f8f8; }\n",
       ".output_html .c { color: #3D7B7B; font-style: italic } /* Comment */\n",
       ".output_html .err { border: 1px solid #FF0000 } /* Error */\n",
       ".output_html .k { color: #008000; font-weight: bold } /* Keyword */\n",
       ".output_html .o { color: #666666 } /* Operator */\n",
       ".output_html .ch { color: #3D7B7B; font-style: italic } /* Comment.Hashbang */\n",
       ".output_html .cm { color: #3D7B7B; font-style: italic } /* Comment.Multiline */\n",
       ".output_html .cp { color: #9C6500 } /* Comment.Preproc */\n",
       ".output_html .cpf { color: #3D7B7B; font-style: italic } /* Comment.PreprocFile */\n",
       ".output_html .c1 { color: #3D7B7B; font-style: italic } /* Comment.Single */\n",
       ".output_html .cs { color: #3D7B7B; font-style: italic } /* Comment.Special */\n",
       ".output_html .gd { color: #A00000 } /* Generic.Deleted */\n",
       ".output_html .ge { font-style: italic } /* Generic.Emph */\n",
       ".output_html .gr { color: #E40000 } /* Generic.Error */\n",
       ".output_html .gh { color: #000080; font-weight: bold } /* Generic.Heading */\n",
       ".output_html .gi { color: #008400 } /* Generic.Inserted */\n",
       ".output_html .go { color: #717171 } /* Generic.Output */\n",
       ".output_html .gp { color: #000080; font-weight: bold } /* Generic.Prompt */\n",
       ".output_html .gs { font-weight: bold } /* Generic.Strong */\n",
       ".output_html .gu { color: #800080; font-weight: bold } /* Generic.Subheading */\n",
       ".output_html .gt { color: #0044DD } /* Generic.Traceback */\n",
       ".output_html .kc { color: #008000; font-weight: bold } /* Keyword.Constant */\n",
       ".output_html .kd { color: #008000; font-weight: bold } /* Keyword.Declaration */\n",
       ".output_html .kn { color: #008000; font-weight: bold } /* Keyword.Namespace */\n",
       ".output_html .kp { color: #008000 } /* Keyword.Pseudo */\n",
       ".output_html .kr { color: #008000; font-weight: bold } /* Keyword.Reserved */\n",
       ".output_html .kt { color: #B00040 } /* Keyword.Type */\n",
       ".output_html .m { color: #666666 } /* Literal.Number */\n",
       ".output_html .s { color: #BA2121 } /* Literal.String */\n",
       ".output_html .na { color: #687822 } /* Name.Attribute */\n",
       ".output_html .nb { color: #008000 } /* Name.Builtin */\n",
       ".output_html .nc { color: #0000FF; font-weight: bold } /* Name.Class */\n",
       ".output_html .no { color: #880000 } /* Name.Constant */\n",
       ".output_html .nd { color: #AA22FF } /* Name.Decorator */\n",
       ".output_html .ni { color: #717171; font-weight: bold } /* Name.Entity */\n",
       ".output_html .ne { color: #CB3F38; font-weight: bold } /* Name.Exception */\n",
       ".output_html .nf { color: #0000FF } /* Name.Function */\n",
       ".output_html .nl { color: #767600 } /* Name.Label */\n",
       ".output_html .nn { color: #0000FF; font-weight: bold } /* Name.Namespace */\n",
       ".output_html .nt { color: #008000; font-weight: bold } /* Name.Tag */\n",
       ".output_html .nv { color: #19177C } /* Name.Variable */\n",
       ".output_html .ow { color: #AA22FF; font-weight: bold } /* Operator.Word */\n",
       ".output_html .w { color: #bbbbbb } /* Text.Whitespace */\n",
       ".output_html .mb { color: #666666 } /* Literal.Number.Bin */\n",
       ".output_html .mf { color: #666666 } /* Literal.Number.Float */\n",
       ".output_html .mh { color: #666666 } /* Literal.Number.Hex */\n",
       ".output_html .mi { color: #666666 } /* Literal.Number.Integer */\n",
       ".output_html .mo { color: #666666 } /* Literal.Number.Oct */\n",
       ".output_html .sa { color: #BA2121 } /* Literal.String.Affix */\n",
       ".output_html .sb { color: #BA2121 } /* Literal.String.Backtick */\n",
       ".output_html .sc { color: #BA2121 } /* Literal.String.Char */\n",
       ".output_html .dl { color: #BA2121 } /* Literal.String.Delimiter */\n",
       ".output_html .sd { color: #BA2121; font-style: italic } /* Literal.String.Doc */\n",
       ".output_html .s2 { color: #BA2121 } /* Literal.String.Double */\n",
       ".output_html .se { color: #AA5D1F; font-weight: bold } /* Literal.String.Escape */\n",
       ".output_html .sh { color: #BA2121 } /* Literal.String.Heredoc */\n",
       ".output_html .si { color: #A45A77; font-weight: bold } /* Literal.String.Interpol */\n",
       ".output_html .sx { color: #008000 } /* Literal.String.Other */\n",
       ".output_html .sr { color: #A45A77 } /* Literal.String.Regex */\n",
       ".output_html .s1 { color: #BA2121 } /* Literal.String.Single */\n",
       ".output_html .ss { color: #19177C } /* Literal.String.Symbol */\n",
       ".output_html .bp { color: #008000 } /* Name.Builtin.Pseudo */\n",
       ".output_html .fm { color: #0000FF } /* Name.Function.Magic */\n",
       ".output_html .vc { color: #19177C } /* Name.Variable.Class */\n",
       ".output_html .vg { color: #19177C } /* Name.Variable.Global */\n",
       ".output_html .vi { color: #19177C } /* Name.Variable.Instance */\n",
       ".output_html .vm { color: #19177C } /* Name.Variable.Magic */\n",
       ".output_html .il { color: #666666 } /* Literal.Number.Integer.Long */</style><div class=\"highlight\"><pre><span></span><span class=\"mi\">1165</span>     <span class=\"k\">def</span> <span class=\"fm\">__init__</span><span class=\"p\">(</span><span class=\"bp\">self</span><span class=\"p\">,</span> <span class=\"n\">g</span><span class=\"p\">,</span> <span class=\"n\">n</span><span class=\"p\">,</span> <span class=\"n\">bbox</span><span class=\"o\">=</span><span class=\"kc\">None</span><span class=\"p\">,</span> <span class=\"n\">fire_perim</span><span class=\"o\">=</span><span class=\"kc\">None</span><span class=\"p\">,</span> <span class=\"n\">fire_ignit_time</span><span class=\"o\">=</span><span class=\"kc\">None</span><span class=\"p\">,</span> <span class=\"n\">fire_act_ts_min</span><span class=\"o\">=</span><span class=\"mi\">60</span><span class=\"p\">,</span> <span class=\"n\">fire_des_ts_sec</span><span class=\"o\">=</span><span class=\"mi\">10</span><span class=\"p\">,</span> <span class=\"n\">sim_type</span><span class=\"o\">=</span><span class=\"s2\">&quot;main&quot;</span><span class=\"p\">,</span> <span class=\"n\">sim_number</span><span class=\"o\">=</span><span class=\"mi\">0</span><span class=\"p\">,</span> <span class=\"n\">reset_interval</span><span class=\"o\">=</span><span class=\"kc\">False</span><span class=\"p\">,</span> <span class=\"n\">start_vehicle_positons</span><span class=\"o\">=</span><span class=\"kc\">None</span><span class=\"p\">,</span> <span class=\"n\">nav_weight_list</span><span class=\"o\">=</span><span class=\"kc\">None</span><span class=\"p\">,</span> <span class=\"n\">placement_prob</span><span class=\"o\">=</span><span class=\"kc\">None</span><span class=\"p\">,</span> <span class=\"n\">init_strategies</span><span class=\"o\">=</span><span class=\"kc\">None</span><span class=\"p\">):</span>\n",
       "</pre></div>\n"
      ],
      "text/latex": [
       "\\begin{Verbatim}[commandchars=\\\\\\{\\}]\n",
       "\\PY{l+m+mi}{1165}     \\PY{k}{def} \\PY{n+nf+fm}{\\PYZus{}\\PYZus{}init\\PYZus{}\\PYZus{}}\\PY{p}{(}\\PY{n+nb+bp}{self}\\PY{p}{,} \\PY{n}{g}\\PY{p}{,} \\PY{n}{n}\\PY{p}{,} \\PY{n}{bbox}\\PY{o}{=}\\PY{k+kc}{None}\\PY{p}{,} \\PY{n}{fire\\PYZus{}perim}\\PY{o}{=}\\PY{k+kc}{None}\\PY{p}{,} \\PY{n}{fire\\PYZus{}ignit\\PYZus{}time}\\PY{o}{=}\\PY{k+kc}{None}\\PY{p}{,} \\PY{n}{fire\\PYZus{}act\\PYZus{}ts\\PYZus{}min}\\PY{o}{=}\\PY{l+m+mi}{60}\\PY{p}{,} \\PY{n}{fire\\PYZus{}des\\PYZus{}ts\\PYZus{}sec}\\PY{o}{=}\\PY{l+m+mi}{10}\\PY{p}{,} \\PY{n}{sim\\PYZus{}type}\\PY{o}{=}\\PY{l+s+s2}{\\PYZdq{}}\\PY{l+s+s2}{main}\\PY{l+s+s2}{\\PYZdq{}}\\PY{p}{,} \\PY{n}{sim\\PYZus{}number}\\PY{o}{=}\\PY{l+m+mi}{0}\\PY{p}{,} \\PY{n}{reset\\PYZus{}interval}\\PY{o}{=}\\PY{k+kc}{False}\\PY{p}{,} \\PY{n}{start\\PYZus{}vehicle\\PYZus{}positons}\\PY{o}{=}\\PY{k+kc}{None}\\PY{p}{,} \\PY{n}{nav\\PYZus{}weight\\PYZus{}list}\\PY{o}{=}\\PY{k+kc}{None}\\PY{p}{,} \\PY{n}{placement\\PYZus{}prob}\\PY{o}{=}\\PY{k+kc}{None}\\PY{p}{,} \\PY{n}{init\\PYZus{}strategies}\\PY{o}{=}\\PY{k+kc}{None}\\PY{p}{)}\\PY{p}{:}\n",
       "\\end{Verbatim}\n"
      ],
      "text/plain": [
       "1165     def __init__(self, g, n, bbox=None, fire_perim=None, fire_ignit_time=None, fire_act_ts_min=60, fire_des_ts_sec=10, sim_type=\"main\", sim_number=0, reset_interval=False, start_vehicle_positons=None, nav_weight_list=None, placement_prob=None, init_strategies=None):"
      ]
     },
     "execution_count": 8,
     "metadata": {},
     "output_type": "execute_result"
    }
   ],
   "source": [
    "# show the simulation init section\n",
    "\n",
    "display_code_txt(1164, 1165, fabm_lines)"
   ]
  },
  {
   "cell_type": "markdown",
   "metadata": {},
   "source": [
    "NetABM `__init__` input parameter description:\n",
    "- `g` - road graph: the input Osmnx road graph \n",
    "- `n` - number of vehicles: the total number of vehicles used in the simulation run \n",
    "- `bbox` - bounding box: the bounding box of the evacuation zone, lbbox is created by the create_bboxes function with the following buffer [2.1, 4.5, 3, 3]\n",
    "- `fire_perim` - fire perimeter: shapefile of fire perimeters \n",
    "- `fire_ignit_time` - fire ignition time: 'SimTime' value for the first perimeter used in the simulation, can be adjusted to start with a later perimeter, 60 is used because is the first output fire perimeter\n",
    "- `fire_des_ts_sec` - fire update time intervals to seconds: translates intervals between fire times to seconds, used to speed up or slow down a fire spread from the input shapefile, for these experiments 100 is used, so that the fire expands every 100 timesteps (seconds)\n",
    "- `reset_interval` - reset fire interval: flag used to indicate the fire time has been translated\n",
    "- `placement_prob` - vehicle placement probability: value name containing the placement probabilities per initial vehicle placements\n",
    "- `init_strategies` - initial vehicle strategies: dictionary indicating which driving strategies are used and the percentage of vehicles that should be assigned to each strategy"
   ]
  },
  {
   "cell_type": "markdown",
   "metadata": {},
   "source": [
    "Here the simulation `run` function in `FireABM_opt.py` is shown. Not all parameters are used in manuscript experiments; relevant parameters are defined below."
   ]
  },
  {
   "cell_type": "code",
   "execution_count": 9,
   "metadata": {},
   "outputs": [
    {
     "data": {
      "text/html": [
       "<style>pre { line-height: 125%; }\n",
       "td.linenos .normal { color: inherit; background-color: transparent; padding-left: 5px; padding-right: 5px; }\n",
       "span.linenos { color: inherit; background-color: transparent; padding-left: 5px; padding-right: 5px; }\n",
       "td.linenos .special { color: #000000; background-color: #ffffc0; padding-left: 5px; padding-right: 5px; }\n",
       "span.linenos.special { color: #000000; background-color: #ffffc0; padding-left: 5px; padding-right: 5px; }\n",
       ".output_html .hll { background-color: #ffffcc }\n",
       ".output_html { background: #f8f8f8; }\n",
       ".output_html .c { color: #3D7B7B; font-style: italic } /* Comment */\n",
       ".output_html .err { border: 1px solid #FF0000 } /* Error */\n",
       ".output_html .k { color: #008000; font-weight: bold } /* Keyword */\n",
       ".output_html .o { color: #666666 } /* Operator */\n",
       ".output_html .ch { color: #3D7B7B; font-style: italic } /* Comment.Hashbang */\n",
       ".output_html .cm { color: #3D7B7B; font-style: italic } /* Comment.Multiline */\n",
       ".output_html .cp { color: #9C6500 } /* Comment.Preproc */\n",
       ".output_html .cpf { color: #3D7B7B; font-style: italic } /* Comment.PreprocFile */\n",
       ".output_html .c1 { color: #3D7B7B; font-style: italic } /* Comment.Single */\n",
       ".output_html .cs { color: #3D7B7B; font-style: italic } /* Comment.Special */\n",
       ".output_html .gd { color: #A00000 } /* Generic.Deleted */\n",
       ".output_html .ge { font-style: italic } /* Generic.Emph */\n",
       ".output_html .gr { color: #E40000 } /* Generic.Error */\n",
       ".output_html .gh { color: #000080; font-weight: bold } /* Generic.Heading */\n",
       ".output_html .gi { color: #008400 } /* Generic.Inserted */\n",
       ".output_html .go { color: #717171 } /* Generic.Output */\n",
       ".output_html .gp { color: #000080; font-weight: bold } /* Generic.Prompt */\n",
       ".output_html .gs { font-weight: bold } /* Generic.Strong */\n",
       ".output_html .gu { color: #800080; font-weight: bold } /* Generic.Subheading */\n",
       ".output_html .gt { color: #0044DD } /* Generic.Traceback */\n",
       ".output_html .kc { color: #008000; font-weight: bold } /* Keyword.Constant */\n",
       ".output_html .kd { color: #008000; font-weight: bold } /* Keyword.Declaration */\n",
       ".output_html .kn { color: #008000; font-weight: bold } /* Keyword.Namespace */\n",
       ".output_html .kp { color: #008000 } /* Keyword.Pseudo */\n",
       ".output_html .kr { color: #008000; font-weight: bold } /* Keyword.Reserved */\n",
       ".output_html .kt { color: #B00040 } /* Keyword.Type */\n",
       ".output_html .m { color: #666666 } /* Literal.Number */\n",
       ".output_html .s { color: #BA2121 } /* Literal.String */\n",
       ".output_html .na { color: #687822 } /* Name.Attribute */\n",
       ".output_html .nb { color: #008000 } /* Name.Builtin */\n",
       ".output_html .nc { color: #0000FF; font-weight: bold } /* Name.Class */\n",
       ".output_html .no { color: #880000 } /* Name.Constant */\n",
       ".output_html .nd { color: #AA22FF } /* Name.Decorator */\n",
       ".output_html .ni { color: #717171; font-weight: bold } /* Name.Entity */\n",
       ".output_html .ne { color: #CB3F38; font-weight: bold } /* Name.Exception */\n",
       ".output_html .nf { color: #0000FF } /* Name.Function */\n",
       ".output_html .nl { color: #767600 } /* Name.Label */\n",
       ".output_html .nn { color: #0000FF; font-weight: bold } /* Name.Namespace */\n",
       ".output_html .nt { color: #008000; font-weight: bold } /* Name.Tag */\n",
       ".output_html .nv { color: #19177C } /* Name.Variable */\n",
       ".output_html .ow { color: #AA22FF; font-weight: bold } /* Operator.Word */\n",
       ".output_html .w { color: #bbbbbb } /* Text.Whitespace */\n",
       ".output_html .mb { color: #666666 } /* Literal.Number.Bin */\n",
       ".output_html .mf { color: #666666 } /* Literal.Number.Float */\n",
       ".output_html .mh { color: #666666 } /* Literal.Number.Hex */\n",
       ".output_html .mi { color: #666666 } /* Literal.Number.Integer */\n",
       ".output_html .mo { color: #666666 } /* Literal.Number.Oct */\n",
       ".output_html .sa { color: #BA2121 } /* Literal.String.Affix */\n",
       ".output_html .sb { color: #BA2121 } /* Literal.String.Backtick */\n",
       ".output_html .sc { color: #BA2121 } /* Literal.String.Char */\n",
       ".output_html .dl { color: #BA2121 } /* Literal.String.Delimiter */\n",
       ".output_html .sd { color: #BA2121; font-style: italic } /* Literal.String.Doc */\n",
       ".output_html .s2 { color: #BA2121 } /* Literal.String.Double */\n",
       ".output_html .se { color: #AA5D1F; font-weight: bold } /* Literal.String.Escape */\n",
       ".output_html .sh { color: #BA2121 } /* Literal.String.Heredoc */\n",
       ".output_html .si { color: #A45A77; font-weight: bold } /* Literal.String.Interpol */\n",
       ".output_html .sx { color: #008000 } /* Literal.String.Other */\n",
       ".output_html .sr { color: #A45A77 } /* Literal.String.Regex */\n",
       ".output_html .s1 { color: #BA2121 } /* Literal.String.Single */\n",
       ".output_html .ss { color: #19177C } /* Literal.String.Symbol */\n",
       ".output_html .bp { color: #008000 } /* Name.Builtin.Pseudo */\n",
       ".output_html .fm { color: #0000FF } /* Name.Function.Magic */\n",
       ".output_html .vc { color: #19177C } /* Name.Variable.Class */\n",
       ".output_html .vg { color: #19177C } /* Name.Variable.Global */\n",
       ".output_html .vi { color: #19177C } /* Name.Variable.Instance */\n",
       ".output_html .vm { color: #19177C } /* Name.Variable.Magic */\n",
       ".output_html .il { color: #666666 } /* Literal.Number.Integer.Long */</style><div class=\"highlight\"><pre><span></span><span class=\"mi\">1443</span>     <span class=\"k\">def</span> <span class=\"nf\">run</span><span class=\"p\">(</span><span class=\"bp\">self</span><span class=\"p\">,</span> <span class=\"n\">nsteps</span><span class=\"o\">=</span><span class=\"kc\">None</span><span class=\"p\">,</span> <span class=\"n\">mutate_rate</span><span class=\"o\">=</span><span class=\"mf\">0.005</span><span class=\"p\">,</span> <span class=\"n\">update_interval</span><span class=\"o\">=</span><span class=\"mi\">100</span><span class=\"p\">,</span> <span class=\"n\">save_args</span><span class=\"o\">=</span><span class=\"kc\">None</span><span class=\"p\">,</span> <span class=\"n\">opt_interval</span><span class=\"o\">=</span><span class=\"mi\">35</span><span class=\"p\">,</span> <span class=\"n\">strategies</span><span class=\"o\">=</span><span class=\"p\">[</span><span class=\"s1\">&#39;dist&#39;</span><span class=\"p\">,</span> <span class=\"s1\">&#39;dist+speed&#39;</span><span class=\"p\">],</span> <span class=\"n\">opt_reps</span><span class=\"o\">=</span><span class=\"mi\">1</span><span class=\"p\">,</span> <span class=\"n\">mix_strat</span><span class=\"o\">=</span><span class=\"kc\">True</span><span class=\"p\">,</span> <span class=\"n\">congest_time</span><span class=\"o\">=</span><span class=\"mi\">25</span><span class=\"p\">):</span>\n",
       "</pre></div>\n"
      ],
      "text/latex": [
       "\\begin{Verbatim}[commandchars=\\\\\\{\\}]\n",
       "\\PY{l+m+mi}{1443}     \\PY{k}{def} \\PY{n+nf}{run}\\PY{p}{(}\\PY{n+nb+bp}{self}\\PY{p}{,} \\PY{n}{nsteps}\\PY{o}{=}\\PY{k+kc}{None}\\PY{p}{,} \\PY{n}{mutate\\PYZus{}rate}\\PY{o}{=}\\PY{l+m+mf}{0.005}\\PY{p}{,} \\PY{n}{update\\PYZus{}interval}\\PY{o}{=}\\PY{l+m+mi}{100}\\PY{p}{,} \\PY{n}{save\\PYZus{}args}\\PY{o}{=}\\PY{k+kc}{None}\\PY{p}{,} \\PY{n}{opt\\PYZus{}interval}\\PY{o}{=}\\PY{l+m+mi}{35}\\PY{p}{,} \\PY{n}{strategies}\\PY{o}{=}\\PY{p}{[}\\PY{l+s+s1}{\\PYZsq{}}\\PY{l+s+s1}{dist}\\PY{l+s+s1}{\\PYZsq{}}\\PY{p}{,} \\PY{l+s+s1}{\\PYZsq{}}\\PY{l+s+s1}{dist+speed}\\PY{l+s+s1}{\\PYZsq{}}\\PY{p}{]}\\PY{p}{,} \\PY{n}{opt\\PYZus{}reps}\\PY{o}{=}\\PY{l+m+mi}{1}\\PY{p}{,} \\PY{n}{mix\\PYZus{}strat}\\PY{o}{=}\\PY{k+kc}{True}\\PY{p}{,} \\PY{n}{congest\\PYZus{}time}\\PY{o}{=}\\PY{l+m+mi}{25}\\PY{p}{)}\\PY{p}{:}\n",
       "\\end{Verbatim}\n"
      ],
      "text/plain": [
       "1443     def run(self, nsteps=None, mutate_rate=0.005, update_interval=100, save_args=None, opt_interval=35, strategies=['dist', 'dist+speed'], opt_reps=1, mix_strat=True, congest_time=25):"
      ]
     },
     "execution_count": 9,
     "metadata": {},
     "output_type": "execute_result"
    }
   ],
   "source": [
    "# show the simulation run section\n",
    "\n",
    "display_code_txt(1442, 1443, fabm_lines)"
   ]
  },
  {
   "cell_type": "markdown",
   "metadata": {},
   "source": [
    "NetABM `run` input parameter description:\n",
    "- `mutate_rate` - the road segment closure rate: ignored if a fire shapefile is given, if no fire shapefile it is the rate at which road segments will randomly become blocked at an update interval\n",
    "- `update interval` - the road closure interval: used for to determine how often the mutate rate will check to close roads\n",
    "- `save_args` - save file arguments: used to create simulation animation, contains `fig`, `ax` created by the `setup_sim` function, the result file name, the video file name, the folder name for storing the results, i and j which can be used to keep track of iterating through seeds and driving strategies, the seed used, the short tag describing the treatment, the short text describing the experiment, the experiment number and notebook number, and which road graph file is used. More detailed on these can be found in the 'Simulation output structure and explanation' help document\n",
    "- `congest_time` - congestion time: interval at which congestion is recorded\n",
    "\n",
    "Note that `nsteps`, `opt_interval`, `strategies`, `opt_reps`, and `mix_strat` are not used for the current set of experiments."
   ]
  },
  {
   "cell_type": "markdown",
   "metadata": {},
   "source": [
    "### Running an example simulation on the full road graph"
   ]
  },
  {
   "cell_type": "markdown",
   "metadata": {},
   "source": [
    "`run_fireabm.py` calls both the `__init__` and `run` functions as seen below."
   ]
  },
  {
   "cell_type": "code",
   "execution_count": 10,
   "metadata": {},
   "outputs": [
    {
     "data": {
      "text/html": [
       "<style>pre { line-height: 125%; }\n",
       "td.linenos .normal { color: inherit; background-color: transparent; padding-left: 5px; padding-right: 5px; }\n",
       "span.linenos { color: inherit; background-color: transparent; padding-left: 5px; padding-right: 5px; }\n",
       "td.linenos .special { color: #000000; background-color: #ffffc0; padding-left: 5px; padding-right: 5px; }\n",
       "span.linenos.special { color: #000000; background-color: #ffffc0; padding-left: 5px; padding-right: 5px; }\n",
       ".output_html .hll { background-color: #ffffcc }\n",
       ".output_html { background: #f8f8f8; }\n",
       ".output_html .c { color: #3D7B7B; font-style: italic } /* Comment */\n",
       ".output_html .err { border: 1px solid #FF0000 } /* Error */\n",
       ".output_html .k { color: #008000; font-weight: bold } /* Keyword */\n",
       ".output_html .o { color: #666666 } /* Operator */\n",
       ".output_html .ch { color: #3D7B7B; font-style: italic } /* Comment.Hashbang */\n",
       ".output_html .cm { color: #3D7B7B; font-style: italic } /* Comment.Multiline */\n",
       ".output_html .cp { color: #9C6500 } /* Comment.Preproc */\n",
       ".output_html .cpf { color: #3D7B7B; font-style: italic } /* Comment.PreprocFile */\n",
       ".output_html .c1 { color: #3D7B7B; font-style: italic } /* Comment.Single */\n",
       ".output_html .cs { color: #3D7B7B; font-style: italic } /* Comment.Special */\n",
       ".output_html .gd { color: #A00000 } /* Generic.Deleted */\n",
       ".output_html .ge { font-style: italic } /* Generic.Emph */\n",
       ".output_html .gr { color: #E40000 } /* Generic.Error */\n",
       ".output_html .gh { color: #000080; font-weight: bold } /* Generic.Heading */\n",
       ".output_html .gi { color: #008400 } /* Generic.Inserted */\n",
       ".output_html .go { color: #717171 } /* Generic.Output */\n",
       ".output_html .gp { color: #000080; font-weight: bold } /* Generic.Prompt */\n",
       ".output_html .gs { font-weight: bold } /* Generic.Strong */\n",
       ".output_html .gu { color: #800080; font-weight: bold } /* Generic.Subheading */\n",
       ".output_html .gt { color: #0044DD } /* Generic.Traceback */\n",
       ".output_html .kc { color: #008000; font-weight: bold } /* Keyword.Constant */\n",
       ".output_html .kd { color: #008000; font-weight: bold } /* Keyword.Declaration */\n",
       ".output_html .kn { color: #008000; font-weight: bold } /* Keyword.Namespace */\n",
       ".output_html .kp { color: #008000 } /* Keyword.Pseudo */\n",
       ".output_html .kr { color: #008000; font-weight: bold } /* Keyword.Reserved */\n",
       ".output_html .kt { color: #B00040 } /* Keyword.Type */\n",
       ".output_html .m { color: #666666 } /* Literal.Number */\n",
       ".output_html .s { color: #BA2121 } /* Literal.String */\n",
       ".output_html .na { color: #687822 } /* Name.Attribute */\n",
       ".output_html .nb { color: #008000 } /* Name.Builtin */\n",
       ".output_html .nc { color: #0000FF; font-weight: bold } /* Name.Class */\n",
       ".output_html .no { color: #880000 } /* Name.Constant */\n",
       ".output_html .nd { color: #AA22FF } /* Name.Decorator */\n",
       ".output_html .ni { color: #717171; font-weight: bold } /* Name.Entity */\n",
       ".output_html .ne { color: #CB3F38; font-weight: bold } /* Name.Exception */\n",
       ".output_html .nf { color: #0000FF } /* Name.Function */\n",
       ".output_html .nl { color: #767600 } /* Name.Label */\n",
       ".output_html .nn { color: #0000FF; font-weight: bold } /* Name.Namespace */\n",
       ".output_html .nt { color: #008000; font-weight: bold } /* Name.Tag */\n",
       ".output_html .nv { color: #19177C } /* Name.Variable */\n",
       ".output_html .ow { color: #AA22FF; font-weight: bold } /* Operator.Word */\n",
       ".output_html .w { color: #bbbbbb } /* Text.Whitespace */\n",
       ".output_html .mb { color: #666666 } /* Literal.Number.Bin */\n",
       ".output_html .mf { color: #666666 } /* Literal.Number.Float */\n",
       ".output_html .mh { color: #666666 } /* Literal.Number.Hex */\n",
       ".output_html .mi { color: #666666 } /* Literal.Number.Integer */\n",
       ".output_html .mo { color: #666666 } /* Literal.Number.Oct */\n",
       ".output_html .sa { color: #BA2121 } /* Literal.String.Affix */\n",
       ".output_html .sb { color: #BA2121 } /* Literal.String.Backtick */\n",
       ".output_html .sc { color: #BA2121 } /* Literal.String.Char */\n",
       ".output_html .dl { color: #BA2121 } /* Literal.String.Delimiter */\n",
       ".output_html .sd { color: #BA2121; font-style: italic } /* Literal.String.Doc */\n",
       ".output_html .s2 { color: #BA2121 } /* Literal.String.Double */\n",
       ".output_html .se { color: #AA5D1F; font-weight: bold } /* Literal.String.Escape */\n",
       ".output_html .sh { color: #BA2121 } /* Literal.String.Heredoc */\n",
       ".output_html .si { color: #A45A77; font-weight: bold } /* Literal.String.Interpol */\n",
       ".output_html .sx { color: #008000 } /* Literal.String.Other */\n",
       ".output_html .sr { color: #A45A77 } /* Literal.String.Regex */\n",
       ".output_html .s1 { color: #BA2121 } /* Literal.String.Single */\n",
       ".output_html .ss { color: #19177C } /* Literal.String.Symbol */\n",
       ".output_html .bp { color: #008000 } /* Name.Builtin.Pseudo */\n",
       ".output_html .fm { color: #0000FF } /* Name.Function.Magic */\n",
       ".output_html .vc { color: #19177C } /* Name.Variable.Class */\n",
       ".output_html .vg { color: #19177C } /* Name.Variable.Global */\n",
       ".output_html .vi { color: #19177C } /* Name.Variable.Instance */\n",
       ".output_html .vm { color: #19177C } /* Name.Variable.Magic */\n",
       ".output_html .il { color: #666666 } /* Literal.Number.Integer.Long */</style><div class=\"highlight\"><pre><span></span><span class=\"mi\">165</span>                 <span class=\"n\">simulation</span> <span class=\"o\">=</span> <span class=\"n\">NetABM</span><span class=\"p\">(</span><span class=\"n\">road_graph</span><span class=\"p\">,</span> <span class=\"n\">args</span><span class=\"o\">.</span><span class=\"n\">num_veh</span><span class=\"p\">,</span> <span class=\"n\">bbox</span><span class=\"o\">=</span><span class=\"n\">lbbox</span><span class=\"p\">,</span> <span class=\"n\">fire_perim</span><span class=\"o\">=</span><span class=\"n\">sr_fire</span><span class=\"p\">,</span> <span class=\"n\">fire_ignit_time</span><span class=\"o\">=</span><span class=\"n\">args</span><span class=\"o\">.</span><span class=\"n\">start_fire_time</span><span class=\"p\">,</span>\n",
       "<span class=\"mi\">166</span>                                     <span class=\"n\">fire_des_ts_sec</span><span class=\"o\">=</span><span class=\"mi\">100</span><span class=\"p\">,</span> <span class=\"n\">reset_interval</span><span class=\"o\">=</span><span class=\"kc\">True</span><span class=\"p\">,</span> <span class=\"n\">placement_prob</span><span class=\"o\">=</span><span class=\"s1\">&#39;Pct_HH_Cpd&#39;</span><span class=\"p\">,</span>\n",
       "<span class=\"mi\">167</span>                                     <span class=\"n\">init_strategies</span><span class=\"o\">=</span><span class=\"p\">{</span><span class=\"n\">major_strat</span><span class=\"p\">:</span> <span class=\"n\">strat_perc</span><span class=\"p\">})</span>\n",
       "</pre></div>\n"
      ],
      "text/latex": [
       "\\begin{Verbatim}[commandchars=\\\\\\{\\}]\n",
       "\\PY{l+m+mi}{165}                 \\PY{n}{simulation} \\PY{o}{=} \\PY{n}{NetABM}\\PY{p}{(}\\PY{n}{road\\PYZus{}graph}\\PY{p}{,} \\PY{n}{args}\\PY{o}{.}\\PY{n}{num\\PYZus{}veh}\\PY{p}{,} \\PY{n}{bbox}\\PY{o}{=}\\PY{n}{lbbox}\\PY{p}{,} \\PY{n}{fire\\PYZus{}perim}\\PY{o}{=}\\PY{n}{sr\\PYZus{}fire}\\PY{p}{,} \\PY{n}{fire\\PYZus{}ignit\\PYZus{}time}\\PY{o}{=}\\PY{n}{args}\\PY{o}{.}\\PY{n}{start\\PYZus{}fire\\PYZus{}time}\\PY{p}{,}\n",
       "\\PY{l+m+mi}{166}                                     \\PY{n}{fire\\PYZus{}des\\PYZus{}ts\\PYZus{}sec}\\PY{o}{=}\\PY{l+m+mi}{100}\\PY{p}{,} \\PY{n}{reset\\PYZus{}interval}\\PY{o}{=}\\PY{k+kc}{True}\\PY{p}{,} \\PY{n}{placement\\PYZus{}prob}\\PY{o}{=}\\PY{l+s+s1}{\\PYZsq{}}\\PY{l+s+s1}{Pct\\PYZus{}HH\\PYZus{}Cpd}\\PY{l+s+s1}{\\PYZsq{}}\\PY{p}{,}\n",
       "\\PY{l+m+mi}{167}                                     \\PY{n}{init\\PYZus{}strategies}\\PY{o}{=}\\PY{p}{\\PYZob{}}\\PY{n}{major\\PYZus{}strat}\\PY{p}{:} \\PY{n}{strat\\PYZus{}perc}\\PY{p}{\\PYZcb{}}\\PY{p}{)}\n",
       "\\end{Verbatim}\n"
      ],
      "text/plain": [
       "165                 simulation = NetABM(road_graph, args.num_veh, bbox=lbbox, fire_perim=sr_fire, fire_ignit_time=args.start_fire_time,\n",
       "166                                     fire_des_ts_sec=100, reset_interval=True, placement_prob='Pct_HH_Cpd',\n",
       "167                                     init_strategies={major_strat: strat_perc})"
      ]
     },
     "execution_count": 10,
     "metadata": {},
     "output_type": "execute_result"
    }
   ],
   "source": [
    "# show the simulation __init__ section of run_fireabm.py\n",
    "\n",
    "display_code_txt(164, 167, run_fabm_lines)"
   ]
  },
  {
   "cell_type": "code",
   "execution_count": 11,
   "metadata": {},
   "outputs": [
    {
     "data": {
      "text/html": [
       "<style>pre { line-height: 125%; }\n",
       "td.linenos .normal { color: inherit; background-color: transparent; padding-left: 5px; padding-right: 5px; }\n",
       "span.linenos { color: inherit; background-color: transparent; padding-left: 5px; padding-right: 5px; }\n",
       "td.linenos .special { color: #000000; background-color: #ffffc0; padding-left: 5px; padding-right: 5px; }\n",
       "span.linenos.special { color: #000000; background-color: #ffffc0; padding-left: 5px; padding-right: 5px; }\n",
       ".output_html .hll { background-color: #ffffcc }\n",
       ".output_html { background: #f8f8f8; }\n",
       ".output_html .c { color: #3D7B7B; font-style: italic } /* Comment */\n",
       ".output_html .err { border: 1px solid #FF0000 } /* Error */\n",
       ".output_html .k { color: #008000; font-weight: bold } /* Keyword */\n",
       ".output_html .o { color: #666666 } /* Operator */\n",
       ".output_html .ch { color: #3D7B7B; font-style: italic } /* Comment.Hashbang */\n",
       ".output_html .cm { color: #3D7B7B; font-style: italic } /* Comment.Multiline */\n",
       ".output_html .cp { color: #9C6500 } /* Comment.Preproc */\n",
       ".output_html .cpf { color: #3D7B7B; font-style: italic } /* Comment.PreprocFile */\n",
       ".output_html .c1 { color: #3D7B7B; font-style: italic } /* Comment.Single */\n",
       ".output_html .cs { color: #3D7B7B; font-style: italic } /* Comment.Special */\n",
       ".output_html .gd { color: #A00000 } /* Generic.Deleted */\n",
       ".output_html .ge { font-style: italic } /* Generic.Emph */\n",
       ".output_html .gr { color: #E40000 } /* Generic.Error */\n",
       ".output_html .gh { color: #000080; font-weight: bold } /* Generic.Heading */\n",
       ".output_html .gi { color: #008400 } /* Generic.Inserted */\n",
       ".output_html .go { color: #717171 } /* Generic.Output */\n",
       ".output_html .gp { color: #000080; font-weight: bold } /* Generic.Prompt */\n",
       ".output_html .gs { font-weight: bold } /* Generic.Strong */\n",
       ".output_html .gu { color: #800080; font-weight: bold } /* Generic.Subheading */\n",
       ".output_html .gt { color: #0044DD } /* Generic.Traceback */\n",
       ".output_html .kc { color: #008000; font-weight: bold } /* Keyword.Constant */\n",
       ".output_html .kd { color: #008000; font-weight: bold } /* Keyword.Declaration */\n",
       ".output_html .kn { color: #008000; font-weight: bold } /* Keyword.Namespace */\n",
       ".output_html .kp { color: #008000 } /* Keyword.Pseudo */\n",
       ".output_html .kr { color: #008000; font-weight: bold } /* Keyword.Reserved */\n",
       ".output_html .kt { color: #B00040 } /* Keyword.Type */\n",
       ".output_html .m { color: #666666 } /* Literal.Number */\n",
       ".output_html .s { color: #BA2121 } /* Literal.String */\n",
       ".output_html .na { color: #687822 } /* Name.Attribute */\n",
       ".output_html .nb { color: #008000 } /* Name.Builtin */\n",
       ".output_html .nc { color: #0000FF; font-weight: bold } /* Name.Class */\n",
       ".output_html .no { color: #880000 } /* Name.Constant */\n",
       ".output_html .nd { color: #AA22FF } /* Name.Decorator */\n",
       ".output_html .ni { color: #717171; font-weight: bold } /* Name.Entity */\n",
       ".output_html .ne { color: #CB3F38; font-weight: bold } /* Name.Exception */\n",
       ".output_html .nf { color: #0000FF } /* Name.Function */\n",
       ".output_html .nl { color: #767600 } /* Name.Label */\n",
       ".output_html .nn { color: #0000FF; font-weight: bold } /* Name.Namespace */\n",
       ".output_html .nt { color: #008000; font-weight: bold } /* Name.Tag */\n",
       ".output_html .nv { color: #19177C } /* Name.Variable */\n",
       ".output_html .ow { color: #AA22FF; font-weight: bold } /* Operator.Word */\n",
       ".output_html .w { color: #bbbbbb } /* Text.Whitespace */\n",
       ".output_html .mb { color: #666666 } /* Literal.Number.Bin */\n",
       ".output_html .mf { color: #666666 } /* Literal.Number.Float */\n",
       ".output_html .mh { color: #666666 } /* Literal.Number.Hex */\n",
       ".output_html .mi { color: #666666 } /* Literal.Number.Integer */\n",
       ".output_html .mo { color: #666666 } /* Literal.Number.Oct */\n",
       ".output_html .sa { color: #BA2121 } /* Literal.String.Affix */\n",
       ".output_html .sb { color: #BA2121 } /* Literal.String.Backtick */\n",
       ".output_html .sc { color: #BA2121 } /* Literal.String.Char */\n",
       ".output_html .dl { color: #BA2121 } /* Literal.String.Delimiter */\n",
       ".output_html .sd { color: #BA2121; font-style: italic } /* Literal.String.Doc */\n",
       ".output_html .s2 { color: #BA2121 } /* Literal.String.Double */\n",
       ".output_html .se { color: #AA5D1F; font-weight: bold } /* Literal.String.Escape */\n",
       ".output_html .sh { color: #BA2121 } /* Literal.String.Heredoc */\n",
       ".output_html .si { color: #A45A77; font-weight: bold } /* Literal.String.Interpol */\n",
       ".output_html .sx { color: #008000 } /* Literal.String.Other */\n",
       ".output_html .sr { color: #A45A77 } /* Literal.String.Regex */\n",
       ".output_html .s1 { color: #BA2121 } /* Literal.String.Single */\n",
       ".output_html .ss { color: #19177C } /* Literal.String.Symbol */\n",
       ".output_html .bp { color: #008000 } /* Name.Builtin.Pseudo */\n",
       ".output_html .fm { color: #0000FF } /* Name.Function.Magic */\n",
       ".output_html .vc { color: #19177C } /* Name.Variable.Class */\n",
       ".output_html .vg { color: #19177C } /* Name.Variable.Global */\n",
       ".output_html .vi { color: #19177C } /* Name.Variable.Instance */\n",
       ".output_html .vm { color: #19177C } /* Name.Variable.Magic */\n",
       ".output_html .il { color: #666666 } /* Literal.Number.Integer.Long */</style><div class=\"highlight\"><pre><span></span><span class=\"mi\">169</span>                 <span class=\"n\">simulation</span><span class=\"o\">.</span><span class=\"n\">run</span><span class=\"p\">(</span><span class=\"n\">save_args</span><span class=\"o\">=</span><span class=\"p\">(</span><span class=\"n\">fig</span><span class=\"p\">,</span> <span class=\"n\">ax</span><span class=\"p\">,</span> <span class=\"n\">args</span><span class=\"o\">.</span><span class=\"n\">rslt_file_name</span><span class=\"p\">,</span> <span class=\"n\">args</span><span class=\"o\">.</span><span class=\"n\">vid_file_name</span><span class=\"p\">,</span> <span class=\"n\">args</span><span class=\"o\">.</span><span class=\"n\">out_folder</span><span class=\"p\">,</span>\n",
       "<span class=\"mi\">170</span>                                <span class=\"n\">i</span><span class=\"p\">,</span> <span class=\"n\">j</span><span class=\"p\">,</span> <span class=\"n\">seed</span><span class=\"p\">,</span> <span class=\"n\">treat_desc</span><span class=\"p\">,</span> <span class=\"n\">args</span><span class=\"o\">.</span><span class=\"n\">exp_desc</span><span class=\"p\">,</span> <span class=\"n\">args</span><span class=\"o\">.</span><span class=\"n\">exp_no</span><span class=\"p\">,</span> <span class=\"n\">args</span><span class=\"o\">.</span><span class=\"n\">nb_no</span><span class=\"p\">,</span> <span class=\"n\">args</span><span class=\"o\">.</span><span class=\"n\">road_graph_pkl</span><span class=\"p\">),</span> <span class=\"n\">mutate_rate</span><span class=\"o\">=</span><span class=\"mf\">0.005</span><span class=\"p\">,</span> <span class=\"n\">update_interval</span><span class=\"o\">=</span><span class=\"mi\">100</span><span class=\"p\">)</span>\n",
       "<span class=\"mi\">171</span>                 <span class=\"n\">run_count</span> <span class=\"o\">+=</span> <span class=\"mi\">1</span>\n",
       "</pre></div>\n"
      ],
      "text/latex": [
       "\\begin{Verbatim}[commandchars=\\\\\\{\\}]\n",
       "\\PY{l+m+mi}{169}                 \\PY{n}{simulation}\\PY{o}{.}\\PY{n}{run}\\PY{p}{(}\\PY{n}{save\\PYZus{}args}\\PY{o}{=}\\PY{p}{(}\\PY{n}{fig}\\PY{p}{,} \\PY{n}{ax}\\PY{p}{,} \\PY{n}{args}\\PY{o}{.}\\PY{n}{rslt\\PYZus{}file\\PYZus{}name}\\PY{p}{,} \\PY{n}{args}\\PY{o}{.}\\PY{n}{vid\\PYZus{}file\\PYZus{}name}\\PY{p}{,} \\PY{n}{args}\\PY{o}{.}\\PY{n}{out\\PYZus{}folder}\\PY{p}{,}\n",
       "\\PY{l+m+mi}{170}                                \\PY{n}{i}\\PY{p}{,} \\PY{n}{j}\\PY{p}{,} \\PY{n}{seed}\\PY{p}{,} \\PY{n}{treat\\PYZus{}desc}\\PY{p}{,} \\PY{n}{args}\\PY{o}{.}\\PY{n}{exp\\PYZus{}desc}\\PY{p}{,} \\PY{n}{args}\\PY{o}{.}\\PY{n}{exp\\PYZus{}no}\\PY{p}{,} \\PY{n}{args}\\PY{o}{.}\\PY{n}{nb\\PYZus{}no}\\PY{p}{,} \\PY{n}{args}\\PY{o}{.}\\PY{n}{road\\PYZus{}graph\\PYZus{}pkl}\\PY{p}{)}\\PY{p}{,} \\PY{n}{mutate\\PYZus{}rate}\\PY{o}{=}\\PY{l+m+mf}{0.005}\\PY{p}{,} \\PY{n}{update\\PYZus{}interval}\\PY{o}{=}\\PY{l+m+mi}{100}\\PY{p}{)}\n",
       "\\PY{l+m+mi}{171}                 \\PY{n}{run\\PYZus{}count} \\PY{o}{+}\\PY{o}{=} \\PY{l+m+mi}{1}\n",
       "\\end{Verbatim}\n"
      ],
      "text/plain": [
       "169                 simulation.run(save_args=(fig, ax, args.rslt_file_name, args.vid_file_name, args.out_folder,\n",
       "170                                i, j, seed, treat_desc, args.exp_desc, args.exp_no, args.nb_no, args.road_graph_pkl), mutate_rate=0.005, update_interval=100)\n",
       "171                 run_count += 1"
      ]
     },
     "execution_count": 11,
     "metadata": {},
     "output_type": "execute_result"
    }
   ],
   "source": [
    "# show the simulation run section of run_fireabm.py\n",
    "\n",
    "display_code_txt(168, 171, run_fabm_lines)"
   ]
  },
  {
   "cell_type": "markdown",
   "metadata": {},
   "source": [
    "The following code demonstrates running a larger simulation using the full road graph used for manuscript experiments (`Sta_Rosa_8000.pkl`). Only 200 vehicles are used so that the runtime is ~20 minutes instead of multiple hours. However, since this takes a while, switch `run_long_full_sim` to `True` in order to run the simulation."
   ]
  },
  {
   "cell_type": "code",
   "execution_count": 12,
   "metadata": {},
   "outputs": [],
   "source": [
    "# the example full simulation takes ~15 minutes\n",
    "# change this variable to True to run\n",
    "\n",
    "run_long_full_sim = False"
   ]
  },
  {
   "cell_type": "code",
   "execution_count": 13,
   "metadata": {},
   "outputs": [
    {
     "name": "stdout",
     "output_type": "stream",
     "text": [
      "Change 'run_long_full_sim' to True to run this simulation!\n"
     ]
    }
   ],
   "source": [
    "# run full example (shortest distance driving strategy, 200 vehicles)\n",
    "\n",
    "if run_long_full_sim:\n",
    "    if not os.path.isdir('demo_full_example'): # create full example output directory\n",
    "        os.mkdir('demo_full_example')\n",
    "    if os.path.isdir(os.path.join(\"demo_full_example\", \"1files\")):\n",
    "        print(\"You have likely already ran this cell: the results will be the same!\")\n",
    "    else:\n",
    "        !python run_fireabm.py -nv 200 -sd 2 -epath \"$out_path\" -ofd demo_full_example -strat dist \\\n",
    "        -rg Sta_Rosa_8000.pkl -exdsc 'Demo quickest strat comp to mjrds and dist' -strd 1.0 -rfn 'demo_result' \\\n",
    "        -vfn 'demo_output'\n",
    "else:\n",
    "    print(\"Change 'run_long_full_sim' to True to run this simulation!\")"
   ]
  },
  {
   "cell_type": "markdown",
   "metadata": {},
   "source": [
    "Once this has finished running, you can view the output data in the `demo_full_example` folder."
   ]
  },
  {
   "cell_type": "markdown",
   "metadata": {},
   "source": [
    "<a id='drive_demo'></a>\n",
    "## Driving Strategy Demonstration\n",
    "([back to Table of Contents](#top))"
   ]
  },
  {
   "cell_type": "markdown",
   "metadata": {},
   "source": [
    "The core element of the experiments run for this manuscript are the three driving strategies. In this section they will be explained in more detail and demonstrated on a small road graph."
   ]
  },
  {
   "cell_type": "markdown",
   "metadata": {},
   "source": [
    "The experiments used for this manuscript compare three driving strategies, described below (see the manuscript for more details):\n",
    "\n",
    "\n",
    "1. **Quickest path:**\n",
    "    - this driving strategy is commonly used in evacuation models\n",
    "    \n",
    "    **How to select the path:**\n",
    "        - Select the shortest path from the vehicle position to the nearest exit using Dijkstra's algorithm weighted by both **road segment length** and **road segment speed limit**\n",
    "        - As the simulation progresses, at each time step, for each road segment that has at least one vehicle on it, estimate the current road segment speed by the average speed of all of the vehicles currently on the road segment\n",
    "        - each time at least one road segment's estimated speed is different from its usual speed (more than a small difference value to adjust for rounding), each vehicle will redetermine the path using the estimated speed in stead of the actual speed for each road segment containing vehicles\n",
    "        - there typically needs to be a relatively large amount of congestion for it to make sense to take a detour that is longer distance wise\n",
    "        - A new path, using the same method as described above, will also selected if a road segment on the current path is closed due to the wildfire spread\n",
    "    \n",
    "    \n",
    "2. **Shortest path:**\n",
    "    - this driving strategy is also commonly used in evacuation models\n",
    "    \n",
    "    **How to select the path:**\n",
    "        - Select the shortest path from the vehicle position to the nearest exit using Dijkstra's algorithm weighted by **road segment length** \n",
    "        - A new path will only be selected if a road segment on the current path is closed due to the wildfire spread\n",
    "    \n",
    "    \n",
    "3. **Major roads:**\n",
    "    - this driving strategy is used in an attempt to more realistically model traffic behavior observed in evacuations\n",
    "    \n",
    "    **How to determine the path:**\n",
    "        - Select the shortest path from the vehicle position to the nearest exit using Dijkstra's algorithm weighted by **road type weight** multiplied by **road segment length**. Road type weights are determined according to the table below. Road type is a value found in OpenStreetMap's 'highway' column.\n",
    "        - A new path will only be selected if a road segment on the current path is closed due to the wildfire spread\n",
    "        \n",
    "        \n",
    "| OSM Road Type | weight |\n",
    "|---------------|--------|\n",
    "|motorway, motorway_link, trunk, trunk_link|1|\n",
    "|primary, primary_link|5|\n",
    "|secondary, secondary_link|10|\n",
    "|tertiary, tertiary_link|15|\n",
    "|unclassified, residential, (other value)|20|"
   ]
  },
  {
   "cell_type": "markdown",
   "metadata": {},
   "source": [
    "### Road Strategy Demonstration"
   ]
  },
  {
   "cell_type": "markdown",
   "metadata": {},
   "source": [
    "First we need to import the road graph. This particular graph only has two exits, both at the bottom left corner, in order to help visualize differences between paths chosen according to each driving strategy."
   ]
  },
  {
   "cell_type": "code",
   "execution_count": 14,
   "metadata": {},
   "outputs": [],
   "source": [
    "# import demo road graph used for driving strategy demo\n",
    "\n",
    "road_graph_pkl = 'demo_road_graph.pkl'\n",
    "road_graph = load_road_graph(road_graph_pkl)\n",
    "gdf_nodes, gdf_edges = get_node_edge_gdf(road_graph)\n",
    "(bbox, lbbox, poly, x, y) = create_bboxes(gdf_nodes, 0.1, buff_adj=[-1, -1, 0.5, -1])"
   ]
  },
  {
   "cell_type": "markdown",
   "metadata": {},
   "source": [
    "The next cell displays the road graph and the bounding box."
   ]
  },
  {
   "cell_type": "code",
   "execution_count": 15,
   "metadata": {},
   "outputs": [
    {
     "data": {
      "image/png": "iVBORw0KGgoAAAANSUhEUgAAAdQAAAKiCAYAAABvtC0tAAAAOXRFWHRTb2Z0d2FyZQBNYXRwbG90bGliIHZlcnNpb24zLjcuMSwgaHR0cHM6Ly9tYXRwbG90bGliLm9yZy/bCgiHAAAACXBIWXMAAA9hAAAPYQGoP6dpAACKEklEQVR4nO3deZwU9Z0//lcd3TPDMDMwDMMhh4ii0RHkMIkHAQJrRIMaTYyC67Es6/4CBlfZVYz5yvgwYTXRyMoXv5EQkFUzWU08NhoDBhFEk8AAChgRkUvkUIS5mOmj6vP7o+pT3c2cPdPTXZ/u1/MhTnfVp6s/U9P9edfnLE0IIUBERERdomc6A0RERNmAAZWIiCgFGFCJiIhSgAGViIgoBRhQiYiIUoABlYiIKAUYUImIiFKAAZWIiCgFGFCJiIhSgAGViIgoBRhQu2DdunWYNm0aBg4cCE3T8NJLLyV9DCEEfv7zn2PEiBHIy8vD4MGD8dOf/jT1mSUiom5lZjoDKmtoaMCoUaNw22234brrruvUMebOnYtVq1bh5z//Oc4//3zU1NTgiy++SHFOiYiou2lcHD81NE3Diy++iGuuucbbFg6Hcf/99+PZZ5/FiRMnUFFRgYcffhgTJ04EAPz973/HyJEjsX37dpx99tmZyTgREaUEm3y70W233YYNGzagqqoK77//Pr73ve/h8ssvx65duwAA//u//4szzjgDf/jDHzBs2DCcfvrp+Od//md8+eWXGc45EREliwG1m+zevRu/+c1v8Pzzz2P8+PEYPnw45s2bh0svvRTLly8HAHzyySfYt28fnn/+eaxcuRIrVqxAdXU1vvvd72Y490RElCz2oXaTzZs3QwiBESNGJGwPhULo06cPAMC2bYRCIaxcudJLt2zZMowdOxY7d+5kMzARkUIYULuJbdswDAPV1dUwDCNhX8+ePQEAAwYMgGmaCUH3K1/5CgBg//79DKhERAphQO0mo0ePhmVZOHr0KMaPH99imksuuQTRaBS7d+/G8OHDAQAfffQRAGDo0KFpyysREXUdR/l2QX19PT7++GMATgB97LHHMGnSJJSWlmLIkCG46aabsGHDBjz66KMYPXo0vvjiC6xZswbnn38+rrjiCti2jQsvvBA9e/bE448/Dtu2MXv2bBQXF2PVqlUZ/u2IiCgZDKhdsHbtWkyaNKnZ9ltuuQUrVqxAJBLBQw89hJUrV+LgwYPo06cPLrroIlRWVuL8888HAHz22We44447sGrVKhQWFmLq1Kl49NFHUVpamu5fh4iIuoABlYiIKAU4bYaIiCgFOCgpSbZt47PPPkNRURE0Tct0doiIqAVCCNTV1WHgwIHQ9fTUHRlQk/TZZ59h8ODBmc4GERF1wIEDBzBo0KC0vBcDapKKiooAOH+k4uLiDOeGiIhaUltbi8GDB3tldjowoCZJNvMWFxczoBIR+Vw6u+Y4KImIiCgFGFCJiIhSgAGViIgoBRhQiYiIUoABlYiIKAUYUImIiFKAAZWIiCgFGFCJiIhSgAGViIgoBRhQiYiIUoABlYiIKAUYUImIiFKAAZWIiCgFGFCJiIhSgAGViIgoBRhQiYiIUoABlYiIKAUYUImIiFKAAZWIiCgFGFCJiIhSgAGViIgoBRhQiYiIUsDMdAZykmUB9fWZzgURkb/17AkYRqZz0WEMqOn25pvAL38JNDRkOidERP5WWAjcfjswaVKmc9IhbPJNJ8tiMCUi6qiGBqfMtKxM56RDGFDTqb6ewZSIKBkNDcp0kTGgEhERpUCX+lAXLlyI++67D3PnzsXjjz/ebvoNGzZgwoQJqKiowNatW1tMU1VVhRtvvBFXX301XnrppYT3+v3vf48PP/wQBQUFuPjii/Hwww/j7LPP9tJomtbiMR955BH8+7//OwBg4sSJeOuttxL2f//730dVVVW7+e8WS5YAxcWZeW8iIr+prQV+8INM56JTOh1QN27ciKeeegojR47sUPqamhrcfPPNmDx5Mo4cOdJimn379mHevHkYP358s31vvfUWZs+ejQsvvBDRaBQ/+tGPcNlll+GDDz5AYWEhAODQoUMJr/njH/+ImTNn4rrrrkvYPmvWLDz44IPe84KCgg79Dt2iuBgoKcnc+xMRUUp0KqDW19djxowZWLp0KR566KEOveb222/H9OnTYRhGQs1TsiwLM2bMQGVlJdavX48TJ04k7H/99dcTni9fvhzl5eWorq7GN77xDQBA//79E9K8/PLLmDRpEs4444yE7T169GiWloiIqCs61Yc6e/ZsXHnllZgyZUqH0i9fvhy7d+/GAw880GqaBx98EH379sXMmTM7dMyamhoAQGlpaYv7jxw5gldffbXF4z377LMoKyvDeeedh3nz5qGurq7V9wmFQqitrU34R0REdKqka6hVVVXYvHkzNm7c2KH0u3btwr333ov169fDNFt+uw0bNmDZsmWt9queSgiBu+66C5deeikqKipaTPP000+jqKgI1157bcL2GTNmYNiwYejfvz+2b9+O+fPn47333sPq1atbPM7ChQtRWVnZoXwREVHuSiqgHjhwAHPnzsWqVauQn5/fbnrLsjB9+nRUVlZixIgRLaapq6vDTTfdhKVLl6KsrKxD+ZgzZw7ef/99vP32262m+fWvf40ZM2Y0y+esWbO8xxUVFTjrrLMwbtw4bN68GWPGjGl2nPnz5+Ouu+7yntfW1mLw4MEdyicREeWOpAJqdXU1jh49irFjx3rbLMvCunXrsHjxYoRCIRhxy0TV1dVh06ZN2LJlC+bMmQMAsG0bQgiYpolVq1ahtLQUe/fuxbRp07zX2bbtZM40sXPnTgwfPtzbd8cdd+CVV17BunXrMGjQoBbzuX79euzcuRO//e1v2/2dxowZg0AggF27drUYUPPy8pCXl9fucYiIKLclFVAnT56Mbdu2JWy77bbbcM455+Cee+5JCKYAUFxc3Cz9kiVLsGbNGrzwwgsYNmwYDMNolub+++9HXV0dFi1a5NUGhRC444478OKLL2Lt2rUYNmxYq/lctmwZxo4di1GjRrX7O+3YsQORSAQDBgxoNy0REVFrkgqoRUVFzfosCwsL0adPH2/7/PnzcfDgQaxcuRK6rjdLX15ejvz8/ITtp6bp1atXs+2zZ8/Gc889h5dffhlFRUU4fPgwAKCkpCRh2kttbS2ef/55PProo83yv3v3bjz77LO44oorUFZWhg8++AB33303Ro8ejUsuuSSZU0FERJQg5SslHTp0CPv370/1YfHkk0+ipqYGEydOxIABA7x/pzbrVlVVQQiBG2+8sdkxgsEg/vznP+Nb3/oWzj77bPzwhz/EZZddhjfeeKNZ7ZqIiCgZmhBCZDoTKqmtrUVJSQlqampQnOwKRzU1wE03JW575hku7EBEJKWonOxSWd1JXMuXiIgoBRhQiYiIUoABlYiIKAUYUImIiFKAAZWIiCgFGFCJiIhSgAGViIgoBRhQiYiIUoABlYiIKAUYUImIiFKAAZWIiCgFGFCJiIhSgAGViIgoBRhQiYiIUoABlYiIKAUYUImIiFKAAZWIiCgFGFCJiIhSgAGViIgoBRhQiYiIUoABlYiIKAUYUImIiFKAAZWIiCgFGFCJiIhSgAGViIgoBRhQiYiIUoABlYiIKAUYUImIiFKAAZWIiCgFGFCJiIhSgAGViIgoBRhQiYiIUoABlYiIKAUYUImIiFKAAZWIiCgFGFCJiIhSgAGViIgoBRhQiYiIUoABlaibHTzRiMsfX4fvPvlOprOSUi9vPYjvLNmAf3/+vW5/r//z8nbM/937OHSisdvfy7ZFt78HZScz0xkgynahiIUPD9ehKD+7vm5/2/Mltuw/gT1fNHT7e618dx8A4MqRAzCgV0G3vtelD6/BlyfDeOFfL0bFaSXd+l6UXVhDJepmssKja1pmM5IF0nEOG8IWmiI28gNGt78XZRcGVKJuJoQTUXXGUyWcDEcBAIV5DKiUHAZUom4me+RYQ+267j6H4aiNiOX8xXoEs6uJnrofAypRN7PdGqqWZQFV1rzTqbtPYUMo6j0uDLKGSslhQCXqZrbt/GSTb9d1d0ANW84fy9A1mAaLR0oOPzFE3SxWQ81wRrJAdzf5yr+VwT8WdQIDKlGaaGAh7XeWzYsf6jwGVKJuZnOUb8p0dz+07BY2+MeiTmBAJepmspDOtkFJUjp/q+6Oc7KGyhHZ1BkMqETdLFsXssvAIN9uD6hsTaCuYEAl6maCg5KU4QVURlTqBAZUom4mK3IMqF3X3c3mcplIjvKlzmBAJepmXh8qR/l2WXf3bcZG+fJvRcljQCXqduyXS5V09aFyTQfqDH5siLqZnaWjfO1MZ6AbxFa1yq6/FaUHV3/OISfDUXx8tB6mruHcgbzPY7rEmnypy9I2ypd/LUoeA2oOWf/RF7j9mWpoGrBn4ZWZzk5SPvisBsve3oNBvQvwb/9wdqazkxTBiJoyejefRMsb5dutb0NZih8bUsIvVn+E320+iJXv7st0VpLmjfLNaC66Tzqbsrt7OovgWr7UBQyouUjBlQa+N24wAOD4yQhqToYznJvkZPtKSdnEYh8qdQEDKilhylfKvRremzs/z2hekiXcK5hsK6LTdT9U244Nf+ruAosLO1BXMKDmEJUvunVd9/KfiSXvusSroWY2G6qKi6fQujnQ2TanOFHnMaCSclQbMBLrQ2Up3VXdX0N134dXP9QJihVNlMtkYAooFlEFa6hdks75rhanzVAXqFUyUZco34yl6L0qvT5UFtKdktCH2t1Nvt5KSfxbUfIYUEk5qi0LZ2fpNNR0dWXH11C7ex4q+1CpKxQrmiiXyQLcVCyi8vZtKdTNf3pZA7aUG/lGfqBWyURdki1Njqo1x/H2bV1jp7ETNc+9WAtHs3GlYupuDKikHNUGJXnTZrKu0dfR3b9V/J9bNsl2l4DpvFnEYg2VkqdYyUSk4rQZNvl2RY9gbMnxuqZot75XkDVU6gLFiibqiuxp8lXrY8u18VPnRDcvOxmQAdViQKXkqVUyEQEIGGqFJpGtnahpbBWVp64u1M01VJM1VOo8BtQcIsfyqN47ZKo6KCmjueg+6fi95EILtY2Rbn0f2eQbYQ2VOqFLAXXhwoXQNA133nlnh9Jv2LABpmniggsuaDVNVVUVNE3DNddc0+y9LrzwQhQVFaG8vBzXXHMNdu7cmZDm1ltvhaZpCf++/vWvJ6QJhUK44447UFZWhsLCQlx11VX49NNPO5R/8gfVVrERgnMbu0peRB083tit78MaKnVFpwPqxo0b8dRTT2HkyJEdSl9TU4Obb74ZkydPbjXNvn37MG/ePIwfP77ZvrfeeguzZ8/GX/7yF6xevRrRaBSXXXYZGhoaEtJdfvnlOHTokPfvtddeS9h/55134sUXX0RVVRXefvtt1NfX49vf/jYsy+rQ70GZEb9ajhyJqQqbt2/rsj6FQQDA+wdruvV9ZECN2qLbRxRT9jHbT9JcfX09ZsyYgaVLl+Khhx7q0Gtuv/12TJ8+HYZh4KWXXmq237IszJgxA5WVlVi/fj1OnDiRsP/1119PeL58+XKUl5ejuroa3/jGN7zteXl56N+/f4t5qKmpwbJly/Df//3fmDJlCgDgmWeeweDBg/HGG2/gW9/6Vod+F1WpXJzH1xhUa/JFlt6+LZ1OLyvEZzVN+OTz+m59n/j++bBlI183uvX9KLt0KqDOnj0bV155JaZMmdKhgLp8+XLs3r0bzzzzTKvpH3zwQfTt2xczZ87E+vXr2z1mTY1zpVpaWpqwfe3atSgvL0evXr0wYcIE/OQnP0F5eTkAoLq6GpFIBJdddpmXfuDAgaioqMA777zTYkANhUIIhULe89ra2nbzRqkX3wJnKjooiRXUzjv/tGK8s/sY9n/ZiLN+5LQ6adDg/uc+h/dEzvnVtNg+TYvbo7W8LV7YspEfYECljks6oFZVVWHz5s3YuHFjh9Lv2rUL9957L9avXw/TbPntNmzYgGXLlmHr1q0dOqYQAnfddRcuvfRSVFRUeNunTp2K733vexg6dCj27NmDH//4x/jmN7+J6upq5OXl4fDhwwgGg+jdu3fC8fr164fDhw+3+F4LFy5EZWVlh/Lld5m4afLJcBRvffQ53vn4GI6fDCMctRG2bISjNiKW8zgaFd5czdbELwV3+8pqFOaZCJo6gobu/DR16JpTMBp6rKA1NA2a5vS7apoGXXfS6BriHmvOP12+Hm4fvHy9FjuO7qwnq2kaDN1No2vQoHmv0+FM7ZHp39t/AgBwvCGMP20/7OYHsWOgeV6842qak1c3vZNPJw+67ryX5v7UdXebFtvvHBvQocPQnTSGriHf1KErNP3o8vP6Y8U7+xCK2nGLLnRfk+zPvzsS+SaDKSUnqYB64MABzJ07F6tWrUJ+fn676S3LwvTp01FZWYkRI0a0mKaurg433XQTli5dirKysg7lY86cOXj//ffx9ttvJ2z//ve/7z2uqKjAuHHjMHToULz66qu49tprWz2eEKLV/q358+fjrrvu8p7X1tZi8ODBHcpnLmoKR/GbjQfw+82fYteRejR1w+CO7Z+p2Urw8ecNuP2Z6kxnI4HhXlgEDB0BQ0PQNGDqGqK2QNSyYQsByxawbOdOLLYQEEI+Tl8+Rw8t9e4E89XTe+PyigGwhA0IOHmDky/Ldi7OhHBWVbLdvMby7Fy6xdI66YSIPbYBXHXBaV5/KlFHJRVQq6urcfToUYwdO9bbZlkW1q1bh8WLFyMUCsEwYld1dXV12LRpE7Zs2YI5c+YAcAaXCCFgmiZWrVqF0tJS7N27F9OmTfNeJwegmKaJnTt3Yvjw4d6+O+64A6+88grWrVuHQYMGtZnfAQMGYOjQodi1axcAoH///giHwzh+/HhCLfXo0aO4+OKLWzxGXl4e8vLyOnqKctKW/cfxQvWneOujz3HweGOL9YaeeQYK80yYug5T12AaTiHuPNbbHQEbjtpeID27fxGEEIhYNqKWcAp/2yk0IQtMxEbXCvd/sqBtts177O7z0ojE7XGvwSlp4/d7r3XFB55Tf81MD3uxBGBZAhFvUF5y8zxLewTw/L9elPqMteDcgcV470ANPqtpwj9dOiwt70mUjKQC6uTJk7Ft27aEbbfddhvOOecc3HPPPQnBFACKi4ubpV+yZAnWrFmDF154AcOGDYNhGM3S3H///airq8OiRYu82qAQAnfccQdefPFFrF27FsOGtf+FOnbsGA4cOIABAwYAAMaOHYtAIIDVq1fj+uuvBwAcOnQI27dvxyOPPJLMqVBSfGF+pLYpqddGbRsHjjXiky8asO9YAw6eaMS2T2vw6YlGWKdUVTQAg3sX4Jtf6YepFf1x4em9u9y8eODYSYz/2ZsAgBd/cHHCcnR+939e3o6V7+5DSUEA7z1wWfsvSIJt27Bt5+9jw1lIXsAZoSrc5zacNJYtYEPAtoDjjWF82RDGsfoQvjwZRs3JKGoaI6htiiActZFnGsgL6MgzdRQEdOSZBvKDBvJNAwVBAwUBAz2CBgb2KsCwvj1T+ju15ntjBuG9AzX49HgjToajSn0GKDck9YksKipK6LMEgMLCQvTp08fbPn/+fBw8eBArV66EruvN0peXlyM/Pz9h+6lpevXq1Wz77Nmz8dxzz+Hll19GUVGR1+dZUlKCgoIC1NfXY8GCBbjuuuswYMAA7N27F/fddx/Kysrwne98x0s7c+ZM3H333ejTpw9KS0sxb948nH/++d6o32wm4gLf137655QeuyBgYES/nrh2zCB8f9wg5Ke4sAtFY9Oaggr1/QGxBd27owdb13XoOmAmOQNuMHp0Q2661/UXDsGPX94BAeDZv+7DrPHD230NUTql/BLv0KFD2L9/f6oPiyeffBIAMHHixITty5cvx6233urVdFeuXIkTJ05gwIABmDRpEn7729+iqKjIS/+LX/wCpmni+uuvR2NjIyZPnowVK1Y0q11nIy0Fg5IMXUOeqaMwz3RqoeeU43vjBqNfcft96l0RjpuHairWt2XzfqgpETR1nNa7AJ8eb8Sf/36UAZV8p8sBde3atQnPV6xY0Wb6BQsWYMGCBW2maekYop0b/hYUFOBPf/pTm2kAID8/H0888QSeeOKJdtNmm/gz+N7/+Yc297ekON/M2MjQqMK304rKGiojapedN6AYnx5vxMdHu3c+KlFnsBMih8Sv/FLSI5jBnCRP5ftTymtBterV/nTJWWX40wdH8GVD9951hqgz+B0nJUQVXqzciq09mNmMZIHLz3NWQbMF8MGh7l2GkChZDKg5RN06ntp3/5DxVLkVE32ovDjfWx5w1Y4jGc4NUSIG1BziVZQym41OCVvqrodrCediQMW8+1Fvt7ti15G6DOeEKBEDag5pb2CXn6nc5Cv7rjOx9GM2knee+awmubnURN2NAZWU4I3yVTAmqdwy4Ef9SpwpWl/UhdpJSZReDKg5ROUaasRWt9nU4rSZlBpS6ixKUdMYyXBOiBIxoOYQle+XLJt8VQxJcmEHtvimRn+3hhrqhhsvEHUFA2oOUbiC6i2OoOLUE66UlFq6kpdVlAsYUHORguVRJKpuDVWOp2KTb2rwNJJfMaDmEFvhmagRW91aHpt8u4e6n2bKVgyoOUQo3OUU9QYlqReVhBdQ1cu7H3kXJoyo5DMMqDlIxWJd3v9axZgU6/5VMPN+xNNIPsWAmkNshUclRbNg2gybfImyGwNqDlG5D1XlW6CxyTe15ChfofDnmbITA2oOUbiC6t2+TcWYpPCMH19S8aKKcgMDKinBW9hBwbLUkjVUJRusiaijGFBziMo1VJWDkjdtht+2lFDxoopyA7/iOUTlgBpVuMlXnnf2oaYGzyP5FQNqDrEVvi+nygvM2wrnnYg6jgE1J6lXsFu2un2oXCkptTRNwNCAPJPFF/kLP5E5ROUm34it7tQTed4NRtSUEEKDJXi3GfIfBtQconLxY1nq1vK4UlJqqbxACWU3BtRcpGC5bim8OAKbfFOL8ZT8igE1hwiFSyJL6bvNOD8NFTPvQyp/jim7MaDmEFvhcshSug9VzkNVL+9+5N2wXcWmFspqDKg5RF7Yq1gMqRxQvQCgXtZ9ybsw5Pkkn2FAJSXIu80YChaiXNghtVS+MKTsxoCaQ1S+O4e7lC80BZtNZZMv+1BTQ+W7JlF2Y0DNIULhTlRb5VG+7k8FrwV8iWOSyK8YUHOI0vNQle5DdX6qmHc/8kZ8ZzgfRKdiQM1BKpbrshA1FPzEek2+KnYA+5DXdcHTST5jZjoDlD6yqcyyBV7cfBClhQHoemzygaxB6ZrmBV35U+7TNM1rutS9NFrca92DyTTQvOkiMhZquuY9ju3TvAR63Gtlmsaw5f4SgG3b0BW6F5pQuLnaj2KDkng+yV8YUHOIBiCga4jYAv/2P1sznZ1O+ehoPc64748AnN9H02JB3tR15Jk68gM6CoImeuYZKMoPoKQggOKCAAK6Bs29WNDd18jnGpxArmu6d0y5TdPgXngkvkaH5tSY3cfxxzY058JBg4aGkHMxcPB4I/7w3mcIGDoCpo6AoSFo6AiaOgLyp64hGNARcH+XgKkj39S9CwjbthGO2ojazsjnqG3DsoGwZcO2Bb6oD2PP5/WoC0UxtE8hzhtYjH7F+Rn5W3UXLuxAfsWAmkMilh23yLzaCz0AgIBbWxECFoCIZaExYgGNABDKaN5asuXACcz5zZa0v2+PoIFLhvfB0lsuTPt7dwfGU/IrBtQcIkfKBk0dHz00Nf3v784ldX/Ajt/mpXF+CgjvPqICwIxf/RU7PqvF2f164hffvwD1oSjqQxbqQxE0hi3UN0Vx/GQEx0+GcfxkGLWNEdQ2RdEQiuJk2EJTxIIQgDxi7LHzBt52JBbYCY/dhPHlufBen1jKJ74OKMk3caIxkrCvu+KC7taSo+75Oxm2sGnf8W56t/SzvJsNZDYfRKdiQM0hkQyPjpTNlondnx3rC5W3PssLGDh3YEmKc+YPtu005YajTrNuxLYRjtgI2zZCUQs6NARMHaauwTQ0mLoOQwcCug5Dd5qMTR0J/cvbD9bgqXWf4Iy+hRn8zVKLTb7kVwyoOcRWeIF5SeGst0vXdQR1pwUhVSpOK8F/3Tg6ZcfzA66URH6lzlBJ6rKoV0NVryhirYQkmxGVfIoBNYfYCo9C8uIpC9GcF7vbDJG/MKDmEJUHc8TiqYKZp5SKXRbys0D+woCaQ6LuCvMqBlQofDFAqcUWX/IrBtQc4i0wr3BRpG7OKVUEIyr5FANqDpHr4apYEKl86zlKLYU/xpTlGFBziOxDVfE2Yl4fqoJ5p9SyOeKbfIoBNYdYsg9VxWt7LohOLsH+dPIpBtQc4k03ULAgYg2VJME5VORTDKg5RNed5t68FK7Eky4ch0ISwyn5lXolK3WaZTkDOkJRu/3EfsUqKkHA0DT0CBqZzghRAgbUHKJwGOUoX/I0RWxYQiCs8oUhZSUG1BykKVzLUzfnlCpNEeeG7abBTwP5CwMqKYEjO0lqijg106DB4ov8hZ/IHKLyHVu4li9JsoYaUHBwHWU3fiJJKayhkhxUxxoq+Q0/kaQEhSvXlGKhqFNDTeWN2IlSgZ9IUgTvgUmOcNT5LKg4n5qyGz+RpAQOSiIp7C6hyRoq+Q0/kTlE5VbT2NKDjKi5Tg6u01W8ywNlNQZUUoTKlwPqiUZtTPzZmxj/8BocrW3KdHaIlGBmOgNEyWAFNT10Hdh77CQA4MuGMMqL8zOcoxhOoSK/Yg2VlMBRvuml67GiodGd90lEbWNAzUEqXtezVpI5jWGfBVQOUCOfYkDNJSrX8liIpp081X6tofKjQH7DgEpKEJyHmnby4sV3NVSXrfIFImUlBlRSA2uoaSeb10/6rIZalO+MpTxWH8pwTogSMaCSUtiHmkbuqfbbTRUG9S4AAHzOgEo+w4BKSvBXkU6ZdEbfngCA2sZohnNClIgBNYfYPqtpJCO2UlJGs0E+cO6AYgDObdxs285wbohiGFBzkMoxSeW8U2pMPLscgHOR9fr2I5nNDFEcrpSUg05GLCxdtxvQAEPTYegaDA3QdA26pnnPdU2HrgOGFrdddyb96xrcdM52TQMMXYepOz91DdA1Dabu7Nfdf6ab3tTdY+txz+Gs0BO/qIAUWxyfITXX9cw3UVoYxJcNYbyw+QCuGDkg01kiAsCAmlOChhPoToYt/OS1DzOdnU5hOCUA+OrpvfH6jiN4d/eXmc4KkYdNvjmkKWp7c/eCho6AoXn/TD1WmzQ0WUON/dM0J5jJf5kSMPiRJWDeZWcDcBad+J9NBzKcGyJHl2qoCxcuxH333Ye5c+fi8ccfbzf9hg0bMGHCBFRUVGDr1q0tpqmqqsKNN96Iq6++Gi+99FLCe/3+97/Hhx9+iIKCAlx88cV4+OGHcfbZzhcrEong/vvvx2uvvYZPPvkEJSUlmDJlCv7zP/8TAwcO9I4zceJEvPXWWwnv+f3vfx9VVVVJ//6qKuuZh033T0nLe9m2jagd+2nZNiwbsOH8jNpOkI9GbdgALFvAtgVsIRC1hfNcALNWbsSXDRFvgQfKbWf2K8KQ0gLs/7IRi/+8C9ePG5zpLBF1PqBu3LgRTz31FEaOHNmh9DU1Nbj55psxefJkHDnS8kCCffv2Yd68eRg/fnyzfW+99RZmz56NCy+8ENFoFD/60Y9w2WWX4YMPPkBhYSFOnjyJzZs348c//jFGjRqF48eP484778RVV12FTZs2JRxr1qxZePDBB73nBQUFSfzm6srEIF9d1xHUga42hgTcflXeA5OkH37zLMx74X3sP96Ij47UYUS/okxniXJcpwJqfX09ZsyYgaVLl+Khhx7q0Gtuv/12TJ8+HYZhJNQ8JcuyMGPGDFRWVmL9+vU4ceJEwv7XX3894fny5ctRXl6O6upqfOMb30BJSQlWr16dkOaJJ57AV7/6Vezfvx9Dhgzxtvfo0QP9+/fv2C+bRbzl+xSMSXJyhKGxyTfd/LrE33fHDcb/eWUHToYtzK3agj/O/Uams0Q5rlOl0+zZs3HllVdiypSONRsuX74cu3fvxgMPPNBqmgcffBB9+/bFzJkzO3TMmpoaAEBpaWmbaTRNQ69evRK2P/vssygrK8N5552HefPmoa6urtVjhEIh1NbWJvxTlTdSNrPZ6BS5Wg8rqOmjwqmeO/ksAMDfD9Xhz3/nFBrKrKRrqFVVVdi8eTM2btzYofS7du3Cvffei/Xr18M0W367DRs2YNmyZa32q55KCIG77roLl156KSoqKlpM09TUhHvvvRfTp09HcXGxt33GjBkYNmwY+vfvj+3bt2P+/Pl47733mtVupYULF6KysrJD+fI7lReYl7Ukw1Ax99Rdbp8wHL96ew8+rwth3vPvofr+KS1Ou2pLXVME73x8DBv3fYlDJxpxrCGMEycjqG2K4mQoCksIaHCmgWmaM3VLTgvT3J+GrkFHbOqZsw3u47g07qA/XddQUmCiMWxBizuO7v10FtnUdXdb3HE1IDZVzT2Wfsox4rXVwtBe48Opy07ePuEMnNarR1LnN5ckFVAPHDiAuXPnYtWqVcjPz283vWVZmD59OiorKzFixIgW09TV1eGmm27C0qVLUVZW1qF8zJkzB++//z7efvvtFvdHIhHccMMNsG0bS5YsSdg3a9Ys73FFRQXOOussjBs3Dps3b8aYMWOaHWv+/Pm46667vOe1tbUYPFjNARAidlNR5cgvtqliezV1q19cPwo3Lfsbjp+MYNGfd+Hf/uHsVtPWN0Xxm437sHrHEew9dhLHT4YRsTLTpq1r/m1Ob82EEX0ZUNuQVECtrq7G0aNHMXbsWG+bZVlYt24dFi9ejFAoBMMwvH11dXXYtGkTtmzZgjlz5gBwRnsKIWCaJlatWoXS0lLs3bsX06ZN814nlxMzTRM7d+7E8OHDvX133HEHXnnlFaxbtw6DBg1qlsdIJILrr78ee/bswZo1axJqpy0ZM2YMAoEAdu3a1WJAzcvLQ15eXgfPkL/JoKRiSJLlDgcl0akuPasvRg0qwXuf1mDJ2t2YNX44eubHirb3DhzH8g378M7uL3C0rvUF9XsEDRTlmyjKD6BXQQClhUGU9QyiIGg6I84tG5YtEBUCliVgCYGou82yneeW7Szx6W1zt9veiHVn1PpHR+pgC6A430SfnkEIAfef8MYL2O5z55/zHRBA4nPhtjsJpwVKbk/mW9L+NWosQUlBIIkj556kAurkyZOxbdu2hG233XYbzjnnHNxzzz0JwRQAiouLm6VfsmQJ1qxZgxdeeAHDhg2DYRjN0tx///2oq6vDokWLvNqgEAJ33HEHXnzxRaxduxbDhg1rlj8ZTHft2oU333wTffr0afd32rFjByKRCAYMyP7VVmLr4aoXlOTFgMGASi34fzeNxcUPr0HEEvi3327Bz783Co+9sQsvbTmImsZIQloNzh1rzh1QjFFDeuHSM8tQMbA46abirhi54E+obYriO2MGofKq89L2vtS9kgqoRUVFzfosCwsL0adPH2/7/PnzcfDgQaxcuRK6rjdLX15ejvz8/ITtp6aRg4jit8+ePRvPPfccXn75ZRQVFeHw4cMAgJKSEhQUFCAajeK73/0uNm/ejD/84Q+wLMtLU1paimAwiN27d+PZZ5/FFVdcgbKyMnzwwQe4++67MXr0aFxyySXJnAolKbw2vpd3XcGLAep+A3oV4DsXnIbfbzmI1X8/ilEPJo6JKAwaGDW4F64bcxquHnUaTNMfo8U5JCC7pHzpwUOHDmH//v2pPiyefPJJAM7CDPGWL1+OW2+9FZ9++ileeeUVAMAFF1yQkObNN9/ExIkTEQwG8ec//xmLFi1CfX09Bg8ejCuvvBIPPPBAs9p1NlK6ydcNqCZLIGrFf143Eq9t+wwhy2n61DVg3OmlmHfZCHx1WPutVemkcmsRta7LAXXt2rUJz1esWNFm+gULFmDBggVtpmnpGO3d5Pj0009vN83gwYObrZKUS+zYtzij+egM2y2CGE+pNUFTx3dGn4bfbPwUpq7hgwcvR9AnNdFmvBaXzGaDUsunnzbqDtlQQzXS2M9FDpW6Cqac6yzYErUF/BpLgdgUNgbU7OLjjxylmsIV1FiTL0ugtIldxGQ2H8kYO7S393jfsZMZzEnbYmMCFDq51C7+NXOISjWNU3lX9AyoaSPPeZ6pzviCXj2CXq1v8/7jmc1MGzgNLDsxoOYQlVdKAmuoaScL/aBKVVTEbvH3eV04wzlpHz/N2UWtbwp1idJr+bo/eUWfRvLeuaZa5zzgjlw71tD6Ig6ZpmJzOrWPf84covJQfVkABRhQ00Z+XlS7qXvQbaI+ccqCDn6k4neRWqfWN4W6ROm1fL1RkQpmXnEq9aECQH7AyW/NSf8GVNv9MuYrdm6pbQyoOUTlPtTYwg78yKabaotp9Ag6QaquKZrhnLROBtS8AD/P2YR/zRwSjjrLbqvWhBdPsbI9K8ganyoKvYDq3xqqvEBUrfZPbVO3ZKWkNUYsAECen2e8t0K2VhsKXwyoRN7xCYB/VxtqRZF7p5mGsJXhnLROLrJSoNjFCrVNrW8KdUlT2CkkZZOYUjgoKa2isXiq3AVYUb5zi7GmiH8Dqjy9+UG1zi21jX/NHNIUdQqYfAUDquz/5dKD6RGKxoKRavNQe7n37Gz0cUAFm3yzklrfFOoS2YfaMy/lNxlKmxy4KZAvxAdU1Qr9Xj2CAGKfdz+SXRg92OSbVRhQc0hI4YCq6pxIVYWi6vahFrgtMLYCa20WsMk3q/CvmUMibiEp+5iUIleW4TzUtAhHYgE1X7GAarkDqjSfThCLH/BVEFTv4pZap9Y3hbok4n6RiwvU+xLLugbnoaZHfA3VVC6gOj/9eu3VFHduCxRrTqe2qfVNoS6x3DuM9yoIZjgnnRfgRNS0CFv+7X9sj9+bek+GYwtOFOSxCM4m/GvmEBlQSwoUbPJ1sck3Pfw8oKc98nPu149KY1xzeg82+WYVBtQc4pYz6N1D3YCq2jJ4qlI5oMoaql/7UBvjFpxQrX+a2sa/Zo6IHwjRp2deBnPSNZyHmh6yydefIalt8sLRtzXUuCZfnZ/nrMK/Zo6IX4atd6G6NVT2oaaHyjVUr8k3w/loTVNE3XNLbWNAzRFf1MVuttynh7qDktjkmx4yoPq1ltcWr8nXp5mXKzj5M3fUFQyoOeLLuHtD5is2ECK+udpkE1laRCx/1/LaYvt+UJLbWuTT/FHnsXTKEccbnBqqit/h+OZHLo6fHmFLFvrqne/YoCR/kjep8Gv+qPMYUHOErKHqChaQ8d15qi0yoCq5qpZ6nxbA8gYl+TP38iYVKn4XqW1qtf1Rp9U0hgEAlhAYVfknZ0qB5nypNTgVES3usa5p0DQNupPM2+88d/YZuvNY1xL365oGXY89Ttiuwd0Xvy223fD2xbZFrdhEfZOFUFqELX83m7bF9zVU2Yfq1wxSpzGg5ohIxIapO7W9msZo+y/wofyADk3z9yo42SLiTptRsRbl9z7UUETdc0ttY0DNEfVhC1EbMHUNM74+FLYtYNk2LOFc0du2gC0fCwHLbr7NbjEtIFrZL4SAEM68QAF3vy28x8J7vZsWcj9ir4ez2HlNYxRNERv5AX5k00HXgKJ8E0UK3pnIZpMvZYh63xbqFFnjyA/oqLzqvAznJjkHT5zEJf/5JgDA4KCktIjYAnVNUSXno8oaql9nWBUEdBTnm1x2MAvxL5ojYuub+rSUaYMd18rr1+Xkso2u8Hm23XsT+XWN/IKgidqmKE7GLbZC2YFDJnOEnFeoYjOTHRdRVbvZtarkXfL8GpTa4uXZpx/103oVAACitoInl9rE0ilHeDdd9mkh05b4gofxNE0U/JxIwuejfEsL1V2pjNrG4ilHRGx1a6hWXEDlYuLpYWjOeRZQrxblVVB9+lk/HrdqGWUXlk45wvKafDOckU6I2uoNjFGdT2NRh/i9mVquWubXQVPUeQyoOSKqcA2V8TT95Ghqvwenlvi9yffLk84iK7wVYfbhXzRHyD5UFWuoFiNq2qk8PSk2KMmfv8OJk87CKrxzUvZhQM0RlsI11IilYDVJcSpPT/L5IF/UuDXUgMHiN9vwL5oj5LgeXcGaR5QBNe28aTOZzUaneE2+Pv2o14ec+acMqNmHf9Ec4S3skOF8dAYHJaWfN0JWwYjq9yzHAr3fc0rJYkDNEZZQt8mXE+DTz1C40Jd9qH79pAfck2vxc511GFBzhNeHquBfPGqpe29OVenePFT1yLmzfv28BN2mXhVHUFPbFCxeqTNiUwn8Wsy0LmL7vMqRhVS88JL8vvSgXD7TYkTNOgp/bSgZbiVPyUFJclEK9XKuLgV7BjyxeOrPX0IORrIZULMOA2qOiPWhZjgjncA+1PQzVW7y9XkNNcAm36zFgJoj5OIIpoIRNdaHql7eVaXJkkHBQt/3fagma6jZigE1R8jFEVSc+xa2/D2vMBvJG4ureM69Ub4+zTsHJWUv9UpX6hQ5KEnF5c4ilrqFu6pCUXVbBWyfrwpm+XytYeo8BtQcEY46X2IVF+QOW87KMioW7qpqirjnXMFT7vc517ELRH/mjzpPvdKVOkXF+1pKETb5pl0o6gRUvwalttg+b/Ll5zl7MaCS78krehULd1WFIurenUg2+Ro+/bxELXUvVqhtDKjke5Eor+jTrUkGVAUjqv+bfNWdwkZtY0DNEX5f37QtHJSUfhGFa1GyhurXrMcCqk8zSJ3GgJpjVPwOR30+ajMbNUXVrUXJ+Z1+vUl6lBeIWYsBNUeoOyQpvg81wxnJIRF3UJJfg1Jb5N3+/DqKNurzPl7qPAbUHKPi1JMopxmknZyHqmKhb8PftWuvydevGaROY0DNESqvysIm3/QLuxcxKtZQ5Wfdr3mP2mxxyVYMqDnD3wM12hLlII60i8gaqoJLVco+VL+2aMgWF13BRVaobfyL5hh/FjFti/U5ZTgjOUTWUE0Fz7msofq1BhhrcclwRijlGFBzhNpNvurOiVSV7OdTs4bq/PRriwYHJWUv9b4t1CUqfofZ5Jt+cmS1irf7g88HJVk2ByVlKzPTGaD0kBXUjw7XY/az1QhFbYSiNiKW7d2qS9c06JrT9yQf67oGTYvt00/ZJ58npHG3G3KbfK7HjmF425z0hpvOcI/RELbwZUMYNY0RVO87DgD4oj6Em3/9V+QZOoKmjjzTQH5AR9A0UBAwkB/UkW8aKAga6BEw0CNoIj9ooDBowNA19/dyClpD150CVwN0uHkEoOkaTF2D7uxw0rv7DR3QoUPXnaZzXdegQYOuA6auQweg69nRN+YFVAXb2WNr+foz7xYH2WUtBtQcUZxvQgNwtD6EV7cdznR2OiUUtbHuoy8ynY0u09z/OfFciz12L2Y0wLtIkRcqsQDuNBVq7sWJvBDREo6beEw5Wcp7nLDP2Su3ydd98kUDADXvnyt8vvRgVOnaP7WFATVHnDgZgQAQMDSUFgYRMHSYuoaAoSNgODUtGwJCOKMknZ9O4SQgYo+FU9uNPU/cBiFgQ74OgHDudCPTiLjniHsOud99ja47N2LOCxiobYwgFLURMDQM7FUAyxaIWDYsSyAqBCxbwLYFLCFg23H5jzuun8TOS8KD+L2+YGhAaY9gprORtKDptD4EfFq7ln2oDKjZhwE1R8ipBBNG9MWvbrkww7lJzo1P/QXvfnIMQ/sU4o27JnTb+9i2Ddt2BkHZcFbcEXCCtXCfR23bfSxguxcasJ3gHbUFhC3c1wo0RS1c83/fAQA8ccMF6FuUj1DUQsSyEbEFwlEbUctG2BKw5E/b+RmxbETdn5YQiLhpIu7FQ8QSiNo2LFsgatnOBc4pFy7ybx5/0SNOSQf3wufUC50PDtWiKWKjIRzttvPdXZrClnvBl+mctKxH0EBhnoHehepdrFDbGFBzhCUnu/u0GawtMjB09wW9rjv9o2aKxurVNUW8x2NO743TevVIyXHT4bJfvIWPjtT7ttm0Le7Kg74dgPdlQxgNIQsnFbxYobap10FCnSL7ldQcZOLvPrHWyJt0A0CeqdZXze9TTzrCr3n3mnwV7J+mtvEvmiPkyEJDwRGolqIT4eV6uACQZxoZzEnyvJt0q/dxibsYyGw+WiM/zwG/ZpA6TcGvC3WGrOWpOBDC7zeMbk04onBAledcwc+L8HneWUPNXvyL5gh51W4o2OTr98XOWxNfQ1WsxTd2zhW7iAH8P23Gq6Eq+F2ktin2NafOkjUOFZuZZAHk14n6rZHr4QLqLfagar81EL+Wrz/zHguoan0mqH38i+aIWC1PvT+5LNxVK3/CcTVU1diKtgoAsZm8DKiUbvyL5givhqpgM5O7Nr5yzY9qB1R5EaPWOQcUGpSk4HeR2talgLpw4UJomoY777yzQ+k3bNgA0zRxwQUXtJqmqqoKmqbhmmuuafZeF154IYqKilBeXo5rrrkGO3fuTEgjhMCCBQswcOBAFBQUYOLEidixY0dCmlAohDvuuANlZWUoLCzEVVddhU8//bRD+VeZqv2QgLuSEvw7yKQ18U2+qhFpmvvbLbz7oWY4H62Qg+yCrKFmnU7/RTdu3IinnnoKI0eO7FD6mpoa3HzzzZg8eXKrafbt24d58+Zh/Pjxzfa99dZbmD17Nv7yl79g9erViEajuOyyy9DQ0OCleeSRR/DYY49h8eLF2LhxI/r3749/+Id/QF1dnZfmzjvvxIsvvoiqqiq8/fbbqK+vx7e//W1YltXsPbNJrIaq3pdYxiW/NuG1RtZQ1cq1w1a4i8Br8vXp1YC8WAmoNlKN2tWpv2h9fT1mzJiBpUuXonfv3h16ze23347p06fjoosuanG/ZVmYMWMGKisrccYZZzTb//rrr+PWW2/Feeedh1GjRmH58uXYv38/qqurATgf0scffxw/+tGPcO2116KiogJPP/00Tp48ieeeew6AE9SXLVuGRx99FFOmTMHo0aPxzDPPYNu2bXjjjTc6cyqUIWuoKk6bUbX5Ud52TrHrAADsQ+1O8tyqeHFLbevUX3T27Nm48sorMWXKlA6lX758OXbv3o0HHnig1TQPPvgg+vbti5kzZ3bomDU1NQCA0tJSAMCePXtw+PBhXHbZZV6avLw8TJgwAe+846ynWl1djUgkkpBm4MCBqKio8NKcKhQKoba2NuGfimSzqYpz31Qdcapyky8Unrcsa4B+7aKUi2awyTf7JL2Wb1VVFTZv3oyNGzd2KP2uXbtw7733Yv369TDNlt9uw4YNWLZsGbZu3dqhYwohcNddd+HSSy9FRUUFAODwYeeWZP369UtI269fP+zbt89LEwwGm9Wq+/Xr573+VAsXLkRlZWWH8uVnXg3Vr6VMG4Siq/bIgKradB/A/+vhtkWdGqo/80edl1QRdeDAAcydOxfPPPMM8vPz201vWRamT5+OyspKjBgxosU0dXV1uOmmm7B06VKUlZV1KB9z5szB+++/j9/85jfN9p1aeAkh2i3Q2kozf/581NTUeP8OHDjQoTz6jVD4SywLd78WkK2RN+lWK9cOlVfW8uah+jTvKrcWUduSqqFWV1fj6NGjGDt2rLfNsiysW7cOixcvRigUgmHEllirq6vDpk2bsGXLFsyZMweAc4ssIQRM08SqVatQWlqKvXv3Ytq0ad7rbHeehGma2LlzJ4YPH+7tu+OOO/DKK69g3bp1GDRokLe9f//+AJxa6IABA7ztR48e9Wqt/fv3RzgcxvHjxxNqqUePHsXFF1/c4u+cl5eHvLy8ZE6TL3lfYgUHmXj9eYoFVG9QklrZBqD2vGW/r5Qkz61qN0yg9iUVUCdPnoxt27YlbLvttttwzjnn4J577kkIpgBQXFzcLP2SJUuwZs0avPDCCxg2bBgMw2iW5v7770ddXR0WLVqEwYMHA3C+JHfccQdefPFFrF27FsOGDUt4zbBhw9C/f3+sXr0ao0ePBgCEw2G89dZbePjhhwEAY8eORSAQwOrVq3H99dcDAA4dOoTt27fjkUceSeZUKMerofr0qr0t3gWWYrXrqFdDVSvfQFw/pIKfF9nk69e8qzzintqWVEAtKiry+iylwsJC9OnTx9s+f/58HDx4ECtXroSu683Sl5eXIz8/P2H7qWl69erVbPvs2bPx3HPP4eWXX0ZRUZHX51lSUoKCggJvPuxPf/pTnHXWWTjrrLPw05/+FD169MD06dO9tDNnzsTdd9+NPn36oLS0FPPmzcP555/f4QFWqpKFjIpD9eW9XIOKLTAvxyT5tKLUJr8HpTa5mffreZcXt0HFLhCpfSm/wfihQ4ewf//+VB8WTz75JABg4sSJCduXL1+OW2+9FQDwH//xH2hsbMQPfvADHD9+HF/72tewatUqFBUVeel/8YtfwDRNXH/99WhsbMTkyZOxYsWKZrXrbCMU7hNTdWUZOYFfrVw7bIUXH7AhR/n6+8xrCn4XqW1dDqhr165NeL5ixYo20y9YsAALFixoM01Lx5ABoS2aprV7/Pz8fDzxxBN44okn2j1eNlJxIIScZqDaLdDkhYCKEVXlQWyxEe3+/qzL0euUPfz9iaOU8Zp8FRxk4i3VplhztRwIpmIfqjfK1+dBqSWxW89lNh+Ue9T7tlDnKDwP1fJqqGp9XG2FayCxfj61zjkQu5BR8d6/pDb1vi3UKbJoV62WB8RNMwiolXelByVlQ5Ovz1tjFF5Hi1rh708cpZyKg5Jk82OeYgPHbIUHJclanoqjwiW/DkryabYoBdT9tlCnqDj3zQuoytVQ1V0cX5VaXku8PlSfX39ZCncJUMvU+7ZQl6g8yES1Ub6xGqp6EVXluZIqrwpGauMnLseo2CcmA1NBQLWA6j5Q75Qr3eSryqpgHZgJSIpR79tCXaLmqE1HflCtvHtNvhnOR2eoPIhN0llDpTTjJy4HRKOx8YQq1jigepOvkp2ozg8lL8AUmSLWkcVqSC3qfVsoaWE7FlCDCl61y2Knh2pNvioPSnJ/qlhD9ZqrFfysk9r4icsBkbgaqt+v2tui2ihfOwtqICrWUCW/j/K1of7ngxKp+22hDovY8U2+agVUOy7vqg1KkvFUrTOeSMlR4e5PU/Nn3lUc9U0dk/K7zZD/RKKxK+GZKzYiYBjQNLegd9sjtdhD7wvvpZGPNQ2GrsHQNJi6BsPQYOq69zigazB0HQHDSRcwnH2mocN090unTsE7tTInr97j+38LgmoFVEvlPlRXgWKtAgDUWWaTFdSsw4CaAyKWhcKgjoawjfc+rc10djolaGjKTfmRFwmqhaT4VgGVm3xVrF2T2hhQc0DEBhrCTiF5Tv+e0KBBIFbgi7hL5di2+Fqj88AWTr+gbQvvsRX3WAjncbOfEBDCPV5cTOxIeBRCIGw5//JNtT6umuYsf9dDsZp1OGojYDifERXH9ciP7T+v2Oi2DghA0xJbW6B5LTCa1vJjXT7WNOhw7l+qu6/XNQ26HrddbvP+yTSA7rbqyNdE3EWen/vbfmzYfcxLa8hjanB/xh1L12B6+92WIjetqevuezg3BHBakHQYunNc09BhaM40ItNw08W1LBlxxzN0DQFdh647q6oZuua1Mhm6htNK8pEfVOt7mE48MzkgflDS63dOyGBOknfoRCMu+s81ANQr3MNRAUsINEbVWgbdBhCx5EhZtS4GAKeZujFiO4vPe1eIp7avZr69dc8XJ7Hni5OZzkZSnvrHsbjsvP6ZzoZvMaDmgKjCa4bGj4RUq8E3/n6o6lJxJGpjxLmAufXioTh3YAl0OP3ZUVsgaglELRtR27nYiVoClm0jajvTnKK2Dct20lq20xoTFQKW5aR3WmROfR5rrZH7nefxrThOK40tBD46Ug8AKC0MoCgvAAHZouO0yAg4eRFwR4oL5yJH7hPusZo/dj9zpz5HYssT4rd7/+vYJYbh89WnMo0BNQeEFKshxYu/FjAUq6KqereZ+LOs8j1dLzu3Py4+syzT2WjmzPteQ9QWuGvKCNx00emZzk6HRaO2cq1E6caAmgOilroBNf6mkap9mb1pM4pF1Pgl+xT+5PiWt9awYotmmIrlNxN4hnJAROGAGt/kqNqHVdWlB+PPs1C4hqr79LzL5lbVltKk9qlWRlEnKN2HGpd31RY7V3Vhh/jTrO6lmH95yzpyWk/W4V80B8gmX9UKdiCxQFftw+pdDPi0ptSahCZfhS/GfEveeECxVcuofaqVUdQJEVvRqhISmxwVq6B6NREFT7tHxVG+fifPaJ5iS2lS+xQroqgzwtEsqaEqFlFjfagZzkhXMJ52Gzb5Zh/+RXOAyqN8VW5yVHXaTDyFT7/vL2TyVVwnmdrEv2gOkIOSVLzLhcpNjqpOm6H0UG3aDLWPf9Ec4AVUBQt2W93KNWJd1wqeeFc23NPVT8Jxi6xw2kz2YUDNAVFL4YCqcIHuLT2o4HmXhMLn349CUct7zCbf7MO/aA4IW1b7iXxK5QI9G5p82YeaWo3h2Hcxj02+WYd/0Rwg46lqK/YAahfoQqjbdy2pfP79KBQ3QFC12xFS+xhQc0DUVnjajMIFuqLrOiRQuYXAj+L7UPNZQ806/IvmAJUHJalcoMeyruCJd6nch+1HoUisyZeLzWcf/kVzgDcoScGCvSmibv+v5QYjlefvM56mlsq3UqT2KfxVp45SecWekMKrPFluU7vKN2VW8TMj8WKA0o0BNQfIgl3FwjEsB3EomHfZ1G6oeOJdfr0FWkf4MaAW5sUGIkVZW806DKg5QH5vdQWjUiiicA3VbWo3DBVz71BxZLjkx/7fwrzYYg4N4WgGc0LdgQE1B6g8KElOhFexYJd9qKbCTb4KZ92XAbVnMFZDrWdAzToMqDnAkvdDVTAoqd2HKgclqfs1Uzmg+i+cAoVxAbUhpO6AO2qZut906jC1ByXJGmqGM9IJsvtX5Rqqihdhkh/vVBQ/VaYhxBpqtmFAzQGyyVfFASbhqLp5t71pM+rlXVLxvEv+C6eJGFCzDwNqDpBNjyr+scNuDVXFgl3WkFSuoaqYdZlly4c1VCCWP5XnWFPLVCxjKUnezBMFS8eIwnfKyYZBSUp2Xrv8usqWzFV+gLdvyzYMqDnAEk5EVfGPLeehKl1DVXipJBWnWkk+raB6ivK5OH62UfebTh3mNfkqWFOSi4krmPVYDVWxeah23F3dVfzMSH6soDbFTZUpzg9kMCfUHRhQc4DlreWrnogMqAoW7LKGZGhqfc3i4qnSBYTtw2FJtU2xgFpSEMxgTqg7qPx9oQ6SNSUVg5Js8lVx+T7Z5BtQrYYa91jFfnfJj5+Z2saI97iYTb5ZhwE1B6g8yjeqcHO1reiFTEKTbwbz0VmyXlpa6L8aYF3cVBnevi378C+aA2QNVcXaRsSKrZQUX9CrQDb5BhUblBR/llW7GIjvo+zjw4AaX0Ol7MM2hxwgB2f4eaRsOGpj094v8dc9x7Djs1rs+eIkjtY1oc7tczpaF8IZ9/0RgBNcdU2DrgOmrkPXnGk1mubc8VXTNOe5m07T3J9wAoSmadA152pSc4+jQYOuu9vd/ZqmwdCd1xveYw2GfL3ubNPd/bqmwTDcn7rmTdz/655juO/377t5ju2X72W428y41zrvB+81hh5L5+x3ljTUdcDUdHc/oOu6u09zzo3upDP1uPS67u53jm26xzR1HQFTQzhufqRqAfXYybD3uKwoL4M5aZn8PPv4q0hdwICaAywfrZR04PhJvPPxF9i6/wR2HqnDweONOH4yErtNWwcIOLVuywIilv8nx390pB4fHanPdDY6ZfzDb7a4XTvliRa/XYvdyl5+5DQ3keZukym0U7dpzojuxPSa05TmXejELpDkxZO8OIr/HBX5cBStvMOMH76LlHoMqDkgFlDT836ytvm3vV9ix8EafOLWNutD0XanMuSZOkoLgxjUuwBn9ytC9b7j+PvhOgwsycOvbr0QJxoiqGuKoqYpgrrGCOpCUYSjNizbhiWAqCVg2QK2EIi6Py1LwBbOfFzLFrBtmcYNzLaAEAKW7fR7yn/ec/c4wk0vRHw6QNgCNpwmXiFiaW0hUJRvoqYxCuFuE3DSOD8BAeGdE/kcMh3gPhbefrSwPX5b3I9uJU55kvi8pRykd8RtSYE/i7aIZaMwaCA/yEUdspE/P3WUUt7gmBRfFR860YgNH3+BzfuP46Mj9Thw/KRT22znxsm6BvTMM9GvOB9nlBXivNNK8PUzSjFmcO9mAzVuXf43/P1wHUxDx7kDSlKa/1xm2zaiNhC1nYsMyxYIR21EbBvH6kO4avE7AICnb7sQxQUB2AKIWm5a9yLE++detERt4V3YyIsamca23f3uBYr3071osRL2wbuIkWmFgHeBFLvIiUvnXsAcrWvCjs/qUNPoz3VyGyMWGsKWtwIYZRcG1BwQu41Y8q8NR21s2X8cf93zJbYfrMGeLxpwpNapbba3Ek3Q1FHaI4DBpT0wol8RxgzphYuHl2FAr4IOv7+s7GhKzqL1L13XEdSBYAvjEgvMWLHwlQHFKC/OT2fWumTNh0fxTys28tNCGcGAmgM60od6pLYJ73x8DNX7vsTOI3X49HgjvmwIe/cjbY2sbZZ7tc1ifH1YH4we0hvBFEwLkM2a7HJKHxvxKyVlMCOd4Nf1eyk3MKDmgPg+1L/tOYa/ubXNT9zaZl1TB2qbho7ehQGvb/OCIb1xyZl9cFqvHt2ad6+GyoCaNokrJakVUX0fUH2ePeoaBtQcIPtQ3z9Yi+t/+ZdW02mytlmUh2Flhag4rQRfPb0U404vTUlts2sYUdMlvsxXrYZKlEkMqDmgR9CEhlhBGTA09O7hjKQ9q18RLhjcC5cOL8PgPt1b2+wMWeNgOE0fO665QrXz7vc7zFB2Y0DNAbVNEQgA5/TviZd+cAnyg+r82dnkm37xi8qrtrCD31t8vYCv1mmlDmKDTg6QX+JePYJKBVMgvvmRJVC6xNfyOLqaqOMYUHOAbDb149032iP7fxVbDldt8YOSFDvvfrxlG+UOxb4u1Bmq3vUEiNWWWFNKn4Qm3wzmozOEvBjw+cfF59mjTlLt+0KdYCvcDylEbMoPpUf8oCRdtSqqz/m9j5e6ht+WXKBwLU/WrlW8GFBVwu3bMpaLzrEZsSiDVPu+UBeoGJRitWsFM68okVBDzWBGOkE2V/PTQpmg2NeFOkMoPFDD5jzUtEu8wTiLiFTioKnsxm9LLvCafBUkb47OTtS0sRVeHYEtvpRJDKg5wJtLrmBMkusQK5h1Zalci2JApUxiQM0B8taLpoLNd7F5qAypacOgRNQp6pWwlDTbvX1IwFAvKFluh57JgJo2Crf4Iux+YPw6op016OzGgJoDZAFpKrjckOXVUNXLu6osu+174PpZTWMYgH9HJ0fdc9vWvYlJXT792FEqyX5IFWt5snA3Faxdq0rlGmpdYxSAf7s3IlHOq85m/vzUUUrJfsigijVUtwNYxeZqVakcUOtDbkD16eclYskaaoYzQt2iSyXswoULoWka7rzzzg6l37BhA0zTxAUXXNBqmqqqKmiahmuuuSZh+7p16zBt2jQMHDgQmqbhpZdeavZaTdNa/Pezn/3MSzNx4sRm+2+44YYO5V9VMqCq2OTrXtAj4NMaRzYSCnf01bkBNeDTz3pUjlpnFTUrdfpTt3HjRjz11FMYOXJkh9LX1NTg5ptvxuTJk1tNs2/fPsybNw/jx49vtq+hoQGjRo3C4sWLW339oUOHEv79+te/hqZpuO666xLSzZo1KyHdL3/5yw79DqqSNQ4Va3myyTdg+rOAzEYqL98XjrpdBD6tAsZqqP7MH3VNp26OWV9fjxkzZmDp0qV46KGHOvSa22+/HdOnT4dhGC3WLi3LwowZM1BZWYn169fjxIkTCfunTp2KqVOntvke/fv3T3j+8ssvY9KkSTjjjDMStvfo0aNZ2mwmC0i/XrW3RY7yVTHvqlJ4TJIXqPzabB1lk29W61QpNXv2bFx55ZWYMmVKh9IvX74cu3fvxgMPPNBqmgcffBB9+/bFzJkzO5OlZo4cOYJXX321xeM9++yzKCsrw3nnnYd58+ahrq6u1eOEQiHU1tYm/FONrXBQijVXswRKF5VrqF7N1Ke/Q4RNvlkt6RpqVVUVNm/ejI0bN3Yo/a5du3Dvvfdi/fr1MM2W327Dhg1YtmwZtm7dmmx2WvX000+jqKgI1157bcL2GTNmYNiwYejfvz+2b9+O+fPn47333sPq1atbPM7ChQtRWVmZsnxlglzLN6hgs6nKA6pUpXJAlXHKr5XsqCVvR8iAmo2SCqgHDhzA3LlzsWrVKuTn57eb3rIsTJ8+HZWVlRgxYkSLaerq6nDTTTdh6dKlKCsrSyY7bfr1r3+NGTNmNMvnrFmzvMcVFRU466yzMG7cOGzevBljxoxpdpz58+fjrrvu8p7X1tZi8ODBKctnOsjmLxWDklxXVsXatarUDaeA4QYqvw6skvNQ2eCSnZIKqNXV1Th69CjGjh3rbbMsC+vWrcPixYsRCoVgGIa3r66uDps2bcKWLVswZ84cAM6qPUIImKaJVatWobS0FHv37sW0adO818mVfUzTxM6dOzF8+PCkfqn169dj586d+O1vf9tu2jFjxiAQCGDXrl0tBtS8vDzk5eUl9f5+I4S6U09kbSnPVC/vqlJ5cXx5EwW//gZeDZWdqFkpqYA6efJkbNu2LWHbbbfdhnPOOQf33HNPQjAFgOLi4mbplyxZgjVr1uCFF17AsGHDYBhGszT3338/6urqsGjRok7VBpctW4axY8di1KhR7abdsWMHIpEIBgwYkPT7qEJerOcp2eTr/Ayc8tmi7mP5NRp1gFzz2acVVG9QEtemzk5JBdSioiJUVFQkbCssLESfPn287fPnz8fBgwexcuVK6LreLH15eTny8/MTtp+aplevXs2219fX4+OPP/ae79mzB1u3bkVpaSmGDBniba+trcXzzz+PRx99tFn+d+/ejWeffRZXXHEFysrK8MEHH+Duu+/G6NGjcckllyRzKpQiCxcVp554fagK5l1VQuF70Oq+b/KVfagZzgh1i05Nm2nLoUOHsH///lQfFps2bcKkSZO857Jf85ZbbsGKFSu87VVVVRBC4MYbb2x2jGAwiD//+c9YtGgR6uvrMXjwYFx55ZV44IEHmtWus4k3KEnB39FWuHatKr8Go44w/N7ka/PuSdmsywF17dq1Cc/jg1tLFixYgAULFrSZpqVjTJw4sUNf9H/5l3/Bv/zLv7S4b/DgwXjrrbfaPUa2kWdNxaAkWENNO4W7UGM1P5/+DpbNUb7ZLOU1VPIht3CZ+9vNuPt5p5aqaU6TnvO91tp47nzxdfdFursdmlMoyDTxr9fitusJz93XxB1bd7fJ4+mnHDdiyUFJ6tWuVaVwBTW2sINPIyprqNmNATUH5AcMNEYsRCwgYlmZzk7S8k2do3zTSNaiBIB/ftqZbx5/cRW78Eq8mEp87qZt9jj2Wj3uhd4Flnec2IVY/HG9x4jVRuPzsHHvcQBAKGLjoVc/gBDO7yPgtHbIEcy6rkHXNJiGBkMDdE2HoWswdGefqeswNOe5obv7NMAwYo9Nw01jaDA0zX3uBMuATOc+1nXnDjgNTRHvHB88cRI6nDS6Duhw0mlu/jRo3ut0OLek07mmta8xoOaAxogTRK8bcxoG9S6AZTuFpW0L2MKGLZxmPssWsIWAEM5gINsWsISIS4vYPhGX1pbPnf5a200jhFuItfYcSDiGV+i57yMg8NGRejRFbd4PNY0EBPIDOpoiNt74+9FMZ6dTorbAr9bvyXQ2WrX78wZc8p9vpv19W7ws1VrersX9X/743zsuwbkDSroja1mBATWHXD9uML52Rp9MZyMpZ8x/Fbbw7w2js1HUFmiKONM7BvUuABBrBhZxT2Sjqoh/LhK7L2NpEncKnJIurp1ZnPIg/t0S8hGXLv7VRfkB1DVFnJrxqbXnuEMLIS/iTnnsHjDhefx7u7+LiDsWWspXK4ryTdQ1RTuQMvVazJ9oK9+Jv1hU5TlVacCAmkNUHgdhaoyo6SLXftY14O17vpnZzGQR27YRtZ074ggIr1XGtgEbNizbbe1xW3lgO33BzjZAuD+jttPEFGv5EV4rk4hrOfJanBBrAZJp4luCZDobshVJtkTZzk/EWo7OKOuZwTPofwyoOUTF5fvk9TAHcaRPxI2oWssNhNRJuq4jqHPEejbjXzaHqBhQZURVMeuqkoOSGE+JksNiKoeo3A/J0Y3pY1myhkpEyWApleXsuLtFmwoGJa/Jl6V72nDcCVHnqFfCUlLi4ikCCvdDsg81fWSTr8qD2IgygQE1y0UVr6FKXKotfSwOSiLqFHVLWOqQSNzCrLrCq/cxoKaP24XKGipRkhhQs5wVF1ADCtdQWbinj6XyYr5EGaRuCUsdki1NvuxDTR/5meFFDFFy1C1hqUMi0VhtQ+W5nBpL97SRC8izD5UoOQoXsdQR0bjmu4DCK7Swgpo+UfahEnWKuiUsdYgd14eqcpMvA2r6aBDIM3WUFHBlUqJkqFvCUodEovF9qBnMSBexyTd9QlEboaidsTuiEKlK4SKWOiIaP21G6RoqA2q6yE8M+1CJkqNuCUsdEh9QVabwtYBybC6OT9QpLKayXMSy20/kU/HrEAcZUdOG8ZSoc1hKZTlL4RpqOK7/V+URyqpR9xNDlFkspbJcVOFbh8Qvm2jydjNp481DZb81UVIYULNcxFa3yTcUtbzHKi+bqBoh5MIORJQMllJZLmKpWzjGr/IUZJNv2tiCnahEncFSKsvZCtdQ45urGVDTh/GUqHNYSmW5iMJDNsMc5ZsR8m4z7EMlSg5LqSwnp82oWDQmrPLEGmraqDuMjSizWEplOYVbfLNmUQrVyFG+LByIksPvTJaLejVU9eqoKi9KoTIRW3uQiJLAgJrllO5DjTKgZoL3kWEfKlFSGFCznKVyHyprqBkhoO5UK6JMYkDNcpZX28hsPjqDfaiZYXNhB6JOYUDNclGFa3lRhWvXKmMfKlHnMKBmuajC67JGWEPNCFlD5T1oiZJjZjoD1L1kQA1HbZz3wOvQoEHTnMqHpp3yGE7TsB732EmjQdecqy/vNe42b5+7XXePr+uadywjIa2b3t1vxG/TNOh6bP9nJ5oAOPMi76zaClsI2EJACAFbxKZ3GIYGQ9e89zIMDabmbDMMHYYGGLoGU9edn4YGU3feK6BrMHTd3eb8NDTANHQE5HZDR8Bwjm0aGgKGjoChw9Sd4wRMJ11A1xE0dec4urO6k4o3dRe8jiHqFAbULKcJAUNz+lIbQlb7L/Cpl7YezHQWkhYwNG8t5fZopzzRmu3TErbHVx61uH2al1RLSOddOMWn1U597ryqrinivoY1VKJkMKBmuaaoDUsApq5h1vgzELVt2MK5T6otBGz3p+XW+Jzt8GqDMk3idiTUFC07rtbo/hTeawEbAsJ7DRL2C/kY8B4LOHk5GY6izr0IKC/KA4BmNWog7j0BCNs5VvyxBeDlTwh3FKtM7z4X7nOI2CjX2PPO6Wgw9d4r7knzV7aVkdRXKTUAfQoDKT8uUTZjQM1yslAPmjrumXpOhnOTnOf+uh/3vbgNhq7hbz+akunsNGPbNmzbWXM4ErURsW1EogJRIfDcX/fhybWfwNSBV+ZcimjcRYnlvs65kIm7WLFtRGwBEbfPSedcFDkXLk46S168yAsjATd94gWPZcdfyDivE3EXVCL+OHAuZNbv+hyHa0M4cTKS6VNMpBQG1CwXddce1BVsvZN3yvFr1nVdh64DJnQgmLivrFDWqDWcO7AkA7nrvNuW/w2Haz9XcqoVUSapN2KCkiJrqCqO2JSjfBXMutL9j3JwtYqfGaJMYkDNct5cTgULx6jCK/sreLo93sIOKv8SRBnAgJrlLHnnEAXLRssdlKxiwa5y7c6724zCvwNRJjCgZjmVF3bwbnSd4Xx0hjzdKs7pjDX5ZjYfRKphQM1yUYVrG7LJV8GsK/3F8i5kFDzvRJmk8veeOkAGJUPBwtGyZA1VvcxrClfvhBtQDUZUoqQwoGY5rw9VwQJe5TvlqHgRIFkKj64myiQG1CwXVXjaTGyEcoYz0gleH2pms9EpnDZD1DkMqFlO6VG+Qt0mX+98KxhRvbvNqPihIcogBtQsF1W4yddm02NG8LwTdQ4DapazFR5gElW4dn0y7EyiVfDubd5UHxU/M0SZpODXnZLh9aEqGJUshefQNoSiANTsh+QNxok6hwE1y1kK11C9pscM56Mz5L1nDQUvZLxBSQrmnSiTGFCznCXvNqPgXzqq8JqyJyNOQDUVDEqxGmqGM0KkGAWLWUqGO/NEyeY7y1K3YD8Zdpp8TUO9rxinzRB1jnrfdkqKNyhJwaik8rKJkai6513lzwxRJjGgZjlL4aDkLZuoYMFuCbepPcP56AzBQUlEnaLi952S4K3LquBfWuVVnlRe8pF9qESdo2AxS8lQuT9M5YX9Vb4Y8OahMqISJYUBNcupPKdQ5VWeVF7yUeWLMKJMYkDNcnKUr4q1DTnKV8m8K3whIzgoiahTGFCznMojNmUNVcW8sw+VKPcwoGY5lZt8ZVBScZUnlUdXC66URNQpDKhZTihc28iGPlQVR1fLO84ZmoKZJ8ogfmOynK3wiE25bKLay/epl3d5uiOWldmMECmGATXLeQFVwYLdyoI+VBXPe17AAADUhxhQiZLBgJrlvBGbCk7mlCOUVayhxgYlZTgjnVDgBlS5HjERdYyCX3dKhq1yLc8boazex1TlUb4FQTegsoZKlBT1SipKihxgomJfnsoDe2yF70Nb6AbUxggDKlEyFCyqKBkqF+yydq3yLdBUbBkoDJoAgCYGVKKkqFdSUVK8dVlV7ENV+GJA5XmoPfOdgBqO2hnOCZFazExngLqXrKH+rvpTvLzlM0ADZBGvaYDmPtPkdnebfO6l8Z5rse3ycfxzTfOmXehuemjOVAznuM6x5XNdi72Hpjl9jvL5kdomAED1/uP4/i/fhaE76XVdg6Fp7nNnm6FrMHQduqbB0J00pqY5aXUNpq4lvE4+lz8D7rFMQ4ehAYahw9A1BHQdug4EdOe5acReb+q69zxg6O42DQFTRzjq1O4EBGpOhhEwdSe9Dug+7xMuyg8AAMIWAypRMroUUBcuXIj77rsPc+fOxeOPP95u+g0bNmDChAmoqKjA1q1bW0xTVVWFG2+8EVdffTVeeuklb/u6devws5/9DNXV1Th06BBefPFFXHPNNQmvvfXWW/H0008nbPva176Gv/zlL97zUCiEefPm4Te/+Q0aGxsxefJkLFmyBIMGDeror62UHkEDx09GYAt1C8gTJyP4654vM52NTtm87wRGPbi6w+njL3Ziz+MvaOR2reWLoGYXRImPdffCR3ePpbsXQYBz8SWEQG1TBAAQsWQPPBF1RKcD6saNG/HUU09h5MiRHUpfU1ODm2++GZMnT8aRI0daTLNv3z7MmzcP48ePb7avoaEBo0aNwm233Ybrrruu1fe5/PLLsXz5cu95MBhM2H/nnXfif//3f1FVVYU+ffrg7rvvxre//W1UV1fDMIwO/S4qqQ85Ux/GDe2Fb1X0h207zcCWW3haQsC2BSzbKVAtWzgFK5w+TEs4P203nQ3EHgv3sRAQ7mPLcl8bt80WTk1NeMdyntvuc/lYCGeaj2U7x/jwcB0sW6Aoz0T/knzv/YT7nvI1sW3OICzh5lO4v4fch7j3Bdz3c/Ml08ntsZ/CG9jlbe/gue9VEMCJxkhSf69T38vb2uxNuz/YlfUMtp+IiDydCqj19fWYMWMGli5dioceeqhDr7n99tsxffp0GIaRUPOULMvCjBkzUFlZifXr1+PEiRMJ+6dOnYqpU6e2+z55eXno379/i/tqamqwbNky/Pd//zemTJkCAHjmmWcwePBgvPHGG/jWt77Vod9FJTJ4jBzUC7PGD89sZpI07qE38EV9CFPO7YdffP+CTGenQ2zbRjhqI2oDNz71Dk40RvCz747E14f1QdS2YdkCYduGbQMRy3ketQSito2oLbznEct2L3aAiPs6Wzj7LFvAsm1YtnPPWMu9kLEEELVs72IjasuLJdu7MLJs9yJKXjzJCxwh3GZzDR8eqsPuLxpw/GQ406eTSCmdCqizZ8/GlVdeiSlTpnQooC5fvhy7d+/GM88802r6Bx98EH379sXMmTOxfv36zmQLALB27VqUl5ejV69emDBhAn7yk5+gvLwcAFBdXY1IJILLLrvMSz9w4EBUVFTgnXfeaTGghkIhhEIh73ltbW2n85YJKt8sWtYYVVrYQdd15AedPlLbbbAtK8rD4D49MpmtpPz78+9h9xcNCJrZ12JD1J2SDqhVVVXYvHkzNm7c2KH0u3btwr333ov169fDNFt+uw0bNmDZsmWt9qt21NSpU/G9730PQ4cOxZ49e/DjH/8Y3/zmN1FdXY28vDwcPnwYwWAQvXv3Tnhdv379cPjw4RaPuXDhQlRWVnYpX5lke0HJ3wNhWuKth6tQQI2n6vKDJ9yaqVwxiYg6JqmAeuDAAcydOxerVq1Cfn5+u+kty8L06dNRWVmJESNGtJimrq4ON910E5YuXYqysrJkstPM97//fe9xRUUFxo0bh6FDh+LVV1/Ftdde2+rrhBDewIxTzZ8/H3fddZf3vLa2FoMHD+5SPtNJ1lADCk6bkb2EKtVQ48mAqlr+a5ucfvceQQZUomQkFVCrq6tx9OhRjB071ttmWRbWrVuHxYsXIxQKJQzsqaurw6ZNm7BlyxbMmTMHgNPHJISAaZpYtWoVSktLsXfvXkybNs17nS3vMmKa2LlzJ4YP71zf34ABAzB06FDs2rULANC/f3+Ew2EcP348oZZ69OhRXHzxxS0eIy8vD3l5eZ16fz+QQ2pUnIfqrUOsWECSLEVr2PVuQC3M46w6omQk9Y2ZPHkytm3blrDttttuwznnnIN77rmn2SjZ4uLiZumXLFmCNWvW4IUXXsCwYcNgGEazNPfffz/q6uqwaNGiLtUGjx07hgMHDmDAgAEAgLFjxyIQCGD16tW4/vrrAQCHDh3C9u3b8cgjj3T6ffxM1lDVbPJ1fgYUXCkJUHcd5QZ3UfyifAZUomQk9Y0pKipCRUVFwrbCwkL06dPH2z5//nwcPHgQK1euhK7rzdKXl5cjPz8/YfupaXr16tVse319PT7++GPv+Z49e7B161aUlpZiyJAhqK+vx4IFC3DddddhwIAB2Lt3L+677z6UlZXhO9/5DgCgpKQEM2fOxN13340+ffqgtLQU8+bNw/nnn++N+s02KjebxgYlZTgjnWQpWsNuDDuLUpQUBDKcEyK1pPwS9NChQ9i/f3+qD4tNmzZh0qRJ3nPZr3nLLbdgxYoVXk135cqVOHHiBAYMGIBJkybht7/9LYqKirzX/eIXv4Bpmrj++uu9hR3k67ORiiNlpdh6uGpGVLfnQrlBSU3ukoMMqETJ6XJAXbt2bcLzFStWtJl+wYIFWLBgQZtpWjrGxIkTveDQkoKCAvzpT39q87gAkJ+fjyeeeAJPPPFEu2mzgTcoScFqXqy5Wq2AJEXdiKpqDXVASfsDD4koRr1SljpFxT5UOaBKxbvNALEbpKu0QH44antLVF54emmGc0OkFjVLKuowr5an5Chf56eKeQfi5gArlP9Ne2NrJo8e0ruNlER0KgbULCdreQEVa6iyuVqxJlNJxVu4/c0NqHmmjqCC3QREmcRvTI5QccyVN4dWwYsBQM1pMxvdu/r0KeTC+ETJUrOkog6Tw7hUnMupepNvVMGlB3d85qxVPWYom3uJkqVeKUvJcYNSUMGAKql4MQDEzUNV5IKgvinq3W7umgsGZjg3ROpRs6SiDlN7YQfnp6p9qLZiNdSXtnwKwLkZ+TfPKc9sZogUxICaI1Tqx5OUnzbjreWb4Yx00Os7nDsu9S/Jh65Kpol8hN+aHCFHnKpIxdo1EKthqzLKd9tBt/90SK/MZoRIUQyoWU4W5RG5yoBCZEDi9I3u90V9E2rc/tPvjVPn9oREfsKSKsvJylE4qm4NVdWAKs+93caSmX7x3F8PAHD6e79xVtfuS0yUq9QsqShpYRVrqO5PVZt8ZVOvAvEUf/77EQDAkD4F7D8l6iR+c7Kc5hbqKgZUSdkaqvtThYD60ZF6AMAlw1k7JeosNUsq6jA5ZePzulCGc9J5qs5DlTVUvzf5Hjh2Eo0R5w4zN3x1SIZzQ6QuNUsq6rBePZx7Wr534ERmM9IFeYrWUGUV1d/hFHi+2uk/DRgaKk4ryXBuiNSlaElFHXV6nx4AgI+O1GU4J8mx7VgTtarzUGXXr+3zKUub9h0HwPufEnWVmiUVddgl7ojN/V+eRDSqTj9qfFZVraFqUGMw1SefO/2nZ5UXZTgnRGpTs6SiDvunS4YBAGwB/NZt2lNBKGp5j1VdHF9XZNrMsYYwAGDs6VwQn6grGFCzXFF+AIN6FwAAVmzYm9nMJKExHAuoBaaZwZx0nuYNSspwRtrwZX0YEcvJ4DfP5vq9RF3BgJoDbrl4KABg19F6/GX3sQznpmNCcdN8lJ02Iwcl+biG+saHzvxTTQPOGVCc4dwQqU3NkoqSMmv8cG+077wX3stwbjomHNeJmq9qQHV/+rmGKi+wivMDGc4JkfrULKkoaZVXnQcA+PR4I15572CGc9O+UCSuD1XRgKp7Kzz5N6L+/bCzIP5gt1uAiDpPzZKKknb1BadhYC+n0Hzg5R0Zzk37QgqNSG6NCjXUz040AgDOHcjmXqKuYkDNIY9cdz4A4PjJCJat/yTDuWlbKKJ+QFVhpaSGkNMSwAUdiLpOzeGT1CmXntUXI/r1xEdH6vHIn3aib88gAgEDhqbB0J1/pq7B1HXoOmDoOkzdWfpP15x9hrvfNGKPDR0ImLqzXUdKFlePnzajKs3ni+Pbto2oW30ewTmoRF3GgJpjHr/hAlyx6G2EojZ++NvMDFDS4h5oCds0b1v8yNgR9/8RmkyjOQsmaG46zX0O73n8Ps1pgtE06JqTVte02D53m3ysa1psOxL3G7rmvf7UtHor+y13pPJDr36AXgUB6Lrm7nfyIF9jaHGv9dI4fbCGBuia7u03dLldi/sJ6HCfu/9k7diybIQtgYjlBM+IZcPUNeSZesLUpHMGMKASdRUDao45d0AJKgYWY/tnzmCU+CUT0lWREnEPxKl7WshEWNH+1LP6FeJEYwQbPvb3VCVD19CrRzDT2SBSHgNqDpr9zTPx/z2zGQCw8f7JKOvZsTVcnSZCIGrbiERtWO5jyxaICgHbFohEnZqQLQSitoDl1orsuLSWcI4VsQUsS8ASArYNWO42Wwhs3X8cz1cfhAbgvivOcbbbMq2AZTt9k1b8NgF3n+08drfb8rGbvvk257EQ8dvhPnf2y8dyuxBoMa2A8/jgiSbsOtKA0/v0QChqe68RgJfGe+6+zrmeiG1v9hxwH4uEaw9vGxKblwXiavFezdxNL+CdJyJKDQbUHDS1YoD3eOv+E5hybv8OvU7XdQR1IAgd6OYKTc880wmoGjDrG8O79826wcUL/4zPaprwXzeOxshBvTKdnRb93zc/xs/+tFPZG7gT+Q1H+eYoueD8B4f8eRcaW81WXk/Yrfr5+V6uJ046a/gGFF0rmchv/Pttp25VmOc0Tuz9oiHDOWmZ5UZUVYv6qJt/PwermsYIAH8HfSKV8JuUo0oLnTbbT92J/X4Tq6D6NyC1JapADTUcdfKo6v1mifyG36Qc1avAWbu1zq2l+I0llxdSM54i7E6Z8XOwkgtOKHqKiXzHv9926layyfdk2J8LKAi14ymilv+bfGWzOsckEaUGA2qOKgg4f/qw5c/RP8LHC8q3x3Kn5QBAIAWrRnUXrxFAY0QlSgX/ftupW8kl5wyfVk8sP68o345I3EWK6esaqtvky4BKlBIMqDnK6+PzeUBVsayPD6h+HpQk+1B9+hEgUo5/v+3UrSI+H+Hp1wXlOyIat/yQEgE1w/kgyhb8LuUob56kT6snlpDzUP2Zv7bIGqqu+bdJHQBkRVrzcR6JVMKAmqNkk69vC3xZyfNp9toSsf0/BxVgky9Rqvn7G0/dJuo2+QZMf34EvNpTZrPRKZGonDLjz3Mr2bYMqCqeZSL/8fc3nrpNxPZ3oW8rPG0mosAcVIDTZohSzZ+lKXU7OYo26NNC31Z6lK8aTb4Wm3yJUsrf33jqNnIkql9H+VoKD/ON1VD9eW4lIdjkS5RK/v7GU7eRAcuvo3y9GqqCvahyBLWfF3UA1J7rS+RHDKg5yvb5SklROSjJn9lrk1f79+m5lRS//wCR7zCg5ijZoKr7tNCPWuou3G4p0pQq10v2ez6JVMGAmqP8X0NVd51Zt8XXt+dWkt3Ufr2oIlINA2qOkqvNGpo/PwJyYI+KRb2tSg2V90MlSil/lqbU7YRXQ81wRlohB8yoWHvymnx9em4lzkMlSi2ff+Wpu8gaql8DVmw9XH/mry1ec7rP8y44D5UopRhQc5QsTE2fFvpeDdWf2WuTrUjfpDcwzaefASLVMKDmKDkgxa8DZ6IKrzNrKZJ34TX5ZjYfRNmCATVHySkThk87UVVedEAOSvJ7k6/MJ/tQiVLDn6UpdTvZLOnXxXxUqeW1JDagKsMZ6SD1zjCRPynyladU83uTr8oBVZ1pM85Pn2eTSBkMqDnKG5Tk02qUyje/9pp8fZ752D3c/Z1PIlX4szSlbicLU78W+ir3ocqbo7OGSpRbGFBzVKzJN7P5aI0q6+G2RJkaKldKIkopnxan1N28Ub4+bfL11plVMaAqMofWa/L1eT6JVGFmOgOUGTJg/eWTYxAQMDQNuq65P501fg1dg6EBuq7D0J1pIJrmBGFdB0yZRnfTaE6tzHT3G7oO0/2pa05wNHUtlsZw+nANXf509ukAIlELgJpTOtSpXXPaDFEqMaDmqKJ8E6H6MN7ZfQzv7D6W6ey0avfn9Tj93ldb3KfFPdAStmneNhkrNDgXA5q3O/Zc05yg0vyxE9yhadA1Z5+uac5297W6e5HhbHO21zZGADgXK9/+r/XORYJ3seL8dC5C5OO4fXrsuWFoMOV+Q4epa94Fiqk7+w3NuTgx3IuTgJs2oGsw3dcEDB2moXmPDXdfU0QuQElEqcCAmqNqG6MAgIDhFMhCCK8JUIhYk7CsyYq4/4m448S2I2F7Ooi4B+LUPc0yk97c6RpQ2xTF9s9q0/q+neH/mjSRGhhQc5QMi/dd8RXcdsmwtL2vbduwbSBq24jagGXbsNznli0QtQRsCMz9zRZs/bQGQ0p74P/dNAYRK5betoGIl955vWULRE7ZZwvneJYtYAkbluU0x1q28N7XFu5j4fR9Rm0B25avERDCWQbRFsJN6+y3Bbz3sAVi+4TAZycasf/LRvTuEcCQPj2c9PK9ZPq4YzqvdwYJ2baADeduQDbcAU7u8QXcNCJ20ePu9gYYyeeQ6YF2L3gYT4lSgwE1x6W7dqLL/td2xsMV5jkfzYCh49yBJenIWso8tW43fvrah5h0djke+/4Fmc5Oq77x8BrsP97IUb5EKeLPIZ7U7WRTrunTtQflnVrkFBSVePNQfT7Ml3ebIUotBtQc59fCVGZLKBlQnYhqKhJQffoRIFIOA2qO8vtKSfJOLQrGU6+G6tdzK6k815fIjxhQc5UsTDObi1bpXkBVL6LKGqr/AypXSiJKJb+Wp9Tt/L1SkoxFKs6UlAs7+D6guj/93tdLpAp/lqbU7WKFaUaz0SpZQ7XVq6Aiaqtxg3FJkWwS+Z5Pi1NKF78W+rLWpGKTr1zL1/DpCGpJlfu2EqmiSwF14cKF0DQNd955Z4fSb9iwAaZp4oILLmg1TVVVFTRNwzXXXJOwfd26dZg2bRoGDhwITdPw0ksvJeyPRCK45557cP7556OwsBADBw7EzTffjM8++ywh3cSJE52l5eL+3XDDDR3KfzbxBiX5tNBXMZBKytRQefs2opTqdEDduHEjnnrqKYwcObJD6WtqanDzzTdj8uTJrabZt28f5s2bh/Hjxzfb19DQgFGjRmHx4sUtvvbkyZPYvHkzfvzjH2Pz5s34/e9/j48++ghXXXVVs7SzZs3CoUOHvH+//OUvO/Q7ZBV5+zaflqahqNN7GvBpwG+LrKGqMm2GNVSi1OjUSkn19fWYMWMGli5dioceeqhDr7n99tsxffp0GIbRrHYJAJZlYcaMGaisrMT69etx4sSJhP1Tp07F1KlTWz1+SUkJVq9enbDtiSeewFe/+lXs378fQ4YM8bb36NED/fv371C+s51fB87EAqp6vRKyhur3wT7ePFSO8yVKiU6VVrNnz8aVV16JKVOmdCj98uXLsXv3bjzwwAOtpnnwwQfRt29fzJw5szNZalFNTQ00TUOvXr0Stj/77LMoKyvDeeedh3nz5qGurq7VY4RCIdTW1ib8yyZ+vXVXWOGAKvsmfV9D9eahZjYfRNki6RpqVVUVNm/ejI0bN3Yo/a5du3Dvvfdi/fr1MM2W327Dhg1YtmwZtm7dmmx2WtXU1IR7770X06dPR3Fxsbd9xowZGDZsGPr374/t27dj/vz5eO+995rVbqWFCxeisrIyZfnyC68P1aeFadhdHSFoqhdQo5YaNVQZUX16TUWknKQC6oEDBzB37lysWrUK+fn57aa3LAvTp09HZWUlRowY0WKauro63HTTTVi6dCnKysqSyU6rIpEIbrjhBti2jSVLliTsmzVrlve4oqICZ511FsaNG4fNmzdjzJgxzY41f/583HXXXd7z2tpaDB48OCX59AO/NvnKGmpQwRqqpUoN1f3JPlSi1EgqoFZXV+Po0aMYO3ast82yLKxbtw6LFy9GKBSCYRjevrq6OmzatAlbtmzBnDlzADi37xJCwDRNrFq1CqWlpdi7dy+mTZvmvc6Wa6GaJnbu3Inhw4d3OI+RSATXX3899uzZgzVr1iTUTlsyZswYBAIB7Nq1q8WAmpeXh7y8vA6/v2pMn05Ejbg11DwFa6iWrcZ0FK7lS5RaSQXUyZMnY9u2bQnbbrvtNpxzzjm45557EoIpABQXFzdLv2TJEqxZswYvvPAChg0bBsMwmqW5//77UVdXh0WLFiVVG5TBdNeuXXjzzTfRp0+fdl+zY8cORCIRDBgwoMPvk018Gk+9gKpik68MqH6t/Uve0oOMqEQpkVRALSoqQkVFRcK2wsJC9OnTx9s+f/58HDx4ECtXroSu683Sl5eXIz8/P2H7qWnkIKL47fX19fj444+953v27MHWrVtRWlqKIUOGIBqN4rvf/S42b96MP/zhD7AsC4cPHwYAlJaWIhgMYvfu3Xj22WdxxRVXoKysDB988AHuvvtujB49GpdcckkypyJr+LUGKBeYV3FQkqXItBlJvTNM5E8pv8H4oUOHsH///lQfFps2bcKkSZO857Jf85ZbbsGKFSvw6aef4pVXXgGAZgtHvPnmm5g4cSKCwSD+/Oc/Y9GiRaivr8fgwYNx5ZVX4oEHHmhWu84Vfg1Y3khZv46aaoOl2LQZv+eTSBVdDqhr165NeL5ixYo20y9YsAALFixoM01Lx5g4cWKbq+ecfvrp7a6uM3jwYLz11lttpskFso8a8O+gH1uRZtOWyIsBvy6a4ZErJWU2F0RZw5+lKXUrOYIWAAI+bfKVOfTroKm2qFZDZR8qUWqoV1pRl4Wi6tRQVemHjOdOQ1Ug7+qul0zkR/4sTalbReKafPNMf/Ydq7LaUEvUucG485MVVKLUYEDNQaGEJl9/lqaysPd7UGqJKvNQJTb5EqUGA2oOkkvjAQrUUH3aJN0W2QDg94uB2OL4RJQK6pVW1GXxNVSfjknyaqhKTptR7MbdPo/7RMrwaXFK3SlqxQKq7tNRtLKGGvBp/tqiykpJEpt8iVJDvdKKuiy+hupXsjlSxRuMK7NSEgclEaUUA2oOCisQUL3FERQOqMrMQ81oLoiyBwNqDopY/g+osg/Vr0sjtkWZlZIg+3oznA2iLKFeaUVdFnZH+fq5HPUCqoKlfayGmuGMtCM21lu9c0zkRz7/ylN3iKpQQ4Uc2KPeR9RSpYbqRlRVRiMT+V3K7zZD/hffh/regeOI2k6QtWyBiGVDwBmhamia81PXoGkaTN0JcLrurLFr6BpMXYOuazA156cRt8/Zr8PUkx9NLGuoQQX7UFVZ2J83GCdKLQbUHCT7UAWAq//vO5nNTJz4cl0W9j9+eQceeGUHoGnefk0DNGheIIh/rsGZBiIf6+4D3X29pmnQNec1uqZ5z3UAmq5Bl8/dYxjuT12LXVgYOtx0mrvdGYAkX3u4tgkA8Is3PkLfnvkImBoCugbT0BEwdJi6hoChI2BqyDMMBAwNAdPZF3Qf5xkGAqaOfFNHUP4zdOSZOoIB52eeaSDPNDp1wUJEqceAmoNkH5/ftJQrAXex+Wa35vPn7yBpADZ8fCxj7w3Au6iAdzERu1DQNQ0nw5abjlVUolRgQM1BXh+frmH3T6/o1DFs24ZtA1HbRtR2FoS3bMCG8zNq27At56dlC0RtAVs4Py1bwBbOa+QxZBohBCwb+NdnqyEEMP2rgzFmSG9Yca+NWgKWsGHJ4wsByxKwhNN0bQsnnSUAy32e+L7CS2PbApaQz50RurFtTvOtLZznwn2tkPtOSSMACFvAhnMXn5PhKKy4/fI1IuGxc60g0Pwx0LnLBvka0exB8yN+Y0QZpo0c0Il3IaJTMaDmoFSMSdJlX2o3jWvTAVgAxg7tjevGDu6W91BROGojFLUQiQo0RqMIR2yEojbClo1w1PnXFLURidoIWRYiURthy+kbD0UtRCzngiRqOa/73thBOLNfUaZ/LaKswICag2x39XY/N/T5u0E3c2R/qvsso3khokQcyZCD5M1mVOg60zV+RIlIDSytcpDdbICPf6kQ9ImIAAbUnGT7dJRvSxhQiUgV7EPNtNratL+lUVeLolCDc2u0mpq0v39HFDU1wAYQqK8FanpmOjtElC4ZKBNThQE1037wg7S/5cRjDRh0tN5Z9OCjp9P+/h3x2N+PQACo2FwCFOdnOjtERO1ik28OUqgL1dcjkYmI4jGgplPPnkBhYaZz4WH/JBEpoUiNudIMqOlkGMDtt2c8qCpUQWXQJ8p1l17q/3shutiHmm6TJgHf+AZQX5+xLPzxzV34f299gnzTwMb7p2QsH235twV/ggDw+PUXYPK5/TKdHSLKhKIiZYIpwICaGYYBlJRk7O0bC4pQl1cIK5jZfLSlLq8QAkC0qNi3eSQiiqdO6KeUkQs7qNCayiZfIlIFA2oOkrdvUyFY+fwe3UREHgbUHBSrofo/WvFenUSkCgbUHOStPKhArGJAJSJVMKDmIKFAH6qM+WzyJSJVMKDmIJVu3xY0+BElIjWwtMpBtkJtvrGbaRMR+RtLqxzkNfn6P54iYCiQSSIiMKDmJJVuMB5gDZWIFMHSKgfJeOrXup9t297joELLjhFRbmNplYMsr8nXnyE1HI0F1DzTyGBOiIg6jgE1B/l9SFIoLqCa7EMlIkUwoOYgOcrXr6EqEtfkGzD9mksiokQMqDlI+LyKGonGBk0F2IdKRIpgaZWDbG9hB39G1KgVF1A5ypeIFMHSKgcJ+LvJN8xRvkSkIJZWOcjv90O17FgN1WQNlYgUwdIqB/m9DzVq2e0nIiLyGQbUHCRrqLpP+1AjDKhEpCAG1Bzk95UHI5bPM0hE1AIG1Bzk93moUQZUIlKQmekMUPo9edMYRH3cqjqiXxH+/VtnK3E3HCIiiQE1B+m6jqCP2yZKewYxe9KZmc4GEVFSfFysEhERqYMBlYiIKAUYUImIiFKAAZWIiCgFGFCJiIhSgAGViIgoBRhQiYiIUoABlYiIKAUYUImIiFKAAZWIiCgFGFCJiIhSgAGViIgoBRhQiYiIUoABlYiIKAUYUImIiFKAAZWIiCgFGFCJiIhSgAGViIgoBRhQiYiIUoABlYiIKAUYUImIiFKgSwF14cKF0DQNd955Z4fSb9iwAaZp4oILLmg1TVVVFTRNwzXXXJOwfd26dZg2bRoGDhwITdPw0ksvNXutEAILFizAwIEDUVBQgIkTJ2LHjh0JaUKhEO644w6UlZWhsLAQV111FT799NMO5Z+IiKg1nQ6oGzduxFNPPYWRI0d2KH1NTQ1uvvlmTJ48udU0+/btw7x58zB+/Phm+xoaGjBq1CgsXry41dc/8sgjeOyxx7B48WJs3LgR/fv3xz/8wz+grq7OS3PnnXfixRdfRFVVFd5++23U19fj29/+NizL6tDvQURE1JJOBdT6+nrMmDEDS5cuRe/evTv0mttvvx3Tp0/HRRdd1OJ+y7IwY8YMVFZW4owzzmi2f+rUqXjooYdw7bXXtvh6IQQef/xx/OhHP8K1116LiooKPP300zh58iSee+45AE5QX7ZsGR599FFMmTIFo0ePxjPPPINt27bhjTfe6OBvT0RE1FynAurs2bNx5ZVXYsqUKR1Kv3z5cuzevRsPPPBAq2kefPBB9O3bFzNnzuxMlrBnzx4cPnwYl112mbctLy8PEyZMwDvvvAMAqK6uRiQSSUgzcOBAVFRUeGlOFQqFUFtbm/CPiIjoVGayL6iqqsLmzZuxcePGDqXftWsX7r33Xqxfvx6m2fLbbdiwAcuWLcPWrVuTzY7n8OHDAIB+/folbO/Xrx/27dvnpQkGg81q1f369fNef6qFCxeisrKy2XYGViIi/5JltBAibe+ZVEA9cOAA5s6di1WrViE/P7/d9JZlYfr06aisrMSIESNaTFNXV4ebbroJS5cuRVlZWTLZaZGmaQnPhRDNtp2qrTTz58/HXXfd5T0/ePAgzj33XAwePLjLeSUiou5VV1eHkpKStLxXUgG1uroaR48exdixY71tlmVh3bp1WLx4MUKhEAzD8PbV1dVh06ZN2LJlC+bMmQMAsG0bQgiYpolVq1ahtLQUe/fuxbRp07zX2bbtZM40sXPnTgwfPrzdvPXv3x+AUwsdMGCAt/3o0aNerbV///4Ih8M4fvx4Qi316NGjuPjii1s8bl5eHvLy8rznPXv2xIEDB1BUVNRuoE5WbW0tBg8ejAMHDqC4uDilx1YJz4OD5yGG58LB8xDT3rkQQqCurg4DBw5MW56SCqiTJ0/Gtm3bErbddtttOOecc3DPPfckBFMAKC4ubpZ+yZIlWLNmDV544QUMGzYMhmE0S3P//fejrq4OixYt6nBNcNiwYejfvz9Wr16N0aNHAwDC4TDeeustPPzwwwCAsWPHIhAIYPXq1bj++usBAIcOHcL27dvxyCOPdOh9dF3HoEGDOpS2s4qLi3P+ywLwPEg8DzE8Fw6eh5i2zkW6aqZSUgG1qKgIFRUVCdsKCwvRp08fb/v8+fNx8OBBrFy5ErquN0tfXl6O/Pz8hO2npunVq1ez7fX19fj444+953v27MHWrVtRWlqKIUOGePNhf/rTn+Kss87CWWedhZ/+9Kfo0aMHpk+fDsA5uTNnzsTdd9+NPn36oLS0FPPmzcP555/f4QFWRERELUl6UFJ7Dh06hP3796f6sNi0aRMmTZrkPZf9mrfccgtWrFgBAPiP//gPNDY24gc/+AGOHz+Or33ta1i1ahWKioq81/3iF7+AaZq4/vrr0djYiMmTJ2PFihXNatdERERJEeQbTU1N4oEHHhBNTU2ZzkpG8Tw4eB5ieC4cPA8xfjwXmhBpHFNMRESUpbg4PhERUQowoBIREaUAAyoREVEKMKASERGlAAMqERFRCjCgdtCTTz6JkSNHeqtyXHTRRfjjH//o7T9y5AhuvfVWDBw4ED169MDll1+OXbt2tXgsIQSmTp3a4o3SP/roI1x99dUoKytDcXExLrnkErz55psJafbv349p06ahsLAQZWVl+OEPf4hwOJyQZtu2bZgwYQIKCgpw2mmn4cEHH0zZItGpOBcTJ06EpmkJ/2644YaENMePH8c//uM/oqSkBCUlJfjHf/xHnDhxwjfnIh3nYe/evZg5cyaGDRuGgoICDB8+HA888ECz3zHbz0O8UCiECy64AJqmNbuhRq58NwDg1Vdfxde+9jUUFBSgrKys2a0tc+Ez4bvyMmMTdhTzyiuviFdffVXs3LlT7Ny5U9x3330iEAiI7du3C9u2xde//nUxfvx48be//U18+OGH4l/+5V/EkCFDRH19fbNjPfbYY2Lq1KkCgHjxxRcT9p155pniiiuuEO+995746KOPxA9+8APRo0cPcejQISGEENFoVFRUVIhJkyaJzZs3i9WrV4uBAweKOXPmeMeoqakR/fr1EzfccIPYtm2b+N3vfieKiorEz3/+c9+ciwkTJohZs2aJQ4cOef9OnDiR8D6XX365qKioEO+884545513REVFhfj2t7/t7c/0uUjHefjjH/8obr31VvGnP/1J7N69W7z88suivLxc3H333Tl1HuL98Ic/9L4/W7Zs8c15SOe5eOGFF0Tv3r3Fk08+KXbu3Ck+/PBD8fzzz/vmXKTrPPitvGRA7YLevXuLX/3qV2Lnzp0CgNi+fbu3LxqNitLSUrF06dKE12zdulUMGjRIHDp0qFlA/fzzzwUAsW7dOm9bbW2tACDeeOMNIYQQr732mtB1XRw8eNBL85vf/Ebk5eWJmpoaIYQQS5YsESUlJQkTnhcuXCgGDhwobNtO6TmQkj0XEyZMEHPnzm31eB988IEAIP7yl7942959910BQHz44YdCCH+ei1Sfh5Y88sgjYtiwYd7zXDoPr732mjjnnHPEjh07mgVUP54HIVJ/LiKRiDjttNPEr371q1bT+PFcpPo8+LG8ZJNvJ1iWhaqqKjQ0NOCiiy5CKBQCgIRb2hmGgWAwiLffftvbdvLkSdx4441YvHixd3eceH369MFXvvIVrFy5Eg0NDYhGo/jlL3+Jfv36eXf4effdd1FRUZFwB4VvfetbCIVCqK6u9tJMmDAh4S453/rWt/DZZ59h7969vjgXAPDss8+irKwM5513HubNm4e6ujpv37vvvouSkhJ87Wtf87Z9/etfR0lJiXczeD+di+46Dy2pqalBaWmp9zxXzsORI0cwa9Ys/Pd//zd69OjR7L39dB6A7jsXmzdvxsGDB6HrOkaPHo0BAwZg6tSp2LFjhy/PRXedBz+Wlylfyzebbdu2DRdddBGamprQs2dPvPjiizj33HMRiUQwdOhQzJ8/H7/85S9RWFiIxx57DIcPH8ahQ4e81//bv/0bLr74Ylx99dUtHl/TNKxevRpXX301ioqKoOs6+vXrh9dff927YcDhw4eb3US9d+/eCAaD3k3SDx8+jNNPPz0hjXzN4cOHMWzYsIyfixkzZnh3CNq+fTvmz5+P9957D6tXr/byWV5e3ux9y8vLE37PTJ+L7j4Pp9q9ezeeeOIJPProo962XDgPQgjceuut+Nd//VeMGzeuxYLOD+chHefik08+AQAsWLAAjz32GE4//XQ8+uijmDBhAj766COUlpb64lx093nwY3nJgJqEs88+G1u3bsWJEyfwu9/9DrfccgveeustnHvuufjd736HmTNnorS0FIZhYMqUKZg6dar32ldeeQVr1qzBli1bWj2+EAI/+MEPUF5ejvXr16OgoAC/+tWv8O1vfxsbN2707vPa0n1YxSk3SW/pRuutvbYzunIuAGDWrFne44qKCpx11lkYN24cNm/ejDFjxnT69+xImlSei3ScB+mzzz7D5Zdfju9973v453/+54R92X4ennjiCdTW1mL+/Plt5iPT5wHo/nMh7xf9ox/9CNdddx0AYPny5Rg0aBCef/553H777a3+Ptn0mfBjeckm3yQEg0GceeaZGDduHBYuXIhRo0Zh0aJFAJx7rcoPz6FDh/D666/j2LFj3tXNmjVrsHv3bvTq1QumacI0nWuZ6667DhMnTvTS/OEPf0BVVRUuueQSjBkzBkuWLEFBQQGefvppAM5N0uWVlXT8+HFEIpGEG6mfmubo0aMA0OxqLRPnoiVjxoxBIBDwRvr1798fR44caZbu888/b/P3TPe56O7zIH322WeYNGkSLrroIjz11FMJ+3LhPKxZswZ/+ctfkJeXB9M0ceaZZwIAxo0bh1tuucU35wHo/nMhA8W5557rpcnLy8MZZ5zh3enLD+ciHZ8Jv5WXDKhdIITw+gOkkpIS9O3bF7t27cKmTZu85t17770X77//PrZu3er9A5zbyS1fvhyA08cKODcxj6frundVetFFF2H79u0JTSOrVq1CXl6e129w0UUXYd26dQlDw1etWoWBAwc2a9pIlWTORUt27NiBSCTiFRYXXXQRampq8Le//c1L89e//hU1NTW4+OKLvTR+OxepPg8AcPDgQUycOBFjxozB8uXLm30+cuE8/Nd//Rfee+8977vz2muvAQB++9vf4ic/+QkAf54HIPXnYuzYscjLy8POnTu9NJFIBHv37sXQoUMB+PNcpPo8+LK8TGoIUw6bP3++WLdundizZ494//33xX333Sd0XRerVq0SQgjxP//zP+LNN98Uu3fvFi+99JIYOnSouPbaa9s8JloY5dunTx9x7bXXiq1bt4qdO3eKefPmiUAgILZu3SqEiA0Dnzx5sti8ebN44403xKBBgxKGgZ84cUL069dP3HjjjWLbtm3i97//vSguLk7Z1ICunouPP/5YVFZWio0bN4o9e/aIV199VZxzzjli9OjRIhqNeukuv/xyMXLkSPHuu++Kd999V5x//vktTpvJ1LlIx3k4ePCgOPPMM8U3v/lN8emnnyZMIcil83CqPXv2tDptJhe+G3PnzhWnnXaa+NOf/iQ+/PBDMXPmTFFeXi6+/PJLX5yLdJwHP5aXDKgd9E//9E9i6NChIhgMir59+4rJkyd7Hw4hhFi0aJEYNGiQCAQCYsiQIeL+++8XoVCozWOeGlCFEGLjxo3isssuE6WlpaKoqEh8/etfF6+99lpCmn379okrr7xSFBQUiNLSUjFnzpxm9wR8//33xfjx40VeXp7o37+/WLBgQcqGwnf1XOzfv1984xvfEKWlpSIYDIrhw4eLH/7wh+LYsWMJ73Ps2DExY8YMUVRUJIqKisSMGTPE8ePHfXMu0nEeli9fLgC0+C+XzsOpWgqomT4P6TwX4XBY3H333aK8vFwUFRWJKVOmJExDyfS5SNd58Ft5yfuhEhERpQD7UImIiFKAAZWIiCgFGFCJiIhSgAGViIgoBRhQiYiIUoABlYiIKAUYUImIiFKAAZWIiCgFGFCJiIhSgAGViIgoBRhQiYiIUuD/B1i2mw1IBnmAAAAAAElFTkSuQmCC\n",
      "text/plain": [
       "<Figure size 800x800 with 1 Axes>"
      ]
     },
     "metadata": {},
     "output_type": "display_data"
    }
   ],
   "source": [
    "# display road graph\n",
    "\n",
    "check_graphs(gdf_edges, x, y);"
   ]
  },
  {
   "cell_type": "markdown",
   "metadata": {},
   "source": [
    "As described above, road segment speeds and road types are important for the different routing strategies, so in the next two cells we view speeds and the road types found in this small road graph. Each segment has the same speed limit, which makes it easier to see differences between driving strategies."
   ]
  },
  {
   "cell_type": "code",
   "execution_count": 16,
   "metadata": {},
   "outputs": [
    {
     "name": "stdout",
     "output_type": "stream",
     "text": [
      "Attribute: speed, Type: int64\n"
     ]
    },
    {
     "data": {
      "image/png": "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\n",
      "text/plain": [
       "<Figure size 800x800 with 1 Axes>"
      ]
     },
     "metadata": {},
     "output_type": "display_data"
    }
   ],
   "source": [
    "# view speeds\n",
    "\n",
    "view_edge_attrib(road_graph, 'speed', show_val=True, val=[1, 5, 10, 15, 20]);"
   ]
  },
  {
   "cell_type": "markdown",
   "metadata": {},
   "source": [
    "Only one street has the designation of \"motorway\"."
   ]
  },
  {
   "cell_type": "code",
   "execution_count": 17,
   "metadata": {},
   "outputs": [
    {
     "name": "stdout",
     "output_type": "stream",
     "text": [
      "Attribute: highway, Type: object\n"
     ]
    },
    {
     "data": {
      "text/plain": [
       "(<Figure size 800x800 with 1 Axes>, <Axes: >)"
      ]
     },
     "execution_count": 17,
     "metadata": {},
     "output_type": "execute_result"
    },
    {
     "data": {
      "image/png": "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\n",
      "text/plain": [
       "<Figure size 800x800 with 1 Axes>"
      ]
     },
     "metadata": {},
     "output_type": "display_data"
    }
   ],
   "source": [
    "# view road types\n",
    "\n",
    "view_edge_attrib(road_graph, 'highway')"
   ]
  },
  {
   "cell_type": "markdown",
   "metadata": {},
   "source": [
    "Now we will run each driving strategy on this small graph with the following code blocks."
   ]
  },
  {
   "cell_type": "code",
   "execution_count": 18,
   "metadata": {},
   "outputs": [],
   "source": [
    "# make sure output directory exists\n",
    "\n",
    "if not os.path.isdir('demo_driving_compare'):\n",
    "    os.mkdir('demo_driving_compare')"
   ]
  },
  {
   "cell_type": "code",
   "execution_count": 19,
   "metadata": {},
   "outputs": [],
   "source": [
    "# set run parameters\n",
    "\n",
    "seed = 2\n",
    "j = 0\n",
    "exp_no, nb_no = 0, 0\n",
    "strats = ['quickest', 'dist', 'dist+road_type_weight']\n",
    "treat_desc = ['100% quickest', '100% shortest distance', '100% major roads']\n",
    "exp_desc = 'demo compare driving strats'\n",
    "vid_path = out_path / \"demo_driving_compare\" / \"0videos\""
   ]
  },
  {
   "cell_type": "code",
   "execution_count": 20,
   "metadata": {},
   "outputs": [
    {
     "name": "stdout",
     "output_type": "stream",
     "text": [
      "You have likely already ran this cell: the results will be the same!\n"
     ]
    }
   ],
   "source": [
    "# run simulations\n",
    "\n",
    "if os.path.isdir(os.path.join(\"demo_driving_compare\", \"0files\")):\n",
    "    print(\"You have likely already ran this cell: the results will be the same!\")\n",
    "else:\n",
    "    for i in range(len(strats)):\n",
    "        print('Starting simulation run for', strats[i])\n",
    "        start_full_run_time = datetime.now(time_zone)\n",
    "\n",
    "        road_graph_pkl = 'demo_road_graph.pkl'\n",
    "        road_graph = load_road_graph(road_graph_pkl)\n",
    "        gdf_nodes, gdf_edges = get_node_edge_gdf(road_graph)\n",
    "        (bbox, lbbox, poly, x, y) = create_bboxes(gdf_nodes, 0.1, buff_adj=[-1, -1, 0.5, -1])\n",
    "\n",
    "        fig, ax = setup_sim(road_graph, seed)\n",
    "        simulation = NetABM(road_graph, 200, bbox=lbbox, fire_perim=None, fire_ignit_time=None, \n",
    "        fire_des_ts_sec=100, reset_interval=False, placement_prob=None, \n",
    "        init_strategies={strats[i]:1.0})\n",
    "\n",
    "        simulation.run(save_args=(fig, ax, 'demo_driving_out', 'demo_driving_vid', 'demo_driving_compare', \n",
    "                 i, j, seed, treat_desc[i], exp_desc, exp_no, nb_no, 'demo_road_graph.pkl'), \n",
    "                       mutate_rate=0.000, update_interval=100)\n",
    "\n",
    "    end_full_run_time = datetime.now(time_zone) \n",
    "    print('Run complete run at', end_full_run_time.strftime(\"%H:%M:%S\")+',', 'elapsed time:', \n",
    "          (end_full_run_time-start_full_run_time))"
   ]
  },
  {
   "cell_type": "markdown",
   "metadata": {},
   "source": [
    "Now we can view the result videos. We'll start with the simplest driving strategy, shortest distance. Notice that all the vehicles on and to the right of the motorway road use the right most exit."
   ]
  },
  {
   "cell_type": "code",
   "execution_count": 21,
   "metadata": {},
   "outputs": [
    {
     "data": {
      "application/vnd.jupyter.widget-view+json": {
       "model_id": "20687af8ce61499bb9bb22762b1e75d8",
       "version_major": 2,
       "version_minor": 0
      },
      "text/plain": [
       "Video(value=b'\\x00\\x00\\x00 ftypisom\\x00\\x00\\x02\\x00isomiso2avc1mp41\\x00\\x00\\x00\\x08free...', layout=\"Layout(wi…"
      ]
     },
     "execution_count": 21,
     "metadata": {},
     "output_type": "execute_result"
    }
   ],
   "source": [
    "# view the shortest distance driving strategy \n",
    "\n",
    "dfile = \"/\".join(glob.glob(str(vid_path)+'/demo_driving_out_1*')[0].split(\"/\")[-3:])\n",
    "dvideo = Video.from_file(dfile)\n",
    "dvideo.layout = widgets.Layout(width='300px')\n",
    "dvideo"
   ]
  },
  {
   "cell_type": "markdown",
   "metadata": {},
   "source": [
    "Now view the quickest driving strategy. Watch closely the vehicles that start at the center top, in this case many of them switch to use the left most exit because of the build up of congestion on the right one."
   ]
  },
  {
   "cell_type": "code",
   "execution_count": 22,
   "metadata": {},
   "outputs": [
    {
     "data": {
      "application/vnd.jupyter.widget-view+json": {
       "model_id": "3e1aafa52b764516a4ab302767afa1d8",
       "version_major": 2,
       "version_minor": 0
      },
      "text/plain": [
       "Video(value=b'\\x00\\x00\\x00 ftypisom\\x00\\x00\\x02\\x00isomiso2avc1mp41\\x00\\x00\\x00\\x08free...', layout=\"Layout(wi…"
      ]
     },
     "execution_count": 22,
     "metadata": {},
     "output_type": "execute_result"
    }
   ],
   "source": [
    "# view the quickest driving strategy \n",
    "\n",
    "qfile = \"/\".join(glob.glob(str(vid_path)+'/demo_driving_out_0*')[0].split(\"/\")[-3:])\n",
    "qvideo = Video.from_file(qfile)\n",
    "qvideo.layout = widgets.Layout(width='300px')\n",
    "qvideo"
   ]
  },
  {
   "cell_type": "markdown",
   "metadata": {},
   "source": [
    "Finally, here is the major roads simulation. Here very few vehicles take the left most exit because the highway is preferred."
   ]
  },
  {
   "cell_type": "code",
   "execution_count": 23,
   "metadata": {},
   "outputs": [
    {
     "data": {
      "application/vnd.jupyter.widget-view+json": {
       "model_id": "5a642cfe865147b49f03efdfb3ed5a33",
       "version_major": 2,
       "version_minor": 0
      },
      "text/plain": [
       "Video(value=b'\\x00\\x00\\x00 ftypisom\\x00\\x00\\x02\\x00isomiso2avc1mp41\\x00\\x00\\x00\\x08free...', layout=\"Layout(wi…"
      ]
     },
     "execution_count": 23,
     "metadata": {},
     "output_type": "execute_result"
    }
   ],
   "source": [
    "# view the major roads driving strategy \n",
    "\n",
    "mfile = \"/\".join(glob.glob(str(vid_path)+'/demo_driving_out_2*')[0].split(\"/\")[-3:])\n",
    "mvideo = Video.from_file(mfile)\n",
    "mvideo.layout = widgets.Layout(width='300px')\n",
    "mvideo"
   ]
  },
  {
   "cell_type": "markdown",
   "metadata": {},
   "source": [
    "<a id='cust_input'></a>\n",
    "## Working With and Customizing Input Data\n",
    "([back to Table of Contents](#top))"
   ]
  },
  {
   "cell_type": "markdown",
   "metadata": {},
   "source": [
    "In order to run the full evacuation simulation in a different location, you will need to create a new road graph, use a new households file, and import a new wildfire perimeter shapefile. More details about these data and the actions needed to create them for a given study area are discussed below."
   ]
  },
  {
   "cell_type": "markdown",
   "metadata": {},
   "source": [
    "### Road Graph"
   ]
  },
  {
   "cell_type": "markdown",
   "metadata": {},
   "source": [
    "We have now used a road graph to see how each driving strategy uses a different routing methods for evacuees to leave the evacuation zone. In this section we will look in more depth at how a road graph is constructed."
   ]
  },
  {
   "cell_type": "markdown",
   "metadata": {},
   "source": [
    "A road graph created with the [OSMnx Python library](https://osmnx.readthedocs.io/) is a form of a [Networkx graph](https://networkx.org/). This graph data structure contains nodes, edges, and data associated with nodes and edges."
   ]
  },
  {
   "cell_type": "markdown",
   "metadata": {},
   "source": [
    "The road graph is specifically a MultiDiGraph, which is a directed graph (i.e. an edge connecting node A and node B is considered different from an edge connecting node B to node A) that can contain self loops (a node can be connected to itself) and parallel edges (there can be multiple edges in the same direction between two nodes."
   ]
  },
  {
   "cell_type": "code",
   "execution_count": 24,
   "metadata": {},
   "outputs": [
    {
     "data": {
      "text/plain": [
       "networkx.classes.multidigraph.MultiDiGraph"
      ]
     },
     "execution_count": 24,
     "metadata": {},
     "output_type": "execute_result"
    }
   ],
   "source": [
    "# view road_graph type (MultiDiGraph)\n",
    "\n",
    "type(road_graph)\n"
   ]
  },
  {
   "cell_type": "markdown",
   "metadata": {},
   "source": [
    "Networkx graph methods can be directly used to interact with the road graph and its data. For example, you can list nodes, and edges, and list data for each."
   ]
  },
  {
   "cell_type": "code",
   "execution_count": 25,
   "metadata": {},
   "outputs": [
    {
     "data": {
      "text/plain": [
       "[38027658, 37995105, 38126875, 38077723, 38126878]"
      ]
     },
     "execution_count": 25,
     "metadata": {},
     "output_type": "execute_result"
    }
   ],
   "source": [
    "# list first nodes in graph \n",
    "\n",
    "list(road_graph.nodes)[:5]\n"
   ]
  },
  {
   "cell_type": "code",
   "execution_count": 26,
   "metadata": {},
   "outputs": [
    {
     "data": {
      "text/plain": [
       "[(38126875, 38062557, 0),\n",
       " (38126875, 37982610, 0),\n",
       " (38126875, 38126878, 0),\n",
       " (38126875, 38123182, 0),\n",
       " (38077723, 38039364, 0)]"
      ]
     },
     "execution_count": 26,
     "metadata": {},
     "output_type": "execute_result"
    }
   ],
   "source": [
    "# list first edges in graph \n",
    "\n",
    "list(road_graph.edges)[:5]\n"
   ]
  },
  {
   "cell_type": "code",
   "execution_count": 27,
   "metadata": {},
   "outputs": [
    {
     "data": {
      "text/plain": [
       "[(38027658,\n",
       "  {'y': 4442613.982683914,\n",
       "   'x': 395159.05469646316,\n",
       "   'osmid': 38027658,\n",
       "   'highway': nan,\n",
       "   'lon': -88.2304975,\n",
       "   'lat': 40.1273174}),\n",
       " (37995105,\n",
       "  {'y': 4442611.456380954,\n",
       "   'x': 395482.3892753059,\n",
       "   'osmid': 37995105,\n",
       "   'highway': nan,\n",
       "   'lon': -88.226703,\n",
       "   'lat': 40.1273349})]"
      ]
     },
     "execution_count": 27,
     "metadata": {},
     "output_type": "execute_result"
    }
   ],
   "source": [
    "# list nodes and data\n",
    "\n",
    "list(road_graph.nodes(data=True))[:2]\n"
   ]
  },
  {
   "cell_type": "code",
   "execution_count": 28,
   "metadata": {},
   "outputs": [
    {
     "data": {
      "text/plain": [
       "[(38126875,\n",
       "  38062557,\n",
       "  {'osmid': 5341699,\n",
       "   'name': 'East Eureka Street',\n",
       "   'highway': 'residential',\n",
       "   'oneway': False,\n",
       "   'length': 141.2340907837702,\n",
       "   'geometry': <shapely.geometry.linestring.LineString at 0x7f447a02ff70>,\n",
       "   'seg_time': 9.415606052251347,\n",
       "   'speed': 15,\n",
       "   'ett': 9.415606052251347,\n",
       "   'length_n': 0.8249213332852637,\n",
       "   'rt_weight': 20,\n",
       "   'rt_weighted_len': 2824.681815675404,\n",
       "   'rt_wght_len_n': 0.8658169133484331}),\n",
       " (38126875,\n",
       "  37982610,\n",
       "  {'osmid': 5341699,\n",
       "   'name': 'East Eureka Street',\n",
       "   'highway': 'residential',\n",
       "   'oneway': False,\n",
       "   'length': 140.7986940773007,\n",
       "   'geometry': <shapely.geometry.linestring.LineString at 0x7f447a02fb50>,\n",
       "   'seg_time': 9.38657960515338,\n",
       "   'speed': 15,\n",
       "   'ett': 9.38657960515338,\n",
       "   'length_n': 0.8213591096762171,\n",
       "   'rt_weight': 20,\n",
       "   'rt_weighted_len': 2815.973881546014,\n",
       "   'rt_wght_len_n': 0.8630867682760824})]"
      ]
     },
     "execution_count": 28,
     "metadata": {},
     "output_type": "execute_result"
    }
   ],
   "source": [
    "# list edges and data\n",
    "\n",
    "list(road_graph.edges(data=True))[:2]\n"
   ]
  },
  {
   "cell_type": "markdown",
   "metadata": {},
   "source": [
    "While the direct access to the Networkx structure is powerful, working with a road graph as a Geographic Data Files (.gdf) file format is a useful way to inspect data attributes for nodes and edges. The default view here can be easier to sort and filter data."
   ]
  },
  {
   "cell_type": "markdown",
   "metadata": {},
   "source": [
    "Here it is easy to inspect road graph node attributes. Each node has an OSM ID, x and y coordinates, a highway designation value, longitude and latitude coordinates, and a point geometry column."
   ]
  },
  {
   "cell_type": "code",
   "execution_count": 29,
   "metadata": {},
   "outputs": [
    {
     "data": {
      "text/html": [
       "<div>\n",
       "<style scoped>\n",
       "    .dataframe tbody tr th:only-of-type {\n",
       "        vertical-align: middle;\n",
       "    }\n",
       "\n",
       "    .dataframe tbody tr th {\n",
       "        vertical-align: top;\n",
       "    }\n",
       "\n",
       "    .dataframe thead th {\n",
       "        text-align: right;\n",
       "    }\n",
       "</style>\n",
       "<table border=\"1\" class=\"dataframe\">\n",
       "  <thead>\n",
       "    <tr style=\"text-align: right;\">\n",
       "      <th></th>\n",
       "      <th>y</th>\n",
       "      <th>x</th>\n",
       "      <th>osmid</th>\n",
       "      <th>highway</th>\n",
       "      <th>lon</th>\n",
       "      <th>lat</th>\n",
       "      <th>geometry</th>\n",
       "    </tr>\n",
       "    <tr>\n",
       "      <th>osmid</th>\n",
       "      <th></th>\n",
       "      <th></th>\n",
       "      <th></th>\n",
       "      <th></th>\n",
       "      <th></th>\n",
       "      <th></th>\n",
       "      <th></th>\n",
       "    </tr>\n",
       "  </thead>\n",
       "  <tbody>\n",
       "    <tr>\n",
       "      <th>38027658</th>\n",
       "      <td>4.442614e+06</td>\n",
       "      <td>395159.054696</td>\n",
       "      <td>38027658</td>\n",
       "      <td>NaN</td>\n",
       "      <td>-88.230497</td>\n",
       "      <td>40.127317</td>\n",
       "      <td>POINT (395159.055 4442613.983)</td>\n",
       "    </tr>\n",
       "    <tr>\n",
       "      <th>37995105</th>\n",
       "      <td>4.442611e+06</td>\n",
       "      <td>395482.389275</td>\n",
       "      <td>37995105</td>\n",
       "      <td>NaN</td>\n",
       "      <td>-88.226703</td>\n",
       "      <td>40.127335</td>\n",
       "      <td>POINT (395482.389 4442611.456)</td>\n",
       "    </tr>\n",
       "    <tr>\n",
       "      <th>38126875</th>\n",
       "      <td>4.442376e+06</td>\n",
       "      <td>395016.213277</td>\n",
       "      <td>38126875</td>\n",
       "      <td>NaN</td>\n",
       "      <td>-88.232135</td>\n",
       "      <td>40.125160</td>\n",
       "      <td>POINT (395016.213 4442376.450)</td>\n",
       "    </tr>\n",
       "    <tr>\n",
       "      <th>38077723</th>\n",
       "      <td>4.441719e+06</td>\n",
       "      <td>395552.668665</td>\n",
       "      <td>38077723</td>\n",
       "      <td>NaN</td>\n",
       "      <td>-88.225734</td>\n",
       "      <td>40.119309</td>\n",
       "      <td>POINT (395552.669 4441719.467)</td>\n",
       "    </tr>\n",
       "    <tr>\n",
       "      <th>38126878</th>\n",
       "      <td>4.442496e+06</td>\n",
       "      <td>395017.693742</td>\n",
       "      <td>38126878</td>\n",
       "      <td>NaN</td>\n",
       "      <td>-88.232137</td>\n",
       "      <td>40.126233</td>\n",
       "      <td>POINT (395017.694 4442495.553)</td>\n",
       "    </tr>\n",
       "  </tbody>\n",
       "</table>\n",
       "</div>"
      ],
      "text/plain": [
       "                     y              x     osmid highway        lon        lat  \\\n",
       "osmid                                                                           \n",
       "38027658  4.442614e+06  395159.054696  38027658     NaN -88.230497  40.127317   \n",
       "37995105  4.442611e+06  395482.389275  37995105     NaN -88.226703  40.127335   \n",
       "38126875  4.442376e+06  395016.213277  38126875     NaN -88.232135  40.125160   \n",
       "38077723  4.441719e+06  395552.668665  38077723     NaN -88.225734  40.119309   \n",
       "38126878  4.442496e+06  395017.693742  38126878     NaN -88.232137  40.126233   \n",
       "\n",
       "                                geometry  \n",
       "osmid                                     \n",
       "38027658  POINT (395159.055 4442613.983)  \n",
       "37995105  POINT (395482.389 4442611.456)  \n",
       "38126875  POINT (395016.213 4442376.450)  \n",
       "38077723  POINT (395552.669 4441719.467)  \n",
       "38126878  POINT (395017.694 4442495.553)  "
      ]
     },
     "execution_count": 29,
     "metadata": {},
     "output_type": "execute_result"
    }
   ],
   "source": [
    "# inspect the first values of the nodes file\n",
    "\n",
    "gdf_nodes.head()\n"
   ]
  },
  {
   "cell_type": "markdown",
   "metadata": {},
   "source": [
    "Edges connect nodes. Each edge has a starting and ending node, which are designated as `u` and `v` nodes. Key values are used to differentiate between two edges that connect the same two nodes in the same direction (i.e. parallel edges). Edges also have an id and an OSMid. They can have a street name, have a road type (`highway`), have an indication of direction, length, maxspeed, number of lanes, and geometry. Additional columns are created during preprocessing to use in the simulation."
   ]
  },
  {
   "cell_type": "code",
   "execution_count": 30,
   "metadata": {},
   "outputs": [
    {
     "data": {
      "text/html": [
       "<div>\n",
       "<style scoped>\n",
       "    .dataframe tbody tr th:only-of-type {\n",
       "        vertical-align: middle;\n",
       "    }\n",
       "\n",
       "    .dataframe tbody tr th {\n",
       "        vertical-align: top;\n",
       "    }\n",
       "\n",
       "    .dataframe thead th {\n",
       "        text-align: right;\n",
       "    }\n",
       "</style>\n",
       "<table border=\"1\" class=\"dataframe\">\n",
       "  <thead>\n",
       "    <tr style=\"text-align: right;\">\n",
       "      <th></th>\n",
       "      <th></th>\n",
       "      <th></th>\n",
       "      <th>osmid</th>\n",
       "      <th>name</th>\n",
       "      <th>highway</th>\n",
       "      <th>oneway</th>\n",
       "      <th>length</th>\n",
       "      <th>geometry</th>\n",
       "      <th>seg_time</th>\n",
       "      <th>speed</th>\n",
       "      <th>ett</th>\n",
       "      <th>length_n</th>\n",
       "      <th>rt_weight</th>\n",
       "      <th>rt_weighted_len</th>\n",
       "      <th>rt_wght_len_n</th>\n",
       "      <th>lanes</th>\n",
       "      <th>maxspeed</th>\n",
       "      <th>ref</th>\n",
       "    </tr>\n",
       "    <tr>\n",
       "      <th>u</th>\n",
       "      <th>v</th>\n",
       "      <th>key</th>\n",
       "      <th></th>\n",
       "      <th></th>\n",
       "      <th></th>\n",
       "      <th></th>\n",
       "      <th></th>\n",
       "      <th></th>\n",
       "      <th></th>\n",
       "      <th></th>\n",
       "      <th></th>\n",
       "      <th></th>\n",
       "      <th></th>\n",
       "      <th></th>\n",
       "      <th></th>\n",
       "      <th></th>\n",
       "      <th></th>\n",
       "      <th></th>\n",
       "    </tr>\n",
       "  </thead>\n",
       "  <tbody>\n",
       "    <tr>\n",
       "      <th rowspan=\"4\" valign=\"top\">38126875</th>\n",
       "      <th>38062557</th>\n",
       "      <th>0</th>\n",
       "      <td>5341699</td>\n",
       "      <td>East Eureka Street</td>\n",
       "      <td>residential</td>\n",
       "      <td>False</td>\n",
       "      <td>141.234091</td>\n",
       "      <td>LINESTRING (395016.213 4442376.450, 395037.851...</td>\n",
       "      <td>9.415606</td>\n",
       "      <td>15</td>\n",
       "      <td>9.415606</td>\n",
       "      <td>0.824921</td>\n",
       "      <td>20</td>\n",
       "      <td>2824.681816</td>\n",
       "      <td>0.865817</td>\n",
       "      <td>NaN</td>\n",
       "      <td>NaN</td>\n",
       "      <td>NaN</td>\n",
       "    </tr>\n",
       "    <tr>\n",
       "      <th>37982610</th>\n",
       "      <th>0</th>\n",
       "      <td>5341699</td>\n",
       "      <td>East Eureka Street</td>\n",
       "      <td>residential</td>\n",
       "      <td>False</td>\n",
       "      <td>140.798694</td>\n",
       "      <td>LINESTRING (395016.213 4442376.450, 394882.417...</td>\n",
       "      <td>9.386580</td>\n",
       "      <td>15</td>\n",
       "      <td>9.386580</td>\n",
       "      <td>0.821359</td>\n",
       "      <td>20</td>\n",
       "      <td>2815.973882</td>\n",
       "      <td>0.863087</td>\n",
       "      <td>NaN</td>\n",
       "      <td>NaN</td>\n",
       "      <td>NaN</td>\n",
       "    </tr>\n",
       "    <tr>\n",
       "      <th>38126878</th>\n",
       "      <th>0</th>\n",
       "      <td>238681201</td>\n",
       "      <td>North Fifth Street</td>\n",
       "      <td>motorway</td>\n",
       "      <td>False</td>\n",
       "      <td>119.111384</td>\n",
       "      <td>LINESTRING (395016.213 4442376.450, 395016.313...</td>\n",
       "      <td>7.940759</td>\n",
       "      <td>15</td>\n",
       "      <td>7.940759</td>\n",
       "      <td>0.643923</td>\n",
       "      <td>1</td>\n",
       "      <td>119.111384</td>\n",
       "      <td>0.017556</td>\n",
       "      <td>NaN</td>\n",
       "      <td>NaN</td>\n",
       "      <td>NaN</td>\n",
       "    </tr>\n",
       "    <tr>\n",
       "      <th>38123182</th>\n",
       "      <th>0</th>\n",
       "      <td>238681201</td>\n",
       "      <td>North Fifth Street</td>\n",
       "      <td>motorway</td>\n",
       "      <td>False</td>\n",
       "      <td>111.791100</td>\n",
       "      <td>LINESTRING (395016.213 4442376.450, 395016.183...</td>\n",
       "      <td>7.452740</td>\n",
       "      <td>15</td>\n",
       "      <td>7.452740</td>\n",
       "      <td>0.584032</td>\n",
       "      <td>1</td>\n",
       "      <td>111.791100</td>\n",
       "      <td>0.015261</td>\n",
       "      <td>NaN</td>\n",
       "      <td>NaN</td>\n",
       "      <td>NaN</td>\n",
       "    </tr>\n",
       "    <tr>\n",
       "      <th>38077723</th>\n",
       "      <th>38039364</th>\n",
       "      <th>0</th>\n",
       "      <td>5337865</td>\n",
       "      <td>North Mathews Avenue</td>\n",
       "      <td>residential</td>\n",
       "      <td>False</td>\n",
       "      <td>106.460513</td>\n",
       "      <td>LINESTRING (395552.669 4441719.467, 395552.811...</td>\n",
       "      <td>7.097368</td>\n",
       "      <td>15</td>\n",
       "      <td>7.097368</td>\n",
       "      <td>0.540419</td>\n",
       "      <td>20</td>\n",
       "      <td>2129.210268</td>\n",
       "      <td>0.647770</td>\n",
       "      <td>NaN</td>\n",
       "      <td>NaN</td>\n",
       "      <td>NaN</td>\n",
       "    </tr>\n",
       "  </tbody>\n",
       "</table>\n",
       "</div>"
      ],
      "text/plain": [
       "                           osmid                  name      highway  oneway  \\\n",
       "u        v        key                                                         \n",
       "38126875 38062557 0      5341699    East Eureka Street  residential   False   \n",
       "         37982610 0      5341699    East Eureka Street  residential   False   \n",
       "         38126878 0    238681201    North Fifth Street     motorway   False   \n",
       "         38123182 0    238681201    North Fifth Street     motorway   False   \n",
       "38077723 38039364 0      5337865  North Mathews Avenue  residential   False   \n",
       "\n",
       "                           length  \\\n",
       "u        v        key               \n",
       "38126875 38062557 0    141.234091   \n",
       "         37982610 0    140.798694   \n",
       "         38126878 0    119.111384   \n",
       "         38123182 0    111.791100   \n",
       "38077723 38039364 0    106.460513   \n",
       "\n",
       "                                                                geometry  \\\n",
       "u        v        key                                                      \n",
       "38126875 38062557 0    LINESTRING (395016.213 4442376.450, 395037.851...   \n",
       "         37982610 0    LINESTRING (395016.213 4442376.450, 394882.417...   \n",
       "         38126878 0    LINESTRING (395016.213 4442376.450, 395016.313...   \n",
       "         38123182 0    LINESTRING (395016.213 4442376.450, 395016.183...   \n",
       "38077723 38039364 0    LINESTRING (395552.669 4441719.467, 395552.811...   \n",
       "\n",
       "                       seg_time  speed       ett  length_n  rt_weight  \\\n",
       "u        v        key                                                   \n",
       "38126875 38062557 0    9.415606     15  9.415606  0.824921         20   \n",
       "         37982610 0    9.386580     15  9.386580  0.821359         20   \n",
       "         38126878 0    7.940759     15  7.940759  0.643923          1   \n",
       "         38123182 0    7.452740     15  7.452740  0.584032          1   \n",
       "38077723 38039364 0    7.097368     15  7.097368  0.540419         20   \n",
       "\n",
       "                       rt_weighted_len  rt_wght_len_n lanes maxspeed  ref  \n",
       "u        v        key                                                      \n",
       "38126875 38062557 0        2824.681816       0.865817   NaN      NaN  NaN  \n",
       "         37982610 0        2815.973882       0.863087   NaN      NaN  NaN  \n",
       "         38126878 0         119.111384       0.017556   NaN      NaN  NaN  \n",
       "         38123182 0         111.791100       0.015261   NaN      NaN  NaN  \n",
       "38077723 38039364 0        2129.210268       0.647770   NaN      NaN  NaN  "
      ]
     },
     "execution_count": 30,
     "metadata": {},
     "output_type": "execute_result"
    }
   ],
   "source": [
    "# inspect the first values of the edges file\n",
    "\n",
    "gdf_edges.head()\n"
   ]
  },
  {
   "cell_type": "markdown",
   "metadata": {},
   "source": [
    "A new road graph can be easily created using the [Rebuild_Road_Graphs](./Rebuild_Road_Graphs.ipynb) notebook. This notebook contains the full workflow used for simulations in this manuscript. The current code uses the `ox.graph_from_address` function to create a road graph, which you can use to create a new graph by simply inserting an address central to your location of interest and a distance. Other [Osmnx graph building functions](https://osmnx.readthedocs.io/en/stable/osmnx.html#module-osmnx.graph) work as well."
   ]
  },
  {
   "cell_type": "markdown",
   "metadata": {},
   "source": [
    "Once you have created a new Road Graph, several preprocessing steps need to take place (each of these are included in the [Rebuild_Road_Graphs](./Rebuild_Road_Graphs.ipynb) notebook. The important ones for the manuscript are:\n",
    "- `project_graph`: projects the road graph to UTM\n",
    "- `cleanUp`: removes dead ends and adds missing geometry attributes\n",
    "- `add_unit_speed`: adds speed values and cleans up missing speeds\n",
    "- `add_road_type_weights`: adds weights according to the `highway` attribute (see graph above)\n",
    "- `add_households`: adds household percentages used to initially place vehicles\n",
    "- `normalize_edge_attribute`: standardizes each potential weight to a number between 0 and 1 for ease of combining weights"
   ]
  },
  {
   "cell_type": "markdown",
   "metadata": {},
   "source": [
    "### Wildfire"
   ]
  },
  {
   "cell_type": "markdown",
   "metadata": {},
   "source": [
    "Refer to the [FlamMap Documentation](http://flammaphelp.s3-website-us-west-2.amazonaws.com/) for creating simulated wildfires. For this manuscript, the fire tutorial was used to generate a series of output perimeters. These were resized and relocated to fit in the study area. Although the resulting fire spread is not realistic for the location, it demonstrates how the simulation code can use results generated in FlamMap."
   ]
  },
  {
   "cell_type": "markdown",
   "metadata": {},
   "source": [
    "Looking at the shapefile columns for the wildfire shapefile, we can see that FlamMap has generated attributes for the fire. The most important two columns used in the simulation are the `geometry` column, which contains a polygon that maikes up part of the fire perimeter at a specific point, and the `SimTime` colum, which contains the simulated time in minutes that each row belongs to."
   ]
  },
  {
   "cell_type": "code",
   "execution_count": 31,
   "metadata": {},
   "outputs": [
    {
     "data": {
      "text/html": [
       "<div>\n",
       "<style scoped>\n",
       "    .dataframe tbody tr th:only-of-type {\n",
       "        vertical-align: middle;\n",
       "    }\n",
       "\n",
       "    .dataframe tbody tr th {\n",
       "        vertical-align: top;\n",
       "    }\n",
       "\n",
       "    .dataframe thead th {\n",
       "        text-align: right;\n",
       "    }\n",
       "</style>\n",
       "<table border=\"1\" class=\"dataframe\">\n",
       "  <thead>\n",
       "    <tr style=\"text-align: right;\">\n",
       "      <th></th>\n",
       "      <th>ENTITY</th>\n",
       "      <th>Fire_Type</th>\n",
       "      <th>Month</th>\n",
       "      <th>Day</th>\n",
       "      <th>Hour</th>\n",
       "      <th>SimTime</th>\n",
       "      <th>Acres</th>\n",
       "      <th>geometry</th>\n",
       "    </tr>\n",
       "  </thead>\n",
       "  <tbody>\n",
       "    <tr>\n",
       "      <th>0</th>\n",
       "      <td>0.0</td>\n",
       "      <td>Enclave Fire</td>\n",
       "      <td>7</td>\n",
       "      <td>21</td>\n",
       "      <td>2000</td>\n",
       "      <td>2160.0</td>\n",
       "      <td>0.0</td>\n",
       "      <td>POLYGON ((-2652855.321 4915293.918, -2652857.5...</td>\n",
       "    </tr>\n",
       "    <tr>\n",
       "      <th>1</th>\n",
       "      <td>1.0</td>\n",
       "      <td>Enclave Fire</td>\n",
       "      <td>7</td>\n",
       "      <td>21</td>\n",
       "      <td>2000</td>\n",
       "      <td>2160.0</td>\n",
       "      <td>0.0</td>\n",
       "      <td>POLYGON ((-2653303.602 4916407.759, -2653338.8...</td>\n",
       "    </tr>\n",
       "    <tr>\n",
       "      <th>2</th>\n",
       "      <td>2.0</td>\n",
       "      <td>Enclave Fire</td>\n",
       "      <td>7</td>\n",
       "      <td>21</td>\n",
       "      <td>2000</td>\n",
       "      <td>2160.0</td>\n",
       "      <td>0.0</td>\n",
       "      <td>POLYGON ((-2650361.820 4918183.587, -2650351.8...</td>\n",
       "    </tr>\n",
       "    <tr>\n",
       "      <th>3</th>\n",
       "      <td>3.0</td>\n",
       "      <td>Enclave Fire</td>\n",
       "      <td>7</td>\n",
       "      <td>21</td>\n",
       "      <td>2000</td>\n",
       "      <td>2160.0</td>\n",
       "      <td>0.0</td>\n",
       "      <td>POLYGON ((-2650316.917 4918163.170, -2650315.1...</td>\n",
       "    </tr>\n",
       "    <tr>\n",
       "      <th>4</th>\n",
       "      <td>4.0</td>\n",
       "      <td>Enclave Fire</td>\n",
       "      <td>7</td>\n",
       "      <td>21</td>\n",
       "      <td>2000</td>\n",
       "      <td>2160.0</td>\n",
       "      <td>0.0</td>\n",
       "      <td>POLYGON ((-2653587.593 4916708.431, -2653535.8...</td>\n",
       "    </tr>\n",
       "  </tbody>\n",
       "</table>\n",
       "</div>"
      ],
      "text/plain": [
       "   ENTITY     Fire_Type  Month  Day  Hour  SimTime  Acres  \\\n",
       "0     0.0  Enclave Fire      7   21  2000   2160.0    0.0   \n",
       "1     1.0  Enclave Fire      7   21  2000   2160.0    0.0   \n",
       "2     2.0  Enclave Fire      7   21  2000   2160.0    0.0   \n",
       "3     3.0  Enclave Fire      7   21  2000   2160.0    0.0   \n",
       "4     4.0  Enclave Fire      7   21  2000   2160.0    0.0   \n",
       "\n",
       "                                            geometry  \n",
       "0  POLYGON ((-2652855.321 4915293.918, -2652857.5...  \n",
       "1  POLYGON ((-2653303.602 4916407.759, -2653338.8...  \n",
       "2  POLYGON ((-2650361.820 4918183.587, -2650351.8...  \n",
       "3  POLYGON ((-2650316.917 4918163.170, -2650315.1...  \n",
       "4  POLYGON ((-2653587.593 4916708.431, -2653535.8...  "
      ]
     },
     "execution_count": 31,
     "metadata": {},
     "output_type": "execute_result"
    }
   ],
   "source": [
    "# inspect fire\n",
    "\n",
    "fire_file = load_shpfile(road_graph, (\"fire_input\",'santa_rosa_fire.shp'))\n",
    "fire_file.head()"
   ]
  },
  {
   "cell_type": "markdown",
   "metadata": {},
   "source": [
    "The following code shows the fire perimeters used in the simulation colored by 'SimTime', i.e. the number of minutes elapsed since the start of the simulation. Two different color portions can be seen because in this case the fire does not spread during the night."
   ]
  },
  {
   "cell_type": "code",
   "execution_count": 32,
   "metadata": {},
   "outputs": [
    {
     "data": {
      "text/plain": [
       "<Axes: >"
      ]
     },
     "execution_count": 32,
     "metadata": {},
     "output_type": "execute_result"
    },
    {
     "data": {
      "image/png": "iVBORw0KGgoAAAANSUhEUgAAAdcAAAG+CAYAAADBf05TAAAAOXRFWHRTb2Z0d2FyZQBNYXRwbG90bGliIHZlcnNpb24zLjcuMSwgaHR0cHM6Ly9tYXRwbG90bGliLm9yZy/bCgiHAAAACXBIWXMAAA9hAAAPYQGoP6dpAAEAAElEQVR4nOy9ebwkdXnv/36+VdXLWWeGYVh0ZHFBIkoEEXCFKwEJYLzBhWhwiUFzQ1SiJspNuNFEJSoY40YEQxBB8XdvosZoEBNFNIhsEgENiBpAYJgZZs7Sp7tr+X6f3x9V3af7dHWfPssMs9T79WqYU11rn9P11LN9HlFVpaCgoKCgoGDVMI/3CRQUFBQUFOxpFMa1oKCgoKBglSmMa0FBQUFBwSpTGNeCgoKCgoJVpjCuBQUFBQUFq0xhXAsKCgoKClaZwrgWFBQUFBSsMoVxLSgoKCgoWGUK41pQUFBQULDKFMa1oKCgoKBgldkrjesNN9zAGWecwYEHHoiI8JWvfGXJ+1BVLrroIp72tKdRLpfZuHEjH/zgB1f/ZAsKCgoKdjv8x/sEHg/m5uY48sgjeeMb38iZZ565rH28/e1v57rrruOiiy7imc98JtPT02zdunWVz7SgoKCgYHdE9nbhfhHhy1/+Mi9/+cvby6Io4s///M+5+uqrmZqa4ogjjuBDH/oQJ5xwAgA//elPedaznsVdd93FYYcd9viceEFBQUHBLsteGRZejDe+8Y38x3/8B9dccw0//vGPeeUrX8lLX/pSfvaznwHwta99jUMPPZR/+Zd/4ZBDDuHggw/m93//99m2bdvjfOYFBQUFBbsChXFdwM9//nO++MUv8n//7//lhS98IU9+8pN517vexQte8AL+4R/+AYBf/OIX3H///fzf//t/ufLKK7niiiu47bbbeMUrXvE4n31BQUFBwa7AXplzHcTtt9+OqvK0pz2ta3kYhuyzzz4AOOcIw5Arr7yyvd7f//3fc/TRR3PPPfcUoeKCgoKCvZzCuC7AOYfnedx22214ntf13tjYGAAHHHAAvu93GeDDDz8cgAceeKAwrgUFBQV7OYVxXcCzn/1srLVs3ryZF77whbnrPP/5zydJEn7+85/z5Cc/GYB7770XgIMOOminnWtBQUFBwa7JXlktXKvVuO+++4DUmH70ox/lxBNPZN26dTzpSU/id3/3d/mP//gPLr74Yp797GezdetWvv3tb/PMZz6T3/zN38Q5xzHHHMPY2Bgf+9jHcM5x7rnnMjExwXXXXfc4X11BQUFBwePNXmlcr7/+ek488cSe5a9//eu54ooriOOY97///Vx55ZU89NBD7LPPPhx//PG8733v45nPfCYADz/8MG9961u57rrrGB0d5dRTT+Xiiy9m3bp1O/tyCgoKCgp2MfZK41pQUFBQULAjKVpxCgoKCgoKVpnCuBYUFBQUFKwye1W1sHOOhx9+mPHxcUTk8T6dgoKCglVFVZmdneXAAw/EmB3nOzWbTaIoWvF+SqUSlUplFc5o12OvMq4PP/wwGzdufLxPo6CgoGCH8uCDD/LEJz5xh+y72WxyyEFjbNpsV7yv/fffn1/+8pd7pIHdq4zr+Pg4kP7hTUxMPM5nU1BQULC6zMzMsHHjxva9bkcQRRGbNlt+edtBTIwv3zuemXUccvT9RFFUGNfdnVYoeGJiojCuBQUFeyw7I+01Opa+lovdw/tUioKmgoKCgoKCVWav8lwLCgoKClYHh+JYvvu5km13BwrjWlBQUFCwZBwOt8Lt92SKsHBBQUFBQcEqU3iuBQUFBQVLxqpiV6Ceu5JtdwcK41pQUFBQsGSKnOtgirBwQUFBQUHBKlN4rgUFBQUFS8ah2MJz7UthXAsKCgoKlkwRFh5MERYuKCgoKChYZQrPtaCgoKBgyRTVwoMpjGtBQUFBwZJx2Wsl2+/JrCgsfOGFFyIinHfeeQPX+9SnPsXhhx9OtVrlsMMO48orr+x6/7LLLuOFL3wha9euZe3atZx00kncfPPNPfv59Kc/zSGHHEKlUuHoo4/me9/73kpOv6CgoKBgmdisoGklrz2ZZRvXW265hUsvvZRnPetZA9e75JJLOP/883nve9/L3Xffzfve9z7OPfdcvva1r7XXuf766/md3/kdvvOd7/CDH/yAJz3pSZx88sk89NBD7XW+9KUvcd555/Fnf/Zn/OhHP+KFL3whp556Kg888MByL6FgL0U1RGufQmufRuO70T08PFVQULDzEV3GnaVWq3HUUUfx6U9/mve///38+q//Oh/72Mdy133e857H85//fD7ykY+0l5133nnceuutfP/738/dxlrL2rVr+eQnP8nrXvc6AI499liOOuooLrnkkvZ6hx9+OC9/+cu58MILhzrvmZkZJicnmZ6eLkbO7YWoKkQ3ojN/CfaX82/4T0fG/hDKp+yUUV2riWqMSPB4n0bBLsLOuMe1jvHjn2xgfAXzXGdnHc/6tc177P14WZ/Mueeey2mnncZJJ5206LphGPYMwq1Wq9x8883EcZy7Tb1eJ45j1q1bB6TDeW+77TZOPvnkrvVOPvlkbrzxxoHHnpmZ6XoV7F2o24Y2vo6b/gt0y4vR7W/sNqwAyX+hU29DZ/4M1ejxOdFloHNXopufj9Y+gbptj/fpFOxluFV47cks2bhec8013H777UN7i6eccgqf/exnue2221BVbr31Vi6//HLiOGbr1q2527znPe/hCU94Qtt4b926FWst++23X9d6++23H5s2bep77AsvvJDJycn2a+PGjUNeZcHujKqizX/DPfa76ObnodN/DI0vguv/twJA4/+h216L2sd2zonmoOpSo9n8t9xwtWqCujm0dik6+37QqdS4bn4xOvf3j8MZFxQU5LGkauEHH3yQt7/97Vx33XU93mg/LrjgAjZt2sRxxx2HqrLffvvxhje8gQ9/+MN4ntez/oc//GG++MUvcv311/ccY2HITlUHhvHOP/983vGOd7R/npmZKQzsHo7GP0NnPwBR/4jGQOL/RKfeAmuvRMzI6p7cIqibQqffA+G30wX+YTD6v6ByCoQ3oM2vQPgD0Bl6n/tDdPbD4D8DKR+3U8+7YO/EIViWn0ZxK9h2d2BJnuttt93G5s2bOfroo/F9H9/3+e53v8vHP/5xfN/HWtuzTbVa5fLLL6der/Pf//3fPPDAAxx88MGMj4+zfv36rnUvuugiPvjBD3Ldddd1FUqtX78ez/N6vNTNmzf3eLOdlMtlJiYmul4FeyaqTdzsx9HHXr58w9oi/jG65QTczHvR+MercXoDUXVo45/QrafOG1aA5B50+jx062nozP+G5r+CTtE/oKbozJ+j2tzh51xQ4HTlrz2ZJRnXl7zkJdx5553ccccd7ddznvMcXvva13LHHXfkeqItgiDgiU98Ip7ncc0113D66adjzPzhP/KRj/BXf/VXXHvttTznOc/p2rZUKnH00UfzrW99q2v5t771LZ73vOct5RIK9kA0/AG6+UUw90kgP4/fXlcVq45YLU2NaWqcXy2sU1D/AvrYK3Db/whNftm7ziqhU3+YeqyuTzja/qL/e619ZNelyf1o7dPd77mi1qCgYGezpLDw+Pg4RxxxRNey0dFR9tlnn/by888/n4ceeqjdy3rvvfdy8803c+yxx7J9+3Y++tGPctddd/G5z32uvY8Pf/jDXHDBBXzhC1/g4IMPbnuoY2NjjI2NAfCOd7yDs88+m+c85zkcf/zxXHrppTzwwAP8wR/8wfKvvmC3R+vXoDPvA3qjJp04VSISQk16NE2bxJQJqODnpxnC69DwOtT/NaRyKlR+E/FXJ72QVjDf1LMsxhJqggKBeAR4eEj7/FSVhsZYHBZFs2vyMVRrnyGovBTcDDp3CUQ/gjUfRiovnT+Gm0Frn4T6NSAlkBGQMmgDtAal45E1n0KkUEgtyMeuMCy8km13B1b9m/PII4909Z5aa7n44os58sgj+Y3f+A2azSY33ngjBx98cHudT3/600RRxCte8QoOOOCA9uuiiy5qr/PqV7+aj33sY/zlX/4lv/7rv84NN9zAN77xDQ466KDVvoSC3QSd+3t05v8wyLBadcy5kGlt0NA4VyxcgabGTGsjNWj9utOSn6C1i9HHfmv1qop1BrTetWhWm8xpRILD4mhqzKw2mdYGs65J3UXMaUhIQvqoMH++CY5ZnWN2y+k0t70GG/4H0ESn3o7G96Qh6Pr/h275DahfATTTc3CbwN4PbnN6PuG/o7WPrc41FuyRtIzrSl5L4cILL+SYY45hfHycDRs28PKXv5x77rmnax1V5b3vfS8HHngg1WqVE044gbvvvrtrnTAMeetb38r69esZHR3lZS97Gb/61a+61tm+fTtnn312uxj27LPPZmpqaknnu6w+192Vos91z0GTX6JbzwB6jZyqEpIQqcUuo+DfQ6hKiUD6pzlkzd+C2Q+tXwVSAbMOGXkd4m1Y0rHUPoxuOaFr2axrkqxio8KYlNNrKR2XGs6h88iCrLsKKR2zaudSsGPZmX2u37/rQMZW0Odam3W84IiHhz7Xl770pZx11lkcc8wxJEnCn/3Zn3HnnXfyk5/8hNHRUQA+9KEP8YEPfIArrriCpz3tabz//e/nhhtu4J577mF8fByA//W//hdf+9rXuOKKK9hnn3145zvfybZt27jtttvaqc1TTz2VX/3qV1x66aUAvPnNb+bggw/uEj9ajMK4FuxWqGoapp27EuJbet6PNGFulbxKH0NVSvh5oVH/aWAfAp2bXyajyOgfwujrESmh6iC5Oy2Qiu8F+wuk+ttQeXlX+Nltez1EP2j/XHcRIcmqXAOkDwvjUlmeQIZ/BGb9P63auRTsWPZk47qQLVu2sGHDBr773e/yohe9CFXlwAMP5LzzzuPd7343kHqp++23Hx/60Id4y1vewvT0NPvuuy+f//znefWrXw3Aww8/zMaNG/nGN77BKaecwk9/+lN+7dd+jZtuuoljjz0WgJtuuonjjz+e//qv/+Kwww4b6vyKhErBboNqjM6cj069NdewWnWrZlihFWJtUnMhVhd4ksm93YYVQOfQ2kfQLS/CPfZKdMvz0cfOTHPCjS9C9EN0+t3o9t9D3XR7M5n4K5A17Z9LsrrzNCxpDnchqkpTYxoaE2rSe42AjJ2zqudSsOewWmHhhUI/YRgOdfzp6fQ71BIb+uUvf8mmTZu6xIbK5TIvfvGL22JDt912G3Ecd61z4IEHcsQRR7TX+cEPfsDk5GTbsAIcd9xxTE5ODhQtWkgxFadgt0A1Qqf+CMLr+65T30HqSjGWWC0l9alKgFnMA3Tb0lc/ov9AH3sVVE8Hc2Ca5+yocvYQKvg0V9F7jdR2GW1VZVbDrrC5hzBOh4dbPjkt4CooyMFisCvwz1qPewu1B/7iL/6C9773vQO3VVXe8Y538IIXvKBdTNsqhM0TG7r//vvb65RKJdauXduzTmv7TZs2sWFDb3pnw4YNA0WLFlIY14JdHlWLTv9pX8Nq1RFhVzVPmUdE6t1V8BEEk72WFW61v0Rrn+ha5NRR15iy+FRNCV89ajrcU/xixFimXQMPg0FQtCcfbVESHAFZrtl0h+pUG1D/f2hyNzLxl4iUVuXcCvZuHnzwwa6wcLlcXnSbP/qjP+LHP/5xrj79UsWG8tbJW3+Y/XRSGNeCXZ/mtdD8Ru/iLJyZVwG8o7B0h54FIVCDLx5+ZrgGfQGdpkYtyfRpfAwehpCEhqbea6yWKsFQV2VVaaoSAR5pnscTwSP9cnd62Q7FLdKyFEqVYPQccNsQ/2AA1NWg/g/o3OczEQtQtx3WfKIwsHsxqoLT5bfTaLbtUgV+3vrWt/LP//zP3HDDDTzxiU9sL99///2B1PM84IAD2ss7xYb2339/oihi+/btXd7r5s2b25oJ+++/P48++mjPcbds2TJQtGghRc61YJdGVdG5y3qWx2r7ttbsTBQlwlLXiBltMqNN5lzYzmGqKpEmzLomU67OtDaoadjOdc5qyFTWJtRJIxO4GESsyowqIWk7UUJaO91QpabKlCo150iWULPoB0dgxt+OmXwfjLwebXwFt+UU3OzH24YVgPA7UP/80Pst2PPY2a04qsof/dEf8U//9E98+9vf5pBDDul6/5BDDmH//ffvEhuKoojvfve7bcN59NFHEwRB1zqPPPIId911V3ud448/nunp6a6Z4j/84Q+Znp5ekmhR4bkW7NrEt0Hyk57Fq1m4tJq4zNhGmnqIHmZZ7UCDUFWapEZ0MSIgUiVQpSJCsGh4LMI5h0v+k7ltr8O67ShQkYAqHaPtvCdD9awVXUdBwVI499xz+cIXvsBXv/pVxsfH2/nPyclJqtUqIsJ5553HBz/4QZ761Kfy1Kc+lQ9+8IOMjIzwmte8pr3um970Jt75zneyzz77sG7dOt71rnfxzGc+sz0o5vDDD+elL30p55xzDp/5zGeAtBXn9NNPH7pSGArjWrALo/GdPVJ+7fdW2WO1qsSkYdvWOCzpeJVF8JeRW11Nw9oyqk1d+tXHpJ6u3zKy5OeVmtHNxI8+A6e1rs+4qTElPLysLUnWXIyY0WVfS8Huj1WD1RUUNC3xj7g1y/uEE07oWv4P//APvOENbwDgT//0T2k0GvzhH/4h27dv59hjj+W6665r97gC/M3f/A2+7/OqV72KRqPBS17yEq644oou+d6rr76at73tbe2q4pe97GV88pOfXNL5Fn2uBbscmvwKnf1rCK/rec+p0tCIaJHc4VDHyUKqzcygLsaoCOXHaZh6koV6V9MH9oGSCIb0AaKVr+1HCZ9Rk+ZYZc0nkMopq3g2BavBzuxz/fqPD2V0vL/QymLMzVpOe9Yv9tj7ceG5FuxSaHw3+thZQG+VbKKWOY365lk18z7j7P+ttQzpH3og0lXk08g8wWGZUyVWpSoy0AgthZan7NG/QnGp5zksCfTkY8vZ9eW1G8UkqAaICDr1J7BuX6R01A44s4KC3Z/CuBbsUujsR8gzrKHG1AcU+MSqzPXx7Gz2ClUpk3qgzWUarFYOs7REI5tWCafhZs1+jpnv9TNAoEopewAQEWJV6tl2O4uQ9PpGgBLdBl+BkIQKAdBE5y5DSpfsxLMr2JUohPsHUxjXgl0GDf8jdxZrpElfw6qZARq2G7Qk0hbmD+iejNoyfMPQWSgUZK0vkm3vSI2lITXonUa0H47UsIWqCOCprqKExNJQUi9dRagseC/UhHJrelD4HdQ+injDtycU7DmsPOe6Z2ckC+NasMugtV4vaJCkoc3ykEvx7Frh1wpQyfE6XdY32gRUYTHHtBWGXk1abTWPN83M0+/SQUZxKB4CuHREXcFeiUOybu3lb78nUxjXgl2HBYpATpVZ7R+8HRQyVc3CVjp/A/BE2eqgoR77epaRnIduI0LilLp6hJqakEBc+sItamz3JBzpZzxCr4Ftl7FIkLNlQUFBYVwLdhmkdDwa/lv754ZGfcO0rXBrHpEa5pyPLnwy7tjZw1YYdZa1xuGRqRsZoemULa7U3laBMDO0BqUqCSXZe4xsSPrZdIaHbadEYuOfYex/PQ5nVvB441aoLfx4C8DsaArjWrDr0DELNVab224zTI7VqvQa1h6EOfWZ6zxEu/Euf1uHMKcBdVVKYimLw5c9+wYBqfdqSPPVkP5uKpnHqsl/7eHBvYJ+FDnXwRTGtWCXJNLerOOgHGsrDAysoBd0ODOhCKH6hAo+acjYoBjRrF80/X/Lu1WFBElvRoDLQtUC+JmB3pEhZ6fz+TFVMKLp+bJ4TrlFXbUtPJHgSNTiiwe2V4O1oKCgMK4FuwDq5qD5lXQAOql3utBrbXmsCw1rokJTPWJtmbTFfdbVJMGQtJ7eex7EtV1B3M9wJ2pAQVBK4iiJxUMxq3QRiQozLug+vs7/w0fbOeVBXrgjLd5qyfTHOHw8kLHVOdGC3Q6HwRVh4b4UxrXgcUW1iW55Eehse1neYO8YenKsqlBz/oIvuCz5K5t6lqlx7gwMt37ycMs0dsOfS+oNp7nd1pYeii8OD8XLvM1Oj3jRfSrUFhrWBeeXICRqaCiUxDIiSd9rDbM+XJPNmwXArBvyCgv2NKymBYMr2X5PpjCuBY8vdkuXYQWygOk8La91IXVdaFjzUYUQnwCL1+GdqUJdSzQ0WGQ/SlkSKhJTwu6UYibtMHzZgjZVSaia4RqQlhIij7IIwKiJKeV4sTGpotMabx+kdAxSOhLKL1nCEQoK9h4K41rw+OLth+z7XcBB42u42Yt7xq+1lI06UaXt5Q0iUo8ZV8FhqErEuKSlUFaFKTcyZLWjEGpAqAEGR1ViSpLmhJfv1S6fpnpUdHEjLwIBjpjh9V8VoeZKlDMvduExGqqM+4dTXvfZZZx5wZ6EXWG1sC3CwgUFK0M1AhwiC/V+SIdte+lgY2cfpEnSM0kmr+Vm0NdSswKeUH1qWqYVFm1owJiGiNDhwSrDFjJBmmea0zJzWm4vMzh8bJa7tAQ72LtVhEgNZVncL60YS+xa0vzDE3Z4sUGHFxsDM+H3KM19Dn/09Us884I9CacGt4JqYVdUCxcULB2duxyt/S1oDCTgPxX2+XJqTPPWd1O45rdyB4TnDftO+hgLVZhyVeLcP20hwqOM7aguXrkVdBgiDJGSWf00e2uyVyCOqkRdIemVEqpHeYigbyBKRSxNXfpX3SHMuoAJE3cVOwUYxHvqkvdXULA3sfzHjoKCAWj4vUwaL2upSX4Gc5/pv/7M+2jazV3LnCo153I917hPSDjE72NYU+ouNe5ulQxrPqlptXjE+NS1xGNulClbmc+hrpClGOqqWPxlNyilBtZpa1/C5MR78CrPW+b+CvYUWmHhlbz2ZArPtWDHYO9HVbEoFkeiDm/2o1RkHWb0tV2ranQL2viXdvvNMEPBfRzhglyiKsy5cp8tstPKvtCSeZc7r3FHiAjY7nwmTYOSrGzWTaJCzflZVXEa/u17ZIFREzPtSizngUIRYjVUxbG+ehr++LnLP/GCPQbHyip+V3M28a5IYVwLhkbtZgi/jUa3QvxjZOwPkOpv966nTdROUdOQpPMrpBBNn0+l+TXErMfIBJgRNL4Xh8OpG3p2aUkcc9qdLx3maXheSAGqElHXwcZ4tVGEKVdlrakTDJEz7YfFtAWlDI7KIuMLPIERsdisPcipZKH14W6OkRomVak1/hV/9nL88d9b9rkX7BmsvM+18FwL9nJULTr9Lmh+g85SIp1+Dxr/FBl/FyLzRkprn0CoMSIlZrXZ5X1aHHPh9zv2nQpDxKQj3Ib15xQoi+uqGI6GqB5u9Z4KMCIRDS3tRO91/hxmXJV1Zm5VCp+G3cVC77aVd07VojLFJpSmejS1NUQvJcbjYWfwnLJ+6gKeSBNv9HdBxnOHvBcU7O0UxrVgUXT2I9D8ev6b9c+h4fUw9naovATUQktpCc1u273B3WFCv4MwAhVsl3H1RBcdyBp0lEIZgbIkNHXnT3axGGpabrcGLcQpWfuP3zWay5dWZbJte74mu+hhRuR1IgI+7SosYk3bcFIJx7ywXToce7MLsFMfYGT6g6ypnkxl3WcRSb0QtY+A3Uwq+W/AOwjM+sIA74GsXFu48FwL9mLUboL65YNXsvej0++AmVHwnwGEJOqY1XzDoarMLHEOax7JgnxPQMKg1poSMZOm2WWAAhKaLN+4pupOXlehkqAEYlNFpQE2pV+RkSrMaoUwx+gn6gEBqLLO1BgzCZUsf9upZdz5s1WI1WAkVX3K0xS2CrOZmtNiDzuKsNWVAGX73HUc5M5kZM0HwEwSbzmdmt1CPYsHjInPqFmHt88XkeDpi+y5YHeimOc6mMK4Fgwm/s/h19U5iG8GyG2pgbStprkKhjU9RncY2AhMmgaiqRcbqkdN097aChFjEvYYlZLYgd6uU6GpQZarlew4qVC/xRBrzmg7aLfk+Fh8cZQkwe/IsRocFcn/jERgUppEGjPnSguqnxWPVIM41IDIBngo4yZkzEtQha22ApmcoQAjXkJD/fb5k7UIpfKKaauQhzJh4hw5yUEIsxrwi8atrIt+A5N9DqHOV3jXNSZwj7L/tnMob/hWbq9zQcGeSGFcCwai8Y8Hvm/VEWoq/JAGGFNLlSfK3ewjY7is89K0qKkVvDSZDm/LK1OFKVuiriUqElOmV20IUiM8Lk1mO8Qmus85oKkLenOHvgQhwSdRaGqJksSMSIQRZXyBB51HSSwlr9EeSpD2zaaKUHUXtB8cAJrOZ9RMt3OoU1pF1SA4Smopk6TD4/HQ7PNKPzPbloUcNQmTJmbaBcy4KlE2w7YkCRVJMH3af+rqUXYW6fN+DGxPfsG67e+gvO7Tw354Bbs4RVh4MIVxLRiM/VXu4lgtTY27q4EHUHduqCrgYRFJ+zcHvT/mxcTU8UXxcSRtj2x+NJzFUDUxvlqmXbXLa9Ms77laRBoQq8+kqVNeQitOXlVxVWJCne/pHZEIizBrfeZcOQv+pj5qqIawX+g7s4c+FtU51npRe8ska3WK1KemyqhEjEiU81AgNNQDTT/ZfrKJc41/Joj+AFN61tDXXrDrsnL5wz3buO7ZV1ewcsx+PYtUlbmFbTaLsBph4KUSiLLOC/FwjJmYiiSMm4g1JmLSREx6MT4OzeayTppG1/Zhv5DvClCEaVel7lZmtEVgjWlQlYiypNdWdz4x3rJyWQkeW90Yc87Dl1bIutMTlbbsY17woak+TfUJ25XG3VigjhLNfnTJ51ZQsDtSeK4FAxHvgJ4oqM2t/9018SXNJUrW59lJ5IRNdrw9aq5MgofFZh5bsgTB+7JEeCixegMVoiD1Jh9J1vAEfzsV0zsUfhhabTRViVFNQ7yjJgEHappE6hOrIW6XMC2Ow/CoHWejP00gjlGJujSUIZ0iBMqYRH3301APX12XJnG6XGnEP6LIuu4ZOBXcSkQkipFzBXs1OfM6l2NaF61A1fSmrAguaylpFd14WZXrcrs5+m3ni7KPqbHFjQPSEzrtJ7HY5yhUTISnltgt/rWK8XkgWcc6M8eYaVKW4cT+6y5gux0hJMCpaX+uvlgmTZ1me3qPtnO06elJ5tMO/hxjfLbYEdZ5TZxEueP46lrGOGXE5BdkgVBzARMmwuuqzIayd/DiF1mwW+BWGBYuRCQK9m68g+b/LeNQOhrb/B5pH+NwOFUW888s0i0u32mNs8rbAEfZOALcqogvGIERYxGXb/yXEhIO1aeqUXubyHk0XIkRExH0kSZ0eGx1E2x144xJyAHeFJ4Z/BgSqk9DSyQLvrpWPTbbgLLEhAsLsNKLAWCtqfW8lWSFKSJpJfIsFUoubSUakaircKpFXUuM5Ko+tw4nNNVjNIsWjIlhvVTw3MO42Y8iY29DpLj9FOy5FH/dBYMJngXeE6F8CjL2FsSsoTTzIRq1Twy9i2HM8OJ5QiHGI3YeglKStB1lYehxWFrzYOvOzzesmh5zWPxsOmXNVqi5MlFWCDXrKlSJqC7w8mI1Wc8qqAqhBCQYnsA2AjMvCtGphWzQRQYOSL5hbb/bEovwsCqZZrA/H/7WdJ1JU+cxN4Zm8pJ5DzLDPHj4WUB6Qgwj4jNLk8BuoVz7NF50O2bkd8A/GLyDEDO26P4Kdi1WPnKu8FwL9mJEDKz/OiLV9jJv7BwqtctoDqj/jVRJVKmK4ANjIsSqfQ3tUgTAFSFUj1A9AiwjJukKPy5Goq1JL2lx0WpMxwnEMuuqNLTUNqwpQsOVEbSdX1VNjXBXLlSzMLQ6NgZTWAzTtsJ2O0rNVfBE272xgbHEzkvzu+qRaBrw9cTh4dp9tQuNoqDMuGo7p5xHOiy9ghFHrH7aPkRvhbACc66Eh6OccyxIw+4OmFJHSExVhIiESBMIr8cLv4vB4CFU/KchpWchY+ch/hOX9NkXPD7YTLFrJdvvyRTGtWBROg0rgJh1VCf+nGTm/+RWDKtq5vWkVaKGtMd1kAe73C9ajMe0M1TEUhGLGXI3moWhoz5fAREQ3FDFQFUJMwPXf926K+OJIxBHU4Pc/UYa8Giylhk3mvYQYojUB6Qd1p0FApdWB9dc9+8lUUMChApzWX+qL7atFpWkmlGLjqtL8CDzqsNMe3mUhQIc0i52MuoYlZBKh5Ft5XxbNDLxkIoIFUBEsolJlhgQ+zMqzf+G6plQGNfdgsJzHUxhXAuWhRl7A6PJT5muX91epqpEQL1DLzgcUjt4JaOryAxlU710dmmmOCTkFzO1wqOBOIy6vkbRY/FcsWTHaVUIlyWhQd5oN6HhSoiJaLj+oVuL12M0FxJrQLxo/60QadDhRWt7uYelZBJKkgw1FzbSAA9HtY+ilMMwq1UaalljGhjR3AIthfbUo1Gg1LFCqAkVCdDoe1B6LiJLKSYrKNj1WNGjw4UXXoiIcN555w1c71Of+hSHH3441WqVww47jCuvvLLr/bvvvpszzzyTgw8+GBHhYx/7WM8+ZmdnOe+88zjooIOoVqs873nP45ZbblnJ6ResECkdg9+SHFClpsrcAmM6bEbUDL3mwDOioT6zrsSUKzPlSsw5rz3oe/5YtMOna00dr08XrjfESDgPSyAtTWMwkuoK55Goz6ytsOOGtA9iPldr8Wi4MtN2lOmkSuj83N7VThpaWrR1IsGjkRnzSA1zzs99aFKglqUNWnitW9HcZ6H5z0NfVcHjh2U+NLy8157Nso3rLbfcwqWXXsqznjVYbeWSSy7h/PPP573vfS93330373vf+zj33HP52te+1l6nXq9z6KGH8td//dfsv//+ufv5/d//fb71rW/x+c9/njvvvJOTTz6Zk046iYceemi5l1CwDFQj3Mz7cJtfQDz1nnZYWERWNPy4n7TeSkhzs36WX02XJZr6raOSpIPGRVlr6vg5X/Vyj5BCL4Gk0oEjA/o+u89p1wqFWTzmXIUZWyUeGKaTLEQ9mIYG7UKsUD2mXUDN+e3Zs53MdqQPTMcDhza/tdTLKHgcaIWFV/Lak1nW1dVqNV772tdy2WWXsXbt2oHrfv7zn+ctb3kLr371qzn00EM566yzeNOb3sSHPvSh9jrHHHMMH/nIRzjrrLMol3uHVzcaDf7xH/+RD3/4w7zoRS/iKU95Cu9973s55JBDuOSSS5ZzCQXLQN02dNsboX41uM2UjEE6boor0RwqiWNEYsYz9aR+E2OWg8VQ19Q7q7mAUA1Rh69shFzj6EuaS+xFKUnMuKm3xfdT7zVtwYmHMEK7GhaPWVsdGJ4fZl5ub++jEKnHjCv1GFiF/GYe2bkD7At2H2644QbOOOMMDjzwQESEr3zlK13vi0ju6yMf+Uh7nRNOOKHn/bPOOqtrP9u3b+fss89mcnKSyclJzj77bKamppZ0rssyrueeey6nnXYaJ5100qLrhmFIpdLdJ1etVrn55puJ4/59cp0kSYK1Nnc/3//+9/tslR57Zmam61WwPFQjdNvvQXxLxzLtEpQoraD5NBClYlJVHwcdOsC9OIVZV6bmytRciZorEak3MLTpMo91wkSUxVEVS1VsW1ihLEk2sq6bskmoSkhZIkakybips9bMMWZCApnvt/UkNbjpj7uLftVCZKCBHbbvN8x5uFDSCu2Fv6M4W5BWEbeiB3u2R7On0BLuX8lrqczNzXHkkUfyyU9+Mvf9Rx55pOt1+eWXIyKceeaZXeudc845Xet95jOf6Xr/Na95DXfccQfXXnst1157LXfccQdnn332ks51yY/Y11xzDbfffvvQ+c5TTjmFz372s7z85S/nqKOO4rbbbuPyyy8njmO2bt3KAQccsOg+xsfHOf744/mrv/orDj/8cPbbbz+++MUv8sMf/pCnPvWpfbe78MILed/73jf0tRX0R2t/B8lPepaPSxlBMAiJOHDNNNzXbz86P3G1r3JSV09nLw0t0VjQz1lXsqKbiIrEPVXDCYZZFzBm4vatuyKWstj0pi/CGtMgwmPOlbukDxf2qPZjREKsMSQYGm739L4chmk7wrhp9ohfDKtZPKclPHU9k4gchprzGTPzy1uPMwrMaYhHBU97hS4Kdj10hfNcl6Pbfeqpp3Lqqaf2fX9hWvGrX/0qJ554IoceemjX8pGRkb4pyJ/+9Kdce+213HTTTRx77LEAXHbZZRx//PHcc889HHbYYUOd65IeHR588EHe/va3c9VVV/V4kf244IILOPXUUznuuOMIgoDf+q3f4g1veAMAnjd8ReDnP/95VJUnPOEJlMtlPv7xj/Oa17xm4D7OP/98pqen268HH3xw6OMVzKOuBo1/6lkuIvji4YlBRAjEY1QCJrLe1hY+gMJ2W2J7Vmw07QJCZ1BNPdHOweci2ZzVBUTqETuT6dv2YjHUtMJWN8aMq7R7YZvOT1WIMMxmlboimcSiwIhJ2oPNy2JZa+qsyUK+i48On8cITJgG68zsvOzgMlCF2BnmbImppMq2eITH4lG2xyPMJBXmbInIDfbUV4akk3V6wrjdN0OrkopR9JyHMOOqbHWjPaHkGI96R5TBg3beFaChMdr8Lhr/dHUupWCXZ2F0MQyHV38bxKOPPsrXv/513vSmN/W8d/XVV7N+/Xqe8Yxn8K53vYvZ2dn2ez/4wQ+YnJxsG1aA4447jsnJSW688cahj78k43rbbbexefNmjj76aHzfx/d9vvvd7/Lxj38c3/extveGWK1Wufzyy6nX6/z3f/83DzzwAAcffDDj4+OsX79+6GM/+clP5rvf/S61Wo0HH3ywHVY+5JBD+m5TLpeZmJjoehUsDY3+E916EriHh1q/KgEjErDW+KwRYa0IG0yJCSNZHjW9QTsMcxq0je2MK1FzPrEKoTO5k1W0/d/FrEo64HzajTDtRpjRKtvdCEkWhlroMQeiTJiIICtqahn3CdNkvamxzszhZcZyTJq54eMWiRq22AmsmrYRXCqpQEOZhiu1+2cVafe9NlyJGVtlWzJCwy5e6bscHIZmTrtP57FCDZh2o0y50UyVqtvgt4q3FlZrpxKO6boCTKkSZRvGWGIidPbC1b6kglVmtcLCGzdubOc2JycnufDC1fndf+5zn2N8fJzf/u3f7lr+2te+li9+8Ytcf/31XHDBBfzjP/5j1zqbNm1iw4YNPfvbsGEDmzZtGvr4SwoLv+QlL+HOO+/sWvbGN76Rpz/96bz73e8e6EUGQcATn5g2h19zzTWcfvrpGLP0mPvo6Cijo6Ns376db37zm3z4wx9e8j4KhkfnPgVu29DriwgjknqHmoWHp23IjCqjxjLVY2zmLV2k3sCimbJYEBhzEbM5ereDUIQpV2WDmc193wiMmYQ4y8GatikXpm2AzfpDDTpw6k3NVYgy4YWGK+EkppSjLazaPyxuBCa9BnOuRHNAT6ximHMVGs5RMjadUoIgpIPj05cdqpc1j6YLUu89O8+SzD9UdBvR+Z5aD0s1e1CRTPtiuxtl0qRzddv71pbsZLpeTZVRoCxCQ2OC8Ado8iDib1zWuRfseFZrKs6DDz7Y5fjkFbUuh8svv5zXvva1PVHWc845p/3vI444gqc+9ak85znP4fbbb+eoo44C0vvYQlQ1d3k/lmRcx8fHOeKII7qWjY6Oss8++7SXn3/++Tz00EPtXtZ7772Xm2++mWOPPZbt27fz0Y9+lLvuuovPfe5z7X1EUcRPfvKT9r8feugh7rjjDsbGxnjKU54CwDe/+U1UlcMOO4z77ruPP/mTP+Gwww7jjW9841IuoWAJaHw3hNfP/6yKQ0lwmEy/yKmjJD6e9D4oiaS1xJNeiTECGi6hrnaoqtNBBJJkd/elfbEdhq1ujDG3HT/nuU4ESgvCuaqKEdg3E7wXNDWcGuSOpPOzcLYRZdxr4PfplbWYgRXR6bD3CCE1coPyUw5D03VfUNxh/DwsZZO0je2wKlZeu2BLGZWQcibfGGk6lCBPRrElguFhmTAN6q6ExbDdjbLWzHUZ2FB9PNLcN8CcpldZEkhwlJpfhbE/Gu5kC3ZbdkRU8Xvf+x733HMPX/rSlxZd96ijjiIIAn72s59x1FFHsf/++/Poo4/2rLdlyxb22693vnU/Vr1n4JFHHuGBBx5o/2yt5eKLL+aee+4hCAJOPPFEbrzxRg4++OD2Og8//DDPfvaz2z9fdNFFXHTRRbz4xS/m+uuvB2B6eprzzz+fX/3qV6xbt44zzzyTD3zgAwTByoZOF3Sj9hHQBrjt6MxfAOlUm1BjQpLcgGxTE0Yo4WU6sQuf7oyYVLjBGPbROlstpGVFS3/qVYWZFegBJ3g8kKyhIjG+KD6WcRPhixKqoSzdE3fSoeQRSlrQY1BwaU40ybR9lfkc8YhEVCWkoWXKfabhAIx7DSoSU3dlwiz8alUwuK7PL8zG17WM+nKweNSziIGglE1MxcRdhi6PQBJKEmefVfogkKih5hYXwrB4NDVof5ZptXCFNabR9fnW1cPrmP06p4oPJFiC6PY9XH1298aucOTcSrZdjL//+7/n6KOP5sgjj1x03bvvvps4jtvFtccffzzT09PcfPPNPPe5zwXghz/8IdPT0zzvec8b+hxEdceVRexqzMzMMDk5yfT0dJF/zUE1Qre8qCsMnKhlVvMLDFSVmFTiMKalfARrJWDMlHJDKIk65lzMJmeZcUt/MEqFCUaWvN0gDC1t3JhxL6bUx+i4rE+2oT7b3QhNV6KuJUqSMGZCnKZSgbEaHrPjJLn9rmnbz4hJtXpVoeFKKGkOc9SEhC71ip3CtmRHTYtRSmIZ8aK+3nWQaROPmwYTXjqkYcZWidQbWO3dIp2wM9flKU+aBmVJetbrnP1aAfbxylTXXY2Uh7+ZFeyce1zrGG/7/m9RHlu+cxPWYj7+gq8u6VxrtRr33XcfAM9+9rP56Ec/yoknnsi6det40pOe1D6/Aw44gIsvvpg/+IM/6Nr+5z//OVdffTW/+Zu/yfr16/nJT37CO9/5TqrVKrfccks7tXnqqafy8MMPt1t03vzmN3PQQQd1iR8txu7X7V6w42he15NfNQN8h1pmVFu47LVVY5xTJky5x8D6YoiB2oBCn0SFUNM8Z6vooVXNu7QB5qlBtJi2EL62ZS9SYftAXFsb12IY0VROHuaNh2oq51dXH6fCjKsQqU89E66P1CfRmJqrtHWKS2K7jGsrNFuSpEuNSgRGvFTAoqzzodtpO7KDxShSxaUo8QkkYTTHyKZTd3yaLs2ljpiYBEOkAVaFUW+wKpUizLgRxkyzve9ZVyYWQyCWUjsv2xqunuZ3Q0C8XysM6y6Ow6xo4Plytr311ls58cQT2z+/4x3vAOD1r389V1xxBZDW9Kgqv/M7v9OzfalU4t///d/527/9W2q1Ghs3buS0007jL/7iL7pqhq6++mre9ra3cfLJJwPwspe9rG9vbT8Kz7WgjZt5X6q+tIBp18AtCAg7VaYW+dMZEWEfKVMy80Zi1kb8LNHckFDT+dS1lJvLXA6qMO1GBn6JfSzVliAEyoHeNKNZblGApno01WuHZGdcmborM+1G2ssSNRgcoQYk6lGWGE8cc7ZCySQEQwrkdzKVjDCVVBeMr9uxlCVm1Atzc7I+qbetIlkVs8+YaeQWay3E4Jg09R5Pd42pd7VcjZk4ndMLbFx/FabyP1Z4RXsfO9Nz/aPv/88Ve66ffMGX99j7ceG5FsyTzPcBdz5z+RhmNDU4ZVrjwvLRNCWZei0Kc4RsUMt4FiauaYzpI5WvyKoZVki9worEbQ8zjwSPWTeSGY+Ikri2cZlzPmGHpzzrysxlr5ZhTXtSPRo6nweO1cfg8MTRdAENAiomppwjbtHaR8u79iT1B0Ln71TDCmlYOkp8Rr2wZ0Zrgs+M675dpJ9DlDs7thOHoaGlHolJp9KVum0VeI2aUaR8wkovp2AH0+pzXsn2ezKFcS0A0nwr8W1Ammeta4zNbnaxKvWO+aw+aZ61e3vSPtUc41hXy37aYF+vQlU81piELa63oKkiMU31B7a6LJVhRSASfCBiqx0hsWklb0kSAixO0okykfOYsiNYPATFqqHp8j1tx7wwuVNhKikhrcHimfqUQ1IBcyTtZVUIjKUqEXOPk8KTItRshQaWUS8iyBkdN79u2goUYhn3GgMNbF44v1Pdx5BWZQswXn0ZklN9XrBrsVqtOHsqhXEtSIl+BDpH3UWEC0QSog5DGtJrWCGt/s0zrJAWIT1khZo2KIlQU4+8alMRGDch21z++zuaUH0esZNYbeVm0/FxT/E3UzKOn9oJttuxoc/NqdBwAQ0XDL0NDqYZWXZl8Gph8ZixVXyxTHjNgVOLUu+/wpgJ+66Xeubdg9pbxtWgjGSh+BLg7C9W70IKCh4nCuNakJLcC6QKOQsZEWmbzTQPqe21rApNNV3h0zwshm0DBBE611tNw+qLHVpHP1wgqxg5j+0aULNlnlbaTM32bwFyShbK9RkxEbF61F3e0PTFebwNayeJekwlVSb9xsC8caI+U9ZjxESUO4Qn5hGmXaZZ3OoFziqWRzvCyiURouh2KnOfg5HXLalpv2DnoiscG6d7+Mi5wrgWAKDxjwCyWtrum6iIUCHNwzahbVgTlaydZnVugGloeXXDoYsZqpLEWSVx98NB0wVt4zijPrc2D+7dt6bhztD52SSY9FjTds/6WjkMU8kIk35/UYwUoe7KqIGq5A07SKu/W8a1vMCwVoBAhASLnXk/XvmF4B+as5+CXYHW0POVbL8ns2fdBQqWhSb3QfMbQFq81Mq1dmJVqXV4rKppwc9qepnJCpvSF2JVSNSjms1k9cSloVotZwPT51WHOlt2aq5CvcfIS9d+my4gdP6KWhF2JxRhzpYY95qLKjw1XAkf1zNVB8B0GOdOacUyUM1+EMDi8Hbb0X0FBYVx3etRDdHpP4PMoJbFJ9TenGttQZ61od6KDaFqalAVoSQ2Vyh+udRdKdX2zVSVRNID+lhGTROBtgcFqZ6vyW7oSZ9wlVWhbktdXuqOIq26liz/mxo3X+yiqko7klh9tiejVE1E1eSFflukU3UmpN5jiFuazR6WQBxloCKCJ4IgVMSnjF+Eg3cDnK6sKGnhQIc9jcK47sWoKjr955CFhAE8MYxQoq5Re536AsOaqOROrRmWWNPWjFD9LGyrTJrGkgUi+qGa9szWXCUTYkiF+AOxVExESS2BJITOwxfXnh0746rM5Ig37EijmgpU+IQuHdvuSzrsoFVUtRAPS8UkBGKpZ0PiIau2RTGiVEy8bLH+Rc83C/0CjHj959w6DA1X6hKa8EnwSBiVmKpEVEUZNS2REGGsfAL+6OtopyXM8DquBTsft8Kc60q23R0ojOveTPhv0Pxq1yLNdIRbxNAVJF5pONiqMOUWVsOmhm0ps1MHEWsqHj9vJNO2l1ANofWpuxIuU2zysn5URXIVkZrOp2bL7AijGqrfU0kcL/IRWDzmctSt0nYeQCGyPoFYypkm8I5wAhuuRMXk9+22CDXIVKcso9JkrZljwoSUjMMXJUCz6UDpEIh6+B+Mr/kYxtsH6O61LijY3SiM616MNv65Z5lI3vDreVYaDq5pOdcjU2RZVbJWhYaWaE89FeXRZHKAAIMQd7xn8bB9POZEzQ4xrFaFmi3v0HxtnA0VAMXHZZ8vlExCWezA1pph0Ew+sSL9Z9tCmpvez6/zBH8KI605sQZUaaDUSaiIoyICEhE99juUgkMgvhsZeR2MvXlF51mw42j1aq9k+z2ZwrjupaibhfA7ue8FeO1e1wAYzxSZ4mV6Elbnv4R2maGgvPmniRpmXaU9lDtdkVXR5FWF2WT1DatTdrhh7aZb9arpSjRRAkl1tBShLMlAsYh+1GwZpzIw/yrAnJbZZkcYNakohYdmKl9ptbmaGEs6DWcu+Qlxcg8VCfDmPgXV0xDvCcu9+IIdSKHQNJjCuO6t2EeAfOH1VlGTh2HUlPDEpBNw1GK1SdihtTsM0666LFlDVYjxaGah0zHTLWZQd6Vuw5oRSEKsfmbQFz9PXxJUJfNi0/xqrN6qGUCrQuh8EvWy9oPH+6YiXfntRD28TJFpabnaNP+aqMe418w1sGl1sDDtRnHigaZ6zmtMq9gpFe1fYyLqKGMiRFgitYw78Gf+CtZcUhQ47YIUOdfBFMZ1L0WCp6GVl0GzNzTsiWGUEgFe+6YmIpTEZ3/KNDWmNmRxT6sieKnEaqi7clf/6bSrMmpCSmKz/eYb7LSIJkK1VRozn83VzLBYTef9+GIpScJUUqXmSm1Dvhokami4VMx/V8fiMWsrqReaFUaZVrB+kY8jUp9ZW2bcC/uuG2cj9Iykv7cZV2Uym+2qpAVyIpamahoiBuoaMd78dyT8JlReuspXXFCwYymM616MjP8JGt0C7pGe90rS/acRq6WhMYlaykZBE2pDFDYt1VNzCnUt5+ZMFUPNVQlIKJt40f1KWxe+0xvTLiEE62BLPM60reZ6wcsldMtXaHq8SCuBu1WqWhKQVRMNLF6KNKDhXE8FccOVCMTiiyNWvz3LNcJnVitMSDonNlSPKrZdmV4RweKIsZRmL4bybyCy6z+k7E2k2thFzrUfe7ZfXjAQ8fZD1l0N3hP7rmPVMeua1DTE4khITVVJHKMDi1myYyzxnNJCmcH9rjFpm81itEK800mVWVuh4QIi57ULtpwKm5NJpuzoqhlWVWjYIGtX2f1vHq3CpRlbJRowgxeg4YKcYjhh1lbaIh2dhOrP/y6g/W+7cCf2/rSyvWCXQlvDJ5b52pVkPncEhXHdyxH/ici6L8DI2WDW97zvUJKOZpxOEf9h8nOeKF6O4tOg9f2+A+06GfzFTNQwbUdoaglLOvS74crUXDWV6NPUK6uaELOE81uMpgtWVQxjV0EzYYg5W+pbTa6YrBe4d7kihBow50rtQpbuCnFp/xbyfhva+PKKr6GgYGdShIULEG9/ZOICdPx8iO8GLNiH0ek/wUfxOiQRR0RIMhlEL7s9LvYEWl5kpupCAklWnKf0cPhiSXJu9qEG4GDUCxn3QuouzET5V0bsDM1VqFTelYnUzz67/GK40PlUTG9EI5UKEUIt4aF4mfawzRS0Wut0/h/Aaz3/282rdAUFq0Uxcm4wheda0EbER0pHglmD1j4BWESEckf+VUTaBSciaXh4MUYlGto7tCqrotQkMj98O4+W8yXMS/Itl7S9ppQNHdizbxiQGth+IeK8B61WELCF1yE72dIPbs1zBfA7NIZNa3+lI1fhzAtWk1a18EpeezJ79mN2wZLR+E502+tA5+aXLTA+SUdcsCw2FcgfULgkApOmwXY30ncdaE3FqfRMqFkug4y0oMTO8FgyxswKvNYdLQihmoa4Y5fGCdIqXocRxRO3qIj+jmLOlRBCAtP9AFPKycOXOibfAO00Qes6OpfB/E3J76xWDwrjWrB7URjXgjaqis58sMuwQjopp5POjKgvyoQXZ60xaQ7NoMwsqDoNxLHGNJhy/WeiNrL86OBzhFlXwUMpSSqtl9f+YbO+1T57IRDLw9Ganhmuw5JqAu+4imCnQsMG2RCBjv13POd44hjNaX9pif4nzrTD65KpVxlSo+xJ/xab1rPT4BYcoebKjEvYrr4WtD1lqJPOZcL8A0FnxKC1TKD9Wwva1cEGSscNOpmCx4EiLDyYwrgWzBN+G+LbehY3F0zJKYlgtdufFYEgm9+iCiWxbVH5+e0s+5g5YjxqrtfbWyw42/JsE/VJSHOnBseICSl1jDdTTVtA+lE1EU4Xr0oedB5zrrQqSlB5+46cT3OYNic1zCQVSsa2W5MGqkr1fMCaxRuUwFg0M8itFomWEU5Dti5Hp1iInIfvpcZ1zAu7itxSYYqwyyvtd0WtEH4Z2t5q0DKzpecj3v4DP4uCnU8hfziYwrgWtNG5S3KXL5zvWhGhBIRAqNqT2RSBURKcSo+AhEFzDSukN9hwwPk1cgyay3pfSxpTkgQv66dsGc7QeV2G1qCI5zCZWP9yaLhgVQ2ramooY/Xa4d/hESKX5kBLJmFpXrS0x9mFrvf3YdXDavfaZRNT9uYfZFrtNWWJe7zWVuSgnwfcurkalIo4fGBEPKriE+BhWiHhkbOWcE0FBbsGhXEtAEDVQvxfOcsVl+NTGhGqQIXUyDZyPNm8e2pdg775SU9cX/e14QKaA0K4kQaZQZ3fQcP6zOUUGW1JJihLNFSlcyeuNR5uBR5va4C7dhiWRM0qqDilRnZHoghNV8KTJr7R1kI8LGNe/mNRw5UYM/PSiJ2ft8OkUQ7jOGjiHLzS8yC5G+pfAJ2B4Chk/Py0yK5gl6MICw+mMK4FKfZh8rSGF3qtnagqIeA0FV3v1OaJVYgXGK6W+lL+vmjPCV1I6NIe1cXQTKggyTzAQUZw2FxrK7caqd+b/xwSVajb0rK3H56dc7MKXYBv0r8VI8qEn68rDGRRhHllJkW6hjBYhDKKP/6n6bvVU9DRN0N8F5SOLTSFd2EK4zqYwrgWpMQ/7lnkVJnT/H5GVWVWlTyNJqdQy9HobWipr6dY13KuVnDsvMz77I9Toel8QhesaBxeJ2neNliVAemr45nuOiTqZR5nwgGlqUXFROZcuati2CHtFhwFxo1C+F3QGbR6JmLGoFwUMO3qFMZ1MIVxLUDjn6Ezf9G9TJU5DXNDwoMMK6TD1BcaUdU0JJxH6PJDrYmaTOaw/5dwzpZ6Bo6vhJan2nD9HwSWyo4O1z4eCI4nlLYTmMGGtbV2giHAkU4Dnt8mQBkTg859FpK7YO6zMPbHUPnNwmst2K3Zs7t4CxZF3TS6/U1pjquDhsZdsoft9VWpDfBYG84jzvmzStKa057lVoW5nFCxU6FmKwMNnFNZVcPqsirgussf6L4cYrdnea0t0olCw4tvpFOItCv/WpaYNSbCE5MaVgD7ADr9x+i2301nDhfssrQ815W89mQK47qXo7WPgdvUtcyqaw9L71pXlTlV4p53UsM06wIaOWFUVXI1Z6El9ND7JUvL/Af/eYYuf9vlYDUVmF+tKmDV1LA27PL6aHd1Zm2F7Un+8ASr0qM/rAgTpo4njoCESVNng1djwoOK5EQ04lvQmT9H+wkZFzzuKPPtOMsT7t+z2fPiVQVDo8kDUP9iz/KG5pnPtCo4LwOrmWFdmO90KtQ1oKFB36kz/SqEhxH7LxlL3S2t4rcfiZoVqyylPapee17sriyFmBp/LzOE+efZUoESyea7dqxm1eORaA0ww6TfaOddY2eYsVUCSdrzXQVlnZnlKcFjhM7DZfsZE0uVoN1yM39umoaEm/8KpefCyGt3wCdQULBjKYzr3kz0fRbOIHGqxH2m0vSMAmvtRk1uIVFT/YGC/S1RiDyGaTD3RBn1Qmp28fFzi7FSfWGrQj0p7TAZxNUkcUIjKWUPAMOijAchXkeO1XS0MiWattXMZqH8SANmrDDhNal6IaNeSEN9Jr0IkTRkNi6CZEa55aE6lJqGBOpRlQBmPgDek5GiwGmXoyhoGsyufyco2GFoeFPe0r7r9/Mlw2XmFGO8XI82FcIfzmCWJWHca1CWeEWBptTzWt72iTPMJTtOX3i1aIWqa3F5iYYVQKjFJVyn/CKOkiQkaphKRpi2I12fQaw+s7ZCSSxb7QS/iNfzSDxCosKoCJ4Iwvw4e1WlqTEOJSRhTiNUY3Tq7UV4eBekyLkOpvBc92bcIz2LBt3C8t6L1PSoMA1Lv3CkVW9o8X6RdHhA2VhUwywPZIicR9P1F6xYiBFlxER9e20HYXX5g5+dgnUmDZ9mUoOrVSSrmt4AE5eqP1lnVhRCVwz1pMSon3qfFkOoAaHt308cqc+cKzHhhTS1xK/sPjSZIfRq7Os5ykYyw5nODe6MmsRYZjVkQrcDTWDlYwELCnYWhXHdi5HKqWj8n13LDEIZP7egaVyEJqkaUws3wBpXJKapQW7/KvQ35IGxlDResvZvSxXK4PA9R9XEJJoO8A6d3zfv26JsLMkyjlsylsi5oQ25dUJoU1GK3rFb6YxcTxTPODxx+GZ502+W56EuOJvMQLfCwYnzSNQQiMOqwWVTe4Ie3eF5ppMRxk2af03weNROMuuqzLgZnlpqMKMxiVNAqBq6crBtERM3DV5hXHclirDwYHbtOFbBjqVyBiwwfCJCVYLcCk4R6Xoaa/WE9sNko+b6zXItie373ogJKUt+YdWwiEBgHGNexDq/zjp/jkmvzqQ3h/Q9bsyICXNCzJrq50rcs60IVLyYxcLKTqGR+MzGZSLn95lnKWimMhXagHpSZiaqMBuVaCY+kfWwrrcat32Wmh4ncYIZYtbuoH2E1mMuKVG3AYmbvxEmmQ6xVUPTBcy5MjO2QtP5uefVEvdo7VcxzGmFGVclUuWRxOcRV+IRF/CINTScpprV7Z15IBPLupaCHcfjERa+4YYbOOOMMzjwwAMREb7yla90vf+GN7wBEel6HXdcd74+DEPe+ta3sn79ekZHR3nZy17Gr371q651tm/fztlnn83k5CSTk5OcffbZTE1NLelcC+O6FyPevsj4u3qXZwZ2VHrbSJodd8+men1Dwq3VPFHWmTprTJ0JaTAqzbbhMqJMmAZ+TgGVERj1Qia8OoEkQ+RT896fz6OKZKFfL2J9UOsJjrY8cJHUg53wGoxmBj6tfG0y4sXsE8wx6TV7qpl9Sb3MPBJnmItLzESVLIS61JuKYNWjaQPqSYnZuMJ0VGE6rDATlalFJWpxidmozHRUYSaqUosrJH0GmvcjsoaprVW23bmOqV9MULt3gub31pJsLtG0Qft32ropOtKogEFxGBquxJwr9RhYhyG0HjVXodkxRGHCNAhEKInNPhOhoT6brces0/m/Cv8wxIws8TMr2BOZm5vjyCOP5JOf/GTfdV760pfyyCOPtF/f+MY3ut4/77zz+PKXv8w111zD97//fWq1GqeffjrWzt+HXvOa13DHHXdw7bXXcu2113LHHXdw9tlnL+lci7DwXo6MvglkEp37DNj728tVtaclRzsm4KhCY4DXqkiXES1h2zalpLY9ON2IMuE1SNTQbIvvZ+eGoyRpiHdeNzgNpaZBRDDiMCi+pFpSsXok6uGJyzxfIVQfq2m+ccw0abigpxp5YdjVSOpZl7JbvKBUTcSIF7eN6IyttEPBVg025/OIM8O6+m052UQbzfzonGeLpeRXW6PukvvG4M7Rrt0lDYN/8jZi51HybHvAuW15Hx1h3Fh9Gk4Z8br/dmbcCGVjiVGqGmHEMW4iGk6zm1DrN5oWukWa/l5HZAQZe/vQ11Gw89ABbVzDbr9UTj31VE499dSB65TLZfbfP39E4fT0NH//93/P5z//eU466SQArrrqKjZu3Mi//du/ccopp/DTn/6Ua6+9lptuuoljjz0WgMsuu4zjjz+ee+65h8MOO2yocy081wKonglmn57FpkcbeN6b6Df1pr3tAPWe1uD0Tm/UF8eYCZkwdXwsFYlYY+rtNUTSdSomYcSLGPUiRryIikkoGZv1ZCplSRjzQqomxmTeatXEjHkh416qDpSoxzq/xjp/jg3BNKOmmXuevlhGTciaLKTcMhhBNqC903jZnBtFssMM6+qTZA8f+lBvtEIeLmOn59WA5z10Ie/aQvV7Qn6ztkLs0t7fpgbZNCDJBj709gQLUJWAcnA4WvsYbvp8tHkt6uorvtaC1WElAhKds2BnZma6XmE4aPDk4lx//fVs2LCBpz3taZxzzjls3ry5/d5tt91GHMecfPLJ7WUHHnggRxxxBDfeeCMAP/jBD5icnGwbVoDjjjuOycnJ9jrDsCLjeuGFFyIinHfeeQPX+9SnPsXhhx9OtVrlsMMO48orr+x6/+677+bMM8/k4IMPRkT42Mc+1rOPJEn48z//cw455BCq1SqHHnoof/mXf4lzy8srFXSQ3Anx7e0fnSoRCWXpDmx0+iKqy21cSSmJZa2Zw1sQEvbFMeE1GDFRpkK7tD/RmqswayuEzs/GuxliNbgO1aAJv8k+/hzr/BoVE1P1kszAtq5IWePXWeM3GPGy0LBJCCR9mWwgfGpkWv2ZvROAGsnyRtM9HiTO4OoG2ZZ/zvaXVUa8iPFSSCkbju76/g0Is7ZM5LyOELEQZepXTZeGmANRItL0AtAVTh4RZUQCSH6avhr/iE69DZ05fzUut2AVWK2c68aNG9u5zcnJSS688MJln9Opp57K1Vdfzbe//W0uvvhibrnlFv7H//gfbYO9adMmSqUSa9eu7dpuv/32Y9OmTe11NmzY0LPvDRs2tNcZhmWHhW+55RYuvfRSnvWsZw1c75JLLuH888/nsssu45hjjuHmm2/mnHPOYe3atZxxxhkA1Ot1Dj30UF75ylfyx3/8x7n7+dCHPsTf/d3f8bnPfY5nPOMZ3HrrrbzxjW9kcnKSt7+9CButBG38S9fPIQnNnJBwpxls9JEtXAp+lo9taEBNe/taW6HlYcObVqUtX5gnY5iWCjnGvSZG0qpc5wwelqqnlE2Ste8IgVhGTZOS6c0Hz1ChZBImxRGrIXRBz1ACI1D1YxqJnxsu3pVoVfzGd473X+fHY2wOlLGnT7F+fC4ruPJT3zVrITKijPqphpfDMOfKBJIwYiKMpB4/pL/XRD1qGhBaQ5OAhg1ISFuSRiVkXeBQlETT/3sYDII0/xVtno5UfqN9bq0e2ELof/fkwQcfZGJivmCtXF56O1yLV7/61e1/H3HEETznOc/hoIMO4utf/zq//du/3Xe7tipYRt7f0sJ1FmNZxrVWq/Ha176Wyy67jPe///0D1/385z/PW97ylvZFH3roodx000186EMfahvXY445hmOOOQaA97znPbn7+cEPfsBv/dZvcdpppwFw8MEH88UvfpFbb711OZdQ0En0/fY/VZUwR/6w00OxKm1vox8tL2Sxv0WR/iX5gVgmzRyhBkTqZ72v87m5hYRusKeoCBaPUH2qWSXyiBe1zzfVO03zSJ44jGimixxQMfOfSdVEbAhmiZ1hSzLG1mSsy5g7FepJsOSCokE4bXkKhsQKtu6RzATobICb9aDuQcViRi0yYgk2NCmPJ22JhpYM4cLcckuy0W4P0P+q9n2MESfoLRPM/Gic2Sc1KT99hur+DSLPo+zZNMyn2jWrFdKHnJoVxr2QksRUJKFsYioSsdWOYbA0tUyoAR6OMZM++JTxmM2ZyjRJBTP7IZARtPkNSO6B5BdAgJaehQTHQPlE8J9CGmsxiBSlJTuC1cq5TkxMdBnX1eSAAw7goIMO4mc/+xkA+++/P1EUsX379i7vdfPmzTzvec9rr/Poo4/27GvLli3st99+Qx97WX915557LqeddhonnXTSosY1DEMqlW6vpFqtcvPNNxPHMUEwXOjsBS94AX/3d3/Hvffey9Oe9jT+8z//k+9///u5IeTOY3fG72dmZvquu7eirp7dnFIibG6or/Mr5HqWLNinwmNuFIcwYdLK2jlXnhdJyNbzsVRM0g4X5mEEqhJTJU4FETDUXH6/47Bh6tAFVCTuMgIiZDNGFSQbNuB86q6EYvDF4me5xkAcgRey1Y6yOZroGeTeTPxlGdb0mF671aVV8OVUsE5wW0rY+yvog2VkNv8zayVJLNAYt1DJCsnKioxaSs+YoTQZ42d9qs3pEvF/jaH3VZEhbpSSCPyiSviLKvFzpwmO3Jb14vZ/6LF4zNoyME5gHL5YNpa20bQlLAaftEfWkQqS+KIYkY5WnHkaGjNqH0C3v7H3QOF30fC7ULsIyicgY+eh0++C8fOR8gsXvbaCpbE79Lk+9thjPPjggxxwwAEAHH300QRBwLe+9S1e9apXAfDII49w11138eEPfxiA448/nunpaW6++Wae+9znAvDDH/6Q6enptgEehiUb12uuuYbbb7+dW265Zaj1TznlFD772c/y8pe/nKOOOorbbruNyy+/nDiO2bp1a/uiF+Pd734309PTPP3pT8fzPKy1fOADH+B3fud3+m5z4YUX8r73vW+o/e+1JHfTKWxoNT+H3enL+ouYsbR7NTUQqUEMiPB7rF9VIiokQw84b1cd9/Feh/2quiz82LVMhTnXLbrQLeXntY1ri5rrlTxsCeIvFatCM/G79udCId4W4GZ9dHsAP03bUYa9Tpn1YLb7XMKfVYmOrGHGE+x9I/BQiXkRwiWe83+N0nzqNDpSZrLUbOsE566Lx4ytMkZIIh5TyQgq6bUaHGNeM/t8BV8sNc2fFhxhKavFl0U+4/B61D4MyX3o9jeho3+EjL21CB3v5tRqNe677772z7/85S+54447WLduHevWreO9730vZ555JgcccAD//d//zf/+3/+b9evX8z//5/8EYHJykje96U28853vZJ999mHdunW8613v4pnPfGa7evjwww/npS99Keeccw6f+cxnAHjzm9/M6aefPnSlMCzRuD744IO8/e1v57rrruvxRvtxwQUXsGnTJo477jhUlf322483vOENfPjDH8bzhr8JfelLX+Kqq67iC1/4As94xjO44447OO+88zjwwAN5/etfn7vN+eefzzve8Y72zzMzM2zcuHHoY+4VRLd3/WjpNa5JNsO1hQhUJWmbOKegIsRZxanBUZUIq0KFmO06mn9o9bLCqJXf8Fph3WEQNMszepkeEjRcqd2u027z6ZAiXCj4oJpu09PTuUQpxFSsIVVr6jSbyZaA5Dtrkfrq5mvFCtw+jmOlGXOQGZ+ZazbiP3easWdvomz6qzRB+rBSs2Um/SYJHq36Y4dJQ4SStl+N9hkc0WJOI8ap9EzT6SG5t2OjT0L5RVD69SGvrmAxHo9WnFtvvZUTTzyx/XPr/v7617+eSy65hDvvvJMrr7ySqakpDjjgAE488US+9KUvMT4+X0/wN3/zN/i+z6te9SoajQYveclLuOKKK7rs0dVXX83b3va2dlXxy172soG9tXksybjedtttbN68maOPPrq9zFrLDTfcwCc/+UnCMOwxmNVqlcsvv5zPfOYzPProoxxwwAFceumljI+Ps379+qGP/Sd/8ie85z3v4ayzzgLgmc98Jvfffz8XXnhhX+NaLpdXlBzfG9D4rsHvLzCsLapZoU+c5V9VBR9HjMGIMC7z4XjPulzv1OLRVJ+AhHgJf4plSQizAiKrQugCQg2GNmqeWGYykXmnZNv3GjjBsU+Qtn706jUJsfN6jIlnFN/YocPCTRv0SBTG/13Bfm9Nagh3ccQKyS0T1A7dzsg+3cPNE2eykXXzy8om9UitGjyZN6KeWAKSNAVgLIMaGRzKnIaMUV6aJ6qN4dctWBRdYVh4Ocb1hBNOGDjE4Zvf/Oai+6hUKnziE5/gE5/4RN911q1bx1VXXbXk8+tkScb1JS95CXfeeWfXsje+8Y08/elP593vfvdATzQIAp74xCcCaWj59NNPx5jh2yzq9XrP+p7nFa04K0SCp6PR90Hn8t8XYQyodQhIdOJU8ERpqqHfDXGQulJNy4xJtKQh5RWJ2sIQ0zYVoxhEq23IZcVKKj4iaSHPjK303V5JW3halcWQVtVaNWmfJh6BWBoLwtSjfkTTBoR2cEW1an5/rJTyZ9zuqkhi2Pq9A1j/sllazwmhS/WcR70QPwsXC2kfskfal9y69kAsRqBiIsqSkLB4ZWaCS0PEi9zCVBUl0yt2W1fjcgsKhmJJxnV8fJwjjjiia9no6Cj77LNPe/n555/PQw891O5lvffee7n55ps59thj2b59Ox/96Ee56667+NznPtfeRxRF/OQnP2n/+6GHHuKOO+5gbGyMpzzlKQCcccYZfOADH+BJT3oSz3jGM/jRj37ERz/6UX7v935v+VdfgIydCyOvQ+cugbnPUpGAmnY3cfsiTJLmXVtCdT4QqYLJypsyyxvnTMkpSUKoPnmGRjHMajm35SZVgZoP17bCvoISYDPvNa9kPs37tgaXxwvahgQlkCTLby5imLP/BmLZFo3waDJBol5mHNLcbSC26+FAsjYcpxC7/l+x1Lj0Ht8/MEJfNIX97pqhiox2CR6o8LNbn8SBz96ceqeZYYzVx2defMOX1LBOJxUUw4gJGQsajEqDMRNSkdSzTYDFSh1jtT292JDWDTQ0xuLa1cYV9amE38ernrFql7y3kyqErWz7PZlVr1F/5JFHeOCBB9o/W2u5+OKLueeeewiCgBNPPJEbb7yRgw8+uL3Oww8/zLOf/ez2zxdddBEXXXQRL37xi7n++usB+MQnPsEFF1zAH/7hH7J582YOPPBA3vKWt/B//s//We1L2OsQMw4yhgKBeATq9QxMFxFa2j0+Bg9DIAkVVULAMxYLGJdWBHcK+ldNgrgmM9ryElNPb1RCIvWIc0qkWoPU+4WLE9XMYHdjVZhJKgNH1rWGeQ+DweGp5RfN9czaak8Bk1XJnYajyqKh4Xzh/pTg4CZ427E3rEHi3UNILblpkk0Vy76HbWckSA1q7DwqJq3MjtTnsWSMiompZOFhh7CvmeVJwTaqYvFFqbBwnEQ3La82xuLUYWT+80nUUdNmz99Tk4S4/kUmKidiKi9d3QvfS3HLLoWb335PRnQvmkI8MzPD5OQk09PTO6yvanfFbT0j7RkkVWia0xCDwZd5EcR2I78IyATq5ghpEqklUctMJjQxkwkCLCRSD6epQENTA6oSsdWNsdB7U4U5Lfc1gOkw9WrPKLvYGWZsdVkFUmk/a2bkVSiZBE8ck94cD0XrujzTNJyb6hyHLt8jT5xQiwcX/TUSn2SRfuHo3hH0xsklX8/jhY5aNrzmASZKzXauddxvdPXXelgm/DQ6UpKEtf4cY6bJGlPjScEUBwVJu1hJuwrp0mVzzhGTegYVMayVMr5JP0enSl2jnofDFj4+Fe8JGO8A/DUfRfwnre4H8DizM+5xrWMc+f/eiTey/JoWWw/5z1dcvMfej4vu6gLUTYObav+cFiRlhsFsQNZeCm472vgyePsh5RMgeDZM/28qza9QxmeaJiM4ZlWxfYxbSebF+8sk1LTMUg2r9jGsqql+7XIMq1WhZrvbaprWpyIxU8l6FEPsUiWmYauBF2vHGfaR1j1QeXye71WRTvskpPnURQqIZM6jORUwuu98rnUQLhP2mHYjjJs6ToSGpt5rU5URkbYhJfNYPRFCTaUTI3VE2mAtJcri44lhlBIhSc/gCYCEhJq9H+z9TNQuIVizfKm9vZ3Ho1p4d6IwrgWImYR9v5P2BtavgfjHoFPgHYqs+3vEe0K6Xvn53Rv6T22H3wxpDtYt0lpjVZh2vcaxRV1Lgw2rq+Rum8oWLi182ppHW3d54vpCU9NAeOQ8GkOMimsVKCXOI7L9v1qJk6H25xLg4V4h/Z2BSRSzoNVUAURxvqB+vyIwxStbvLZh7TWwnVuWJMFgeWLwGE/wp9O/HYWQNN0QZQVJI6Q5/7GcYzaBWY0JSahkEQYHeEgfSZSUqPHP+JPvRxbrmS3IxamsqCZgTx+WXhjXAoBUIq5yElJJG6lVE8AhOTNd5zdKlZKaJMypI4S+XmuLhpb6GlaXSQ3m0c7B5uRZ057T4UXyrQqR89Mw9QCD3FJp6ierqJkkYZypKi1s5em3TXPIma5ue4C4nXwDUsVE2qpT60IAFLxYsQoa5JzbGsuaiQa+sQRiCYxdILnYOVVHGfca7OdPUTYJPhabtXKF7VKylCYwKUJNlV5/FOqajnjY5CJiBF/SRzwhzd+OiPT0xYY6QzX8AVJ5wbCfTkEHqissaNrDE5K7R6VEwU5HxB9sWAFGXollH7bZkHr2TfFRxk1EJWfAeVr9298IRn2qf4Gs6jf/WTBSfyivVRXqNmDGVmjqYE9XFRo2yDWsqmm+dDYqMxtXaNogy50ubghD5/X17O2MR/RfI7gsHKtzO9+jMnG+YV2IlyiSLPj9lh2Tz9/M2lKdUS/CN6nEYuy6P+dWr2tZEgKxTNlRHrPjKIZ9TYSDnrYvJR15mGdYydafdsqUC5h2JaZsQN0ZEoUImFElWXA3VxQ390lUB4tWFBQsh8K4FiwbkTJm8v1dFYNpa4oyYiz+glukCAQD1HeCHIPcYlDhj6A9o+sWEjvDtK32bd/pRBXmbCnXmCdOmI3LhHbpYejESU9rjguFZHNA+KNx4q/ui940SfT19cQPl3eucdXUWOYMAeqLiTUNNwC6T8wTX/Vznvq0dCRXooZaUqFuy9Rtp5KV0HQBVRMhojwUrWNTvJbEGWZdmQkjuX8DSuq95uEU6taj5vx2IZ3FUNeAqUxFy5Ea2Lpz7SKpCj4mvh2tLa68o66G1i5Dtd9Z7H20cq4ree3JFGHhghXhVV/C/mv/hke2/zELGyDGTEJTlUaHkRozIdtcvpfniTIiIXM54+cGle2XjEWJmbX5YVmrQs31Fk/1o+l6x8RpJlPYtPnVwYvh2uHglPCmSfSXFSScN9Ctvcq2AHfdOtRbDWHIRVDFxGnx0lKPJaS5WTuuPPm37mPNRIPECVYNUddDRLqspc0cqcdsUsLPLj1Sny3xBGtNje22RpZ2XXSiUgsj4BulmdNTrAgJQpD9bTZJK4onxVCR7Pcx9ym0dGRaqLdwe1VofhWd/Qi4LZD8DCY/VGgUUxQ0LUZhXAtWjD/6Kg40I8T1rxIn95C4rUzZKRIh9V47bK4vjjEJc+e3QlrgEmmvHGI/j1Y1DRmnOdd8QYmaHd6wpiPYer8WTesT2uUNP28NTm+Zyui+KvzXyKJntDPkD8WyJG81b3upJvjlNNRrRBG1hAskIBI1HZEMYdZVGSGiJBYRmHUVHojXM+pFjJgYVZgwIWXj2pOU+tmzRAWjDh+X2wJm1bRnyUIqirKwP1MbX+4xrqqNdGrU9J/OL2x+BfU2wNg7ECkCfwX9KYxrwargVU/Hq55OBVB1jM1+nE0zF5HkGMURE2NUmXOlHrEHESibuCd8WjIJoe3OAavC9mRkcO4UlhS+zetbbSYrM6z1pNQ2rHbaw900sXyPNGuREadtVSznC2nKd4l7VcXYlVWVCOA94nPv55/OE1/xC/ZbO0cipj02zzOZOH+PlyLUXZm4PUxd2JaMc3+0DxNeg1EvZsZWCWyCJ0qZhH39Ol6fSzQCYxIz7Uo9Oe1Yhc5HuYBUPrGuESOUUi80+s/ea5MquPt6/4LnLkXtZmTNh4f9mPZIimrhwRSPXgWrjoY3ockdWaVmqti0kIokrDN1Jk2vmHpeEVGUs0yEnjFwCzHCovnY9nnnjIuzTrJQ8NJZaFhdAvH1a5Fk+V87cWm1rrEgmr68WPGaiokcEitpKe8Ao9l6T+dlK1eCAN4Wj1996ckkTgidTyMJmI3L1ONgfhB9zinF6jNrK1gVLIbNySRNLVFzZWL1mHFVNsWT3Bdv4IF4kmhB9bRqNuUok8cckYSF7T8xpuvYrT1EWEKyfiP3MGrTAdnqZtDGP6H1/4c2/zX/optfQcPrl/xZ7Um0qoVX8tqTKTzXglVF1VHb/nvEWiPOhmAHYnOlCkXI/YaJaE57ZP43sWJiokUE8se9kFg96i5AB05b6ZUyXG6OFdLwcqcXFd8yiWxfngcMtPOjeQhkog/zLSxqFPU6elKd4kXpZ7uEzqWhEMDbbtj82DjliaRdgBY5H8+lfwdztsSIF82fr6T5cMUwayuMe00arsSsrRJpzAwjbW3o9EHNAcrBwQwAc+oTZe1PqZ60EGla1DQmEabda5sa3taIu5Y4BaTD1wM8PDHQ+H+45H5oXkv/8ql5dOYvYd2vId6GVfscC/YcCuNasKpo85vEWiNRbfkEVMRlYgC9RirOqQL2cubvVE2UhWa791EylgmaA9WZRFJ1KCOO2QFTcPJah4YdHbdwu8h57RYU5yD+z3G4Z2TofYjtMKSZOpJk3upQ25N5pU6xAuoJJtH29iZWFlFeXDKisOWn69n/mM00kvTWIqKoBmlvq/Go2zIjJkRM1m9sfRCoejGztkLFxGyNx/BESdQwmUknKmkP9DY3xnpXxyE0NKDmylmedWEo2GedmWtHypNsehNACFQ7pu40NU6FPWcvmi9yGgb7K3Tb78DaKxB/75sTnXqfKyloWsWT2QUpwsIFK0aTX6K1T6P1fyKa/jOgu0/RE2XCRLlGM68KOC0+6f7mGYERE+Uev2RsehPOHYo3jy/KmAn7vr8wJCwCI0H+MfvRqiqOOnK38e0T8J952kL5OzCxw0TaDvuKA5MMb1gXYuI0BucCwfrzw+BlB7R32v8aoexZPHGE0yUaj6bDDubiMlaFsolpTY40pOpLkfMJbdr/23AlZrKWKUu3yEdr4ML9yVo2JeNss6PMuTKzttozus9iCPEhm6DkSRqzqIowKdJV7RthaWpMQ2Pipfa82geh+S/L+7B2c4pWnMEUnmvBinH1LyP1vwPAutQYLXxq8wQqYplbMAkmr6jBF8eohMwt0B4uS4wVIdRecQtfHGv9OpF6NF3QV3AiMI6yxrkj8PIKnwLjMOIGTrDppDXmrr3PGPTuxSuDW0hCj+zgShFNDawLBA0knSqzjNabYTCP+Wz51Tij+zeZuWcf9J4qcycpExvnQKFuS/jO4Uv2uWafedMFeKL4xmWfX69chC8WRZhxoz3v1R2Me92h3EQ9Jrw6EwZK0DU9px9zGjJCiQCPpsbp5B2gIj5l/PwWHP/QYT6agr2MwrgWrAhNHkAan2//bMSApu0OE6SN+y2SnNv5iIm7vLwWZZOgDuodLTvS8l6d5MokikBZLKUsxztny7mh4hEvpqSWug26qpV9sUQ5XwlfXJbbG0ziFvZ3gttWGr6iUhWT7JhYmbGgAhqkIWK1mj4B6fI94jxEYebrBzA97mC7h6gQ3rAOPWsWr5z6zIl6OaIgqd7ymIQ4aQ2pd+1oRyBJbmFcixg/bffJKrQEpSoRTfXwNSEExqFHAnEhCsxpb7SioTFNYkYoUVo4Q9Y7ZPCHsoei9KuEGH77PZkiLFywIrTxZdC59s+dYTVfpKvRpndqa5oLHZH80GvFJIxIdxhXJM2/DkIk3XatXyeQfDfQF8e4FzJqwnY4Ob0x55yjt7grmWoG9xpmt23IHF6m6bsjA2VeklYUq4CtZOHhHXCH82qC2ezjN8CLFDNrmPrReurNNA/t+hzT0RrhRzvMKwI+ljHTXLTTqNnxwDUmTTxxqAoVhIkcbeGl0jK8za5pO5IOvHDTmR733kMRFh5MYVwLVkb0vfY/nWrXHE1V7cqCBn36PkYkQvrkS8sS97TSCJoZzcGWwYgy4TX7ClCIpPnaca+JySqb81p7fKNDGdi843gHNdDSIv0umlbxDqPpu1KMBS/MWnd20PFEM+1hstahSOGmMR7+7FO4/7on0gzzhy9A2mfcastpLTfihmrhjdVHFUYkZD+/yUYv5qDAMmJkVRWVGhp3GFhFaxehW05Gp9+9d+kU6yq89mAK41qwImTig+3pOMkCIxjS/f0xAlVJCNKux67lk6bZY0Rbk3DyhCbGvSZrvDlGTXNgIVNLlKIfiRpmbKWd+yv3SXhWvZiyF9PvjiACfo618kYc3vHT6CAXcZX6TYdFWIV864JGRXGZkH+fElBxpJ7sXVXcAtfVKcwlJRKXnlnDljIRChkoe9lzSqRG+SC/wQZPKZsd5xk1NMZpxy9Nt0Pza6lMYkEBhXEtWCESPA1GXo/VVPGmkzDnRls1lnEv7vFiA2xuQZHpa5QUI0rZJEx4jYFCEcGAstjQ+V29r564XGMtAlU/YSwI8XOqmaG/oEVwSJPgt7ag++eHs3dEaHbVWfC7NAl4EZkusWJi8Cz4UeqpygAhi8BXmlH6mSdWqEVlEue1tZetGmo2rS52KlQGPBx1Ijg8LKVFqsZXi3rOMHbql6PRrTvl+I87Kw0JF2HhgoLFSCsrF95K+7VRJio9BUKpL9v9ZRNJQ3wj0u2dliRmokPZyUg6F7SfgR1kXJMF5yECFa//zdw3ylgpYrLUxF8gytv/QQC8NRbv12r5b+5I46qDDd0w26Pa+wCgmXC/Ay/p9oTTsHBmfBd4s27SEgQOa9P868M/W89j961pD5lvySaGLqBmSxhc7kOL097fXVkSymIJdtLTSoxF8z7X+Cc75fiPN4VC02CKauGCFaFzV4GM4nI9OSHK+QaFOUPFBwlAVCShQpJ6MgiBOJoLhPqNwLjXSHseF4aRSfOhC4+RyvLlt9+UNMkV8O/Eul7DnHec9vq/yG/JUS8t4DHJCgqaVPO1hTND5wRc0GedAfv0o/ZuUsUnAfUXyt7n0+qldSZ1UtwTYp70il9gBIKS5aG79iX+3lpYl1DbGDIapGpbvnEo6Xi+kiTtS7MqhC4gVg9LKsbf2X5TlpiyJNRQxhRKO2FyjUPxFv5d2Ud2/DSjgl2ewnMtWBbqUgk6DZ4F8Y9zna9yn21tTluLh2PS1PEHhHc90XY4OcqVFxLGvN4crG3PVRmeiolTVaE+RH2Gng/yXpnLCXtHDpOkakm2Ij2RsqGjZ30MifT8Y3m0vVQLOGXItt82bsyx32/fzwM3bWTr1hF+9cMDiG9Yi6ggjwXYzWUSNW0hDz9T1HokXsNUMsJMUmXajtLU1rCH7mpTg0v7ZMWmylo7yS3K/1h3YgL9caSoFh5M4bkWLBm1W9Cp/wVj74Dpd4DbRkk8GjrcTSWvqlYEylhKps6slmnmCEV0stDjVIUZW82Wd++/sYyJNiJQ9SJqSe+4usQJjSR/n0aUvoNmwl6LJC5TYUpSg+UCQU1a0WsDAUN73moPqumlDircyX4lxoGJQEVJVSSHu7G11Jw6MW5p6TIFRk7eQhJ7aAjb/+UJSM3v2q/bEmD3l7YkoycOEWHaVjEo60tzPfvtLHZq5cH9LIYyrGlVTVWiLGkaY6ntOrk+vH0IdVOIWbOkfe12rDRvWhjXgoL0JkT0fXTuinb7jW5/Q/t918dT8KDHFx01CTOuVyQf0nv+hIQEzjKr1dx9xur1VJE2NejY3/x7iZrcoQEdV9axfrcp8USpmCQLQadYFebi/vNh+7X9AJinNdBbxzsOPZ/LbGsBR2no1fmpYUWkf3IqE4Bov5uNoescP7fQkU7VmoYMEYugRnsqmcWytJiXQP2BcWrX7Y/YzBwteDDQue5IROh8SsZiREnwCJ3ft5KbTDBiRKKsIC2VOWzhnENFiEk92la1dEzv36anSkmEEvOfa/px9n5WHn1afMLr0M3/jlZOQcbeuVfqDhcUxrVgaJqQ/BzsL3PfNSI97oKIME6q0uS61oUJEzPrgnY/I6RasyWxlMUyKSHNJOgZmh6pR811i+9bTTVp87A5+d3580srfFtqQWVJsJgO9SBl3K/jkhEiF2SGtXdeaNc+BxjX0hE1opJL57m6AfvQTK5Q5j25PA8Skx1NNdUeduk6akE9xXn5zoHJXDXNZq2218kxFM6jpx+2/SAwJF4M9sejiCdIks2Qzba35fQ65rX3JcuxCrEzjPkxHo6aLaOk+s8VE6d58UwgZFRCRkzEqISMm7S6akaVChBnAyRyC49ysEBDlYWDEH1VxhdoEisQakIJL8fIWmh+A21+C9Z8FKmcMvwHtpuw0qKkoqCpoADSwdGjb4CRsyH6PrgayAhIBXSaSvIrtPZxmm5b13YmM7CzfQxsko0CqwAIzDrDnAuwCJOmwVY3BkhqQLVEtEATWBVqAybdlE1C5OJcuURIK4lbxjQQS0VirBocgi+OzdE4kQtIXOqxLpa7TSevaKoOhPRoEvtPqRP9qgIP9MtIpwipgbWG1PD0M2aqeNGCal1S71IsOB+sl+VKOzCWLrdNmTfIXUbWCE4Us4IboWSVxZqNzOs8V5MoriSY9RFlk7QrtcsmpmQssfrUnDBqouz3DM4Jk6ZJyST4JIyakDXSYMyL25NvHFBfxbt3Qtq33Tl03aHUNaKBUFaPQPwcbzYG78BVO49dipUKQRTGtaBgHhEPyi/uXQ6MjJyFe/RIIu2WLPQyneFZ1a4wXFlgXNK8lSO9ITacR4JJpfDUB4WalnuMaouGK/VUBy/EF0fY54sciKVB2t7TavlQhLKxOJdObGmFgocpijKijPoRRtJ2kUYyH652FqIb1iIdhlWlf5+rKHjN9M3lZKeEtFK4dQ8ctI+WQW4Z2fTkVll32PWeg1jQyYR1T93GmkqIyULx5Q5FrEQ9pm0lm8eqVIzHmJeKjoyakHVmjjXegh5rZ0gwVCUZmJJeCg3VbADAwkp3pUlCUxOqElCh40HO2wj+EatzAgW7FYVxLVg94jsoAXlSCSYb9dUqIBGy0J8qs5mHoQqzWmauQ6y/qT5RH69Tlb4eaQunQn3AZHBPlJLE6QCBbKKOw2BoMJWMpGPQ4mDoauO0Had1zalqU9Rq2QkNcn+la2VbTo2OiXN6SRnCqIqgXp+Cp2H30YG3wKPtIe1fQpxmva6KiqCeDCysktjlFv8IwEgqzlEyNmtlylqT0A4nWrDZ9nPOsDkaZ51XY62ZoyoJjnTyEkCkhrns7yJUw0iWalhpZ46SzYIdsE6stnsmrH0I5v4OHX0LMsRUnt2JlVb8FtXCBQVDoo1/IhCPCSpEWBK1WBwehpJZQ1D+HzTD7xG6R4E0HzbtlFmXCSIq1DuqhFUZWDUcqr+o0Zu15S4FpjyqJqFmyySZB6wKm6LJnMktS8Np2rLTIld2NsurOjIN3g5aPy12C3Ie4FhR6HZRMqNqEtdbJIWCzaqdfdNjZAUImmmONx2AtOCKtpR4YGYdTxifouynpWqhCxDS1prAWPwufWGh5qrc0zyANV4dq4a5pMy4pIPVPXF4bcMs1NXHASM5TyCtyPGwhrep2m7zaRVOdXqyCS4d6dde5tDa30B0K6z5GGLGe3e6O7OHh3ZXQmFcC1YNmfwITPwVvs7i24fBbSO9I+8HwTMRMYxqiG46irqbahvWhgbUXYmY7t7RVni4H3YI4xcvsk7sDHOuO+TbdEGXYfWMI7GD9qMEJvWMDEqihsR5hLY7lC2jDt0YIg/25lvVkBUgSUv1AhUwVukz2KcbYSn9J6nnack8znRb6dT8lUzYIzuXdiHSoFNwad+u+oL6CwQ2svfVpUZWFDQzwhIJ9s5xHvg1j3WjcwSew4jii6Pqx9ls3lTqsmyStiEMnc9jyShzXqoN3ZQglUrUNNFQkYRqFu5vqkdJO41uSoIw6wJM9giWjizsPyhA6Z40m6j2jLLLE5Yg+h66/U2w9nLEjA38HHcXCs91MHtWnKLgcUXEQ8wo4u2PlI5CKichlZOR0pHtkJhIGWMmmXPKtCthMUTqEdHrhfYbeN4iHT3X/4bfb7RZJ4l2G/Q4ZyZr1U8YD9ICmoXHC4xlvJSqC5VNkoY0s0rghddjDJSetx09uAmHNtrVugCI4EomHWbuLx5mbaOKF/dW9Lbe63m5dOyciRXjFC92mNDhZWIW7VecvudF6fuyiGFtXwZpkZLELrcc1Esy/eGYVIwi28i7cwTz9bVMbx7FOoPT9PcQtsf4pepMnZEAq4YpO9YWJWloGaetz97Q0BLb3CizLm2dajivx2i2qskdaY52TgOmXYkZG6T5f5WBVa0WmFuou9wv1hDfgW57HWq39t9hwUBuuOEGzjjjDA488EBEhK985Svt9+I45t3vfjfPfOYzGR0d5cADD+R1r3sdDz/8cNc+TjjhBCSr/G69zjrrrK51tm/fztlnn83k5CSTk5OcffbZTE1NLelcC+NasFNRdTgNmekI6fYL7fpiB/eNilKR1I8wuB51p7Q9Z7CBMgt6Svw+wv2eUUaCmMlSk4lSk/HsNRpEeKI4FWbjMqEN2mHovHM3VaVywna8w+oQDGGwhlilb0FUonih635FeWHdRfY/xDoLMTY14oMsk7ELenJrHnrtPsxsGmk/GDWtn03LSZlX90orshuuRM1V0rC+Ghpa7jlkmI2iizGE2TzZSA1zzqeRE9lwCAmGhvrMuBJTrkToTN9Lydf3UCJNqLmQORfO94End6HbzkLtwzlb7WboKryWyNzcHEceeSSf/OQne96r1+vcfvvtXHDBBdx+++380z/9E/feey8ve9nLetY955xzeOSRR9qvz3zmM13vv+Y1r+GOO+7g2muv5dprr+WOO+7g7LPPXtK5FmHhgp1L/Wqs29oj3J9HSSyeqeeOnWtRNRGBWkSUGdtdarJQ2D0Ps+AbLgIjfr4yU+v9PKMZWq9nfdOl8JDiQiG+YwK9pzqw1xXIwreLXkI+Tof2NncUomBChyv15mEh65V1igkd6qUeuyRCcuNaGmeEjJQSRFJBfz+LGnjiqJiIclYFbEk9XBFQlxZBWTGMm0bbS215pQEuLXRa4seiCHMaEKpjxCT4C55OOn/yMDiUOQ2xHe/E2mCMMr54YB9AZ/8GWbO7j6dbzmPXwu2Xxqmnnsqpp56a+97k5CTf+ta3upZ94hOf4LnPfS4PPPAAT3rSk9rLR0ZG2H///XP389Of/pRrr72Wm266iWOPPRaAyy67jOOPP5577rmHww47bKhzLTzXgp2GqqL1L5Bof291IZ4oIybs+34qBGFze11HTP6It4Xb5x1zzA+pmLjveLlOVOkIX86zUGfYxRB9fT38dGRxw0rWqzro0Jk3lLcrEy9lEuqOQ0jzsHkxeiGTZXQLpufMeMTT5bYKV1pdrkz4DTaUZqma+faazoriWH1i9UjwmHUVbEdObwUjEdokGGZciZrzB4hmKTPaJFkgBarArHZ4sM1/RZvfXPE57QnMzMx0vcKw//d9qUxPTyMirFmzpmv51Vdfzfr163nGM57Bu971LmZnZ9vv/eAHP2BycrJtWAGOO+44JicnufHGG4c+dmFcC3YaIoKsuQgPj3GJs8HplrLEA8O/Pi7rhO1FFeZcue90m2CRaqCFnmsLT5SylzDqR4z7zZ7jC0rViwae98LZsCaA4KRt6MQQFUouzXv2Q1wqHuFHOQbY5bf1PF60DWyeRWpV62ZhQkWR58/grY3bvxtVwRPHiBenQxg6dhOpT+g8bJYbnXOVtKAMn2k3kq2rBAP7i5ZGpF5X5KVEWtg05xxTzrLdObarMu0cjc6B8nQ+/kXgHbBq5/S4sEph4Y0bN7Zzm5OTk1x44YWrcnrNZpP3vOc9vOY1r2FiYqK9/LWvfS1f/OIXuf7667ngggv4x3/8R377t3+7/f6mTZvYsGFDz/42bNjApk2bhj5+ERYu2KlI8AzWbPg6k+EPsPFtPFr7Zx5yljWmzpQbyfUwRGDCNIjUp6G9lbaDKoLHvSYzttq3rUZQDG5gVbIRGPWjTFDCYFWoehGBcfhiadgSJWN7CqGMQNlLaNj5diJvwiKnbcVNBWAU3R5g76sim7tbjryoj6/lFOMyr7Z9DQuuKdmFLGtGKlKhqL+gTSft8EkHFvjgnj1H9ZB6JtyfRiVKnk3bbWwp81iVsiRUTYwIzGbpgAmvQSmLYkx6dUQEi6FKtOIe14U0supjkXS0XajKQn/LkrbutHSOBWFGm4xSxheTKpztziwzb9q1PfDggw92Gb9yebB62TDEccxZZ52Fc45Pf/rTXe+dc8457X8fccQRPPWpT+U5z3kOt99+O0cddRRArmZ0d4vV4hSea8FOR4LDwd/Itvq/MosD0hmta0y9ryfoSb6xaekD98PI4JJ/EZjwmox7C9Vke49f9WLG/JAJv0mQlecagREvyiqJ+533gmrSsuLvF+HvGzN++DSTpz4CT15w/LyPoVUZbHsNahun3S01K8GlVb8S2bT6N+nwPjXtbZXYIaGFIQayLzwvlbQFKTk4xp04A6/YSukZNUSUihczFjQJPNuWkqwl5Sy6LIQaUHPlrmhzK8fuMO0HLquG8iLRC6dQcyVC9YaqMG8doxW29skXTundRnEoNW2SqIXmd4Y72B7OxMRE12ulxjWOY171qlfxy1/+km9961tdhjuPo446iiAI+NnPfgbA/vvvz6OPPtqz3pYtW9hvv/2GPo/Ccy3Y6bjwRrY+9iZmNOma7RqIY72pMacl6jkeqicu1+gEYvu27ajSVvbph0g6DaWV3RtE7AxNm4peSOZnN61PPckXuxCBihdnY+969914tEL47X2Qeodn3cdIdckHdigltY2WkC4beAUd29ssfNza3qTzZAWQxC0oppo/J816aruOY+28iITf55m9Y38KbR1j71cButXH/XqdeF2C9RzBpCNakxC5gBBHNYgJTCrcX86EkpNMUWsk0yPu/FuK1KeERTON6EEI0NASdRV8LGtNfShPN1ahLKlmtjL/t9ZZ8JS3GwWamhAwTAPzLswuOHKuZVh/9rOf8Z3vfId99tln0W3uvvtu4jjmgAPSMP3xxx/P9PQ0N998M8997nMB+OEPf8j09DTPe97zhj6XwrgW7FRceAebt57FrKY3Fl9a3lD6RYvxulSaOklbbXoNYEkS6uS33aS3uSGKh6R7Qk7PfjQVLQg7pBSdCk0b5BYzdZ23UaqkBlYA39i2wHw9DLoNa+t8FhxcXCa2n/1sclpqhgrRqSJZH2rPpzJsL2u/1h8HXuRwTtHA9FSLSXZ8pDV2Ll1uEtCawM1jaX8vMLtvTHTqFkaDGIxhLi4zUWoQZaPoWrvunKrU+e/W79GIS43uAnUmq0JdS+0HpFR2UUjwiPAoD5GjFdK/ga1OaKpHjMFAl85xv4RFWXwInrHoMXZlHo+pOLVajfvuu6/98y9/+UvuuOMO1q1bx4EHHsgrXvEKbr/9dv7lX/4Fa207R7pu3TpKpRI///nPufrqq/nN3/xN1q9fz09+8hPe+c538uxnP5vnP//5ABx++OG89KUv5Zxzzmm36Lz5zW/m9NNPH7pSGArjWrACVGOwj4C3HyLDhXKS6EaaOv/E7glUxNJUH0GzCs98YygCHq6nLceI9vVel1IlWpYk17iqpnnd0PXuPxyo3DSPb5Qxmb/ptsQQpJJzE++86bg0FNx5FWKXWbDUMso7uEXHJIrDoaWcz6bz2ajjolJvOZVQRATZEhA/XKX+RKiQEBhH4gzGgzlbYtRL86iusyK4499+Zkx9HElmdFvGIFFDnTJRn9tf0wVt73h+39l5dpxzjGHOdV+jI31GaekcByJEmWRitSVaAPjl34DgObnHL+jPrbfeyoknntj++R3veAcAr3/963nve9/LP//zPwPw67/+613bfec73+GEE06gVCrx7//+7/zt3/4ttVqNjRs3ctppp/EXf/EXeN787/Lqq6/mbW97GyeffDIAL3vZy3J7awexopzrhRdeiIhw3nnnDVzvU5/6FIcffjjVapXDDjuMK6+8suv9u+++mzPPPJODDz4YEeFjH/tYzz5a7y18nXvuuSu5hIJFUFVUG13zMLX5r7gtp6KP/jq69ST00aNwj70KN/s3qA4OwQVjv886M85Ix12qIpZRiRk18aLG0O+jUF/qk1dzSwg9BX1EK2L1sqKkBZ6Y9K82zqN1yU3rEzmfxmMVnC/o6IJr6myPXXj6mee5HCTZeb2vkmhu+01XW04rltraBtKwdpa/tXePtqMDaRQ7vV3ZLByc7mL+A5KOJ45WC1Xn73NOS8xoBSuGCB+nQuh84gX90E31aTqfRE32YGV4zI2y1Y0xZavUXIlEhahvIZ107EupqdIkVXJSVQRBRl6BmD2koGmF1cJL4YQTTsjuSd2vK664goMPPjj3PVXlhBNOANLK5O9+97s89thjhGHIfffdx9/+7d+ybt26ruOsW7eOq666qt0edNVVV/W08yzGsj3XW265hUsvvZRnPetZA9e75JJLOP/887nssss45phjuPnmmznnnHNYu3YtZ5xxBpAqaxx66KG88pWv5I//+I/7Hs/a+ZvQXXfdxW/8xm/wyle+crmXUNAHDb+H1j4B9tFMHzgEsx9aOh4pn4DWPgr2gY4tYojvSF9mXxj93b77Fikxtu+3qNYvpV7/Kg23nQhHWRyzzhtYtQv99YQDyQ8ZL6XbM638TLom7ahC0w6YvJPlH4clcl7bO45vnkQeKfUq7nvptJy0YlhwvuItNz3XkjyMV7HQaQha7Teu4vUsF6uoETyb2lnnZ6FiB342vMAZ4JESzYerVA9s4JCuvuHI+QSSUOnwMFsPXh42K2JKq4VbKl5jJsI52O5GmNPy/O9ZlapEVCQmwct0rn0CbIfBTv+OInwi9alribIkjEnYDvHPM/9z56NmBBhVRkRpTP0po/vfvvQPdldiF8y57kosy7jWajVe+9rXctlll/H+979/4Lqf//znectb3sKrX/1qAA499FBuuukmPvShD7WN6zHHHMMxxxwDwHve857c/ey7775dP//1X/81T37yk3nxi1+8nEsoyEHtFnT2Qmj+S++b7lFofgVtfo1BM8m09hEovwjxn9R3HRM8CTP5fiYm/ooJez9u7mps88vc2dhMY8AIOae0Q3w9+xSlaiIarjs83XvjG0zJJIQdxrTp+k/eSTIN3GGxKu1wsK0Z2JQep0tQQtPxcZ09rmo6Hhuy8W5DeaBOMZFdvspTdj6dFchqJC2RHqLiJx0O0BEj7ViuWe7VOCCBhVMBjQPnFPnxCOGGmKoXpwVtrX2geFk6IDvRzKAqo17YPr1ETTYHNv38t7sq026UuOvWJzS0TKIeNhsWUXNVPCxjptnnbyitWA7VZ9I0KGfnkbZ29acJlFXRVey7fbwQXUTkZIjt92SWFRY+99xzOe200zjppJMWXTcMQyqVSteyarXKzTffTBzHfbYaTBRFXHXVVfze7/3ewL6jMAx71D8K8tHmN9Gtp+Yb1i4WuSloA61fNdQxRYTG9PvZUvs0m+NHmNFKX0PmFGZdlUHFSUGOmpJHvlZwP7yO7fNE/FtE1qOeDJ4luxDTcXXJfSNI55N7JqjvhYoXZ0U2mgnoL+zzWOxbq4pEFtMcwrA6hcQiUYKEcfr/2EKSviRMMLFFrEOsS/8dZut0DAPoW+Fsc05Au//p+kRXTaKYR0vY7QFN6zMXl9pDEQKTYCQ1qIJj0mtQMgkTXgNfXBpxcAHb7Dg/CQ/gZ+G+/Cpew3Y3tsCwzhPjd0VOLB4zrkqk3oDiG+nK0yvCtCsRD/DKIsCYxatYC3Zvlmxcr7nmGm6//fahVTROOeUUPvvZz3Lbbbehqtx6661cfvnlxHHM1q3Lmw7xla98hampKd7whjcMXO/CCy/sUv7YuHHjso63J6HJL1C7Gc2Gi6pGuJm/QqfeCrpKDx/Nb6C6eOdfMncVWxvfYJP1eCTxmetTJexUmHXVvvrCkN5IZ+wIeXnRYMAk8ZZtSFRItNW7mBZW1XPyrACRNdSTYElea+tcWv2wZs18nFes4oWa9q923MSNTT04cZrOUU1c1k864GKswzRtOplm0EVbh0QJJkrSfWeqTuI0NaJJ+srtLYb0OGGSvqJkaaWfWdHS/8/en8dbdtZ1vvj7+zxr2NM5p6akkoKQMAnBgCIikzZGEKQJdAsNtKLN4KXxigoKtzF205frpUH5BaQv2AjIjH3h92vnn92CuTagjRiIBAjQzJCQpFKp1Kk6w957Dc/zvX88a89r73NOVQVSlf3hdUidtde49z7rs77T5wMVsc5x/xk8GJhvpsN0ehh5UlLjaJgQze6LejRMwVpFrAB9jdl2KV2fsuHb3OH2cUt5iOPlCpuuQTGP0affqiqKHZBsHabfJU+wsZuXXHCqmAWZnXMG34Oa67mEPaWFb775Zl760pfykY98ZCYanYdXvepVHD16lEc/+tGoKocPH+b5z38+r3/96ye6s/aCd77znTzlKU/hyJEjC9e7+uqrh91kEDQs78kEq76LHn861bMzau8N9l6Q//3ZPZA/Br0/hdazF662vfE6+gqZGvoa1ybUXEWs82qxqpBpTNfP71auE9CHei9XCGS7XdYTa+FNdYOfH5kEwhYcgq88L60okfHExiNSwH08/SMt5OYEM0+NqWr4McX42M2cO5IGAfyFddVBirf0yJnMUFCnCuXRpOYzqskseSPDiHVasWnyfKk+4LCO84ZGZf0XS5DNXK2ItWP6k528aun5mMxHROKJxJOaAiOGQs3cBrh5cFi2fJOWBM3pceRqKdQQT6QJhG0fs1KpSE3uC6L4B/d0/LslljXXhdgTuV5//fUcO3aMRzziEcNlzjk+/vGP85a3vIUsy2YIs9ls8q53vYu3ve1t3H777Vx88cW8/e1vZ2VlhUOHDu35hL/97W9z7bXX8sd//Mc7rpum6VmR0jpvkP0NIy0ZH5qSJhqTFkNVKXCU6nFh2IIIQyyWGDuRotfeh5AdyLXdeQnm5GsINa/ZFKtTYcM351axnArbPqVc4PvqVCbEBcJ1DDpCZ4UdVKHrktpjeoVuMWeeVgPxlmonxol811B+vYWuR2jXBqJIFEkdsi3zZQ6palq7HLuRcoeGJVWkcHddU9Oc/WpNVKpGCEmBHcQ9IBBsKSTG0YxyYuuGvrmxOJo1xAoDPWrFYXFqyRS2fULL5LRsMdF1XvcdGZi1T6OrKXilMabI5bCs+zZNyVkZM5koMZQI8dgDkQAHo8uw7RcsvPYlzn3siVyf8IQn8PnPf35i2Qte8AIe/OAH88pXvnJhJBrHMfe+972BkFq+6qqrMGbvJd93v/vdXHjhhTz1qU/d87b3ZGj5dXTj/zyjfYgIokKBw1c3jBxHro4IQ5sUM7jL7SIysp0XY07+Nk6Foiblm2tUS3KBHOOFfq1OhW2XVqm8yXVyjej72RT0gFjrOpJVYbtIamvCfWerNOPotfJoQvn5DtyaDGurAxGF0LAULe5jHkSZu2xckmJBcbWqwZ5ptLoQdSQKM4UnJXCqOFjwTDRE4EBlNenRjnNicRgJ8oOJ1BMrhLGc2WyH0PUpRpT9NrwXhbds+bpaf2iQa8hs5FlioUZdKdcIphSGM7UT5hEH7H5WD//3Xc+F361xpqndZVp4hJWVFa644oqJZe12m4MHDw6XX3311dxyyy3DWdavfOUrXHfddTzqUY9ifX2dN77xjdx44428973vHe4jz3O++MUvDv99yy23cMMNN9DpdHjAAx4wXM97z7vf/W6e97znEUVL/Yu9QDdeC7p+xvuJxbJKg74W9MduMCWeDe3TIQmelbv6y/HkqpWyzuwd0s2JWHONZrqCB1CFno/pziHeUoXudGtqtd32HGL1CttFOhPdDLYbJ1ZfQvH3++Drzdmjq2LyILy/I1Rrjc2n1xFXKS7NW8crUpR3eWfmdISqgE9tfXQ6OzE1hDgFGe1PvJJcmNGxfawEIwQIXbltW9D3EcfLlepzU9omZ1+0zUbZpFt1fU+fwpZL2TIpsfFzvycg9HyKGIajPAPMm522Nc1+5dS6J906zTt/geah3TX93a2xJNeFOOsMddttt3HTTaNUo3OON7zhDXz5y18mjmOuvPJKPvGJT3DZZZcN17n11lt5+MMfPvz9mmuu4ZprruHxj388H/3oR4fLr732Wm666SZe+MIXnu3TPu+gWobap7sFii9B/rentZ9cSxxKgsWKQVXJKCvV1sm/D0XZ1IwWCan7BqolIhHqjkL+SZA1MCtgLkKie4P2F/59ziOzbk3UGdYXNl1jroRh7i3bc26mfR/PIVZhq0jmNi/NKEoZ0L6pJVab15ufi9cqyqsIpfDEvQXEWukCT9Zia+Ar0f0Fq5w1TJNrbGZGcKCafy08LqpeV50gW1M1fLtYwz4tqCjf/Mj9+KGnf2moxtUwBSWGb/YvwGOCiw5KzyesuyZ9n9D3ISFrCCneWByJcYBwtNhHagpSKYkqB5461BFpicWrzPj1JjWNc+nUB65AlDym/mBLnFc4Y3IdJz+A97znPRO/X3755XzmM59ZuI+BssZOeNKTnrSr9e7JUHcU3fq/QkPRaQqD51oSESKBbc0xCA2J8Kpsan+YEp6HnuYkvouU/xONvg89+cu4/Aa6mlf3UaHZeRHicw4n9+Vk/+ba/ZiaacBsTqoYQsQ6j1h7LqY/Z4Z23shN6YXtYrbhaYBpgQnfE4ovrsDxqeO4arym5m0TpwzKdy4JUWjcXSx9IYUP5uKL4PW7R6wwER4qgUC19KiVGZ1hUYj6nsKA8WHWVQFk1C1ty4pgneA+uYZ2POo9926uExuPFWWrTOZ6+Y7DI+RqyDXCk9MwJYoEAibBMCLeRMoJonWEBqiIcQKWIGox9Wg5S646nH8dYEVSopVf2MUbeg5gGbkuxDK3eh5Bux9CN17DdN1nr7CEyEvE0CGkX0WEUt2OxArhb8ahyPovQfQANP8s25rhxrbd3Pp92sljif0mK1JyosZTNZZyRi94HlmoMncmtfBmLrEGQf7Z10ovbBXpgiNC5u0E8RY3rMKXW6Ml1ZyqmTMJJG5SecnmVSp43gGH3b47fAZapYIXr3XWEIL3MfIc/FdDo5VXj6ZTetAe4q4PxEv4fo1/tcJYUAheTa64rTAqFYsbBrzbPhl+Z+q0f+vQ8wkGrSLYAI8hU0PmYmIp6diR6lKhEYWLMHj2Rd3q+hQ7NTvdkGKmAapR1YcHiIH98QOg+AIa/9CevEHvllh2Cy/EklzPI+j2ezgTYlVVelpQ4sKto7pjWQzFLol1AIOAP4rPbhsSq1Y6q4Pb2kb/7wBoGNivXe70bcbJLBY383Rr56giFFovnZh5WzU+1SOYn9eNANXXgcdRjs1Kegf6rcawacmUipQL9uBHEesA4lgo+iBlSAXvBCndd1f9ZjAyM4csxCnqdSZ1bDyQhW+Vr0kjj09QmQJu/PgDue2h+7jfwTs4EPc4WbbouxhXzSc3TDEjuF+HbZ9gpV55qdCI9dLSMCVtM1J6MmMfTISbuNQIN2HKEJZ5mmNRqwEOmwbWfxs98TPI2u9A86d3PNclzl0syfU8gbpj4L6+5+1K9RgEUxkhNIjpVqM2w3XwlHtQORJCR3HpHcVYvCoiNIGNirT9aAP224xMI7Z0ND9tRbG4CfEIi59ZBgyF3MfhVOY2rAQFn6hyUpntsNlJ8F91kvf9sQTJAkmbcpY4pze2NcRryvnvsZR+V8SKv+tdb6YhALkLLjg1BCuA6TuwEkh0imQHdVhvZm3qhuso6A0d7vh8h+OXHGHlEXeydmEXEcWgxNaT+6gahTIIikiIUGNxU7sVch/RtPMU4oS+j4nE0ZBBA9UIBcFUfXAZbZNN1F8NSmdqvjVBSE11u238U2j88znHPnewlD9cjDNyxVniew91t6Db70RP/q+ntb1FJm4cRoSOabAqDVoSEy9QRZp7TihdzcknEsEBkciEI84AToVUZm9208P+wXd1NjqpU2EKFnH1N+u+j8h9XKWd6wlhp6LQuONKdHGO+fF1tDkbbU9AKwu56XV0wTyrUyTfBbFWs6zfC4gqskCpSajqy30HNQ8RAjPp7ro9iRf4doONv7yYO4+u0CuTYd3bE+aMFcFjcJWb0VaZUvjJW122UNKwWmeszFCoHRvllYlyQDzRGRCIdXoyqSGDv6MUWfnNcz8lDPWKS3v9OY+xJNdzFKoF/sQvoHdciW7+DhSf33mjGgys+6ZhxZBKTFsSGmc5wdGYIthShW2NwqjFFMGG3yf/Cut8WxumYNoubp5cXe4teU2kO7G/qGQt6dOJM5pRTsMWM8QRUpCjZfbefeSyBWl5VUwdscL8G41W4vsLz7aC26F7+C5GqLEufggQKtu5OoKtrOaguveOfXwzdd3M0P3bg3hlwmquDh5D16V0y3j4EQZZw3QhwRZDQZBw5nXNcpbJumpbSqKp8xGgNSTXDD3xM2i+uMlziXMfy7TwOQrd+k+nPV6zW3gNz+cpEYlEbGj/rO27Ud0ou6pYQmrPI6xKn02UfqUzbCSYmA/swVRntVydCltuflfv9Lq9RRZyYwhRsicCMmfYLhN8Fekr4DYi3B0JejJGNywci5GeRXw9wRg36y43xJzlstO4zQDO70hs3xXsopt/QLB+4LAztny4G8uQTJU5vS+nLNl2RLK6u2i90AhXGjpRqKWWlURia0F6uFCLrZFKlCo+XjOjvwmDktQUzZsixDJGzO5m9MRz0MY/Q1Z/EzH7d3X+S5xbWJLrOQjNPwvbv3+XH8eI4Kub5baeWQeyU6UkdEwaEQpVutW+RaBlHF0fZO46FNxSrpBTiQCMMU8g1mlyNbXRbN0oz7SS0jx4rVKVVWdqr4iHDVOua8j/5gAyNnIzjG/mCOuLm981PBdul8bovpI23OPuZ7DbltuzgJAG9qFOOzh8dWyVKaccAa2bmS0N+VZM2SnZyFKsUax4IuOworWXEaLYhJbNEQmjXdb7ofLTNOokEKkeBveZ3sTr7RodYQNVv33N59j/M1QayNqZKad9ryCcYc31rJ3J3RNLcj3HoOrRU69kR+u3PcKpR9FKXWlwrBAL9sXhTmO+WFXJgawi1gEinZ1UjfGsmdBxueHjCXWmcqyb1wyLNaM/zfobILRszqZrTKw7r9t4HKP5VoiMx3voupEiVPG5lQlirS52/tiN7tDg5HS2mWm36WB/hmM3XkPU63WoD6yJBWuG51HlXue610yctp36ZAedXzXbSqloPNllrICLmZmLtYXiVfGRTLzm1lO2jGKajmanQMSCixGUyDgS64inJLFKteTeVmn9IIlocayM+cDC9MiNVrV+pWP6tE02IdTflJK4hmnaVdllUzNSjWhKPFmG6f3/0M4vIfbiOe/o3RjLUZyFWJLrOQYRg8aXg/vGWdmfqiIiGCQELuM3l+omcDpPp25q7GYcdTwzuN9suJijbmVCKGI83SsSOobHu4WDQfXsnKyqzKwbVUo+4/v0KmTOEpugO7U9Js5fOEvfRcNxHbdp0a9MSRtqsIyb9z4ZN+cpXUNkamq6e3cl2O/86UesVRq5Vsg/dxDpRA1XAY0tRPPbNNRWncADQvV+6Oeq6S69bwVCllZxEROkbEpAFZ+MfXZ/t48+oKKUz7idlf1Ba1gRCh9ReMtq0p/h9szHJGbUReywdCth/8GycUGJMF+rtCQjEceKybF4SgxtU9amgyMgHiPSjJJCHas0xgjWQ+/PofPi3b0/S5wzWJLrOQhZeSWa/XfQ7pnva0CgIkP1qwHhDhDtse+tVGVTdc/NgE6FO31rRoEpEj8hTRiJw+vIelwkRKTTEoXdMZGBAUSC0fagoUkVNvNQr81dVJ1z2K9X6JWjdLDPheIf1kLH6hjMHPWlwQFq7WSraLW+uWkHIX4IxHU6xDpwx1kwriMw03AkgBTVgNY8gq0M1afPae5bM6XcNK7QBIFkfaQTKWFxQM3MrKiQf26N/MemZ12FXhnTjifrqkGhKaI5puIxaF4yeJqmGFrLRVJyyJ6iVaV9W5Jh8bQrd56ajDUwSawDGCRE1/EPQ3wFEj8EzlX7uTPt+D3Pu4WX5HoOQuxF0HkZuvnas7vfMaLNtERRDILdI7laQm11Z7v0SWz6iGyqdpqrnVimCk2TE6tjyzeBoMA0XXP1KrWiEl6hGBuxGBDzYIRj/Dg9N0asHvK/24d8J53Z4Vwv9iodPHOLHXi0ztkMdsgWnI60YaVHfKa1WSlcILs586y7Ph1hxst1WvxfCNGqs5PLbK64lJlz0G806D8yIm5N1k8Lb1GdrYdOlhOUts1JTcGF0QZIkDhsmz6XRXfQMI4TvkUknrbkFNX3Yh6xAtTF6rFYZO2NSPOfzt/wXMGSXBdiSa7nKuxFZ32XA3JVVTItJ4Qk9rqfNpAQ6q3zejGnseln5QajqoVJCfyw5RszRFonIFHMEdrvu3iGRIcHGFvWd9FEJFze2EFuGglcDFY0RU2P8rxZ1gridtPXPAc+zJPuaftBw9NZ8HIVQJ3CIpPzuo3GoGaOY84udykahDp8PEXGTnC3NMjvX9KYil6dmgkyTU0xVotVWibHipIahxPLYXuSC6JNGmOp4X2mh6nEKVqy+DOw1c/05aVE6KlfA/dtpHN6s+lLnBtYkuu5ivKbd9muRYQWMdua70nycHofCZCI0PWe3QzxrJqMrTJFROhIH4NSiCVXy5ZvsukaM8pMMNnwNFpW4w/r7QQxD6LT0k+uW6qZ2N7ngv9MZ9d1VnGLI8/dkNxU+bs6kdMk1uzs6gyL8+iC2uvsBlMRZjSrxBTmWmfPcl7Pi5SEuvD0fjJL6S1qJlWZSm+IKjK14kmrDjOLp11pCQtKLCWlGvqa0NNkqNAEipUwatOUcseItTU1Py4IbUmqZQrSmr+DcwRLhabFWJLrOQr1J+/S/UeVb2uOo6/FaZMshDm/Yk5z0zhWTcHJSgyiUcW7W5qy7VO6Pqkl1nmYJtzSm5n51txbcjf7JzAtfehPRUPD8wEWEehCv9Zp3cQ6+PpoeM9dwXcBsUJ4ONDSQbS7z2O8g1iZTf9ClSKel2qu0S0WqDVcl8RVE6hCSPQrjaiYEOpvVLVTi6djQ7NTIiVtG2QMOybDS5hxzbGkOFar7+U0qRrCTdSKYKrfp2utKRENiTHjyxtPnvd2nTtYpoUXYqnQdI5CGk+8648hQioRHak3Jl+ETJWeKt57+rsg1mBybrHq2PIpJYZNTbnTdfAEu7B5mPbVnK63qkLXzWoMZzXEOth+4veN2fXmNgTtIGNosh18WivR/5njzWt+moe7iFiH51PUqyxNQ2HYfOSt4Bt21vtV6qNWqFLAjhlxCm9Cenlm/WY4J69CbByrSZ/UDqJYpWHyKoLVikyhbfqsRkHIv2lyYuOGs9XCYCRnllghjNp0jKEpQioyQ6wRhpZJJolV1sAcrn/DljhvsIxcz1FI8ki08U+h/1/v8mNZMViVGqXg+YgJtdttWFhzdSpkauj5iKNulb7GNKXgTt9h0zfxaipLuNk7W6mGbZfM1GCnZQ/9lBYshCaoeQboM61G3akIzWt9dFrVWuuWzxu5GexPSj9fMMJ7cHuof9/FxArVp7GguWkIE1730ayv6xAaHlamG5yGu3BBVCJEveAj0JiZrm1dcZjDoY0udI+PjfHgaUV55YQzVmOVgkaY8aFj+mE8B2XF9IfRbToj/D9CoVrbFTxAIjW32OiB55e28Jlsfx5jSa7nMGTtjcEvdev3ONuiEuNQ1T23NhkR+oSbzyL01NLzEeu+RV9jMk3INIgAFBqx7dKZdLBX2HZp1UU8dYPVScH1aimDKqZX6Jcxua9PaQYthbE5ygL8TY2Jo9R2B8/TDVZFCsXMq7P6IGY/91Zbeky5h8/2dOqypwmBYCW3oACp1uBrDNOn9zP0fa1JDyuBUOWfnKJ17y6NtT4nbjyE/4e1ifXsD21gTCBSYWAnKEQSxsJMNQ/dtnmQtRRHuxKOaJl8mDrumD6RBPellJLG3Hbw8OA4Pbo2fl1JTSlD2i+au79zCcua62IsyfUchoiBzi9D81+g3f8btt96lxwnaDft/S+hvwtVpwiPH3MxCQiWX9s13cO5t2y6dGYWdgCFiZSwwbNiMxpScizrsFE0Z/Y53FYHhutVGtNB/jcHkTviiZXqRR/qdYPFLSBWqnTvvBedR/ZCrJUzzXfzpiVemeOPgIqgRtBkPrGOwzgN6d6BG/r4Ng/oc+kjjg41Kvr332DrzgT9eiPUw39wk/i+oW0uNi7YzVlHJI7UuEowQodG6ImUrNgQnaZSDA0jUsmJxdGUnMN2i8bCAnp4pO2q0oIZgk2JZkm3+S+QxpU7vhfnBJYKTQuxJNfzAGHu9VfRu5BcTwepCL0dCNaIEhFqYIM8Ud/HdP1snXfbJXONzwf3YiNhDjb4tcZsuZR1bZG7iG5Zn14ebJ9Vij4DFJ9eQ26bOp6vj07nyR7upA08t3a7V71grVLB3+1oYFHncyXML4UHkUCaRkbb1MkpehANnrQ+DZ+FANGNDW7ad4RLfvRWrIFD+7rYxx9j+/I25S0p8RVb1Q6U2Hj2J10OJNt4NXgJD1uDVHAixVDqsCE5zUqVKaKkLRkHTZdDtrdrieWMUAYZ/6YIQipTI2LpTyCr//vudrrEOY8luZ4v0FN32a7NaSYZG4Qbz+LmWUEEElxoTBpGj5PIva0lVtUgvt7zMYYg3K4Kp8rWcJym9LKQWCEIDYwTq9s28KXZcYnaqNXX71nKHeZZ5zU/6R5Tu6qw14ans4VFDOQ94k11Xor3EnxfffUoFZuZNPDE+zt4YqoeXuRvO9x0wwMxP7LBkR86RsOU9A/m2IOjQndiHNZ4Lkw3aFoX3hoMpRoSCZHsgFibJqNZqTAlUrAiPS6ONlmd65IzH7kqyUCEBViRdKo7+J8ha69Fpgn3XMay5roQS3I9X9D/67ts16dLriJCB9hYEL0m4lEK1CjrPpBZXbzWrSFWp8K2G43oeITSG7bLdJgaVoVeOdspPI7SC9l0DTazaMchW2PLvYZU53R71DyCXCAxCMyNavcUsTpf2dJ9b+5UdWM1A4iGeuSAPMeJUwgdx14XNzqBBv9XBZ8Y4g1Br13j5uMpF//UrZgi9ANE4kls0P9t2pykSueKBFOIWBxNUwy1g2MpaVSp4KZkrEiPI9EmLVufhq+ZBppAzqj2OvjfxHsRXXp+ESvLmutOWJLreQItPrN4hfQnIHoAYi5At96yp0hXRGgQU2i5p45hgKhSa9qec/NvCKwYZU0KbqrIZjreU60Xiuj5eKbZKfPRjOyhW1DbGagxTZOv37AzxGqzOfOndaH5nGh2Yrs6/WA3R0y/7sRLv7hmu9P2XkH9kMRAwuzqXjpZd3DKkcKhyfyOYlMqnknrueG2qjA2T2xyj08MYgRujYmNoxnlgcqq3aemYC3pVu5JoeZuJQhFDEzMEynYb7YworRNzkXRBi0pSOaa7UKBIXOGhnFE1NvZFYTUsEfZ0j4rYwL9uvV/gb0UaT5t4fu1xPmDJbmeJ5DkUWjvz5jsGk4gfTzS+WUkvny0OLoM/CZIEyQBSUFWwayGbRB08z9A9jHQTQCaEtOUONh+hdshmZaUu+gjTkUoVRl3hLWEGcFIhJYkHNcsdJ8qTNNSsJ+bvZu1TU7XMzEDmxo30ZQ0MDyvU2wCyLydaI7yXUP+8f3QG4vX58kcMt8AfcdIsk4oAnZneK6VtvBe5QxVw0iPK+eP9hQFRBHE0Y4kq2EIdCFEgbxE42guEUupaKSzYvzlZNpcqAg2Nci2oRP1icWxVaZ4NazEPfbFPTrRwNlGWY16Q1IF2G+3eGTyLZI93vliPFuEmnyMo2PKmbdnPDXsULY0o0M6Itjtd0DjqvNjDAeWaeEdsBSROE8gzZ9GLvwfyOr/Aa2fQ/b9PnLhdZj9vzdJrICkj0eaVyGNJyDpj0H8CIi+D8xhxB5C7EHMvjciB/8oLJ9CJJZEIlZMgxVJdyXs3zaG/SLDn9WKWAFKdXitdHUkRBbjMHhaJhvz1qyuoxqhaIytb0Qn1HgA7JyOz9zZCRF/7yD/6H7kaIKcGhP393NUl+Y1MrFDurT0mGzWvxU/aOxagMEM616J1Tno9yHPd56ZLUvoZ9X5zEIZNHrujiRECTXkvITSzQhCCGBqovhaaUmqJjALTSk40jzFpa07ubR9J4cbm6xF/aGGcNMUE8Talj6POg1iBeirZXC9BZbNOj1rGDpLAZR4ujpmX1F+jXrDxXMUOkoNn87P6ZDrxz/+cZ72tKdx5MgRRIQ//dM/nTwlVV796ldz5MgRms0mP/7jP84XvvCFiXWyLONXfuVXOHToEO12m6c//el85zvfmVhnfX2dn//5n2dtbY21tTV+/ud/npMnT+7pXJfkeh5BzAGk9TOY1X+PNH4CMbvTLxWxYaxnSu5BossgvmJy2dS2kdhdE6xUequDn3FYI1xoN4ZEKmNEagRatmBf1GXNdomlHNvnrOjDbsqPXmVmHrb8Shs5NlXb3UXH7wycIqq1kwaSO0w+dcaVDZzJ3eI6lPN77whWhbyALN/bzUw1kGwNhMENUnel0jTcxlc2e3XbON3dB0cV6TbCQ9TFyQZH0g1Wo4zmWDQZiaNlRsSWSMHjGl8jqiHWdZfyzXyN28sWtxQdjpUt1l1K7oPHcddbelNCJSVmplFamZ02z3GUWi21R867uut3G9vb2/zAD/wAb3nLW2pff/3rX88b3/hG3vKWt/CpT32Kiy66iJ/8yZ9kc3NzuM7LXvYy/uRP/oQPfvCD/N3f/R1bW1tcddVVODf69H72Z3+WG264gb/6q7/ir/7qr7jhhhv4+Z//+T2d6zItvMQQIpOuL5p/Fnp/MrXOyPd13KIuwdLTvbvotCQhlYjIG1zUo6sbnHAd9tlt+ppQqh3awYVGFE+DkmJMurBhCnI3iiwi4ynG7nLT8ogQtIbH4R34G9szDw/i6qNW8UE0YgZ+vp2clL5W2nBXddZBKnjxWjPbkOVzI9Bdbb8DpPS1QvwL4XzwhD3N9KhawXz/FqtRDwhG5omUw/JAPDbDCmF29V7Rem3EWnhhw6dkxJUSGGMPIUpDCjqS1Wa0SwzJVDal7p3ua0lHLLib0OJzSPywvV/03RHfg7TwU57yFJ7ylKfU706VN73pTfzbf/tvecYzngHAe9/7Xg4fPsx//s//mRe/+MWcOnWKd77znbz//e/niU8MErIf+MAHuOSSS7j22mt58pOfzJe+9CX+6q/+ik9+8pM86lGPAuAd73gHj3nMY/jyl7/Mgx70oF2d6zJyXaIWqg7deBV1fwHjUWepnr4W9HXv4wsRZqhgk5qYI7bJZdEG94uPcf/kDh4YH+WS+DhHohM0JB+ey3TEGWTsRlFWLA4zdpuru4XPNEg5gf7sn4Mp5s2h1ux3kU+rVySvufX6OZHcFPbsw+p1YWp3V3A+pJMXndfgWHtAVQ6dXbhLsi1T4V6POMpKFKr4IrBi+7RNRiIFq5UY/wC5RnR1NmK8pejw1eIgm74x89rgpPqacMo3a58z6hrl6qKVcetG3bxm0aWdW9Cz8ANsbGxM/GRZxungm9/8JkePHuVJT3rScFmapjz+8Y/nE5/4BADXX389RVFMrHPkyBGuuOKK4Tp///d/z9ra2pBYAR796EeztrY2XGc3WJLrEvXo/Rco/+fcl0UEp54tzehpseeHUIvQkXSKqJVttSESFocXwUhQ3GnZjDXbxeBpmIKmyUmkwOArfeJobD9momN4OkoNvuGTN0aTKHJpjTHenPt9/XzqnOVeMVkNOe4UjapC4ULqdYexnsnjeciyXadZFyLLqzrtnBGV09hlbfP2Dl3H48dzHeVIZ2NiExFo2oLVKJvhaMVwvFzlc/2LuClfZaNMuK1ocbtb4aRvs+FbNZKZIxREbOq0qImSTMkiGpicba3QGKSCzYXIyit3dZ33JFxyySXD2uba2hqve93rTms/R48eBeDw4UlThMOHDw9fO3r0KEmSsH///oXrXHjhhTP7v/DCC4fr7AbLtPAStVAEogdPEqy9H7hvMUh+WTG0Seju0fe1lli946jPKCudm0wtfU1QhW2fohoswDyGSBylGoyA88KWG8kkBo/WUd1UlQlxCAg34mTYVTyG1myUp4ZaLeF6H9eahVoR6/RLuyDW0+4IzvKzQ6wDlC78pAnY0XupEEZo7O6f0RWCBV2NM86Ow6QDNJXE7q0xqCTipuIQNxFccFJTsNuGLIC+JrS0GDVLiVvo6ToOp0FAVPwx9M5nQ+dXoP0iRHZvoXh3xNmac7355ptZXV0dLk/TvbtwTex3Wpt6jvbzonXq1t/NfsaxjFyXqIVpPRs5+CfIyr+HxtORA38I9t5MV5VisaxKg5YkRDt8nYQgZL4iDYyM1u37glt9j2IsV+SqtG2mEaVatnyDbdeg62LWyzZdn9JzCdu+MRGl9lw8MSfrdNYRBwK5Gkbdub4E/XpNerDub6lOWWmOaMT0OMnoxBYIP5xuRzCEUZq7SlCiGBHa6RArzKczUwY7vp1SzGoFuSyjPdastFcMHtYmzmsXLLGtCRGethS1Yv7z9pBRsqVZ1atQoFtvRE88Fy2/fRpnf/5hdXV14ud0yfWiiy4CmIkujx07NoxmL7roIvI8Z319feE6t99++8z+77jjjpmoeBGW5LrEXIhYpP1zmH3XgDsK+cfnrBd8X1dMg33SZE2arEhKWxLaktCRlFVpsCZN2mY8Yg1zs1uaUxKClsEXMhFXSRvGwS3HB4nDrk+HZNn3McXY/GrpzYz9nBXF1twIRaAZjSQG/R0J0puNJLTO7aR2LKe+BltbT/Vzlg9eO12NYFdFmHcVzOTtQgqH9IswYrNLSzyFuYQslUPQvH0p4GJh9SHrtKK91/jHjjTxvbG4St96p62Celg5dHutOcc5DzYloYQyRHED9P8c9Vu1658TOEs117OF+973vlx00UX89V+P1OryPOdjH/sYj33sYwF4xCMeQRzHE+vcdttt3HjjjcN1HvOYx3Dq1Cmuu+664Tr/8A//wKlTp4br7AbLtPASu4I0nwb2YvTkS8HfMX89CcJvJnpYEKnwR8EcAH8S3E2TK0ffh/G30+Y2vM/ZVGXV5ChC4Q3HaZFrRM8nlGpmJBCt+CpKG0vnTIkTikA7ztnMZ510Sj+Kat30CM4AUzcA8fWzrbuOWnWBIP+Z+rAWd/EMZTQipImmJKfgHJrKwtqpCugOClACmMzjmzKznlrBNYR7HTk+M/O8V4RsR5BAbEo+PJTT4NAUMevh2pTw3cw0olDDiikmUsMKrKvSJOhqz6Qnp85At96MYKHzS2d0LfckbG1t8bWvfW34+ze/+U1uuOEGDhw4wH3ucx9e9rKX8drXvpYHPvCBPPCBD+S1r30trVaLn/3ZnwVgbW2NX/iFX+DlL385Bw8e5MCBA7ziFa/goQ996LB7+PLLL+enfuqneNGLXsTb3vY2AP71v/7XXHXVVbvuFIYluS6xC6g7Br0/QXt/tJBYxyH7rkGi+4/2kX8WPfEcJtLK0QPBNWm4O7BGaPiSxKwQt56Cc3dwy6nrKDRCVdhyDcZJdCSJOFpmZZDmnbyplVMqTKPtx+qHt6X14zPjkcjAs7VuvZp05rwabG06eK9i/dU2OFd1BMuZdQYvggBpOhO5Tq9CXqKN2a5cBTASRnaQSnZREecD2U7XX2sM2AdRq/zIFpe0Tp3uFM8QVhyrpjesoapCV9NhY5zF0zZZ0CymJJbJ6NZjyNXSrMmK9FTJgRUmG5zqNLpVt74r3rt3Bb4X2sKf/vSnufLKK4e///qv/zoAz3ve83jPe97Dv/k3/4Zer8cv/dIvsb6+zqMe9Sg+8pGPsLKyMtzmd3/3d4miiGc/+9n0ej2e8IQn8J73vAc71k/wh3/4h/zqr/7qsKv46U9/+tzZ2vnXNy+PcR5iY2ODtbU1Tp06NVFAX2IE1RKR0TOXZp9E11/AnszY4x/CHPzgaB/FF9ETzwc9OVpHmsjaNeCPo+VXEXMAoodA+mOIxPjen/H3R3+dz2X3pq/phN3coMmpmJI0LL1h203Wa1RhI29MRLPT9nK+gPyDFyFORitoNeM65mxjyvnWcrZGccn0ZiNUyWtqqXtpXhooOZW7T8WeMaIIkt2JH/jGzrKJ41BA48narUvtjAG7i4T+feChz/88D1k7dsbkus9uYcWzanoIsOUblDPG5krH9DhkthFRSrUYPE0TMgSJONoyK4M4QANoTT2QNCUedQ8D0nkZchYj1+/GPW5wjAf8xmux6bwxpp3hsj5f++3fPG/vx8vIdYkJiESoOtj+T2j6VNj436klVnspxA+D/l9M7WA/su8Nw1/Vb6LrL5kk1sZTkJXfQOzFYZO684gfyr2jjJ4e5Xa3yknaZH4fhVq2XMq0OP+AMKdReDvT0FR4M2kvd2tjRKyAyXVWOEJ1tmu4amKqU3CqtZsbiOVPw+vuiNW5kPq9qyLUefA+HFc9xPFi8vQ6Q4yLMJiTVTsg2uD7Or4Hb4X8iPKQn/8CD16944yJ1eCD6TqGbd+gnKNdDcKWb1FqNEwdx5SkWpJphAo4EVZMgUOIp0KxDGioTkSvPS1IiMIye29oPf/MLmaJuy2W5LpEIFMcIgnqt1BiJLoCsmvBfXNq7QjaL4b2CyD/zCS52vsia69B7L1Gy/ofhuQRYJ6MRA+A+PtntI7rINH9uOSCd+KO/S8cLzvcUa5SqqklVgh+r3Xi/Jmb/Io7Pyt76L7RnBDpr2tYqvNslVJr/V0HKk2zO5Gwk/FNqhrsQngfJAy/26Q6fvzBsb0PKeK6UQVh1/OqE7s3gVA1EtQIZcNgi9Ah5qzgHt7nkU/7PJd2Tu1p930f0XPxUGTCVuTXHOs0no1Wa/ajCYLSlIISy3HfAQQjPWJy+mrpVyni5lhqQwkE2xzbl8WMyLbxz1GiczYtvBTuX4wluS5RzduFm4yYTvhjb1wJ+uPQfDqUXwF/HPwGJD+CxA8BQNN/Aiv/Di2/gTR/GuKHzTRxSOtfIK1/cVrn5X3BTWWTr+cXkftoLrGW3tCvEVJ3XoYjPcN1p+q0vgS+M5ZKruv6hdl08CK/1nk3DednX/NzRnWGJ+yCiMOZYpBONqcvOwiEyLQsQwQ72DWALPBl3QFmMEdLIFkXp/SvcCQP3GbtXlv80CXfZF88Kw6xEzIfBUtChZNli7WoRyIliey98aunCYmWE0H5Kd8kMUVF0EJPI6x6krEPtFClOXbi8fhsqz+BuG+C2X2TzN0JSz/XxViS6xJzISJgLwo/815v/6u75Mm72P4zPnvspXw+uy9dl7Dl0hnvVqgaUVxMHSUa0Znu4dmVgKaHyru13pt1lgDFLdrrnNRvTZfw3JGcgeD+DvKDO2JAqkUZ/h1H1KrX7wVTQhIIIRVszeSM7S7ZcPTeKmoMUebJj8f8wM98g0saJ4nnuBotwrZLJmryinCqbNIyORElnWhvDywGHXrEjqOrCe0xV6aej0js6PfWuDABkI7fcv1tMNb0t8T5heWc6xJnDPXb+FOvRnt/MXfOby8otv8L1x37dT7eewBHi31s+XRu+q7Q2U7gAUSgFeU0o5xWlBMGbybPzxiQC0Y32rpotDZqXeSUI7NzkOLqNYe1rj6pGuQLzwaxFmUg6cHncjZqtkXlslOWQ4cctBoj6peYfviv9PcmaKEiYEyoV/eE3EecLJucKht7lS+uotPpjmNhu/ouTTWB72p/9c8Kkwujqaew8Xe6IfGkPGL239FT/3bng99dcTebc727YUmuS5wRtPgieuczoPef0VMvR0++BHV3nvb+vDvB1+98OV8tLuRkGWpbflpkfwzTad9pxNYTG09eNTbZGmdzPVlFE/PqrTU3gYUx2Rwj9NkDh4hYp5YFwf2zcOcp6iNf7WdoPxtFs3PObS65DwT9x0hbXGjKGlz3iHR3d6oKQfFpDKfyBifLJpmPho43u4VOFLdH/42lpPCWzTKUAgo1rLs2J8sWm24eiWtlHDHvzEeY1huGYFCxT5qTUesA/T9Fiy/u4orufjgTL9czTSmfCzgjcn3d616HiPCyl71s4Xq/93u/x+WXX06z2eRBD3oQ73vf+yZe/8IXvsAzn/lMLrvsMkSEN73pTbX7ueWWW/i5n/s5Dh48SKvV4gd/8Ae5/vrrz+QSljgDaO/P0DufNdn0lF2L3vlUNPvonvfn3TrHj/4o3y5bnCpbuOrraWtztdU2tSrwAaU3bOUJG3mDsuoOtqKYsf35AqjIta5pqRaLbgpeMXXuN9MkNvBmLcci2kEq+GxMx6nWjuqoc2i3h25t4ze38Bub4fcBEQ+2y/JwLjvJKS4iaNjVQ0Ig1mgY8fvY4A18430P4jvH93OybFap/90h95YN10BV6LmYUoVUciLxNE0RhEk0oedjtqv5aU9Q9+r7ZOZybNVdPA2LozmWEjYo0XRmhNDEVOdhPLh63Xz9Wcn4LHH3wmkXXz71qU/x9re/nYc9bLE34Vvf+lauvvpq3vGOd/DIRz6S6667jhe96EXs37+fpz3taQB0u13ud7/78axnPYtf+7Vfq93P+vo6j3vc47jyyiv5b//tv3HhhRfy9a9/nX379p3uJSxxBtDtd6Gbv13/oj+Brv8qHPpLJLpk8X78Cej+IS7/LJv9j3HU9TnuLiJndDONxZHryK91HA1bsFXOjlL0S0vf1asuNW1BPphzFZAH9eB/tlATOl6nn6i9AbubDK3qrBE6BFu5cZIZqDRN309Ld+ap4AHqItayRLOxCKzqAtZK2UmtQZIEGZ/NLCs5QlOJ7Vep22GOtCzDsebUckV1vlQggDVDP1g1ULQj8hWLLQXuhKP/7RLMP3PYVc+BuLfjZWfOcqJsByUlH1Fi6bsYp5aLk9Bt7DTUXzddEyNKJI6mKbCi9DWh72IsnlXbQwQcpsZTQFkzk9Z2jZrUcZA12YE4809A/j8g/dEdr+9uhWW38EKcFrlubW3x3Oc+l3e84x285jWvWbju+9//fl784hfznOc8B4D73e9+fPKTn+R3fud3huT6yEc+kkc+8pEA/MZv/Ebtfn7nd36HSy65hHe/+93DZZdddtnpnP4Su4SqQvd9aPcDYA6BuQDsEaT9fLT4wg5b99HN30L2v2P+/rsfQjd/m8JvsK05m97hibgoOkXPp/RcRKYJiXHE0qukECeF+a0okfiZMZzYePpOqW90gkg8BRYTQfroU2RNB59Zwcdg88m/erUhABvvq9Eq6zi+90FqdOpNRPJJopPSTxKraogQz6YucM2NS3eqtTqP9vqh9mktYg0YixgCgQ5OTySISgxIeBBxGzOj4qSL5BAjMyGp6ONAtFEGPg5sZm+LuPVD9+fkY+7koh9Yp516PrtxMfuiHpe2TuIc3F6ssuVTMhcPsx1GlNQUQ/Lr+oQ78g5rcZ+ei4dd516DUlfmI/ZFvWpcJ1TnR0QpeAQ79qauSn+o7jRAVyNyp1hRGhI6iz3gUVSVEj85ijP+Xmy+HpLHnFtOOUtyXYjTIteXvOQlPPWpT+WJT3zijuSaZRmNxqSKR7PZ5LrrrqMoCuJ4d+meP//zP+fJT34yz3rWs/jYxz7Gve51L37pl36JF73oRQuPPW68u7GxsatjLQHqu8EsfTDH6r49eq33IZB9i7dXRbKP4Tevway8Yvb13p/hT/07ChxWDS2JSYxlTZRVttmf3kzhDd8pDgHhfp5KiQf6UxrDdeRqjdbbyg2OD8NO4vK2BL2xHap0VnBxpcw0+OMXwUeK+opURSC1Q51hU4YGp5nZ1jpJw9KHn7F16J8l79UdIHGM+slaqjqH5nloJBqQozEh4hxMrKQpMkaCQ1u7KArkOCCLogy2dONYQK4zUa1ISM0LqAONqmaydaF37YX8+T9eSfOKk3QetMUd2Sq39PcTGUfhIzyCVwkPYjaMPJXe0I6y6hSETd9EyvpTUgybrsFaFa2Olw4sk13eTclpmLpxnkrUX0MaOQHaGAzCKe0NrzVWS1NirIxnCP4neuyH0OgBED0IWX0VIs2aY9x9sBzFWYw911w/+MEP8o//+I+7NrR98pOfzB/8wR9w/fXXo6p8+tOf5l3vehdFUXD8+PFdH/cb3/gGb33rW3ngAx/Ihz/8YX7xF3+RX/3VX52p347jda973YQJ7yWXLE5RLjGCbr52Vn1p+OI2+Ft2t6Ptt6PbHxht6m7FH38Geuo3UFW6WqCiJBLRMgmrNuU+cYsfSBPuFa8TT80kNqSsrOJGSExZ63zTjAqSmptg6cONWAF3ylL+zX6kGP0paCS4hqFMBZfIkFDVylhqNPzureDNtDIE9anf0s+O45yORdxg1nTRtpGFRhoEH9IEkgRJYqTTQiopQ3UOHZiqO4cWBZplaK+Hz7KQRlYNy8oaMinL8DM4Bzeb1pY6MY3Rq8N/6eDXmjvSwJlITsT0b+ng1KAqbBRNjvdX6JYJmYspfES3THBVHd5j2CpT+i4aWg/2fRwCbW/punjm7Rs8J8TV96kpGaumh6k+yJiSjmTMg6B0TBHUnEQo8RRTbscFjg3tk+mUs4/2oPg89P4LZB9b8L4tcS5gT5HrzTffzEtf+lI+8pGPzESj8/CqV72Ko0eP8uhHPxpV5fDhwzz/+c/n9a9//YRQ8k7w3vPDP/zDvPa1rwXg4Q9/OF/4whd461vfyr/6V/+qdpurr756KOwMIXJdEuwuMRapng7Gmzd08zWgJ4MBQHEjrvgcm9pHVVmRBtFUKsyIoKok4lixfU6UbQY3YhFYtX22fTK0lxOBls3pugSnkzOY+ZRRuvOhyWWwP7vmkGceo7ypib8thZ6BbvWDoMZj8vpxGVMqNqtUmsrptl8mf6+bc/V+51RwWY5qnKqh8Sgr0LJEGmmINuv+jgbvvwz/D6gi0iioAvntBbZtzqHOVVF6OjJgj6LJxpxK/IG4upXkBTRGNVlxHvVSK/o/SBmrgE8MPjJT5z1Yr/ovijmc0y0TBrkHCHKWrSgQmiL0iphOklfbGDJvyHyMwaNR0AgepI+dM3RsEKgYF5cYzLRa8VjxeAwWz5rpDU9x4MyjCJ7wXLBi8qHQxLYqBdDG78lkG0D7H0YaP7Wnbb7rWKaFF2JP5Hr99ddz7NgxHvGIRwyXOef4+Mc/zlve8hayLJshzGazybve9S7e9ra3cfvtt3PxxRfz9re/nZWVFQ4dOrTrY1988cU85CEPmVh2+eWX80d/9Edzt0nT9Ixd7e+xcLuMTOdAVckpESR0S27+R0ochTrK6kneAdvkiBecKgXKthPWfcSmxqz7FpF4LH5CQEIEGqakcKMmJyPQiXJ6LiKv1Jqcn2x0UoW+iyaWAWhhsAcL7OEMWXEYU42CKpR/vR85lQx3MMgWilOivh/OeM6khCvFomG9VaqfiRBmB09S79FB97D3+EqtScsSsTakakUg8oFgF7jWDM5fncNvbYcmK5EQFS6KnKvIlTSFvEDGiXSAssq1Whv2NaXgFArWU7slkKtPDD41od5qqixB1VgGDH8HoOWhEHzXYFqTDjWZj2jYQI6l1jUghfU8Bjf2IZRV0jfCk4wNNPd9TGpKLJ4YRyIZsbhhSjmVkpZM2tLVHTMnpL/bUy8YhGTR7dcdnf/a3QVLcl2IPZHrE57wBD7/+c9PLHvBC17Agx/8YF75ylcujETjOObe9743EFLLV111FWanm8EYHve4x/HlL395YtlXvvIVLr300j1cwRK7gU55pM5F8mjwJ4I84hRyHN3ptBfgq6f5AQr1OFUyoOcNJ1yDdd9mwzfDOI6aYZQxjsFYReaj6m88sNf4WZdTM7C5t8NGFndnTPmNJnpzimyMuQBd1if50XVMBOUd8WgGFhAHtlBM6WF8bGeehKExqPhgMSeVgtGg3jpnVGYcmuf4jQ3U+SHBDl/zHp9ZKALRmmaVAp4H78N8a56j/f7C486eyDjB5hDZyUhskCofHms6RV6zSxss6ERBCkVEcS0ZjeNEglomCqTSteinVsk/08H84Db2Pj2KT64RPXQLLs5Iq8B38AxT9w12amZKCKUa9ke9iQYlKwMqVjJiEkoiCb83xNGoUY2aF5zWGimheBQ79+/sLEheLvE9xZ7IdWVlhSuuuGJiWbvd5uDBg8PlV199NbfccsuwFvqVr3yF6667jkc96lGsr6/zxje+kRtvvJH3vve9w33kec4Xv/jF4b9vueUWbrjhBjqdDg94wAMA+LVf+zUe+9jH8trXvpZnP/vZXHfddbz97W/n7W9/++lf/RK1EBE4dC2UX4P842j2t1B8kQlnG2Kk/WIkfRzqt6D8Mpr9D9h+C16Vnk7eHEpV+pXP5TRUoa+WnkbkREP9X4cZNjJlOtv41jAljSq6uLNsoQixcWRV5KpjM7CDOtsAxec6yLcbkzOmIsi3GpQHOkQP2cL95QHsgId8SAObws8Q6dwxXD/l3Tr+77rO3fHQRxW/uR0i1zqoor1qNCVN0SgiyMQLYgTEjOQIvcdv9/Db26evzqQaSLnRgDxHxom88mcFQvQ6bU9X10EkEtLpThmIKUkZzNB9LPOZCpDSoJ9eofjHTsh63JrifmCL5g+fIBZHJ87m9lFpzVy0oXrw0vCdGqSIo7HINCeiQ86qKYgFGiIziQiovudTy+pusoLU+rsOX+28dO71312wbGhajLOuLXzbbbdx0003DX93zvGGN7yBL3/5y8RxzJVXXsknPvGJiTGaW2+9lYc//OHD36+55hquueYaHv/4x/PRj34UCOM6f/Inf8LVV1/Nb/3Wb3Hf+96XN73pTTz3uc8925ewBBXBxg+E+IFI+xdCNOuPQnEj6BakT0BM8GAU0wnON8UXUKCr+cxNZ1t1oSNsoYPRCBnOFQ5ij8SUZFMiAgZPy+b0XEzb5qyXTRyhVhZLiVNDM8opC4PXgcXc2M0sn4xqTRniXx8J/qYGZcNjewwt0WwBZk6EOtcUvSgnfsctINdBB64xEEWhmWiXgv2a5zjnwmc2iJCjCJOmVaRaNSSdBVcdzbIQXUYRMp6pGtRakxpLujqiHK/J2yCwYAsNo1BeURs+i4Uk68f28bk23Uu63Os+J2pVuEaHnXwtlSJ0lWtEo2pEMviQAh5PH1d12p5awFGidERIps4vESGtvut9VSyhsWkaphLirL266CGQ/Mjca7jbYJkWXogzJtcB+Q3wnve8Z+L3yy+/nM985jML93HZZZftSqHkqquu4qqrrtrrKS5xFhBE/C8OP3OgxWfItaSYolE/RawRg/m/wb6hbQpO+QQjOqMAXHcDMqI0TEkqJT0f0zAl294CStMWY12fJcf6K2RjUasvge0xctUQPQmBKN2xCD3VHv5uBq/N0RP2sWAynYiCZzqFp4X+p1PC3o+6dssSvxdt4arOOT3W4n0V3Z5Nq7rhObpJcoWwfLCONaG7WoKN3Pi1K0xEsz4yuCR0ZhsXGsOkAGcV1zC7srETFbLPrHHbwYILWltERocWcwNE4oZdwIPfm6bA4liJ+kSiRFLSNHmVXh5tP5AG6WtErpaWKdnGExEa8ISgHdzTglQsEYaGuKk+4cpyDqHAUeLq667lF6D4EiQPn31tiXMGS1ecJc4a1N1OV2ejLSNCG+ip0qqe9rUi3ALIq3/nGmTrMj/wuAzP9nWS900T0qUikGtELI4IRzMq6PmYUkOaLzJazbpW4xkO8o8dmKizjsseioLNFPrhRi+uek0XWMNVYznDCFZnxSRknEyn6qdAIKaqG1j7WegKPhOootvbZ7aPOZA4Go7zYAedzIQf5/HtlOxwi3i9H/xZ10IKOeqWVePXKCL1keCbFioCtmPBvjjAeFxjl1MFt8dsZSmx9TRsyWrSH2s+Vpo2H+v0dXRMRsvmtE1GwxSkJiepIlYrfoKIFRlm7f3Yt7Oryj6xdCRcYyLRUCSioYrD46v6qkGIsShKiSWe5yWbPAo5B4h1mRZejCW5LnFG0OwTaP4/8Pn1dLN/mJvpSUVIGI3oiAgR4QuYAt9xlnXXZlsbw3UGXcKplPTFUWoYh1BkODYxMEkXgbbN6PqUwlv6Pg6zjGVcpYQDik+vIjdPNv5Mp3UFMOWkItPcC6u0hMfJdCZNPE22dVkaVUQEt7n1vTNF3w1EkKTqnh5IHoqEWdpKP9dkJemxLj4ylPuSoQpTuWaxWwU2D/GcTw2uGTqexSvWMRHlhprm7kdYpDRwMiJLLYlxQWWpYv2WzYcBcCIlLZPTthlrUY+26bNi+iRSEIufcWASPO0x4f7QQRw+IweUeDa0T0NikomudiEa+CSvvAqaV6Ebv430/4RkuknPXAjRg8G0kdbzdn3N31Ms08ILsSTXJU4L6o5B74/wm79LRkGvpjN4GvNm/QTY8ClldcNRDTfVxJT0fCDONTvSlR336TSV9YpTMzRT33bp0C0nFj/pj3I8mb1dz8ynzrrjzMgaQiDW/tTsal0X8PS2lQjF5PLqLIdzQHdTqOJ7fUynPZqvnR4DqmqoIoLNFF/Ny2okuJbFJyaMAMUj+URThA5sP2j5HRxujzI35usNigMZGgexkMQGeczElDRMQSwOK0rHZrRMRseE6DYSRyqOVdPnTl81x+FIpKQpIxnFcZEIGN1APUqpntRM3VLNYWTlldB4ajX6VKO6JE3kwHuQ6AF7u9gl7tZYkusSu4ZqH7/+vyHx9werrPLr4el8r3fA6f0CBbaSMJQh54xLFw5uZk6FDdcElERK0qruuq3pcMxmPDCMjCc25XD2la3pgcsaI/Q6d5y6p+w6azndxbYiYQ50XES/2YB+hpg6S+67EYxBWk2kkY7ELaLp9GaVnaiieh8bjFe00ECsyezQ63B+uFA0GRu/0aDLO9PYpMpQuWHsNfPVBv47Mds/fietSwdCEkJqCvZFPWJxxFKSGEfLZIiE71FCSdtkGFH2m24wR586pMXTMSXjFrxpdWyD0JLqOxY/DMxFSPMqSK9EZJQpkfRHwR5G/e1QfhvKryMrv35uEusycl2IJbkusSuo5uj6/4oUNyDJ96PuG8NIdLppY/4+tDZ6zTVEowN9YGug76OhcIRqGOpvmGJsX0JPE3KNAQ22YAQlnYYt6LqEUbexI/dxCAjzmhv7bkdrprDrhGXditaGVOq444w1SFmiJ9bvttGrtFohaoVhWlgBrMw2bYngGnZEnEogxCkuHk+jG69451Fb2Q0WgWB9FP47roYpBJEJHxFmYgclh54l+2oHvfQUEB7I2iZnf7RNJJ5YSqx4mpKzz2zTMI6EEhEN4vwy/bAYZlubU6IRHRGiqpmpLWnVrb2K7P8DxOyrf/8aTwSeuIdk990Xwh7+BuZsfz5jSa5LLIR2/yiksvp/FWyxou+D9J8EDdTiRgr3ndompr2g66GrCUX1dXQqdMfE+UPTkqVbJiRSUKoJUoeY4dhE0xRBVEKjobpP4QzbRcJWZYxtDMgDevDl1tgFzp5PbaPFmTxlz+t2tTb8eA9ZFrLCzQasrgSPVe+D2tHdCZFBV9pBpL9qZtLIzEg7KuDSqp46ttwUQQ4xdBKHFadr1KZQvPdobELt21VRr2HmvRQNwh5OhfFRaL0lpSiFZnWHO1G2ads+F8eniI2jKTn3idaJxdPTiFg8DXFYlHwsEzMg3PFoNQGaIlgREixNSYZNTNL5xbnEet5hGbkuxJnl85Y476HJj0H/v0L213jv2co/T+/4MyB6AH2/xZZmu/4bERG8KqUqhSqZKpvek4vQIsNWAztWlFXbI5GCwV9gLA6vwu3FGpuuEWYOXcRG2aDvY7YrMk4q5xxVYbtMJiJYAHNkSnT9DB6fa33aJYyWzJRxozl/as5VrjiD7auGoTie9FW9u6DVRGODNhM0jdDEzo4dSbheTWf1h4RAljb32Mxj6/xvGdW4hUCgxkFUBOLdldGBCr60w314DLfn+2ibPh2Tsc906ZiShvHsMzkdUxKJht4s44c/iUwSawp0jMGK0JaEtklHFnL2PtCq1zlf4p6HZeS6xAzCzHEO3Q/B9u9TumNBpk3CKIGlQLf+E33d2bx6fJ99wjhOzau0bU5Gv0r1RkTi6dgM1Yxco+Cg4xMGNnEQJBC9SiVrKGRElGopvCX3NkgnjkUhzgvuq62p1GXt6cyiftg2dLeONyYNRBy8TjYs1TU5FcXsLOtgjjTLQtRqLRJXwgzeh2j2TMd0ThfGYFqtSW6b9qYFfGxxnRoxicGGuxGxVyYVqwan4KsZ2LimDjuG9HF3stIKD1JRNVLjCWIQ9zInWRubhd7pdCwhCjFAa2xlOx6b2Psia/8BkWR68/MWy1GcxViS6xIT0Owf0O47wd4fuu8EGOqfCpAQdGVVlZSIPjunLQfEmqlOpEoGdBOjpJR0TEakgTBD57ASoTQlRyPlen8/tqRB6SGrRm1AKHW0M1XIXETfRRR+dDSv0C8j7B2zMorTSjlqZuuuUvdQoMx2AgNSuknCdVME5NxkM9NwfxrSrYBpNMKsq0g1Vxpu2lqW+FPfG3KVJIzVSL9AShfqorGdeP/UCuVqGpZo8LkVN9JiVhgW67QSAtbYzDCcQGiGSmZfm374CccfPXRxWY9LHny82kxJh8OzwrfzQ3RMn/12fVfXnBAi1dnlNvix2vshnV+GxlM4p4zOzwaWaeGFWJLrEkOo9tDN/wByCIr//3C5iODUs605AnRIceiEu8giiAhNQp1qgJYEL82ulpzE0TYlon06mlGEthJiSlZNySGjHHMR++w2x8sVtnxSa4LuVOgW8dB2rhybb3XewB0RktWkWsdndahP93prsFNNRlLUpDSnZQ5VJz1Nva8nVu8DsXqPGIM0G2gjDRGv+iCHWJRotkfR/bMFEeTAPiQvAYXSIQUoKZrGocbaDGliU6V6XWpm3qOK76qu6vA+efWhg3iaYHW2e3i4k7F1BcLAaRSi2fReXRJTUlSShuNKTadci69lh+lIxsVxd2HUOh2pjqMhMZAiB96NLFAtW+KeiyW5LgGA5p9Ft38fogdB9nFyf0ewigOMGDItcVV4WKpj6wxcOzqSEosFgVQjvO+SGE9Lc7pqyDUIABywJSvVOOgdLqVjcy5JjpP7w2Q+nhAYyF0QjBiPQSPxw5lYazw0a6JMX9MtXNfkNOP0ovWawlPjOTMEXNRE+jWEq2WVGoahYfn3soPYtFsYMdDrh9EbkeD6E1uK/Q2wBpM5xlzbEBdGb2y++LyNU3ypaDxLZCEinUTdw48MoiiBZCWnaQtidWNON1p1mwsn3ArfKC/kQPRtGnNykwKsiIzqqWNoEIWolQw99W9g//v27Nd63uA8jz7PBEtyXQLN/hZd/0WozOC8Kl0taJPQp6BDSiIRghBjAslOExKCRYZSb/PQliQQ62A7EfabJsqou+6k6+HQ4Y3NGuGByRYXRF2+lh9kyzcovCXTCKeWvrPkzmJFq6AxbBdbRzHW1JKs5ZSX9jHfboxd/Ow5zozi+BoirZtnhRmZw4nfva+vsU4532hZouNk69z3lFglSZDKDWcozC9AmqCxHRJrLU/Z4NG6U31NCh86iKe6gbWGtAYeujORrg8p/SgJzjbx2Ac5iGAjcazaPl6FeM5JjXcDT8MgVdRaIf8HKD4HyQ8svsDzEMua62IsyXWJyph5dIM3IuyrlGQG+qdWodRRFDuNFUmxYvCqbGi/Jt5gqK06DTs2V+jUoyJsqeKrGm1DlaYIJ1QwohyONllt98l9xLZL2XChYzjXiNxZei5hu0wI92qP12BdF1uPfcxJ8tsvRPrhmDO1VJ0VhpDp+U1Ayhqy875eyWm4kQRPVOeCyLHXkWD/+ClMjd/obgX87yoMzi+OKjUmgSRBTSBDk1U1ZpFhTVUjg0aC5KPXFkGGx6lJAU+vW3UP11QGwuli8NV3BZS2yYnFkUjBis0qxa/u8GEuJTjXCFXz0oJzbUsyE6Vq70+QeyC5LrEYd8Ne/yW+m1B3K7r5/6l/UYKlnFOPiJBKVJUnJ8kgJRp6UwrQkPq73qAZauH5DP8X4Am20Z4QZEbiadiCQ9EWl6bH2R9t0XUpPZ9QVFKJrSgnqvKTQXx9TKSgodgfPYlGgw6omROYfRumo1avtQ45E7XVut0NOomTGG028PtXKh/WsfWn5BO1Ltr9bkEEaTSQtdWgyBRFQVkqTUfCFwqmXw5OHkTxDRuI1SlS7C480VB/GP0OuLhy1qk7NTeZqleCkIQaxXZyNst02GuWGEfL5kNijaWkaQqKsdufhaHDzTy0JSGqa1oqPr2razzvoGfh5zzGMnK9p0NLaP0sZB8BGsj+3wsm6fYyfPeDUNyItYch/xS47wBMNDIlWGIMPS0odNZiawAhOIbshEIdo+nWgFLhZhdxc7mPniZEEhxNAO6VnOTWfD/fyfajlQ9s5iLKKqxJrMeagtxZSjUYlPSSHuXTSvL/5wB6wk42IM07+Zk0eB2mV5IaDeEKxgQSFQJpDaLVqZGd6Sj2uwYR7JGLwhgQhPONo2F0qpGBKDxS+ahqRiodJvNI6dHIhrTfLuziGOxvqknJOI+fM+srBHMFl1RN25X3q3zfNs3VUFvNfETTFqGz3ZSVl6vQNBleYctF7Lc5mYROdgCrSipCY+pcVqU5l3jlHjrbukwLL8aSXO/hkOg+yMrLYOVlqPYQaQ49W+3q/waAah+9/RHDbXzVStSUhFQivCrZAmI1CJ0qbbwIqkpfC/rVja7wQo4h85ajbpUN36LrE2ItaMahczkWx0Oat7JeNNlyzeCIM2WsbkVpRuVEmU4PFpx4YBP9dActRmRZ9wevIpPpYyO14zp1LKyRQfKayFMVYhtWH4/Y/JjNWTXz+j1BHAfBiAFJUl2ZkVBnrc5ZzWiuV8rQvCWFx8vufFgHqK25KovTyQoqStmQ4H8Te9If2Bg2uhXe0jAlIGyUDQ5FWzRtRtvkIIYSQ6aWxpi1nCPMYqcwzLLEzIphDGEvheZP7/o6l7jnYJkWXmIIqXHs0OJGtPenqA5E0KEpMWvSJK0iUVOp1TQlrkQmRreilIhVaexIrAAFIWodcJYluN1sa0qhEUoguS1t8vXsQr7SP8zne/fmm/kF7It7tKNswl5u9vrGjuUN5kiGxopPxmyx6+6iNaeudcRRd4lG8LHBxzb8RCakQAfRrJ3cSKbfp92oEd0FkLXVoQqTjww+sWgjQtNoRKxSEe3AHL5uR7s9f8PEe6+Ajxd/Z4YPRN/fQw8WJM88RqNdEFclgcSMtIA9hq7GpJLTkgxTPSIOeqMmThkmprdzHJua4adXlFVk9bcQmZ2dvkfgu5wWvuyyy4ZuS+M/L3nJSwB4/vOfP/Paox/96Il9ZFnGr/zKr3Do0CHa7TZPf/rT+c53vnO678BCLCPXJRZC5ULYfufIhxXwXtkio81I+k1EaBAP73iqoWt4N6Q6PBYjNRwPdIkoMaRSkkjBhm9WXpsylKTLXIzD0rYFTbOO90GXuFSLqmDE0y/joSnAAE4N0cGC8ikn8R9bQ44L4kLtb7q7Va2gbso9x9REqdaCK0eCChDI01RjK5UEohQuENKg2ceYsJ7zYcylahQWkVCT/W6mhq1FWi3k4NqI+ON5Dyzh+oP84WT9c8R8O0evCvjETqyr0WzncB3Eg34nha7BNDzNKCcygTYTUw7P0VSerA1Tsmr6NKSoNKsNPbWkA23h6kMuVInHzsfh2dQ+q4z8htENdPutkDziHqXMNMB3Oy38qU99CjeWybnxxhv5yZ/8SZ71rGcNl/3UT/0U7373u4e/J8nk5/Kyl72Mv/iLv+CDH/wgBw8e5OUvfzlXXXUV119/PdaeXRGQJbkuMQN1d6Abr0aLr2LWXg37/iP++DPIyGhIPEx+Fji8KhZDXIVtDsVSeXnuUbjXYojE0MSzrUpZDTRG4rnAbrNi+mQaY1C+nh+mT0Lb5iiCJczGXphukvmIDdcMkYkKmYtmnpJj4ymdJd6fk98rhzsqWzARvFXsOJ9JEJofb2Kqj1yrSK4IN4DBmMpoIw2pzCgQqXF+NFKSJIFwS4fGxXAeVqz9rtZdJU2x+9fwyc7RmCiQlTOfssZ2Mal6X43zhHV8MplCVmFuI9PEcQS8BTkVhRY4r6TWISjtKKt8W4Nfa8vmpLYklWJIrACu+t5masnU0DElyRxbJI/Sp6TJ+CjOJ6H8FsTft+P5nnc406akPW57wQUXTPz+27/929z//vfn8Y9//HBZmqZcdNFFtdufOnWKd77znbz//e/niU98IgAf+MAHuOSSS7j22mt58pOfvLcT2gHLtPASszBrkP8d4r+Frv8v6Ma/x1HQ14LMF8OOya7m9LVgWzNOao9T2mNT+2xon57PK43i3cMSlKAG+sPjt1cjSsuU7DM9WiYnqrzHEuOIxFFoIFQRITWOfVGPxDgKNdVIxgi5s/RKS+HCyIauOnwsDNQS1dT83U8vkDn3BhuEFeqIVQqHyUtM7jClD2ScxKPZUQXUI2bsCdqY0PB0F0MaDaTTxiRxqPPOq/VOfabTFOgjM5PqnjlW6Ydp8VCznewS9jVyiDOnAZRxdTyAWPFOyMoIKx5TiUY0TEnH9mmbPk3JaEm+YNdCz9vBM1AtMi2m0sMC0X0WnusSi7GxsTHxk2XZjtvkec4HPvABXvjCF05MIHz0ox/lwgsv5Pu+7/t40YtexLFjx4avXX/99RRFwZOe9KThsiNHjnDFFVfwiU984uxeFEtyXaIGIgmy/w/wCk5zNP8sBkOMHRuVmb39DJYMnvA3tE+pu2/IKXA4RjdsK0oiDoOGLmC1nPAt1n2bC+wmsYTZXKeGvo+GjSwhKFIET8sWNGzOWFWVQg2lWvKtmKK0mPv28PfJR9GSzpLGTKQqMv+vx84SjJRjM7BVR7DGNqSBy4rMsmzUQTw8jGCSZKgtfFZRWd6ZAwewF12IveAgsrICYpB+MVuMXDTDS0V0ka0idB3N8TofUsdZiRQOjQw+tfhIZrSD64Qkao8VV+taQdsO+5Q7aaYlrvpst11K4Q2JBM3q/XabA3abllmsLOYwuIlvyyQUyMcrsuYIIo05a5/nOEs110suuYS1tbXhz+te97odD/2nf/qnnDx5kuc///nDZU95ylP4wz/8Q/7mb/6GN7zhDXzqU5/iJ37iJ4ZkffToUZIkYf/+/RP7Onz4MEePHj3tt2EelmnhJebAMNBaGsy5NonZJMPXiEjUwaNsasYqu2toshjaEpOIw6nStkFw0fmSAqGvQkdyQMEKJ1ybUxpXEaoj8zJsUonFs2b7FGqx4shdRM+F1K9qEAyQpkdvj+HTbcypCKpHBjGCN4oZzw6a2Vqsjy022+XDw4CYvEdyh8YGKUqklwcCGldpqlMliqoxmF081e8WYi1mpYM0G4EUoygoKgyENHKHJlUU7cJ7XnduCmhkw+uDWvKcrIWX4CRUJ9YP1UOMV8Rr5flas45U6wmoUfjxk6xc0CO1JV7DOJZHKIk4VTZpmByD0jbZhGrTPJQqOAm2iBEwPZs94VCbPHzH/Z2vOFs115tvvpnV1dXh8jRNd9z2ne98J095ylM4cuTIcNlznvOc4b+vuOIKfviHf5hLL72Uv/zLv+QZz3jG3H2p6l0iX7kk1yXq4W7CiqkcbUpSIroUtCVlU/cmHt/XsN1OsGJoTTWGqCpqwOMp1VOoBxW+4ZSWzUG26fuYKCqxKEYcRpWTrkWhEYKSupheHFNoNBTzrzKwyJZFOx62FBA8lVm3ZZJca+quWMFbwew0JwshGis8klVdtb0cGRBqWU5GiSJhpnRKh1ishTQdKTadYS1WiwLf7WEQZDCPO2iukspKr19W6ev5dVShiiKV8MAw5+1QkdB1nC6oyZpgqC4etNImnl53mL63gn9ol8ahHCueVlSEND9BmQsg14ht12DT5qz7HE8PXyk4ecKPAg0pWTEZFk8qHgdsqmKBFkw0NxlkeEOW5DG7fbuXmIPV1dUJct0J3/72t7n22mv54z/+44XrXXzxxVx66aV89atfBeCiiy4iz3PW19cnotdjx47x2Mc+9vROfgGWaeEl6iH7yLWkqwUNiSnwKLpnYoUwyuD09LRxpRJPj8TSMDFNibjFO465Ng0paJqctg1pvwuiDS6OTnJRfIr90Tb7om6oxxKRWEfDlkMOi4zSSErMA7v4x2/gnnEC96gtfKfKCRuZEYiv07nVxODS+UpCYSWtIrqq+ce5EbGqhrTw9DUPUsHjIgpRhFntYNIUiWNkoJR0ulBFez389ja6sY1ubsHWNnR7QUfY+RCB+uDsI4ULaevSzdZeszJc3zxiJbjmDAX+uyWmX4YZ4EpKUiFY01VfFdFAtOPHUkBtaGTyh0vMQ7pY0WEmuRXlRBLKAYMtCrV4H7xcu5rS15iciBJLqM4aBjmPjikmuNwBW6oT/QOmatgjeSykV57uu3/u4yylhfeKd7/73Vx44YU89alPXbjenXfeyc0338zFF4e5/Uc84hHEccxf//VfD9e57bbbuPHGG+8Scl1GrkvUw31jKBYhIvR9sVCQfx4GT/g9LejsInpdeErquc312dLgfmNF6UiG12zahYx7ReuAcl3+APpDizqtml08uQ9Sjo3I4dWhkZBfBFzXGv7RuxhsPlYCrRqdJmh0IGI/Lazv/PA1KT0mq4hn2gFngYqTxBESR+F0IjtMDeO1cqcJcoS6vT1bH90LVNE8RwZ14sG+vEKaVA8EfnjtQki7IkE4QmODKX3wdzVzUrmRCZmA8ffJE9K/ZqQTbKY1m6d/jUJK2HXAPXaTRlyS2pKGLUhNEbIZBIP0lg0PXyu2T0HMpm/gMMQ4YgmV1cGpWrQaxal5ewjK2wkhJWxkFdn/Zkgee891wwFEdW76f7fb7xXee9797nfzvOc9j2is0W9ra4tXv/rVPPOZz+Tiiy/mW9/6Fr/5m7/JoUOH+OmfDiIfa2tr/MIv/AIvf/nLOXjwIAcOHOAVr3gFD33oQ4fdw2cTS3Jdoh7pk0l5A0HEtUVMTrYLY/QBVJUc6KuyChQS6qLxLgyluz4nFjuxrlfPcd+jCyjCmumF9B+KIwhN9DUiwtMxGW3J+WL/QnI1OBVSU1JaQ+aioOKUxRhVmq0CVcGp4LciIi+o0RA9ydQsqwRBCDPtUVpOmaGPiSoogUAG0Vmtu42NwE8ZoBsztHaTsbEVVMNya5EkDqnjNEX7Z8Hndai44EPKudmYJEoT6qVoVX8N+deQDnaKOBfqoUnE9GjNog7iQYZAYCaa0TGyHozelPsVfeIp2gd6tKKCTpzRiYLN3OB0I/HElKzYfnh2wZD7mEiUnLhqWvM0JadpClIp6KnFqiepCb8zVRIJxhNm9d8h6eP29t4ucVZw7bXXctNNN/HCF75wYrm1ls9//vO8733v4+TJk1x88cVceeWVfOhDH2JlZWW43u/+7u8SRRHPfvaz6fV6POEJT+A973nPWZ9xhSW53uOhWoI/gdgLJ5ZLdG/MBX8OfgvdejMN/3EiDH0tcIQ0WQYTGqyjfSrbFblCSKt1gC12bm7yqqQyMgJQVTZ9RoEjVyWSUB/zIqTiqOI61sjZdDGCsmILui7ipuIQm66JJ7jiROIxArFx+KSgFeVBAarXQG5qwP0y9KBD77CQ7/KpWmtE/N2IfAWGsoBAfRrXGnBmknjjuL5rVgNZSyPF97OQYjYGmk0oyzATezrRhDGjKMwaaLVmzlXGx2dk0FBkJ/SQB7OvE0pOdofRmkUZ9UgGl00ZQXnYY550kpXVHu0opxUXw3rrAA0paJgCFcN62aJjcxIpyYlo6mgURzH0NCXRkg3fpGVyel5RcSTiZ9LDqkqcPHQpdzjAGaR2h9vvEU960pNqR/yazSYf/vCHd9y+0Wjw5je/mTe/+c17P/gesSTXeyi0/2G0+/+F4h/BHoHGT0HjnyLR/YfrSPQA1G9B/GCMJEj//6HUjIKgv+qomkthKLavQF69NsBg/ZYIXc1ZmTO6oKo4PH0NKWijQs97bneCiKFZydq1qv8OMqkikOA5ULmeAKxXpOrH2goicaS2oBlZGjZ4fuZOMAp6/z7yrRRO2tEffc0fsXF+EReE85lO8Y6TpkggrellaRKWFeXIcab+TRq+V+OzqCISCDmKwPvQ9ORma6PD9eM4HGcQFQ8iy8hCuzV3tlaqTl5vq+uoovTJlZgkzJ1Sp3NeVxOI3EehialsCe5Ht0jbJdYopVpEikqQP6BhcppmlGFRDJuuQctktGxBX2MaFGMEK/Q0wQjkPiI2m2xjyNXRMeUw69+pMghx+/n36FTwOJbC/YuxJNd7ILS8Cb/+CnK2g1uNbuM3v4Lb/I/Y6HJM61nQvArtfwLNPsJW709JJKI30BdWJSYYSosIG96z00BKH4hVQfzc9HBfC/qUwyfTDNhQpaeh7tdQN3Efzr3BixDjiUUnXjsQ9bhPcoKeS1l3LQY12kg8nTgPZusuolBL3CrJv9bC/H0HUUGtomWorw1TxIP3zsgkeQ66iOd1DE8rEogE0Yh+Vkki2jCeU7pAVmkyP/JUHXUIzzFPF5GQMrY2vI8VCWsxiuwkTUPn8QBGRu43u/BeBYLQflSTEocJhaaB5+si1KldKWFuNtRYK772gtyS4A5lOG+Io0lbwZbJSY2jVKHv48rDNXxnuj4hMY6eTymIaNqMiBCdZhrT0hwz9h0qsGx56JgSJHwPU1UOLAUjRvgeRK7nEpbkeg+CuqMUm28k7/8Vua4Pv9sRlhLHtubExefg1Gdpb76ZLX87ACWecky4v0cg1kSk0hDeHbZVWQN6FMEBduom3pCYUj2leJwqWxXJpMaz6VPudLBmC2LR0NNDxLZLaFAQG09S6cOKQCqOi6JTnEqaFJlh26cghoYt8AhORxGtEcXer095pEBOREhX4MYm0R0WtUw01agVtJw0T9fIoN6NSGamVjv5K8agzUYYb7GVa063PyLMOnIbRLWL1pnCoFarIqEZqtpWpupLYqPRZzGot9bVoAadzRIePMTNpnt1TKFJYUcpRIXatPDQiD1wG2USuojljjjMKYsGMqyUmFZsmP/dcgmFhttaoRFOiqpzOBBux2aUWDZdC4ujZXJaJmQ8oqlvcoGlr0qzcs0xCNhL5l7LEkuMY0mu5xlUe9D9v4E4pHntwbDc3YGeeC5Z8TXysTgzIcKIEKtlTRpsaJ8IQ+6P44cyElCqUhD8LqPB76qMpNF3hge6qrTFk+NIp75+IkKHlFPaD3XdannmDVYdIsKmj4mrm6CvxCBOaZNV7Q/VdWL1rLuUDd/EirIv6kEpbLoUr4bQXxQIoGFL+i7CRI6k7dB2DirkX2iF901CSnI48zpQZhq/D1vBNyymVzUxVSL8Uq2vsZ2xndM0GpGQFSRNAqkVc5rGBmpHozdrl+/6mAjCvKaN8WajZhrM0CdOVsN5Tc/VNtLZ8xhEyxI+G3UK0fxzFcD0Q7f2QLBCGdVap59L9GCJNT48EIknMSVtm+NV2PIp00w9nsTPfETbjEoHimDF0zAFKQWrZrYprK92mDGJJAFzeO613NOwTAsvxpJczxOo30C33wPdD4CeDAs3X4vay0As+HXwd2DEgDoiDBGGRmWXJRI8Mddo4tCgoTouGUgg1Jhgx3V6U6sh1ZuoklEMLevGEQg2QcmIVdlQiyKUGAyOk66FIqE5CU/XJyjCpm9gxZN7S1cTepri1JBrhMNQqMWppe9jtoqUzEVkzlJ6U023CK4waM+iAmbDVipNgo8UyWsDrPETH/17kAods5XzkYZxFWFSd1g1vJ4KYg1iI3BTJDueDh57n2ikaP8MFZuMGTUuJXFojBqHVmM/dahJX4tTUDcSndjFM8CgS3hib+OpYiHY21nQe2cIiiEQa2JKMg3p/bqDmbG9RjL+gBNE/RsmJxZHRkSmEQ2ZfJ8VIVdDKj6If/b+DGn9850v6p6AZVp4IZbkeh5A3W3oiReC+/rUK25mWYOIhkQzKdkBRISgaxSRj+kCN8fGQWLv2e0tfRDIdIloSomVMJ4Ti9bKjnlVur7kpHpKDR2+ToUN36zunUKhhm6ZViIAkIhj1fQQIMeyrYEgCrV4NeQ+olRLWUWtzhv6ZUTvZIr87Rr+gT3kRIx8LQk3+Yf10ZZHvUHz6hyluvsHbb3aC524kum3NzL4AemOjdUEYQYdiVZ4h0xHr0V9B3BQbErQbLFe7lwYgzTS0ahPs7n7iHiclKfPyyvqldqh0TnQKTIdLgdcRBCOuLggOlDQjMrQJWwYzivPO+2oKpgLSqdqeAv/7hGJJ9eIUgsi8Wxok9IHcf/x08nVkOLpak7j5MvoNJ6ImE7wONYuYvbt+jqXuOdgSa7nONQdR+98DvggPJ35koySaGgBF5SVSvUhrUsgz4ZENEy9rdigoSjG4vG4qUfMRIRsl+Meg5ueaBBFt2PxsEOJxu6kTj03lV0KoO8tXY1YMzl3+g4nfZu2ZFjxbLoGx8tVco1IpWB/tE1XU9qSEVey6yHiCIM6Icatxjl8IFlF8F4waYgmzVdTTBlkEuSzTUyhE7KGasLIL5U27kxH8OyVMz0jO0E2436uUKkglVBMzbsORP3nHSWK0B3WqYWREbEOzk8YpnR3RJosXs9rMOfdxfdEYVLhavxtsuAjwR3y6I9u0opz2lFOUnWMZz7Gq0yM4oRdhAanxDgMno7Nhl6tglaPZeG3Td9g1fSwonQ1JdeIAzZMVKfihjXXHOhpQTv/JKSPQ9d/BewFyNrOQvPnI5Zp4cVYkus5DFVFT71ySKyFOroEq7cubug62atmUqutcAopjouA1MRDaUJB2NR+oOPqpjilXX9aYwgi0NSR76cjmFFv0qehUfCIFSFXR46w7lLuLFus2IzvFA3WyzYtk5NpRKkhfZdrxJZLiSNH34dRirSKQFIp6GuCFV9NhXjiyoZMBipNojT257gnrqM3NUNnsARDdNvXmcDTV+QaaqpjKd95n401iJuTPJ8m1mrZDLHCrvSDJYnR3h7IVSRYzI1/lt7DxlaouTYaM+vPOuT4+TXcwTaEbmKFoV7xNBTw6Wj0SAmWc0oQjHAJlA8okMds0m5lNKOS3EdE3pHY8P4GzWhHVBXGB2SaiCM1Bc0pScNYyonIVKdUYNMqNRzjaZvJ97UA3PovYs0K6DYgaOu5SHzF/PfifMUyLbwQS3I9l+GPQv63QCDanoab83bVfBQDdQnDsvI4zdVh1XDK9xEgFktfg1F53ffeAA12VUabQZdgWJ7gifFsojRUUSnIcazSIK+i2kwtDRN0gDNirHhO+VBrNeKJxbHPdkmqm2RI/46O1ZScQi2JCD1JicSTSEliIhpRWaWHhYwI9Rb64eZqPFX0WnfxYURHHGAFx5RSk8ikNOJAzUhkQlSillihnlir/bCDMYAYE2QQ5+1jYuWpiHUc3jPz6Q5Gh6ZTz8WcjuLhdqP/SOnR0o9qzX6UBveJHUb0KiMvVx9B2TD4wyX+h7doNkPH7+C0S2+H5ArhOx1V+YmgyqSsRP1hWniAqOoQHofFDaNaUBqVlWGBJVdPUzwxQf7QEqwRjd+q3kNFt94W5BCXWGIMS3I9R6H+BJTfGP5e4nFVnNmqbvQDMixg2NkrwJrxNETo4eh7h4VKqtANjcphNkM46PY9HXgNTUm5WoQw3qDiKFBW8DgJBtonXYN138apJdMIhwUJ6b/BiIXXIMKuQO6iYIauEONYtT1EgkqPww7HLQq1NLUIEVF1v3Ua5BBlK5Crj8K8al26Sgnm3GLAKBiRMBIyTsZTmWCN7aQ6U7WjGWKtEe8f7XO6NXkO4lBH13xO/XUw/xpHgYwHy6Y/z7i6JXgFrUzNi2JyPEek8ml1IyGKHTDx1hipIlY7/LdGEsZ4oLKUCw86ejzC/u0q5U+tYyI34GXchKuCklTCEYaBiL+Qe0tkR9FsWskcTp/ugEwH2w+INsLTEaVdzXOX1dhZqZ5kvFcr/wdUPbILW8XzDed7avdMsCTXcxCqPVQt4m4eLosIdm19LSaCj5jwITdF8KpYhKZpYjB4Cnqao4QO3lOq9L0lV0NLCirLTLyGpo5MLQ7BoqyYYjee1vXnj9DViL5amlKCeHLN+Ey2j1O+RTn1tQxNUaODGQlNTOtFM5CvQmpKcgIhb7uUviaohlGL2Hg6ZKN9xIGcrWhYlo3IxqVg8pGXa7jxB+KFQKamHwg4NOEsmGeFCWnA4cVMoyK+2rrpLt/koNBUjff44CQzbBizdkSog+M1G2izESLQXg8pStQG83Yp3ShSzYvReRXlZK01yxmqS43tXwfHGL/sqWvRZCwVbCeJ1QUT1VDT88DxmPJ4THzY4VUwoiR2rNnOjr6LdtjAFEZsBg9XkTis+OCDI8GSQlVIpCQdU3QaJKdbUrIivpq6EiwQVddkCE5No4s5Ce5miC7dxSd1HmHQrXgm25/HWJLrOYkIMSnED0U6L0Pd7UjxedLyRhLs8P4euiiD0EOJR0WJk8di1n4L3G3gjxN3P0RZfJmeP4ZVRyQeK0pTQsS75SNyNYwztkPY8DEt44jxtYFLroZCTTU2MZlmLtTgCXOQmVpOEW6+m9qsJdauD53B01iN+vR9jCGItDu13Fbso+sbdF2CC5XUMEtZCQ7EpsT4qLoJV2eVjTfTCD4VvAvbhUsfdfeacsxEXZhIBfvEYvpuLAVck0Kfd0OJoznkurdoSMa6eIddwEPSr44dRSHVaw3aaECnETqOSx98XamIOq9JM8+bax38KtW86vRDwVi3OTBRsxanaBTSJBo+rLCKrd5/gPUYPdyv5lYDcQqBTOPhiI3SNOGcWyYoLnVsn7bJaFQdwIawfqYRk5+O0pCSpuTD5UX18vgnoKo4CRKdgzG28ML27Hu1xD0aZ5THeN3rXoeI8LKXvWzher/3e7/H5ZdfTrPZ5EEPehDve9/7Jl7/whe+wDOf+Uwuu+wyRIQ3velNM/t49atfHWYxx34uuuiiMzn9cxYiMSIGib8f6fwSZu3/wBz6Y+SCj2L2vRG7+u+xq7+B2f9mZN+bMSu/Ttz8adJ9b8AceD8S3Q9JH4c0/xnRwf9MeuFf05KEjggHDVxgdDh1Mk6smVq6PqZUwWPY8jHrPuWES1ivfjZcTK6GLR/R9RG3lx1udx22fBoyjQobvsEp3+Kkb7Hu25zwbdZ9e6yDc4SuT8k0ruUkK0rb5jRtiYrhpGtzR77CqSJYi1FRu1PDlks56ZqcLFrkGo3EBUTRS/Jwc5/ceWhckinijQ3ejv2eGLwdkYLGE7fi2ZOeF4kOXHBmP+wg1jBH67cW1sJqB/atVj9rY/9dg047rFO64N5TOLTdQFsp5CUUeaXENJU2npcCNmOKTOkssYbof8oEoNRhLVlgKB85ITU5/v7vr8iUIGHZjApW4oxWNErzNqTEiqdj+zRtSdPkNE1OR/qsmj4HzBaHzBZrps9+06UjfTrSZ0V6HDJbrJo+sXgigsGDaiixjNenRYQSj52+dZ6hneK5iEG38Jn8nM847cj1U5/6FG9/+9t52MMetnC9t771rVx99dW84x3v4JGPfCTXXXcdL3rRi9i/fz9Pe9rTAOh2u9zvfvfjWc96Fr/2a782d1/f//3fz7XXXjv8/a6wCTqXIfYINI/Uv7ZoO3OA2N6LNW4l05KeFpSECHWwpVdhwzdCZ6VCQkHH5HiERBxOIdOIvsbE3tGSglO+SUkQalBCbasteUjlTiFI8M6eZRAHCP/tuqRK8XkyHwQhEuNomhwBNoqUk64dImYXamepKen7GKdC5mNyH5E7Q+Fs0CYuDGxZ/I9tYv/7av0bVM222sIHf9epZwAZ1w/eKdVVRWe1N5Y4Dmnk6X0MUr5TYv31+ydEpdP1v7HoG6+VIlLwh9Wqacr0cmS8cWlcbhHqbePGuoAFIHOBYMcISSM7s60ApnB4G25BUmpoGAuKHhNm9WoUu78YSh5GxlOqHSp1QRCIaJicfbbLWtTFoKyYHvvNNqtmNN8aLAqFWNxQMCLkNCARH5yWqg+nJYKteZgQGI66AZD++IThxT0Gy27hhTgtct3a2uK5z30u73jHO3jNa16zcN33v//9vPjFL+Y5z3kOAPe73/345Cc/ye/8zu8MyfWRj3wkj3zkIwH4jd/4jfknG0X32Gj1bEH9Fn77PdiVXx4t0z4qLXpaUOAYJAOLMf3dLU0nRhZyYk74iAOmi1c46VuUWFRh0zfZHmsS2fKN4KcpBYWYicCm6xMyjWbGIQaw4vFq6PuYUi2nyiaFWoqqoSnynk1JicXR9QlbLh0aoxuUhi0oKyEJr0KvjCl8UGfazqoI94oecms8eDOQEjSWSuRBsYViytDINFgHH4y9p0lygnjriFQkjOlMm4JXr5EmQdS/DvNSx+MYHCvPQ3SaDAT5B+btISLXJNSqw78jzKneJLGqgncj8rRzNIKnH3DrHi7mROvjwhECmNzjE4Nxgh+rROiFBVHsw2iVKLFxldpSoMVEHE1TsBJlNGzBoWhr2AG8MiZ32JCq7FE9xi3qw4oIjk8Tl4EQYUimRVjcHaj2EJlStzrPIX72QXOv25/POK208Ete8hKe+tSn7sq9PcsyGlNzc81mk+uuu45iN6MDY/jqV7/KkSNHuO9978u//Jf/km984xsL18+yjI2NjYmfezykhWk9c3LZ9rvpFl8i0+BI069ukPkYuU52ZwYYlFLNMEKFKotpCjIfUahhsyJWCO4jp3yHvo8GARR9jecSq2ro6HUq5GpxGvSBt30Y9C80oucT1os2t2T7OZavklf7zp3FqaHrUjIXk7mIzbxB4cPzZOkNSVxibWhwGYzjBC3g0DVsMyXuK1FREWs4IUzuscUssQb93/EGJwlR2zQWGIdjTEgDJzEkyeRrg7GYnaA6qqsOSGAspatxRaymOj9lKp1dHStNwzmM29NRkWIUhdemybWOteY4+EyT7uD9FE8Q1XAhatUf6JKYkpYNxujNKBg1tEzOvqhP2+asRj0aVWPStk8xEjIlg0NEBFOHWHQokmWBA8awX4R9IqyJkBLs5VaqdLBFaErMqjRYM03aJp11dCq/gJ76d7U+o0vcc7Fncv3gBz/IP/7jP/K61+1OleTJT34yf/AHf8D111+PqvLpT3+ad73rXRRFwfHjx3d93Ec96lG8733v48Mf/jDveMc7OHr0KI997GO58847527zute9jrW1teHPJZfc8xwttPgC2vuvaPmdqnvUIPbi6bXI1LPulVM+eLF6papbBsQ1j5kWx4Y2KcYSIF6F0hv6JGxpTecvQlcbbPkGfU0Y9mcq5H7yplWoDRGvjyjVsOEaEyllVei5mG2X0itjNvOUrLT0XEy3TIZ1414Z0yvjibRzmJmFRlyGZqeNqT8FPxVxLiLV6mRMXuP1Oph33WnZxOum8mWtiVKtHY3L1CGKQvQ7Tqwz+yc0MyUh1SxZgQzs7xZARfDtBrrWRptpqBFPH6MujVpDOmrAxyGyn35VAOPCKI5/aJfkcJ92nLOa9mlHOY2qaSmWEotjLeqSmoFzjQZFLh2JQVg8bTM7gpNWC5oS0zEpTYlYMxEdiWmblFVpsGrWaLR+hujAe5GVfwPxQ+e8OwLaXfj+nXfQs/BzHmNPaeGbb76Zl770pXzkIx+ZiUbn4VWvehVHjx7l0Y9+NKrK4cOHef7zn8/rX//6PdVMn/KUpwz//dCHPpTHPOYx3P/+9+e9730vv/7rv167zdVXXz3x2sbGxj2CYLX4MuSfgvSfoCdeiPcnKHGIrBGv/Z+Y5lWT69tL2PSOkz5BqjGbUifJJpWCXpW+jXBVVyUUOhlJqcKWjqLVeSiIKKoGp0ItXZ/iMaSaD0Uf1sv2cJ510PU7npntuoSyqsn2XEgbG1UaUUEiJV7DVoktadgCrWYfMxcNJRIBIuPJtyzcvxfukX2D3h5Dt/JpLXVSMKIOTuslEQfRa15ObK/WIHXkOf5Gzpt9jaJqdMeHKLiKPlE/MkxfAMk9msrwBifOB8LvNFHvg8jFQFJxQIxxFGzrVFCnIznI6dOui8prH0YqwYjKcN0UPozzDuUYw8ON/VJK/IMnWYmzCdnDWEratqBtc0BJpcSIH4rze0xVSVXappyROR5P+5Z4OsSkpnrf7GUQPwSJHwbNf46YA2F5+jho/QLkH0e33gbFZ4EC2v8as/KKhe/5+Yil/OFi7Ilcr7/+eo4dO8YjHvGI4TLnHB//+Md5y1veQpZlM4TZbDZ517vexdve9jZuv/12Lr74Yt7+9rezsrLCoUOHTvvE2+02D33oQ/nqV786d500TUmn7bPOU6g/AcVX0OyjdLd+n2Z0KdJ9D6U/zpbmKErfH6Oz/qusxpfji69g4u9H/QbHT/wKOVTNHoZTfjIdqRrSagdMlxJDUlnWrfvWxHpOhU1t7kis4+tvu8bEmE2mCZnCpsKWa1RztUG6MJaSvOoc3nYJTie/a7GUWOPolQnFeNEuXAVWPKW3NKJRAxQI1nj2P/E2OnGOiOAVtnsJpz55Af5zKaYUNJoSjJjCXGUnCOnPyoZuCCvBkH3eZvNSqQOIjLqLlZBK3gVUQBNbNRkJ0i8rTwIJSknWBJIzhjDgq1UoWY33UD0Y5LOyjDq4ruGK8xvpREFyRRsMu7AH/UkKuEpTmMySHU+JOn5IrIEws6qRTWmb/thrYdzGjGkH93zEih0Xigip30HddKh2HT0YOfihhbVTEYH08UCEbr8N/Bay9HhdogZ7ItcnPOEJfP7zn59Y9oIXvIAHP/jBvPKVr1wYicZxzL3vfW8gpJavuuoqzB5n+MaRZRlf+tKX+LEf+7HT3sf5Au1+CN14Vfi3ahhwd7eiQF/L4ZSpAYx3+OJrdE+9isQcYqP8Mqc0zAAOYrOej3EY2pIjAjkRmz4lleBDs0mw+HJVA1OJJa/0fus6fmfOt+os7tb5bypsuzB+M4DDhoZZ8eSDQEr8BLm2opztIqFXziMZwVV1W+ctzSinW8aVmITnULPLWtxHETbLlGZU4h9xJ1tfvFeo+0UGZzQoOPkpFadBAXnRNRuZjPSk3ud1tMHC3U3C+1EUu8M5aGKrWmvo+sYavMiEPOPwWkRmnG00qsQf6s4vGhvVGe57lxHKoAhK9QAQCX5F0R/aIj5QkHtLLGXVkORZi/rE4ujY/ph0YSDWFdNjxWTDsZp2NRO7Vl3ntPRjRwZykOWum5JUe8j+dyKyixr4+YqliMRC7IlcV1ZWuOKKSYHqdrvNwYMHh8uvvvpqbrnlluEs61e+8hWuu+46HvWoR7G+vs4b3/hGbrzxRt773vcO95HnOV/84heH/77lllu44YYb6HQ6POABDwDgFa94BU972tO4z33uw7Fjx3jNa17DxsYGz3ve807/6s8TaP6J4b9FhEb0cKT9c2jvv9LJP45XT4FnVWIKXSHf/D1OlXeyqUcpVPBY2ia4yRRq2Kws2zKNSCgpwuQfPU1mju0wbPq9dUmWGLp+tqzgFdbL1twGpwH5i0Bqg017v4qytSLPnRAZJbYOkDDS4SwNW2JFh+MaTVvQczErq3027pPjvhqHrl8rUEWwUT4WWfpdPFKYGjcdI6hIbU1yT+xqbRUp6mg2dey/StWwVNV5RYHcofGo7qrVELIsuBalItep8x3u346iWyAQ/kBUYgo+Dgbztcca5P8fe4q1SzfpxDmJdTSloBNl1dhNwartDnWCM42r2mqfjgm2cUEUIhidt2RKValCWxLsYGxJd99gaRo7N3Oe71imhRfjrCs03Xbbbdx0003D351zvOENb+DLX/4ycRxz5ZVX8olPfILLLrtsuM6tt97Kwx/+8OHv11xzDddccw2Pf/zj+ehHPwrAd77zHX7mZ36G48ePc8EFF/DoRz+aT37yk1x66aVn+xLOKagq5NeHX6IrkPYLofFPQ+NS8xlo/79htt5GKg3K8ha2y29xR/8omxqhGg8DDe/CU70BEsqhjJwiw7pmHezQzG3niHUAp/Xkue3S+cSqQt+PRwlhJCOr0qdS081cB6m2c94Ew3UJptvjf+ehbhfTiBztR52gd3CV8ngMd0bYbSHqhfvwsLt1l5GZxjaQGFQjPx4SG+qc0zXdXWR1NK46ggciDhJSthoFRx4ZdHSJTEoPmjAONKpvjiJUHUTANY4+AqjTKn0cHgx0kDJe1KA19fVQgf5ahBiw5eyq3oA76Env3eVgs0sryjkYbbM/7lbpX2XVdtlvt4eHbWge5qhNcEaK8DTFEUtVX60h1pYkJDJ2C4wfMv8allhijzhjch2Q3wDvec97Jn6//PLL+cxnPrNwH5dddtmObewf/OAHT+f0zn/4WyH+fqT9uxD/8KzbSfwjwJvpZjdwUgvudIa+BlGFE77Nw3YYrAAAU0lJREFUQbNVycIpuRpO+Qar0seJGVq7LYIIrJheFb3ujuB8Dbnm3k6kgrsuRiRI0jkPPU3GUs7KqukDQaEpEsepokHfJVXHcd15KA1bktoyBHVVpNq0BbGdJJIwJxs0bC8+cory4k1Kb8id5dj7LsVmjKKrvWBAYtVID1ClWGX2jI0JXcHTxunVNn6lFaJOqvPQUOD0aYRrRZhuGVLY08evG5UZX8X5EJ26+gYuKRwqdnTsORgS+Lg5fHWqZSeYB/hI8Dac96BOG+QTQR53itUkNDFdEG9yKNmibXKsOCLcBLHuM10svkoPBw/WVIIsZ1Ok9ibXniZWQNInLbymJaZwph2/y8h1ibs1zBHM/rfNfVk3Xwvl14Jp+tgDjEE5ZLZCUIMnEU+OpSEFBZaNXaZ6vYJRJcLX6v/WoaiJhKe7kwdRpQh04oJenlbLHSumx4G4R99FWOmSWh8aXGzOetHhjn6HcYI14mlHOdaMXX+lNZza0CgzXrcb/5sf1HpjEzxg5aICvx6HdG61plrBW5kwV59BVcsUr+Anx3nmGq9HUYggp5qbtJni2+ksSariY0vZsNgoWOLhJruszdQokY+rKNePzhEjaCOCws+QrEBIKSfMrfGGNPFoTEcBn1TRtRVcaoNXaypMK0npvTOiR59kba3HgUaPfdE2h5JtDkZbWPHsN9sTlx3hSMaK2QITHqy5KpEIFkOMCbOr9r7E9gIoxh76Za1qVFpit1imhRdjSa7nOBaZl2vxP6H/F0ClLiMSpN10dF+2+KHDzYoWeIUTvrP74xNGb3ZLrE6lXv5wKk4a7/6MJejEKsKa7dG0BSfLJt/sHiCRkge272AlyunYnFIj7pQ2XgOlxMZN6M8Oz1sgGYtkkzFnlKYNjTNdN9kcFRtH8n2blF85MBkcS03kOXFxGjR855HoPFP1gWJTUY5M05MYtbaqf451MBvQyOJTS9kQ8jakxy3iFa0iVjUQdV0g2Go7jQS1leGACJpGqPNhPCex4A3qtZJ4rPY1FY3OnDZVWTYE5bjEkq+Nka0V3IP76EYMPQOlwIES+/BNGhf1aEYF+9Me++Jt9kV9InHBCq7GJGLcLm5w7HFkBLvFNZSV5OGI3Y+s/jsov41uXA00IfkhZOVqxOz+e7/EEjthSa7nM6IHQnQ5lF/CEGyzzERcpnRMOUyvVe0ue8rWiECnSgvXkeY05qWZEynpETN7ewzEeyDu0vUJXU3CqI0a0siTu5ht3yAxYYA/lpJWNWpjqtTvPDQqYjX4WVNt8ROzsBA4pX1ki1McmLRY9WNp3pmTD7XVucQ6rktch4Eq06AOGkWBtGJTjdToMNUbiCwQn/2RTbJvNTA3JUhROQOVoEnVHRyFzudBqlhjgxR+OOKj1uBMkHg0hd/Td0KpSLVhESOU6ajZyVtwMRx4/B2YWMm9pfCG2Hgi40ltyUrcYy3q07EZLZtj0Opzmj2LRCbT5oLW+hCfVIctPseKeQzmxL8Cfxyaz0BW/jfE7N/D1S0xxLJbeCHuee6+5zG0+Oow9avZ3wEGWXk5mAtJJEiNj9+gGjKZDh3M8Cd16gALYARWTY+Ymvrg6OwQlIYUrNguDckJ7rDh+LHxrNpQR52GU8N2JRhRqqHrEnouZs32uCDdomP69HzMnUWLTGNaUYE148SqpKagYfKJ/YuE5Z0oq41sV6I+TZuTmJKGyWnaLGQxdQ+PIF5DFLgAu6pUj+kE+yg0LSkhrTtIS7vUBNUjI6gXjjztJuRHtig74XU1oeHJxyasMyZ5qNFg+7A/l1hcJ0HjqFZNSq3gExu0iRkQqoRzSyrtXSGcVwPKRCgTwceCiCHfCs10zahgLcloRTmrcZ+1uMf+qMdKlNG2BVY0yFMShEd6fnL05YRvc8o3yDSMhYXu9eDcNHG+wKbvsZF9jNLdBnjo/Rd04z/s5t1fogZLV5zFWEaudxNoeRPa+yPAhCfp6P6QPHZh2ndi+623U26+HuIfJj70QVTa6PovU2YfpsDifU7J4EauRCjNOSTakYyGFDg1lBhKNfy/7b15nGVVdbf/rH2mO9XU1fSANDOoEVBAwiCoKIoYIMR5ImIQzRslovIahxggQfzIi6iBxIhBEOP0mmiMryYBfwSNA0paHEAEROahm55qvMM5Z6/fH/vcW3Vr6qquanraj5/CrnPPsPe9t846a+21vitltkShonzFpITkNIho2JiUAIMSSk5IRp+psyHvJZWQCEsUuBIKVRjOndcbm5w+6gznZRTnlZRMVtTdTnjFqRpyDLFYloVjxIGllYUM5a6MJzYZLRs4UXeTExsX5rUYQmPJiz6zgdg5k1wnHjTcQ0BAjhiwEWSRIWwV65eFoZJ0G5TI5/n03i6DsaWQvBy6axYGtd0cwAZFQlAI8coGLY3Z9/jHGH92xIa7lpP9tIbZ7EqKrJhOza5bJigygAP3kGUjU7ymTnAit50uNS4DrlhDNQba7fqmfFcFwCp5aLrqZTWxlPoaVMKMatgg18B5rZLSEzSoBK2i25EL+U5+IKxrApbOayA0NaKpEQNmjAhLhqFuA3qmpCI3gYpaRmhSo9AIbvwbmp2P7GmNzpcCn9A0J9647mC09Qt07LPQvIn2t63znYuPhZ73I9Gztn4e+xgGgfRX5E+ejs1+w6g2O+ozo2ppFuGyEKU2SWtVFVIMEZYe02LExk6FSXKX32Jg2CaFFnDXVSlJRlWaBKKkYshtQBQ0OqE5wfK0YJj1ea1Lq7iNiGts3a6VjYylX8Y7YV1VEKNkmmMLf7EnaNKyATmGRtH4fFNW6ShDuT6vzU7tasm0KJusUIRKyKc8MhucCLxrBmBmLAeqBk2sFSpRi5E/3EjrO4Ow2RA0FdNu4Wal05d03sxzdw2E1l5VbOLEH0RdrWgeO09WrCLWqRrpfk2SvVxnHSNKT61F7bmP8WC+CntLryt/KepuFWh3/zFWi9CyISsJ8Yh1545wGcJGnH5ye47isoLNTDKIuNDw+EAAUfdygaxu0l9uIqKUgwyRlLJpsSwYpxxMXx8PpoTs6xoTa9YVdYGJOmhw3+ciN6tDyESOQkuzCQH+9A7wxtWzxHjjugNRO4Zu/hPQkZl3aP0E3fgKtHQaUnkzRM/p8mSdEH+xUlp9B9T/DbUjkN2NqjJ5pawkQoZigZpJp3lsqjCskQsVYzuGsL1fTZpFk3EXF00koyqtrrXKKTk+APRKk5LJsVn3zW8yoeQItmPUJt80O9m6UxqpVwOXHNWwEcN5iUjcw0PnnEVmcCJpp2+nFJ70RJ2tm0e5eNCIcN50e3nU4NqcuQbcLep5xKpySLivZd1rUsZuGSS6LyIeyxHrJPxMnne/D1tRbtqastPkN8K0cjQUspLLes1iyA9O0aqF8QByQSyEzxktvL2J0HhkcoJ9mqRRdw2RyZzB0VjIrGJDSFcpweEjtG7pxZQDTFasPIuQl9T9PikLWcazaZ+sBkJ9IHBJUYD2ZlC2kAvlg0YBiixt19x8IKx3JbFNJmRqREBoaUh5SjKTqnS+hAKFVOeknq+T9k2L7HkRQbO7EP5g7vffMw2fLTw33rjuQLTxXZhznRJAofEdtPEdCJ+FBntB9iDoONhN0P8J0Axt/BvoKBalpRkp3TeqUASjzrhONqwxUEeIxRZhXFfvOvU2ZwT6TJ2GRlSkNc1rgKL7iDRoaEyOoSwtek0DU4SNBxijoRGNrppVZ0DLpjWjHOJsWIWmDQthCZkxASkusoxrQZMcQ9NGJCYjt4ZIcqIpa86gxJLRG9ZZHgzTGzS6vKgnsj4UwQDhoGXojCZPfm5fGJ30Jhm6k522Evad32zduU1q0VQxoZIdU6d21BaC3pyxLMGqS8IKA5ecVQpSymFWKE65WuBkWZPGCousM8X6q/NEw6bLJE57BXP8MCuP2Ii2DOseKmMeijFtwQxnYdFQOgYWdeu1ZJNKfgxkT1PkiAZ2XULlyM2sPHijS25SQ2zyzme+PByhFs78fWp/JsEMyxdNjShpt5cbiIu8zNavNZy0YXKzczEr5/speCYztcXithy/G+ON6yLQ9Ndo4z+h9QOwQ6CZM3qkEB2NlF4MySlIsNeMx0v5NCifDvn9TnQ/+y2M/xPolpkvmN0JGaSaU9eWC5Fu/jMEoUVGUzPyWeKMLdUZzXhZpDDIRRhXIBY7Yy1qJJZIZmnkjTu2KikVdbWyETmJceuay4IGZUkZ15gNeQ/j2l3mUjIZkeTUbUxLQ0Js56bqMoxdCHM8j2kW2sdTr90b1F3/18JvK0lKX9iY1EklZyQv0xNMn4PBsjwc5oB4PcuCOpHp9pYyFdLith2ZjNhk1LMQLSlZbAibW+maMwsaGMjmPtYZLAGr2ADs88fZ/wWPIQLNPChqgl3WsMu4zYsxth8gLAG5O8UhDfKhiZKTvGTIqxY5coxlz95AX7npHr4SqJz1AE+u72Hs5wPoQyWCMdcKzgauJEcTwQYQRhFBy04Y2sAQPHcz+x77pBtTWGhciFu3BohNytOSLVSCuSQHlZppzLguPtM7FmGJZnzoc5GbdipUWSISiqSr6HCovH6OMXg824Y3rtuAagMduRLGr599p9b30db3gUvRyquR6tun9VEVKdYww4NRswrREVRHp59rErlaRtUZhwCDUDR11oDJ5tOqMq5FCYYIzRk8qASoWyU2QkuVAMUW1RiLSTYQgRgXXg6KE5VNTklykqLN2sbcMqbdQhWBKLWgiWp39m5FXY3rUF4hMdkUGcQJjDjBiKhYne0N6pSDFmVpUTFNNmU1RvMSiuv12RuMF/KN0B+Mc0C8YZpR7cwJiDUlLkxsIEolTCm9ZAPNr67A5EKQOYF/aS0gscm4RKLZSnnaYvs2NLT6Y7IXNtivMKwASZC7kqIiBBwUco6hOHGF2LjPoW5dP9vg0HHsYApPRsj6CLMspefZm+iv1YmnKFWFgbJ69TB21QjjrYAN9yzD/n/9mNQZVVtRpCHYGDAB7bdOgWY9Ipz0MU3O3C4HKX1hfVr5U/f7bekJGrPuU5K065wROYrSVmdsk+B0hdvLJ06ZqQY0nFzowD8i4m+D24RPaJoTX4qzLWQPzG1Yu0hh/EvohtPR1v90vaKaoumvsUMfQtefUHS2mTtMbBAqEhMgVCXu3DRCMfRKiYSQXJVhVVq4DMl6EQ5uI0CPCCURYoFGIdZuFUY0YnQW4xVLTlXSaWUoUtzcpm5vS9B19hOomJzlZnxa8X/X+WYoizFi6QnqJMbdmCumWYgLWEqmxUA4yupoM4PhCMvCUZaFY5SDFj2mzkHROlYGw9SCBrWgwYpoiGeUHuPo8gMcWXmIoyoPckiyflbDCjBqY57IB3iwuRd3jq7ijo17EUjOXquG0efUyeOi8XfQ3Qhd56UR7EpaZnwtNGhgaAyWCF6/meecei/VoFmUBrXoCev0Rg16oga9YZ2+sE5fUKcvaHSkId37qRgsSZxRXt2gfMQI5VM2Mnjsep7Wv4Va1Jp1fEaUWpKx32HrSV6zDpso2ZoM+6rN5HtZ1Ag2dJrAKpDFkP2mlwd+snraudqZwKrCcF5muAhpT5oxJWkxEIw6jxzb8XbbSLGPwVKTBoNmjIGgjoiQTlL6ipgwrCVCeqRC0vtXyMqfIP1XIctu8DWui0BYZCnOAq938cUXI8Xn2f5ZtWpV53VV5eKLL2bvvfemXC7zwhe+kDvvvLPrHM1mk/PPP5/ly5dTrVY588wzeeSRRxb/ZsyAf2TbBiR6Blr6A2h8e/4H6Qi66S0w8I/u1/HrofkDnPlbwLVFSAiJCaaV6bQ0Z4tNqc/xSCi41luTO4TYYo0qEEhszrgKk7/6rmdm5jxCgVhb1Iv2bYmxne1WoakBjaLBeSQ5Y9aFUqU4T67CZlumxXxadbmEo7C4uabiynvcWC0VUgTLYDjCfuFGhmyZTXmVpsZYhJKkhZCEUJEWq8MhnhZsKkLQ09V+Zh2FwoiWadiIhrp2e0nktGz74zojx2xk6K59MJkhaFls4rxXU7hRamXWxCaFwtWfpIw0WbLQCFk5JH265ajnPEgtaBU3NSXDkKvBiBZCC0pUeKxR4bFuzipYhLLJOLRnPetaPQy3SuTqWrgtL41RCVJyDFbnbtIgAstXjLDuj0EJCIySnTRE+tsy5oEEGXEdftpNAdJf9bL+GcP01xpExTpragMiY2lqSKIpLSK2ZAG9YZ1QlIppsne0pbNULVK8/7ZERogLFdfpNW6ZoevhDSUpPN2AiZ6tAiSllxL0/gUSHuR2Lp06vw/fs1PxrGc9i+9+97ud3ye3Ob388su58soruf766zn00EO59NJLeclLXsLdd99NT08PABdccAHf+ta3+MpXvsLg4CDvfe97Of3001m7du2cLVO3BW9ctxUzuA0HNdHN5wGNRV9+qmFVVVJ1akuFwuGMKNBQpYQLF0/1V0rGEmlKQwOa6mpJK5J1rXuJQGWGJBMjUJackuaMaciw7U5cStUwbEuuD+xW5leSlvNOCq8rwpKrq+M0gWLVZYxGkrI62EJicpbJOBkBw9ZdM8ASiSvhMQL9QX0rV52dmJRK0KQ/rBOUFS1DzTTYkPUwUBtn5IRh0v/qRQODSRUJBG05dSPiEKuKmUECUaMAyXL3wQQG2y5byawzVEbIKyHBoaOMZzH7JFsYCMYYsRUaNqSeR0TF2mrc8VJnRsWwqjTCqtIIotoJ/zcJoUiImsu4ghP0MCHEReg9XtGAveo0jgnJNiTwQAl5PILhAHviMGkYMJbGJGFGOXBr8bb4nmYaEEuOxdCwEbXAJbWN5THVYOKbKQJV02TYBlQLo1ox0yMfpWL+woRhjaRKtfYeTO0cRObXUN4zT3aAQlMYhl3e6sSplE9+8pN86EMf4hWveAUAn//851m5ciVf+tKXePvb387Q0BDXXnstX/jCFzjlFNcy8J/+6Z9Ys2YN3/3udzn11KV94PLGdR6oZpD9GomOmNiY/mr2A+Zk2w2rVSUjJ8C41da2VqsqORaLkKlu1XA1cAY2nmXfQJSqZFR0eoh2PjTV0Jpyk25qwNCkzjkBc6+3VaXBsmAcixDgkqKcLrGhqRENYowoFWlQLXp6hmKdt2pssdZsSSSbJpG3UERgWVBHMVSk2RGh35TVGLEVl5l76AjDD1fIH4+glCOJEjwaEo86hSY1hnAsxdTTTgmCgpMFtIq2u9EUXp9GE3GzLDFUDhhjLE8YyRL2CkcQLCXjRDbazHWvcs3tTVe7vx7jvMVEM4bShIadbnzG04g4yCZKm4KMctByXrJxDQ0CYxlLIxp7p2Qrx8nUYJsBcdLOxtaOyqOh0xugaxkh6qytCuuzPvZiiFIh/gHuO9lnxjHiohluz4mIyuQbWUWEoPjilqOjMLXzEPErYEvNUpXiDA8Pd21PkoQkmflB6N5772XvvfcmSRKOPfZYLrvsMg488EDuv/9+nnjiCV760pd2necFL3gBP/rRj3j729/O2rVrSdO0a5+9996bww47jB/96EfeuO4Q7GZnTCcb1+3wFKyqNDRFRAgxhcYRNDQldX1tJi4PBGpI1dJASWfJBt4ac+VqbothtQrjM+gHtzN+27TrMGdaeUkkQ8V5uf2mPtFkQFw7MREh0YyMgH4Z7XjVqlCWFAVyAkIsvWZhYfc2uQotDQhEadiQRDJWBCMQuPrJR9IBRvOEkTxhLEsIAjAnDYFAFOZgIb21j/QXCWFTME23NqlhAG1PtSNkXxjVYiIqkFUjmssNA699mMFldWwQYFUYKRKyQrFd64sw8+elxfsyVTbQvV8uzJGrQWVmBS4R7TRBAJdAtVd5rMjkFtLis+6Lm5RthlXBWsGWhMCoKw8yGUaEUHLKQavzecmkO3M4KRKSEzBqy7TICcgpmxax5Jgi27giLQIsAyalZoRg0oPmtDmmt8HYZ6D2v2Z83bPjWbNmTdfvF110ERdffPG0/Y499lhuuOEGDj30UNatW8ell17KCSecwJ133skTTzwBwMqV3WVVK1eu5MEHHwTgiSeeII5jBgYGpu3TPn4p8cZ1HkiwF1Te2L1R2/J9TqzBol1t3SbKAtvrjUJE0LXWOZlMc8a05Qxocc9xxrVbDKJNS5WGZnMax6mUgEicvxCokorLEp6JqeWac1EryhxGVBnHQLFi2NY6aksoTsaV7TQZ01L3dmwn2ckJKpouEYFYMlBIjPNIJ9dH1m3EE7avs06bSjBNpWc+jOQx6/I+tmQVAMZtRIBySGkdewWjbM4rPJn1sDmtMJyVyWzgPKrYGQhrofVfyzD3x5jMdt5IDQw2BglN9xN/VwKUE7y3iUGtIeixDFbGGYzGiGQiaaxmGlgEq4ZRO3uT+UCUljUd9arJ1G1M3So5QSEHmZNPiTiUQ/fI1hbUiE1OaGxn/TzN3C1ExBlewbX3U5VCfjLrjEERIrGFwZ1YHKiY5rQ617qNiU2dnIBxmxAH4ySSspcZpd/kREVC3tbkQRVFR6+G0su9xOFSs0TZwg8//DC9vb2dzbN5raeddlrn34cffjjHH388Bx10EJ///Oc57rjjgJmXy7b6HZnHPtuCN67bgNotkP4Cq5YxbZHNZYamfPkSDSlJ1DGyVpW6prRm8DvzGc7bLrGZPbdzdiJxAggt3AefzWBYBVcTOFPpDrhEkbIIDVVyoCpCXOyf4dR0+k2zCMvCqHVi+zNJHzpBhxYNdUIQgqXX1F3NZmc83eOomJTKLI8UI5owmic8aXuomga9pkGTkHKQkakwkieFCEaTvrBFrsJQ7oy7yzaFlgZsyqs8mfXwWKufsSwhkZSGOkM/Hm1gyFbYlFYZyivkatya7iRPPLu3gjwcYzLt6P3awCAWjC00fYsfbBH+LRYLNRBs5KQGxcLwEzXGa+NExlI1DXrCFiNZ2SX64BK7ZjOs7jPPac5SajL5MxGBatAi1YBGHmLVdAQfesIJMQ1X4pMRiGU4KyM4z7b9uks2c/HCqmkWGsEtrLo11qQI9eZqSDVwiWkz1LpObgFoEYzmDJoxVgaWZB4Z2O2xOLGIFB25Ahm4al7HeeaHaNGKcBHHA/T29nYZ1/lSrVY5/PDDuffeeznrrLMA552uXj2Rpb5+/fqON7tq1SparRabN2/u8l7Xr1/PCSecsM3zmA1vXLeF9Jek2mJMmwt+cGuS0dKMhAjBZfjOZERnIlNldEpZzUIoGroQA5kIVpUYyIufAFeiMzzDNQzOqMZQhK3bNkGKcLZ7J7q8xCJ72B0/87grpkVZWzQ1nKaYJNgZ24zNRK7CmE3YnNV4tNWPAivDYVZWt2AV1uV9PNIa4LFmP2VpcmD5SUTgybSXkbzEmngje0dDjGvEhqyHDa0ehtIKoclJTE7TRtwztpJNcYXNWZXEZESSEhKCxk4+0ThzpX1Nmv05+ZYAyduZwoLkYDIlaMsHFqL5CEWfVLDiutfYADSGoD+jkbuQbjMIaWoLIjqSjs7k2xk9U3DG1/mMcxthaAuIOAmO9Y0aqQ3RsElv5LKQK221K3Xr3iWTUpeI8TwmKmpkJ9eeBoVqViwZpSAlNq4e16CdZvUtDalPWuttS1R2l2q56E9klHABDkYi0SSPZNuWBzxzYJl/eGu24xdBs9nkrrvu4qSTTuKAAw5g1apV3HTTTRx55JEAtFotvve97/Gxj30MgKOPPpooirjpppt4zWteA8Djjz/OHXfcweWXX764wcyAN67bgt1CQETIdJnB+dBeR10IrcKwbishzkC2bzYBEBf/zgsvNCpeLwNjqkWLOrdvZVLylEJXeDuD6XKJQLMTIp47E1VkwlhMpiTZvNd9BXezzosEqHLQ4qjy/URGeTLvYUNao2EjMgxDtsrPxyrEJseqMGpLjOQl1qV9rhyFgKZGBMbSEzjFoh5pUieiaSNG0hLDxcAyOxHyLgWF+tCacRqrGoz+ro/8kQRagnkkwbQsVp0whKhQ5Pq47G4pfgLnveaRIM8fIq5mpNaVvaRZgFVDj6l3EpmMKGVpMWZLs78v4hKGWpNC86ou8zecobY3K8p7pFii6Asaxe+2040m0hxUaRWN24Ni/0Bcd5vEZFRMi2rQdA9Qxv1/UHitdU3I1JCQugxwUWKZrnkNEEta6F0LdVVq8/hSGFzJWud9iI/f6jGenZsLL7yQM844g3333Zf169dz6aWXMjw8zJvf/GZEhAsuuIDLLruMQw45hEMOOYTLLruMSqXCG97wBgD6+vo499xzee9738vg4CDLli3jwgsv5PDDD+9kDy8l3rhuA1I+kyB5EbXmTxgfupCmfXK7Xi9bpGGNmChNmIoW6fRR8bq1LuzW9lCn7isznMcW18iLfwe4L9b4pCG70Op8alsdBktFXPA7U+e5tJtmz7h/UWqzJt7I6mgLA2aM/rDJuryHdWk/G9IaqQ1o2Ljj5Y1n7WMVi+Gh5jLaFabtEqK25xyIUgtbbGyVyQg642namRu8I4b4gHH0gHHqT5QhVuxYgNQFxgySurBvRwC/8F41Uuy+KeaAOvH+Y5hixV1w4dPQOGlKVUhMSiLOG8ylNUPXImdUy6aFUUtdY1rqEqPyiUpaoC1P6P6/ZUPKYUYpyKgETeo2ohq0ChkKIZKcwWC0aAmY0rAhqYZYxOk5Bykl437KpkVJUqqF6EdR7ewS3FzBLpVZFzmUqjSJJSMxGQFuOWRra2Ql3NJLZ5/wsOk5E55Fs1Rh4fnyyCOP8PrXv54NGzaw1157cdxxx3Hrrbey335uLf1973sf9XqdP/uzP2Pz5s0ce+yx3HjjjZ0aV4BPfOIThGHIa17zGur1Oi9+8Yu5/vrrl7zGFUBUF/Hu7GIMDw/T19fH0NDQNsX4p6J2CFu/kbGhC8mwbL0IZuHYQm1pMaHgvnkkfsz/fDJjglWb9o1vxFrqKgzbiRu+a2odudAf+aw9Yg2WMk7JZ8wmtDrPgO6POZGMiklnlMabLD4wnCc8nA3yaGuAja0qkbFsyco0bYiquDIfsVSDFtIu9bFCSyNydc0AVsbDRMai6jy6oazMSJY47yuLpiUAtRnLovaQsepWjm3REDXLDfm6BHk0gXEDtRx6MkxfRjDYpJRkxEFOJUwpBylxkFMyqfMKTcqKcITBeHRS+YqjZQPqxcPDRH1x+19KqgHDWRmLYTx3PVCn0shDmjZCcMlLiXHRAydFmDMYjrl632Cs4/U3bUyOE5AwokQmJy66ESUmpUyLinHlO1vyKqkGiChjtkTVNMjVEEtGpoas0G9WlU6ik2DZOxiiVghR9E0qtZlMgKEiMWG77MYsBwyy7MtIuGba/rsjS32Pm+sazz/xrwjDmSMm8yHLGnz/B3+9Xce6I/Ge6zai4/8XHf4rqLyFarA32A20yBnXbUk1mp3FLmuUl9CwxgQEYqjPEdI2IhgMFXHlQW6t1V2/R5okklEi7YQpW4Q0NSRTlxsdiCUmQ4Eh6wxB04bUC9UlEGd8bYsBM0Yt6H6/J0+1pUFRC9mAGDa0ajTyqGt9MteA8TymErRo2ZCWnfiTyNQwbmN6pMHD9QGG01JhKN045qISdGvfSvFfq06lqPW0DH2aq9sMRAlNThzkRMZJ/jk5w0ZnDbq9DjkQjvO0eCMNJm5qIa7pASYhNk4oY/JDhmDJNWBLXiUQi1VDIhktDTBMJDZpkVtVDRqdXrjgog4BLsvXhZhd+Ls3aNBvxhnTBIth4p1RIskKsYcWCRnVIHMPJDYGLCXJ6Cm6DpUkJSCnrvG0hg4hufucTU4oLirSJiHEFGv+Rky3alnpdKT3L8EO7TGG1bNz4Y3rPFE7ClKF8S+grR+jzf9BCBDdgtLu3jJ7pakpbsazeX0xAXlRzjOZABdyXdgKrSPCJS8tBTEBFYk7pUYN0hlnUpaYiMC9blJCWqQIKUKuQp80SVCMQKruPWsUAgdtVGG0uGGrwrgmXUpPFsOYlmjlIQ0dY0wThvMyTmZRGTCjrApHKJmMirYYl4TNeUDddhvWNpkGDGclphtMYSgtM9wqMZyWZvVSZ0JEXVeadumKOM81tYbUBtQi7QgpRCYnMSlRYAmwlExKXzhOuTBIVoXEpCwLRjkoWk8uwpjmxQhdWLthw2nXj3Aeb0jOqE0IJaEWNLHaYpSEPnEPPqN5YRzFiURMpmRanbXvthhHViQ0lbVF2eQMyOaOdyxAUCQsmWKtN8FSMYKqRUPXu7gt16jq1ltDlKHcJU6F5EVbQleu1Vc8qLTzAtpea4ghIkCmLtRKL9LzAcQsA7Ns3p+ZZ4HsAIWmXQlvXOeLJOjQe9H6tyB+PkgFdAjq/0KmOXVN58z6rUpMED+fVut7NNWt2gXihCJCDA0yWjN4hCJCDZdgtBCfeLK26mKJinBbezwhATqL9xphMOKaC5Q0pNdYcrVkmtMqTFskIRalqZYxtcRqGbYRqRoaGlHXiLzwUZoadhnWyQzlZe6pr2TUlsg0cIJ8KpRMi33jDewbb2TcxmzJymzJy4zncwl/TF1fdslKzTzeqiRgN0opyIiDbFJJUZFEJpY4zDrJQs5rzSlJuz1c5kLeQYuBcLwQw3DGda9gmP2jDfQFGcM2xuamS5/ZKVGNdq0VT/7oyyalT8dpSEzDRgSiDGVlcgy9QYO6jWhOEvowWCqm1WlmYLAkRRKVe8jIaGiMUeddlk1Kv2kRCSTSPod7qIwJKJkIMatJsodc+c6kcPW4Kk1gIGjRj2ulmNEiVfdIGhbvY1mEyUFII2b69zs8DOm5YNY2j56lwzdLnxtvXOeJSESmEFRej/S8G930x5A9DkBQrEOWJSLTnHQGIzuuKT3BapLwIBIzCDoM2cOoNsjVgnSvZ5bC3wMzQKP1Q2dgxUkbjqvMWlcbMCFe0TMPwxpiOudqZ1bmWHKUACGUgLAw/jCxnlqfJfRtEMwkmTkjhgTTsVttr7ddvjNOi4ZN2ZxHbLSVQo+n24OdKUmnM37JGcor09YOx2yJuxt7c39zL1rqQr31PJ7VSM9EMw87JTDzxWCpRi0C49KAK0GLUNqfqBKJE/tvl8eYQq4xMTmJaTkDaTL6zRiJSXF+rFCWFivMKL2B8yBrpkVThU2TVJfamrqzVfWHYukLxlHrlJIaNiINDCO5q5mtBCmJZmgRdp9wBpWSyaga1wYwlIyo8GAbGpFoyhgxNdy6dYAzrjVJiMKDIXmB8yCDp0H0bJYNX0Kz+V9dyycVXGs4QTuiK6kqatx7Z3ClX5PXWavttVXph+iZEOyDVF7bLVHq8exAvHFdANHAlQDY4csgu9ttNMsJqm+nd/ijKBkl4wysU0+aKFCJMEjjW0jPXyDVN7nzjHyKbPRvSaVMddnVlBo/JGv8O2HlDZja/2J84yu7rt9f+UOW917Ohif/gGb+MCCo1jFAWKgkzWZQIwyxhDQ0w2KpFOHbUW0SYCh31QR2Z2S2jaIxhpbmsxr3cIaQ62Ta52vYjAdSl5A0bEPW2R6a6iTvek2dQJwW7agtzVq/CcoB0WZu1+mqO7kKY3mJTKtzjqetItVeywUIJGdFOMSD2fKtHNtNaHIqoZP2M1gqYZPE5ISSExYNBOLidyfjZ4nEaQPHJiXBla+UpMVewegkhSyhKimJmejiM26dh1mS6Q85WRFin+lBwojzcJsakkhKLTAu47l4OGkLdtgi2SuSnJJxghEl0+pSxDLYou2bUi3kCcF5lzUpEVX/BKldgJhK9zserJxx+SQUIZKQRELGteXSmkRQFFN8B3IsEYZEIiIJIf59pPRyKL9uuyjseLaCDwvPiTeu24AkJ6KNfwe7Cen/WyR+LkF8NNhNAITN71Mb/7/kOk5KTkhIaGpI9a0dwwpget5FXD2bmBJiKgTJCwn6PjRxHSkVq4hK2fQR912OmBorV30PcEZv8+P7zSLPMGm8QIUYI26NStGOh9kjs9RHTrpZTf53VHiyMxnYZI6m06rKI1mDXJVSoIwTEqgwTkwkrjSjJCmBKLYwrNksX0+D5VnRBvaLG9wcjHcMcMsGjOSlrYR/J85xbO13vH7gXhoN5Y58kMfTGi8pPUip5Ob7vodfxBPN/qkzYXIIOZCcUph1kn3iogRlIBzvJP+UTEYiLsQaFDKCoeTEpJ3XKoVhrUlKTzDxUBYAVXH1wi1cWVZgMgbIKJsmMQEplpYqTVVSDLlCqsK4RoxpUoR7HVXToCJCSoDJnTGOis8yJKcSNEk1oGldy/lEXDlNJDlJ0cLP4B4ORCDCJai57klCzSTEyz6PJM+b8X2Xnv9Nuf7vDOfrO9+rkkSExXcTnFdaJ3V9i8W42uqiVshEhyPlM52cYbBiq5+zZ/sh1v0s5vjdGW9ctwFJno+s+G9UM6QwKBId1vW61v6cML2TMLsXomdB9OzOvl3nmiPhojL4Jcp2FG2tBSkjpjZtn1DKpDo28ziBiIBIgkLjhqK/5eKe8muSMKatLs88xBDK7GuTKTkjhQBFAvSaQmDfCk0Nnd6sWPKivKO95joTh0VPsm/sFHfeu9dtne3NpvKxLSd2GVfBMhiNAlDP3XpjaHLeNnArh1Tc+1YqCc9lE7CJyYZzNJ948DBiObi8nj/svZMvbDma8TzBIp1uMW3a5Su1wHmu7dBv2biwaYiTD4yLTNqSZCSkVExOSVziT01CpPhfHD+X0D5Blj9BRk6ulhxLSECJEGMMtuiKJLiEubqmZGqpa5PNNqOhE2IeqpASsCkvE0pO1TRcf1qTkRRjsio0JHQGWKAsrlZ1qnMYkDMYjLPctIiMUCMgrrx5VsMKIGaAaPBLDAx9iJHWbW4JQlxUxb3RTyPUYap2uBAqESR6OpK8CKmcjQQLiyh4PDsKb1wXwUzGcuLFGpIcD8nilGHE1JDSC7q2qR0DHaE18vezGlaAntIpBOEh0LwF8gcXNQ7oVmeqEpNjaWhGRk5V5s5LztS1xLMI6/NJESGlk4WrCsO2PKdMX0jeMaxTSRLhT/t/yt9ufB4NG1IJWrx14CfsW9o26bumDQkkJwkyXtL7a37e2JfPbT7WNf0zEwITbUxRYVqSlHKQEZBTDZx4QlkmwqoROT2mTs2khOJ61VaNUMZQi55OVHklmBUQ7gfRc0HHCTe9gTC7a1pCc6Y5o5NkONvr9kaEqkDVWMZsTl1doLilhlGr1EyKUkeBMi3KpkWZFlXTdOVPxjWFtxhCyek1DUDJNKChEVXTZC9TZ03UT6Y5CtTi38f0XLjV91WiZ2KWXUfP8KVo+iskPAx0E5AjfVeC6SfQIcg3QrASMbtfDeRugQ8Lz4k3rtuJ7dE/UlVh7B/IR66kri1ac0gvxmaAcOBaRALspnuWxLiKTPi87azhmgRbVcxRVTbZlPqk5CRVqE/JDG5puFX922VmfM7XVyQpl+59y7zmszVO6LuPexsrOX/wh1y75bkM5ZVZ9zVYqmGzI0pRMQ0ScZnBNdPolJhUTZOYjN4gJRIlxDU/KEtIpfIaTN/fIFND9VJFgxWQ3dXxUqP2+67drQ2mlnpZVVpF6RNAIhbIEG0QSUaMW1OtmBZVcR50iDKqIakV0qKILJGcXpORIzSsoWpyBoyhXHkdjN+AJsdj+v9h2hrrbIjpI+j/P3Ps4MtodnqWqCvO7oo3rrsIqhk6/Jfo+L8wPiUkOxPl8qtAx1E74sqGtiNbSybJ1DJsJydLuTrW+pRM4OYMfWCnsjyY27guJecO3gncCcDmbPbkqHabNSOufVotaFAyGREZFePk+3pMk4gcEaVmMnqNO7IEVEyJUu+lmOrrZ79G5Vy09XNEtyDFw0iOEhpDYkOas3TzFVxJVoZbr82BxFgibWFJGTCNwnhaykYo4VojVslpGSVTyBESlH4TUokOJMs3kdohYhNg4sMg/BBUzkbmWBbw7H481fKHuxreuO4iiIRQexcS/T7V5n+TNb5NQxsdT2WyxxJiCKJnQP4ohE9HoiPQ9C6wT+ButwtvNjA3IczRqn1cU1qTQr9jGk8zrG4OW/f2H8/LDOQtBoKn9g+zaloM5+VJW7TT3zQSZzSrpkVP2KQSOMWhnqCBwdJfZEAbLDWTkYhSKkqdKqafaOAaJDluzutLchzsdSOSP44hQhv/Sjh2PVZbhJhZe75IkUUeuV/cyNUZ5VhCRKGlrmleYiLC8JmY2tsoD32Yut0MOFlBIyFJdBim/28Jg30o6ThIgsjCypU8nj0Fb1x3ISRYDZVXEFRegcneQzR6FeS/I23dzqhO3F4TCdHhjyD9n0KJkcofO0Nb/iMkeg7U/wUdvogFG1mzF3Q1KYig+jakeg46dg2M/SNTYz2qSl0tGWHHsE6VuFvgINhsYwaC7d9CLE2Vu/J+7kuXcUBpHb9rriS1AaHk1IIWOaaQEFSqQZOySamZJsmkdmnlIgM6lpyqZATiapDLJqYkyzGDn0ei35vXeMQMgBlw/47+Nxo/D7P5HCICEg2LpgoDYGpk2YOzRjcqJibB7U9yIqXqOZD+Egigei4iMVF4IOHwZRAf7TrKxEciMunhQqYn13n2MPya65x447oLotmD6Ng/gG5GSqeTtdZ2XitLVGReNtAtbwcSlCaY5U4STgK0/AqQXhh6N/M2sMkpSP/VUC80laWC9P89khRNhmvvRKUfRifW0VSVTXmTx3Inxt7QaE7DOlvP1zZhZ6zKlhyqokQz9ShbAvJcubG5hk15D6DERhkMRykHmcv8RcnVMJrHRGKJjCuvqQZu3bVsWjCplUNZMkJxIdqShJTMfphl/4BEz9j2QUaHIz1/iegwFTuMmD6o/gkiZezw31Af+1xXa0ODU86KJITkJUj1T5D4KPdi8vyuU0t0GDL4pW0fm2f3R1mc8PnubVu9cd0VsWOfpzn+FUoSoc3vYYrimpKUKU1b/yw8vOQUxFRRzVE7DvWv0WVYw8Oc0k39a9MvKFWk969cklbldWi+AUmeh8RHTuyTr4PKmyH/nfOMVdmSN3kwl47qUr6VsG8k2ZxSg+VCJeiJvMqIjahIk7KxLDc5pSU0sr9tlVhvywyE4/QH4yhCqgH94TgW9xBgUFQMe6lLxGppSIClPxij34yTGJcs5IblEpd6RYglpJKchBm4ynmii0BMD1T/2P176mu1d1MmJs5+S978HpA5HV4RKJ2G6f/koq7t8XjmxhvXXRBTeT2ldC2YvZDy6SSjf0ecb0R6/wqG39e9c+kMKL8WiZ+DteMw9ndQ/zew67p2k/JZLit1BuMqtXchwSoApylc/wpUXtO9k45A/gS0fkZLM8Zsi01qsQtoHRBLRn0WzzYim9RiTRjTpGhdVufxXNiXjGCJDGwh0uj+W4jrx2T0B2MdzV6rwrjGtIicHjBNqqZJj2nQY5pFF5midAmlbISqSYjjFziPVRYTGt86YmpQfjnB0IcJBLr+1M2q7Xptz56BT2iaG29cd0EkOgRZ/s2JDckpSHYv2vyu+908Dam91f279Eed8gi1OdS/CXb99JOWT0dH/4GuHjzREUjt3RCfMHFtiWDZ9dPVcYIDYdObaGT3UNeU0UIv2bWWa3ujM/0xTSgeBaJUpcG4xpNKclz/1vIMUn/tVnY5hofykF4tkoVECLdBDq+tcjQYjCNkjGtMU0MCUSrGRQBGbKkjrlCTJqmmZBp0RBaSQnc3R6hJSiBQEWHQrCAZ/Kx7T7dSE7wYVFuIxGhrrdO/nqGfksTHbrfre/YglEWuuS7ZSHZKvHHdHZAyag5Eau+E4AAonzntBm7zYcgfgvBQyCKwjxavGKT2LpB+TO8Hsa3bIH4OUjoToufMWGYj4cFdv6tadOgC0vSXnV6vGWDViRbMxf7BCOMasKHo3VoxLQYZY9iWGNOY8ixN0WFCCxecgR2yIf1BSsi2fbFzClMk0B+0iKwlFveTIYzYmIGgTq5OVcoiWBECtKMhHBQdbyqSOc1noIIQV/8QiZ+7DaNaGJ3PPXoOMvgv6MhHoPWTiR2i50Lywu0+Do9nT8cb190AkQAJ+9wvlVcBoNl9SHjQxD72AVRipP8KdOxzYDciwT4Qn4jEz57Yb/CfF16vOPaP0PwezUnJMyURNtkJQXxwmbNNDbukDXPg4LjJYN7CqqFfMoJAaOWjrE2XzdnJJpjSs6ptxrc1ODz5j8EI9EzqbRpOavweiFKRmVruaaGxm3VEG8qFID3jX8ZqhtTejQSD2zjC+SMSQPQMGLgB0l9Ado/7TpRP9yL3nqXBZwvPiTeuuyBqR4F0zoSYtmFVzZ3xjY6YUFeaQ6JuIYZVVaF5Mzr6SVS102ovIij6ldqu0E8gyoAZZ4utkHVUmZxJdHWrOW3T+JAtzWlYBaUq3eU4ptOxZdsIimNn8pNFoNe0yDDkKuRIcW8Q2kY1ksmt2lw4OBJxrdFQl2nd+A9Y/u9PWb9REYH4OS4a8ZRc0bPHYNn2J9n28bsxi9Lo++hHP4qIcMEFF8y539/93d/xzGc+k3K5zNOf/nRuuOGGrtfvvPNOXvnKV7L//vsjInzyk59ckuvuroipzTvTdHup5mj+BLr5HHTL/wIm2uvFhFQlZlSzadq74DzCWrF+GeFUjKaS58qmfOZuPW16pDHNc42L8PG2ztiI0CdCWWZubWDEXaNscmomoyfI6AlSeoKMxEwY1hDoE+lkboeTR1R5nW/k7fHsAWyz53rbbbdxzTXXcMQRczcn/vSnP80HPvABPvvZz3LMMcfw05/+lPPOO4+BgQHOOOMMAMbHxznwwAN59atfzbvf/e4lua5n+6HpvejmcwvFJ0dL86KOMqJFRgoEKGXJqGvA5EfcWPKivVqL2Ew3wA2EbNJzX0RGXsjih+Suwbh0G2WDE8A3UHRT2TZEhDJQAhpArq721jK3lGoAxCLEuCdWp73sVJA644lPdOvbHs9ugM8WnpttMq6jo6O88Y1v5LOf/SyXXnrpnPt+4Qtf4O1vfzuvfe1rATjwwAO59dZb+djHPtYxrscccwzHHHMMAO9///uX5Lqe7YNLXnp3l2EFJ1CQSIyI0LI5MdAQKEtOoJZR251g1SOuZrUk0//AqgHsY0d5Mi+zdzjO6jAjz5UtahjSoJMlPJmKyYqWbktD28hO7bOmqrSAhioBEImQIEQSYBCMhC7BCdO9tll+bVEr7OUCPbsJfs11TrYpLPyOd7yDP/iDP+CUU07Z6r7NZpNSqTvEVy6X+elPf0qazpQUsjTXbV97eHi468ezSJo3QnbPtM1liYgkwKqSat4phVGFECWcssDSceZmcTL3jVKOLg2zOsw6+4tMb/PmzpF3QsKz/bkuvottcR4REhH6jKFmDD0S0V/9Y3oGrqa64ruUV91FPPgvLkksPgnp+RCy/D+R3r/2htWze9E2rov52Y1Z8IP+V77yFX72s59x2223bX1n4NRTT+Uf//EfOeusszjqqKNYu3Ytn/vc50jTlA0bNrB69ertcl1wa7OXXHLJvPf3zI1qCx25csbX2l7akG2wufijseqCwUZmz10wk+pcZ6Jhlc3WMK7hjAlObc3eNil0WuAFCJHExKXTCOPfBx0DcuzYV7H2cTJyxnVhD3iTSQip9H4IUztvyqCegwz+8zaf1+Px7PosyLg+/PDDvOtd7+LGG2+c5o3Oxoc//GGeeOIJjjvuOFSVlStXcs4553D55ZcTBPNLPdmW6wJ84AMf4D3veU/n9+HhYdasWTPv4z1TGP8K2C2QvAxoQfPmrpczzRnWCUlFIxMPqDOFcmHryUfDahibpRVdIjkVyboitzEQE1CWmKDyKqR2PhI8res4U/1TTOt/CJrfJWjdRpo/itoRrDawWPJ5VLcnhJSTk5HquVvd1+PZLfFh4TlZkHFdu3Yt69ev5+ijj+5sy/Oc73//+1x99dU0m81pBrNcLvO5z32Oz3zmM6xbt47Vq1dzzTXX0NPTw/Lly7fbdQGSJCFJtq/M3B5FcjJSeRMiBjvy8Y5xdZ1vUho6vQ9L2/C1a0QnUJaZfKvC+3bGvz8n0pCIJRaXLCViiDRjuUkITQDVtyO198wsgiEhJMchyXGFMS7Oqg3In0Cz32Fbt2LHvoClSaa20y/VIFQlJgxWIv2XO71lj2dPxJfizMmCjOuLX/xifvWrX3Vte8tb3sIznvEM/uIv/mJOTzSKIvbZZx/AhXhPP/10jJnfjWkx1/UsHRKuQdNfY8e/5GQUcYZ1TJukWHJmX/PsNSmjNupkAVckp9/M/de5KYfRKUL+AZaqyQiLRKh9VvyQMN4XVUU3vd6tB1fejNT+fMFiCSIlCPdHwv0xpReh8XHolncQS05ZI1LyQvy+hPR/2pfUeDyeWVmQce3p6eGwww7r2latVhkcHOxs/8AHPsCjjz7aqWW95557+OlPf8qxxx7L5s2bufLKK7njjjv4/Oc/3zlHq9Xi17/+deffjz76KD//+c+p1WocfPDB87quZ/ui6a/R4b+G9Gfd21FiCQlRxjRlNvPa0KCrvAaUIVVKQEJ3+YyqMmqVYTuRABTg6ksjbMcbDjGE8b5AseY78GnXwWeJtHul9CLo/Rt0+EOIuBpeAOn/P12qVh7PnogvxZmbJVdoevzxx3nooYc6v+d5zsc//nHuvvtuoiji5JNP5kc/+hH7779/Z5/HHnuMI4+caF92xRVXcMUVV/CCF7yAW265ZamH6FkAmv0OrX+zaIQ+PfnHiCEujGZKTglLY+o5FFLtNqxB0TGmrkodiFWpiiDiFINTgd4g7azXtrvRTCYQYXzjH5P0vI8gPmzRLdxmQiqvgvIfgt0IdgiwSPTMJb+Ox7PL4ddc50RUd/MZTmJ4eJi+vj6Ghobo7e3d0cPZqdGxa9Hx/wv5/fM+JlfLmLYY05zxKV8rVRi1IRmGmkmJptS39hRSgW02W7vVtKII6DGGnt6LidtdgDyePZin4h7XvsYph7ybMNj2nJYsb/Ldez+x296PvbawZxo6/nV05GMLPi4QQ0LAsJ0uaSgCNZO5/qZTPNDyFMMKrgB7anLUVCa6u25tT4/Hs+RYhRlEYBZ0/G6MN66e6YgwIQC4dVSVDEtTM1qaMb3z6sRpp6YYhcWVprKQRMLWyCcx+eOY8pkQHem7vng8TwU+LDwnvo7A04XaYYifB4Nfg2DmmmBVxaqSqzOoQ9pgVJukRYXoQnSI2uusU88/nz+7anFcQ0cYG7sOu/n8QijC4/F4dizeuHq6ENMLZgATPR1KpxVbS1B+JdLzAaR2PhAgQIZlXFtMNoVGhJox9ItsVSCiLEIwi5e5tWMT6EgsAuRYpOeDiKlt5UiPx7M0LFb6cGGe60c/+lGOOeYYenp6WLFiBWeddRZ333131z7nnHMOUjywt3+OO+64rn2azSbnn38+y5cvp1qtcuaZZ/LII48s9s2YhjeueyCqylx5bCIROvY5xkf+Hk1OR1b8ENP3UaT6FqR2Pmbwq2TSw7jOFgB2RjaeIzwbMT0c3FJlzFpGi040s54b1yt1Mkl4CFJ++RxHeTyeJeUp1hb+3ve+xzve8Q5uvfVWbrrpJrIs46UvfSljY93Rqpe97GU8/vjjnZ/vfOc7Xa9fcMEFfOMb3+ArX/kKP/jBDxgdHeX0008nz5c2d8Ovue5BaGstWv8XaN0K+TrUDIAZQPr+DxI9A83Xoa3bkdJLUbuFshlAggGQSveJsjto2o1bvV4J1zVmcru2APelmxoKTlUZnccfm8FlFk89Pqmd79daPZ6nErtw73P68fPnP/7jP7p+v+6661ixYgVr167l+c9/fmd7kiSsWrVqxnMMDQ1x7bXX8oUvfKHTAOaf/umfWLNmDd/97nc59dRTFziJ2fGe6x6A2iHs0PudglH9nyF/BEjBrofsbsgfBkCClZjyyxAxSO0CzMpbMb0f7mq4rtogG/8G04UOpyMihIUHmxTNw6MZDKNdoGGdGkqOCTDJcTMf5PF4dmqmdi5rNpvzOm5oaAiAZcuWdW2/5ZZbWLFiBYceeijnnXce69ev77y2du1a0jTlpS99aWfb3nvvzWGHHcaPfvSjJZjNBN5z3ROQXtekOznZJfxIDYjQkcshvw/spumHiGHys5dNHyId/TjN+rdJ55lFPF8szqOdXsAzQQjURGZshB5LCPnjEMyvw5LH41kC1LqfxRwP05qpXHTRRVx88cVzH6rKe97zHk488cQulb7TTjuNV7/61ey3337cf//9fPjDH+ZFL3oRa9euJUkSnnjiCeI4ZmCgW3Bm5cqVPPHEE1Mvsyi8cd0DEBFneCYZH1WF4Q+4kG/ygmnHqCqa/pq8/i+kzZtpZb8j305K26EIvSLkqjRUaT+3Ck5UPymSo2YK+4YYQgzYJ7fL2DwezywsUSnOww8/3CUiMZ9mK+985zv55S9/yQ9+8IOu7a997Ws7/z7ssMN47nOfy3777ce3v/1tXvGKV8wxFF3yZSVvXPdYnKGU6p8hQff6RDb8Mepj15PqyGJWVBZMIEJVhLIqOTOvzU6lLDGSnATJi5+SMXo8nqWlt7d3QQpN559/Pv/2b//G97///U4zmNlYvXo1++23H/feey8Aq1atotVqsXnz5i7vdf369ZxwwgnbNoFZ8GuueygiAVJ7D1TPmfZa3rqd1lNsWCdjZlmbnUpJIsLoWUj/p1wbOY/H89RhdfE/C0BVeec738nXv/51br75Zg444ICtHrNx40YefvhhVq92Ubujjz6aKIq46aabOvs8/vjj3HHHHUtuXP0daQ9GKq+Zts3mG2mma3fAaBZGiKFUOgvpvwyR8o4ejsez5/EUKzS94x3v4Etf+hLf/OY36enp6ayR9vX1US6XGR0d5eKLL+aVr3wlq1ev5oEHHuCDH/wgy5cv54/+6I86+5577rm8973vZXBwkGXLlnHhhRdy+OGHd7KHlwpvXD0dVFPSTeeQan1HD2VOQgw1STD9lyOyED0oj8ezq/LpT38agBe+8IVd26+77jrOOeccgiDgV7/6FTfccANbtmxh9erVnHzyyXz1q1+lp6ens/8nPvEJwjDkNa95DfV6nRe/+MVcf/31S94X3BvX3RTNNyLB4IKOsSN/Rz39xXYa0eIRICSgKrELGduNEMxcz+bxeLYzyiI91wXuvpVrlctl/vM//3Or5ymVSlx11VVcddVVCxvAAvFrrrsZqkq+6W3Y9cehY9ct4LgWWv/idhzZ7AQEhK5alQAp/t8gCCGGisT0SZl+U6FmkmItVor+qh6PZ4fwFCs07Wp4z3V3I/sNNP/LPVS2bkeqb5nfcY3/xOgQvaaEVWVMm2TbqfRGiv+GGErJi4j6L0WCp6GagzYg/TmQujq4/H40/Q3kj0F2F2gTymch1XOR8MDtMj6Px+NZLN647m4Eq5HkBMRuRGrv2Oruqi10y3ugeePENnRehjVAkI6p7BbRn9rqPCIgkoCIEFN7OxIdBeEBSLh/Zx+RAKQKyfO6jm2fWdWC1hFT3erYPB7PdsZaFtYccqbjd1+8cd3NENMPA9cCFpF4xn3UDiOmF9UUHbmiy7AC1DWd8xoGoSIxkcySABCsAamg6T0oFqGoVw0PRmoXIqUXLXxiFKpR4g2rx7NT4Pu5zok3rrshW6v5FOMKtnX072H8+mmvVyUmR0k1KzxQ55caceuhIcYZy+SlSPwcNPsdaKE1LIETdYiOQfIH0OFLIDoKqbwawmd5cX2PZ3fBG9c58cZ1D0XtMKQ/m/E1ESFECGfxfAGIjkD6r0CkxKzmMliOLP/Wosfq8Xg8uxo+W3gPRLUFEkOwPxBD9e1gVsx9kFRxXVgBswrp/3tEpnZk9Xg8ewxPsULTrob3XPdARGI0ewCkhAx+HcJDXJ9XszfQAruh+4DSGUjfZTgZ/SZo7pOKPJ49HFXrkgwXcfzujDeueygS7o/0fmBiw7KvQrAPNG9Ch/8G7DogRnr+N1T+eNJaaYnZ48Aej8fjAW9cPQUSFj0VSy+F5CVFQ/W8q1TG4/F4OugiQ7s+ocmzp+HKZtZsfUePx7PnosqCNQynHb/74hOaPB6Px+NZYrzn6vF4PJ6FYy3IIpKSfEKTx+PxeDxT8GHhOfFhYY/H4/F4lhjvuXo8Ho9nwai16CLCwr7O1ePxeDyeqfiw8Jx44+rxeDyehWMVxBvX2fBrrh6Px+PxLDHec/V4PB7PwlFlUc3Sd3PP1RtXj8fj8SwYtYouIiysu7lx9WFhj8fj8XiWGO+5ejwej2fhqGVxYWFfiuPxeDweTxc+LDw3Pizs8Xg8Hs8Ss0d5ru0npeHh4R08Eo/H41l62ve2p8IrzLS5qNBuRrqEo9n52KOM68jICABr1vhepR6PZ/dlZGSEvr6+7XLuOI5ZtWoVP3jiO4s+16pVq4jjeAlGtfMhursHvidhreWxxx6jp6fHNQTfBRgeHmbNmjU8/PDD9Pb27ujhLIrdZS5+Hjsfu8tcFjsPVWVkZIS9994bY7bfql+j0aDVai36PHEcUyqVlmBEOx97lOdqjGGfffbZ0cPYJnp7e3fpm8Zkdpe5+HnsfOwuc1nMPLaXxzqZUqm02xrFpcInNHk8Ho/Hs8R44+rxeDwezxLjjetOTpIkXHTRRSRJsqOHsmh2l7n4eex87C5z2V3m4dnDEpo8Ho/H43kq8J6rx+PxeDxLjDeuHo/H4/EsMd64ejwej8ezxHjj6vF4PB7PEuON61PIAw88wLnnnssBBxxAuVzmoIMO4qKLLpqX0sldd93FmWeeSV9fHz09PRx33HE89NBDnddf+MIXIiJdP6973etmPFez2eQ5z3kOIsLPf/7zXW4eZ555Jvvuuy+lUonVq1dz9tln89hjjy14Hjt6Lou59s40D4CPfOQjnHDCCVQqFfr7+xc8/p1pLps3b+bss8+mr6+Pvr4+zj77bLZs2bJTzaONqnLaaachIvzrv/5r12s/+9nPeMlLXkJ/fz+Dg4O87W1vY3R0dMHz8Gwbe5RC047mN7/5DdZaPvOZz3DwwQdzxx13cN555zE2NsYVV1wx63H33XcfJ554Iueeey6XXHIJfX193HXXXdMUUs477zz++q//uvN7uVye8Xzve9/72HvvvfnFL36xS87j5JNP5oMf/CCrV6/m0Ucf5cILL+RVr3oVP/rRj3apuWzrtXe2eQC0Wi1e/epXc/zxx3PttdcuaOw721ze8IY38Mgjj/Af//EfALztbW/j7LPP5lvf+tZONQ+AT37ykzNKuT722GOccsopvPa1r+Xqq69meHiYCy64gHPOOYd//ud/XtA8PNuIenYol19+uR5wwAFz7vPa175W3/SmN825zwte8AJ917vetdXrfec739FnPOMZeueddyqgt99++wJGOztP9Twm881vflNFRFut1oKOm40dOZf5XHspz7XU87juuuu0r69vniOcP0/VXH79618roLfeemtn249//GMF9De/+c2CxjwTSzUPVdWf//znus8+++jjjz+ugH7jG9/ovPaZz3xGV6xYoXmed7bdfvvtCui99967zeP3zB8fFt7BDA0NsWzZsllft9by7W9/m0MPPZRTTz2VFStWcOyxx04LAQF88YtfZPny5TzrWc/iwgsv7HQBarNu3TrOO+88vvCFL1CpVHbZeUxm06ZNfPGLX+SEE04giqKlmMoOm8t8rr0QduQ8lpqnai4//vGP6evr49hjj+1sO+644+jr69umyMj2msf4+Divf/3rufrqq1m1atW08zSbTeI47hLvb3voP/jBDxY9D8882NHWfU/mt7/9rfb29upnP/vZWfdpP5VWKhW98sor9fbbb9ePfvSjKiJ6yy23dPa75ppr9KabbtJf/epX+uUvf1n3339/PeWUUzqvW2v1ZS97mf7N3/yNqqref//9S+a5PpXzaPO+971PK5WKAnrcccfphg0bFj2PHTWXhVx7Z5/H9vBcn8q5fOQjH9FDDjlk2vkPOeQQveyyy3aaebztbW/Tc889t/M7UzzXO+64Q8Mw1Msvv1ybzaZu2rRJX/GKVyiw6Hl45oc3rkvARRddpMCcP7fddlvXMY8++qgefPDBXX8gM/Hoo48qoK9//eu7tp9xxhn6ute9btbj/ud//kcBXbt2raqqfupTn9ITTjhBsyxT1ZmN664wjzZPPvmk3n333XrjjTfq8573PH35y1+u1tpdci5zXXtXm8dcxnVXmMtHPvIRPfTQQ6ftd/DBB+tHP/rRnWIe3/zmN/Xggw/WkZGRzutTjauq6he/+EVduXKlBkGgcRzrhRdeqCtXrtSPfexjc47BszT4hKYl4J3vfOesmblt9t9//86/H3vsMU4++WSOP/54rrnmmjmPW758OWEY8nu/93td25/5zGfOGd456qijiKKIe++9l6OOOoqbb76ZW2+9dZpm6XOf+1ze+MY38vnPf36XmMfk8y1fvpxDDz2UZz7zmaxZs4Zbb72V448/Htg1PpP5XHtXmsfW2BXmsmrVKtatWzdtvyeffJKVK1fuFPO4+eabue+++6ZlZb/yla/kpJNO4pZbbgFcYtYb3vAG1q1bR7VaRUS48sorOeCAA+Ycg2dp8MZ1CWjf6OfDo48+ysknn8zRRx/Nddddt9WGxnEcc8wxx3D33Xd3bb/nnnvYb7/9Zj3uzjvvJE1TVq9eDcDf/u3fcumll3Zef+yxxzj11FP56le/2llf2hXmMRNayGM3m83Otl1lLlu79q4yj/mwK8zl+OOPZ2hoiJ/+9Kf8/u//PgA/+clPGBoa4oQTTtgp5vH+97+ft771rV2vH3744XziE5/gjDPOmHbO9kPB5z73OUqlEi95yUvmNXbPItnRrvOeRDs09KIXvUgfeeQRffzxxzs/k3n605+uX//61zu/f/3rX9coivSaa67Re++9V6+66ioNgkD/+7//W1XdWs4ll1yit912m95///367W9/W5/xjGfokUce2QkDT2Uxa647ch4/+clP9KqrrtLbb79dH3jgAb355pv1xBNP1IMOOkgbjcYuNZf5Xntnn4eq6oMPPqi33367XnLJJVqr1fT222/X22+/vSt0uavM5WUve5keccQR+uMf/1h//OMf6+GHH66nn376TjOPmWCGsPBVV12la9eu1bvvvluvvvpqLZfL+qlPfWrB8/BsG964PoVcd911s67RTAbQ6667rmvbtddeqwcffLCWSiV99rOfrf/6r//aee2hhx7S5z//+bps2TKN41gPOugg/fM//3PduHHjrGNZjHHdkfP45S9/qSeffLIuW7ZMkyTR/fffX//0T/9UH3nkkQXPY0fPZb7X3tnnoar65je/ecZr/9d//dcuN5eNGzfqG9/4Ru3p6dGenh594xvfqJs3b95p5jETMxnXs88+uzPXI444Qm+44YYFz8Gz7fiWcx6Px+PxLDG+ztXj8Xg8niXGG1ePx+PxeJYYb1w9Ho/H41livHH1eDwej2eJ8cbV4/F4PJ4lxhtXj8fj8XiWGG9cPR6Px+NZYrxx9Xg8Ho9nifHG1ePxeJ4ivv/973PGGWew9957IyIz9pvdGqrKFVdcwaGHHkqSJKxZs4bLLrts6QfrWRReuN/j8XieIsbGxnj2s5/NW97yFl75yldu0zne9a53ceONN3LFFVdw+OGHMzQ0xIYNG5Z4pJ7F4uUPPR6PZwcgInzjG9/grLPO6mxrtVr85V/+JV/84hfZsmULhx12GB/72Md44QtfCMBdd93FEUccwR133MHTn/70HTNwz7zwYWGPx+PZSXjLW97CD3/4Q77yla/wy1/+kle/+tW87GUv49577wXgW9/6FgceeCD/7//9Pw444AD2339/3vrWt7Jp06YdPHLPVLxx9Xg8np2A++67jy9/+ct87Wtf46STTuKggw7iwgsv5MQTT+S6664D4He/+x0PPvggX/va17jhhhu4/vrrWbt2La961at28Og9U/Frrh6Px7MT8LOf/QxV5dBDD+3a3mw2GRwcBMBaS7PZ5IYbbujsd+2113L00Udz9913+1DxToQ3rh6Px7MTYK0lCALWrl1LEARdr9VqNQBWr15NGIZdBviZz3wmAA899JA3rjsR3rh6PB7PTsCRRx5JnuesX7+ek046acZ9nve855FlGffddx8HHXQQAPfccw8A++2331M2Vs/W8dnCHo/H8xQxOjrKb3/7W8AZ0yuvvJKTTz6ZZcuWse+++/KmN72JH/7wh3z84x/nyCOPZMOGDdx8880cfvjhvPzlL8dayzHHHEOtVuOTn/wk1lre8Y530Nvby4033riDZ+eZjDeuHo/H8xRxyy23cPLJJ0/b/uY3v5nrr7+eNE259NJLueGGG3j00UcZHBzk+OOP55JLLuHwww8H4LHHHuP888/nxhtvpFqtctppp/Hxj3+cZcuWPdXT8cyBN64ej8fj8SwxvhTH4/F4PJ4lxhtXj8fj8XiWGG9cPR6Px+NZYrxx9Xg8Ho9nifHG1ePxeDyeJcYbV4/H4/F4lhhvXD0ej8fjWWK8cfV4PB6PZ4nxxtXj8Xg8niXGG1ePx+PxeJYYb1w9Ho/H41li/n/dRnP1fIqTawAAAABJRU5ErkJggg==\n",
      "text/plain": [
       "<Figure size 640x480 with 2 Axes>"
      ]
     },
     "metadata": {},
     "output_type": "display_data"
    }
   ],
   "source": [
    "# display fire\n",
    "\n",
    "fire_file.plot(column='SimTime', legend=True)\n"
   ]
  },
  {
   "cell_type": "markdown",
   "metadata": {},
   "source": [
    "### Households"
   ]
  },
  {
   "cell_type": "markdown",
   "metadata": {},
   "source": [
    "Household data is used to initially place vehicles in proportion to households within census tracts. Households data have been gathered from [US Census Data Table S1101](https://data.census.gov/cedsci/table?q=S1101&tid=ACSST1Y2018.S1101) 2014-2018 American Community Survey 5-Year Estimates, Table S1101. You can download a CSV from the Census Bureau with household data and join to census tract shapefiles that have been also downloaded from the Census Bureau. Althouugh this simulation code expects census tracts, it could be modified to use other geographic areas."
   ]
  },
  {
   "cell_type": "markdown",
   "metadata": {},
   "source": [
    "This shapefile contains basic information about the census tract from the Census Bureau and the number of households per census tract has been joined to the shapefile. Important columns here are `Tot_Est_HH`, which contains the ACS estimate of total households per census tract from the above table, and `geometry` with the census tract geometry."
   ]
  },
  {
   "cell_type": "code",
   "execution_count": 33,
   "metadata": {},
   "outputs": [
    {
     "data": {
      "text/html": [
       "<div>\n",
       "<style scoped>\n",
       "    .dataframe tbody tr th:only-of-type {\n",
       "        vertical-align: middle;\n",
       "    }\n",
       "\n",
       "    .dataframe tbody tr th {\n",
       "        vertical-align: top;\n",
       "    }\n",
       "\n",
       "    .dataframe thead th {\n",
       "        text-align: right;\n",
       "    }\n",
       "</style>\n",
       "<table border=\"1\" class=\"dataframe\">\n",
       "  <thead>\n",
       "    <tr style=\"text-align: right;\">\n",
       "      <th></th>\n",
       "      <th>STATEFP</th>\n",
       "      <th>COUNTYFP</th>\n",
       "      <th>TRACTCE</th>\n",
       "      <th>GEOID</th>\n",
       "      <th>NAME</th>\n",
       "      <th>NAMELSAD</th>\n",
       "      <th>MTFCC</th>\n",
       "      <th>FUNCSTAT</th>\n",
       "      <th>ALAND</th>\n",
       "      <th>AWATER</th>\n",
       "      <th>INTPTLAT</th>\n",
       "      <th>INTPTLON</th>\n",
       "      <th>Santa_Rosa</th>\n",
       "      <th>Santa_Ro_1</th>\n",
       "      <th>Santa_Ro_2</th>\n",
       "      <th>Tot_Est_HH</th>\n",
       "      <th>geometry</th>\n",
       "    </tr>\n",
       "  </thead>\n",
       "  <tbody>\n",
       "    <tr>\n",
       "      <th>0</th>\n",
       "      <td>06</td>\n",
       "      <td>055</td>\n",
       "      <td>201300</td>\n",
       "      <td>06055201300</td>\n",
       "      <td>2013</td>\n",
       "      <td>Census Tract 2013</td>\n",
       "      <td>G5020</td>\n",
       "      <td>S</td>\n",
       "      <td>3825479</td>\n",
       "      <td>6876</td>\n",
       "      <td>+38.3935118</td>\n",
       "      <td>-122.3655355</td>\n",
       "      <td>NaN</td>\n",
       "      <td>NaN</td>\n",
       "      <td>NaN</td>\n",
       "      <td>NaN</td>\n",
       "      <td>POLYGON ((-2625602.592 4895396.940, -2624873.5...</td>\n",
       "    </tr>\n",
       "    <tr>\n",
       "      <th>1</th>\n",
       "      <td>06</td>\n",
       "      <td>055</td>\n",
       "      <td>202000</td>\n",
       "      <td>06055202000</td>\n",
       "      <td>2020</td>\n",
       "      <td>Census Tract 2020</td>\n",
       "      <td>G5020</td>\n",
       "      <td>S</td>\n",
       "      <td>6672855</td>\n",
       "      <td>46827</td>\n",
       "      <td>+38.5814083</td>\n",
       "      <td>-122.5826961</td>\n",
       "      <td>NaN</td>\n",
       "      <td>NaN</td>\n",
       "      <td>NaN</td>\n",
       "      <td>NaN</td>\n",
       "      <td>POLYGON ((-2635488.687 4925562.735, -2635376.7...</td>\n",
       "    </tr>\n",
       "    <tr>\n",
       "      <th>2</th>\n",
       "      <td>06</td>\n",
       "      <td>097</td>\n",
       "      <td>151602</td>\n",
       "      <td>06097151602</td>\n",
       "      <td>1516.02</td>\n",
       "      <td>Census Tract 1516.02</td>\n",
       "      <td>G5020</td>\n",
       "      <td>S</td>\n",
       "      <td>33113703</td>\n",
       "      <td>228016</td>\n",
       "      <td>+38.4218634</td>\n",
       "      <td>-122.5985465</td>\n",
       "      <td>1400000US06097151602</td>\n",
       "      <td>Census Tract 1516.02, Sonoma County, California</td>\n",
       "      <td>1852.0</td>\n",
       "      <td>1852.0</td>\n",
       "      <td>POLYGON ((-2646299.185 4912693.434, -2646244.1...</td>\n",
       "    </tr>\n",
       "    <tr>\n",
       "      <th>3</th>\n",
       "      <td>06</td>\n",
       "      <td>097</td>\n",
       "      <td>150607</td>\n",
       "      <td>06097150607</td>\n",
       "      <td>1506.07</td>\n",
       "      <td>Census Tract 1506.07</td>\n",
       "      <td>G5020</td>\n",
       "      <td>S</td>\n",
       "      <td>11093822</td>\n",
       "      <td>0</td>\n",
       "      <td>+38.2766586</td>\n",
       "      <td>-122.6437522</td>\n",
       "      <td>1400000US06097150607</td>\n",
       "      <td>Census Tract 1506.07, Sonoma County, California</td>\n",
       "      <td>1719.0</td>\n",
       "      <td>1719.0</td>\n",
       "      <td>POLYGON ((-2657204.756 4892702.043, -2657201.8...</td>\n",
       "    </tr>\n",
       "    <tr>\n",
       "      <th>4</th>\n",
       "      <td>06</td>\n",
       "      <td>097</td>\n",
       "      <td>150610</td>\n",
       "      <td>06097150610</td>\n",
       "      <td>1506.10</td>\n",
       "      <td>Census Tract 1506.10</td>\n",
       "      <td>G5020</td>\n",
       "      <td>S</td>\n",
       "      <td>1349445</td>\n",
       "      <td>0</td>\n",
       "      <td>+38.2654848</td>\n",
       "      <td>-122.6401777</td>\n",
       "      <td>NaN</td>\n",
       "      <td>NaN</td>\n",
       "      <td>NaN</td>\n",
       "      <td>NaN</td>\n",
       "      <td>POLYGON ((-2655973.729 4891745.883, -2655959.1...</td>\n",
       "    </tr>\n",
       "  </tbody>\n",
       "</table>\n",
       "</div>"
      ],
      "text/plain": [
       "  STATEFP COUNTYFP TRACTCE        GEOID     NAME              NAMELSAD  MTFCC  \\\n",
       "0      06      055  201300  06055201300     2013     Census Tract 2013  G5020   \n",
       "1      06      055  202000  06055202000     2020     Census Tract 2020  G5020   \n",
       "2      06      097  151602  06097151602  1516.02  Census Tract 1516.02  G5020   \n",
       "3      06      097  150607  06097150607  1506.07  Census Tract 1506.07  G5020   \n",
       "4      06      097  150610  06097150610  1506.10  Census Tract 1506.10  G5020   \n",
       "\n",
       "  FUNCSTAT     ALAND  AWATER     INTPTLAT      INTPTLON            Santa_Rosa  \\\n",
       "0        S   3825479    6876  +38.3935118  -122.3655355                   NaN   \n",
       "1        S   6672855   46827  +38.5814083  -122.5826961                   NaN   \n",
       "2        S  33113703  228016  +38.4218634  -122.5985465  1400000US06097151602   \n",
       "3        S  11093822       0  +38.2766586  -122.6437522  1400000US06097150607   \n",
       "4        S   1349445       0  +38.2654848  -122.6401777                   NaN   \n",
       "\n",
       "                                        Santa_Ro_1  Santa_Ro_2  Tot_Est_HH  \\\n",
       "0                                              NaN         NaN         NaN   \n",
       "1                                              NaN         NaN         NaN   \n",
       "2  Census Tract 1516.02, Sonoma County, California      1852.0      1852.0   \n",
       "3  Census Tract 1506.07, Sonoma County, California      1719.0      1719.0   \n",
       "4                                              NaN         NaN         NaN   \n",
       "\n",
       "                                            geometry  \n",
       "0  POLYGON ((-2625602.592 4895396.940, -2624873.5...  \n",
       "1  POLYGON ((-2635488.687 4925562.735, -2635376.7...  \n",
       "2  POLYGON ((-2646299.185 4912693.434, -2646244.1...  \n",
       "3  POLYGON ((-2657204.756 4892702.043, -2657201.8...  \n",
       "4  POLYGON ((-2655973.729 4891745.883, -2655959.1...  "
      ]
     },
     "execution_count": 33,
     "metadata": {},
     "output_type": "execute_result"
    }
   ],
   "source": [
    "# inspect households\n",
    "\n",
    "hh_tract = load_shpfile(road_graph, (\"households\", \"Santa_Rosa_tracts_hh.shp\"))\n",
    "hh_tract.head()"
   ]
  },
  {
   "cell_type": "markdown",
   "metadata": {},
   "source": [
    "The following cell shows the estimated number of households per census tract in the Santa Rosa area."
   ]
  },
  {
   "cell_type": "code",
   "execution_count": 34,
   "metadata": {},
   "outputs": [
    {
     "data": {
      "text/plain": [
       "<Axes: >"
      ]
     },
     "execution_count": 34,
     "metadata": {},
     "output_type": "execute_result"
    },
    {
     "data": {
      "image/png": "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\n",
      "text/plain": [
       "<Figure size 640x480 with 2 Axes>"
      ]
     },
     "metadata": {},
     "output_type": "display_data"
    }
   ],
   "source": [
    "# display households\n",
    "\n",
    "hh_tract.plot(column=\"Tot_Est_HH\", legend=True)\n"
   ]
  },
  {
   "cell_type": "markdown",
   "metadata": {},
   "source": [
    "<a id='scaling_up'></a>\n",
    "## Scaling Up\n",
    "([back to Table of Contents](#top))"
   ]
  },
  {
   "cell_type": "markdown",
   "metadata": {},
   "source": [
    "As one full simulation run using the quickest driving strategy can take approximately 5 hours to run, batch scripting is very useful to obtain simulation results. Two scripts (jobscript.sh and run_jobs.sh) are provided to assist in running batch jobs and are described below. These are currently setup to use the SLURM Workload Manager used by Virtual Roger (Keeling), but can be adjusted to run on other HPC. Note that the code is not parallel, so requesting multiple nodes will not improve performance. "
   ]
  },
  {
   "cell_type": "markdown",
   "metadata": {},
   "source": [
    "1. `jobscript.sh` \n",
    "\t\n",
    "This file submits one job to the HPC workload manager. It is currently set up to run one simulation for 5 sequential seeds and needs to be called from run_jobs.sh to set the initial seed value.\n",
    "\n",
    "Before running this file, adjust the time to make sure you have enough time to complete the jobs you want to run. The quickest driving strategy takes the longest to run, and is generally good to figure one job takes approximately 5 hours to run for 800 vehicles. The major roads strategy runs quicker, and the shortest distance strategy runs the fastest.\n",
    "\n",
    "Make sure you enter in your email address, change the path to the path to the folder that contains all the code provided code, and change the output folder and driving strategies as needed. It is helpful to run a short test run before committing to a large job.\n",
    "\n",
    "This file calls `run_fireabm.py`, discussed above, which sets up and runs each simulation.\n",
    "\n",
    "2. `run_jobs.sh`\n",
    "\n",
    "This is the file that you will submit to the scheduler that will then call `jobscript.sh` multiple times to set up individual jobs. When running this file, make sure your seed increments match the length of the loop in jobscript.sh so that seeds are not run multiple times or skipped. You may want to also change the output and error folders depending on the run."
   ]
  },
  {
   "cell_type": "markdown",
   "metadata": {},
   "source": [
    "<a id='analyz_res'></a>\n",
    "## Analyzing Simulation Results\n",
    "([back to Table of Contents](#top))"
   ]
  },
  {
   "cell_type": "markdown",
   "metadata": {},
   "source": [
    "[Graph_Results_Final](./Graph_Results_Final.ipynb) contains the code used to analyze simulation results and generate figures used in the manuscript. The core section of this notebook contains code used to visualize aggregate data from a combination of simulation runs. This is because of the random initial vehicle placement component used in this model; data from each driving strategy is a combination of 100 individual simulation runs each resulting in a slightly different pattern of vehicle traffic.\n",
    "\n",
    "Refer to that notebook for creating overview maps of the road graph (similar to the ones displayed above for the demo road graph), kernel density maps (videos and stills) for each of the driving strategy combined data at 25 time step intervals, and clearance time graphs and charts."
   ]
  }
 ],
 "metadata": {
  "kernelspec": {
   "display_name": "iguide",
   "language": "python",
   "name": "iguide"
  },
  "language_info": {
   "codemirror_mode": {
    "name": "ipython",
    "version": 3
   },
   "file_extension": ".py",
   "mimetype": "text/x-python",
   "name": "python",
   "nbconvert_exporter": "python",
   "pygments_lexer": "ipython3",
   "version": "3.8.16"
  }
 },
 "nbformat": 4,
 "nbformat_minor": 4
}
