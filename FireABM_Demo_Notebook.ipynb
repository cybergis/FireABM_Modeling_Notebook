{
 "cells": [
  {
   "cell_type": "markdown",
   "metadata": {},
   "source": [
    "# Evaluating Implications of Problematic Routing Assumptions in Spatially Explicit Agent-Based Models of Wildfire Evacuation\n",
    "\n",
    "## Code demonstration notebook"
   ]
  },
  {
   "cell_type": "markdown",
   "metadata": {},
   "source": [
    "This notebook demonstrates code to run a wildfire evacuation agent based model. This notebook is a companion to the forthcoming manuscript, \"Evaluating Implications of Problematic Routing Assumptions in Spatially Explicit Agent-Based Models of Wildfire Evacuation\" by Rebecca Vandewalle, Jeon-Young Kang, and Shaowen Wang.\n",
    "\n",
    "Notebook author: Rebecca Vandewalle\n",
    "<br>Last updated: 2-26-21"
   ]
  },
  {
   "cell_type": "markdown",
   "metadata": {},
   "source": [
    "<a id='top'></a>\n",
    "## Table of Contents\n",
    "- [Introduction](#intro)\n",
    "- [Quick Start](#quick_start)\n",
    "- [Import Libraries and Setup](#import_lib)\n",
    "- [Model Overview](#mod_overview)\n",
    "- [Driving Strategy Demonstration](#drive_demo)\n",
    "- [Working With and Customizing Input Data](#cust_input)\n",
    "- [Scaling Up](#scaling_up)\n",
    "- [Analyzing Simulation Results](#analyz_res)"
   ]
  },
  {
   "cell_type": "markdown",
   "metadata": {},
   "source": [
    "<a id='intro'></a>\n",
    "## Introduction"
   ]
  },
  {
   "cell_type": "markdown",
   "metadata": {},
   "source": [
    "The main code base is flexible and can serve a variety of purposes; not all available parameters are used in the manuscript. Broadly, the code models the process of evacuation on a road network in which roads are progressively closed by wildfire spread. Individual households, represented by a vehicle, must navigate out of the danger zone and re-route if the road they are currently on becomes blocked by the wildfire. The forthcoming manuscript specifically looks at patterns in evacuation clearance and congestion that change based on how vehicle routing decisions are modeled. Specifically three driving strategies are compared, 2 based off of common modeling assumptions (quickest path and shortest path), and one that attempts to more closely model evacuee behavior (preference for major roads). These strategies and the assumptions behind them are described in more detail in the manuscript and demonstrated in this notebook."
   ]
  },
  {
   "cell_type": "markdown",
   "metadata": {},
   "source": [
    "### Manuscript research questions"
   ]
  },
  {
   "cell_type": "markdown",
   "metadata": {},
   "source": [
    "- **R1.** How does routing preference (shortest path vs. quickest path vs. major roads) affect evacuation clearance times?\n",
    "- **R2.** How does congestion differ between routing strategies over space and time? "
   ]
  },
  {
   "cell_type": "markdown",
   "metadata": {},
   "source": [
    "### How the code addresses the research questions"
   ]
  },
  {
   "cell_type": "markdown",
   "metadata": {},
   "source": [
    "This code base described in the manuscript and in this notebook is used to run wildfire evacuation simulations for the same set of random seeds for each of the three driving strategies. The seed values control the initial vehicle placement. Every other parameter is the same for each simulation run except for the driving strategy used. This results in a repeated measures experiment setup; every initial vehicle configuration is run with all three driving strategies. Simulation timing and spatial-temporal congestion patterns are compared between the driving strategies to see how the strategy effects time time needed for vehicles to leave the evacuation zone and how traffic patterns potentially differ."
   ]
  },
  {
   "cell_type": "markdown",
   "metadata": {},
   "source": [
    "### Notebook Overview"
   ]
  },
  {
   "cell_type": "markdown",
   "metadata": {},
   "source": [
    "The quick start section demonstrates a fastest way to run a single simulation. Subsequent sections will provide an overview of the model, demonstrate driving strategies, show how to customize input data, discuss scaling up using high performance computing resources, and finally mention analyzing output results.\n",
    "\n",
    "For a more detailed discussion of certain aspects of the model, refer to the help files in the `DOCUMENTATION` folder."
   ]
  },
  {
   "cell_type": "markdown",
   "metadata": {},
   "source": [
    "<a id='quick_start'></a>\n",
    "## Quick Start\n",
    "([back to Table of Contents](#top))"
   ]
  },
  {
   "cell_type": "code",
   "execution_count": 1,
   "metadata": {},
   "outputs": [],
   "source": [
    "# determine current path and make output directory for quick start\n",
    "\n",
    "import os\n",
    "out_path = os.getcwd() # save current path \n",
    "if not os.path.isdir('demo_quick_start'): # create quick start output directory\n",
    "    os.mkdir('demo_quick_start')"
   ]
  },
  {
   "cell_type": "markdown",
   "metadata": {},
   "source": [
    "The following line of code runs the wildfire agent-based model evacuation simulation one time and saves the results in the `demo_quick_start` folder. "
   ]
  },
  {
   "cell_type": "markdown",
   "metadata": {},
   "source": [
    "Important parameters (these will be described in more depth later on):\n",
    "- `-nv`: number of vehicles to include in the simulation\n",
    "- `-sd`: seed, this number is used to set the randomization of the initial vehicle positions\n",
    "- `-epath`: current path\n",
    "- `-ofd`: name of the output directory used to store results\n",
    "- `-strat`: driving strategy used (`quickest`, `dist`, or `dist+road_type_weight`)\n",
    "- `-rg`: formatted Osmnx road graph stored as a pickle file\n",
    "- `-exdsc`: experiment description (a tag to help keep track of runs)"
   ]
  },
  {
   "cell_type": "code",
   "execution_count": 2,
   "metadata": {},
   "outputs": [
    {
     "name": "stdout",
     "output_type": "stream",
     "text": [
      "\n",
      "!! starting file parse at: 21:27:42\n",
      "\n",
      "!! checking input parameters\n",
      "!! input parameters OK\n",
      "\n",
      "!! starting full run at 21:27:42 \n",
      "\n",
      "!! run simulation\n",
      "\n",
      "run params: 100% shortest distance i: 0 j: 1 SEED: 1 strat_perc 1.0\n",
      "fire initially spreads.... 1.0\n",
      "END init\n",
      "fire spreads.... 2.0\n",
      "\n",
      "success! no: 1 run_time: 0:00:29.335239 timestamp: 21:28:11\n",
      "\n",
      "bad_seeds []\n",
      "\n",
      "!! ending full run at 21:28:11, elapsed time: 0:00:29.335449\n",
      "!! runs completed: 1 / 1\n",
      "!! Full simulation block complete!\n",
      "\n"
     ]
    }
   ],
   "source": [
    "# run a small simulation\n",
    "\n",
    "!python run_fireabm.py -nv 10 -sd 1 -epath \"$out_path\" \\\n",
    "-ofd demo_quick_start -strat dist -rg Sta_Rosa_2000.pkl \\\n",
    "-exdsc 'demo_run' -strd 1.0"
   ]
  },
  {
   "cell_type": "markdown",
   "metadata": {},
   "source": [
    "If you have run the previous cell with the default parameters, you will find three types of results are saved in subfolders for each run:\n",
    "- in folder `1files`: A file of run information, which stores things like the number of vehicles, seeds, driving strategies, clearance times etc.\n",
    "- in folder `1trajs`: A file of trajectories taken by each vehicle\n",
    "- in folder `1videos`: A video of the completed simulation run\n",
    "\n",
    "Note that the '1' at the start of the folder names is from the experiment number, a flag to help keep track of different groups simulation runs. It is set by default in `run_fireabm.py`."
   ]
  },
  {
   "cell_type": "markdown",
   "metadata": {},
   "source": [
    "<a id='import_lib'></a>\n",
    "## Import Libraries and Setup\n",
    "([back to Table of Contents](#top))"
   ]
  },
  {
   "cell_type": "markdown",
   "metadata": {},
   "source": [
    "Here libraries and modules used in this notebook are imported and a few helper variables and functions are defined."
   ]
  },
  {
   "cell_type": "code",
   "execution_count": 61,
   "metadata": {},
   "outputs": [],
   "source": [
    "# import libraries\n",
    "\n",
    "import os\n",
    "import glob\n",
    "import IPython\n",
    "from datetime import datetime\n",
    "from shapely.ops import unary_union\n",
    "import pytz\n",
    "from pathlib import Path\n",
    "from IPython.display import Video"
   ]
  },
  {
   "cell_type": "code",
   "execution_count": 4,
   "metadata": {},
   "outputs": [],
   "source": [
    "# set notebook parameters\n",
    "\n",
    "out_path = Path(os.getcwd())\n",
    "time_zone = pytz.timezone('America/Chicago') "
   ]
  },
  {
   "cell_type": "code",
   "execution_count": 5,
   "metadata": {},
   "outputs": [],
   "source": [
    "# import functions and text of FireABM_opt.py\n",
    "\n",
    "from FireABM_opt import *\n",
    "fabm_file=open('FireABM_opt.py')\n",
    "fabm_lines=fabm_file.readlines()\n",
    "\n",
    "run_fabm_file=open('run_fireabm.py')\n",
    "run_fabm_lines=run_fabm_file.readlines()"
   ]
  },
  {
   "cell_type": "code",
   "execution_count": 6,
   "metadata": {},
   "outputs": [],
   "source": [
    "# define helper function for displaying code\n",
    "# start and stop are 0-indexed, line numbers are 1-indexed\n",
    "\n",
    "def display_code_txt(start, stop, lines_obj):\n",
    "    return IPython.display.Code(data=\"\".join([(str(i+start+1)+\" \"+x) \n",
    "                                              for i, x in enumerate(lines_obj[start:stop])]), language='py3')"
   ]
  },
  {
   "cell_type": "markdown",
   "metadata": {},
   "source": [
    "<a id='mod_overview'></a>\n",
    "## Model Overview\n",
    "([back to Table of Contents](#top))"
   ]
  },
  {
   "cell_type": "markdown",
   "metadata": {},
   "source": [
    "Running the simulation model takes two steps. The simulation needs to be called twice, once to set up the simulation by calling the `__init__` function, and once to actually run the simulation using the `run` function."
   ]
  },
  {
   "cell_type": "markdown",
   "metadata": {},
   "source": [
    "Here the simulation `__init__` function in `FireABM_opt.py` is shown. Not all parameters are used in manuscript experiments; relavent parameters are defined below."
   ]
  },
  {
   "cell_type": "code",
   "execution_count": 7,
   "metadata": {},
   "outputs": [
    {
     "data": {
      "text/html": [
       "<style>.output_html .hll { background-color: #ffffcc }\n",
       ".output_html  { background: #f8f8f8; }\n",
       ".output_html .c { color: #408080; font-style: italic } /* Comment */\n",
       ".output_html .err { border: 1px solid #FF0000 } /* Error */\n",
       ".output_html .k { color: #008000; font-weight: bold } /* Keyword */\n",
       ".output_html .o { color: #666666 } /* Operator */\n",
       ".output_html .ch { color: #408080; font-style: italic } /* Comment.Hashbang */\n",
       ".output_html .cm { color: #408080; font-style: italic } /* Comment.Multiline */\n",
       ".output_html .cp { color: #BC7A00 } /* Comment.Preproc */\n",
       ".output_html .cpf { color: #408080; font-style: italic } /* Comment.PreprocFile */\n",
       ".output_html .c1 { color: #408080; font-style: italic } /* Comment.Single */\n",
       ".output_html .cs { color: #408080; font-style: italic } /* Comment.Special */\n",
       ".output_html .gd { color: #A00000 } /* Generic.Deleted */\n",
       ".output_html .ge { font-style: italic } /* Generic.Emph */\n",
       ".output_html .gr { color: #FF0000 } /* Generic.Error */\n",
       ".output_html .gh { color: #000080; font-weight: bold } /* Generic.Heading */\n",
       ".output_html .gi { color: #00A000 } /* Generic.Inserted */\n",
       ".output_html .go { color: #888888 } /* Generic.Output */\n",
       ".output_html .gp { color: #000080; font-weight: bold } /* Generic.Prompt */\n",
       ".output_html .gs { font-weight: bold } /* Generic.Strong */\n",
       ".output_html .gu { color: #800080; font-weight: bold } /* Generic.Subheading */\n",
       ".output_html .gt { color: #0044DD } /* Generic.Traceback */\n",
       ".output_html .kc { color: #008000; font-weight: bold } /* Keyword.Constant */\n",
       ".output_html .kd { color: #008000; font-weight: bold } /* Keyword.Declaration */\n",
       ".output_html .kn { color: #008000; font-weight: bold } /* Keyword.Namespace */\n",
       ".output_html .kp { color: #008000 } /* Keyword.Pseudo */\n",
       ".output_html .kr { color: #008000; font-weight: bold } /* Keyword.Reserved */\n",
       ".output_html .kt { color: #B00040 } /* Keyword.Type */\n",
       ".output_html .m { color: #666666 } /* Literal.Number */\n",
       ".output_html .s { color: #BA2121 } /* Literal.String */\n",
       ".output_html .na { color: #7D9029 } /* Name.Attribute */\n",
       ".output_html .nb { color: #008000 } /* Name.Builtin */\n",
       ".output_html .nc { color: #0000FF; font-weight: bold } /* Name.Class */\n",
       ".output_html .no { color: #880000 } /* Name.Constant */\n",
       ".output_html .nd { color: #AA22FF } /* Name.Decorator */\n",
       ".output_html .ni { color: #999999; font-weight: bold } /* Name.Entity */\n",
       ".output_html .ne { color: #D2413A; font-weight: bold } /* Name.Exception */\n",
       ".output_html .nf { color: #0000FF } /* Name.Function */\n",
       ".output_html .nl { color: #A0A000 } /* Name.Label */\n",
       ".output_html .nn { color: #0000FF; font-weight: bold } /* Name.Namespace */\n",
       ".output_html .nt { color: #008000; font-weight: bold } /* Name.Tag */\n",
       ".output_html .nv { color: #19177C } /* Name.Variable */\n",
       ".output_html .ow { color: #AA22FF; font-weight: bold } /* Operator.Word */\n",
       ".output_html .w { color: #bbbbbb } /* Text.Whitespace */\n",
       ".output_html .mb { color: #666666 } /* Literal.Number.Bin */\n",
       ".output_html .mf { color: #666666 } /* Literal.Number.Float */\n",
       ".output_html .mh { color: #666666 } /* Literal.Number.Hex */\n",
       ".output_html .mi { color: #666666 } /* Literal.Number.Integer */\n",
       ".output_html .mo { color: #666666 } /* Literal.Number.Oct */\n",
       ".output_html .sa { color: #BA2121 } /* Literal.String.Affix */\n",
       ".output_html .sb { color: #BA2121 } /* Literal.String.Backtick */\n",
       ".output_html .sc { color: #BA2121 } /* Literal.String.Char */\n",
       ".output_html .dl { color: #BA2121 } /* Literal.String.Delimiter */\n",
       ".output_html .sd { color: #BA2121; font-style: italic } /* Literal.String.Doc */\n",
       ".output_html .s2 { color: #BA2121 } /* Literal.String.Double */\n",
       ".output_html .se { color: #BB6622; font-weight: bold } /* Literal.String.Escape */\n",
       ".output_html .sh { color: #BA2121 } /* Literal.String.Heredoc */\n",
       ".output_html .si { color: #BB6688; font-weight: bold } /* Literal.String.Interpol */\n",
       ".output_html .sx { color: #008000 } /* Literal.String.Other */\n",
       ".output_html .sr { color: #BB6688 } /* Literal.String.Regex */\n",
       ".output_html .s1 { color: #BA2121 } /* Literal.String.Single */\n",
       ".output_html .ss { color: #19177C } /* Literal.String.Symbol */\n",
       ".output_html .bp { color: #008000 } /* Name.Builtin.Pseudo */\n",
       ".output_html .fm { color: #0000FF } /* Name.Function.Magic */\n",
       ".output_html .vc { color: #19177C } /* Name.Variable.Class */\n",
       ".output_html .vg { color: #19177C } /* Name.Variable.Global */\n",
       ".output_html .vi { color: #19177C } /* Name.Variable.Instance */\n",
       ".output_html .vm { color: #19177C } /* Name.Variable.Magic */\n",
       ".output_html .il { color: #666666 } /* Literal.Number.Integer.Long */</style><div class=\"highlight\"><pre><span></span><span class=\"mi\">1106</span>     <span class=\"k\">def</span> <span class=\"fm\">__init__</span><span class=\"p\">(</span><span class=\"bp\">self</span><span class=\"p\">,</span> <span class=\"n\">g</span><span class=\"p\">,</span> <span class=\"n\">n</span><span class=\"p\">,</span> <span class=\"n\">bbox</span><span class=\"o\">=</span><span class=\"kc\">None</span><span class=\"p\">,</span> <span class=\"n\">fire_perim</span><span class=\"o\">=</span><span class=\"kc\">None</span><span class=\"p\">,</span> <span class=\"n\">fire_ignit_time</span><span class=\"o\">=</span><span class=\"kc\">None</span><span class=\"p\">,</span> <span class=\"n\">fire_act_ts_min</span><span class=\"o\">=</span><span class=\"mi\">60</span><span class=\"p\">,</span> <span class=\"n\">fire_des_ts_sec</span><span class=\"o\">=</span><span class=\"mi\">10</span><span class=\"p\">,</span> <span class=\"n\">sim_type</span><span class=\"o\">=</span><span class=\"s2\">&quot;main&quot;</span><span class=\"p\">,</span> <span class=\"n\">sim_number</span><span class=\"o\">=</span><span class=\"mi\">0</span><span class=\"p\">,</span> <span class=\"n\">reset_interval</span><span class=\"o\">=</span><span class=\"kc\">False</span><span class=\"p\">,</span> <span class=\"n\">start_vehicle_positons</span><span class=\"o\">=</span><span class=\"kc\">None</span><span class=\"p\">,</span> <span class=\"n\">nav_weight_list</span><span class=\"o\">=</span><span class=\"kc\">None</span><span class=\"p\">,</span> <span class=\"n\">placement_prob</span><span class=\"o\">=</span><span class=\"kc\">None</span><span class=\"p\">,</span> <span class=\"n\">init_strategies</span><span class=\"o\">=</span><span class=\"kc\">None</span><span class=\"p\">):</span>\n",
       "</pre></div>\n"
      ],
      "text/latex": [
       "\\begin{Verbatim}[commandchars=\\\\\\{\\}]\n",
       "\\PY{l+m+mi}{1106}     \\PY{k}{def} \\PY{n+nf+fm}{\\PYZus{}\\PYZus{}init\\PYZus{}\\PYZus{}}\\PY{p}{(}\\PY{n+nb+bp}{self}\\PY{p}{,} \\PY{n}{g}\\PY{p}{,} \\PY{n}{n}\\PY{p}{,} \\PY{n}{bbox}\\PY{o}{=}\\PY{k+kc}{None}\\PY{p}{,} \\PY{n}{fire\\PYZus{}perim}\\PY{o}{=}\\PY{k+kc}{None}\\PY{p}{,} \\PY{n}{fire\\PYZus{}ignit\\PYZus{}time}\\PY{o}{=}\\PY{k+kc}{None}\\PY{p}{,} \\PY{n}{fire\\PYZus{}act\\PYZus{}ts\\PYZus{}min}\\PY{o}{=}\\PY{l+m+mi}{60}\\PY{p}{,} \\PY{n}{fire\\PYZus{}des\\PYZus{}ts\\PYZus{}sec}\\PY{o}{=}\\PY{l+m+mi}{10}\\PY{p}{,} \\PY{n}{sim\\PYZus{}type}\\PY{o}{=}\\PY{l+s+s2}{\\PYZdq{}}\\PY{l+s+s2}{main}\\PY{l+s+s2}{\\PYZdq{}}\\PY{p}{,} \\PY{n}{sim\\PYZus{}number}\\PY{o}{=}\\PY{l+m+mi}{0}\\PY{p}{,} \\PY{n}{reset\\PYZus{}interval}\\PY{o}{=}\\PY{k+kc}{False}\\PY{p}{,} \\PY{n}{start\\PYZus{}vehicle\\PYZus{}positons}\\PY{o}{=}\\PY{k+kc}{None}\\PY{p}{,} \\PY{n}{nav\\PYZus{}weight\\PYZus{}list}\\PY{o}{=}\\PY{k+kc}{None}\\PY{p}{,} \\PY{n}{placement\\PYZus{}prob}\\PY{o}{=}\\PY{k+kc}{None}\\PY{p}{,} \\PY{n}{init\\PYZus{}strategies}\\PY{o}{=}\\PY{k+kc}{None}\\PY{p}{)}\\PY{p}{:}\n",
       "\\end{Verbatim}\n"
      ],
      "text/plain": [
       "1106     def __init__(self, g, n, bbox=None, fire_perim=None, fire_ignit_time=None, fire_act_ts_min=60, fire_des_ts_sec=10, sim_type=\"main\", sim_number=0, reset_interval=False, start_vehicle_positons=None, nav_weight_list=None, placement_prob=None, init_strategies=None):"
      ]
     },
     "execution_count": 7,
     "metadata": {},
     "output_type": "execute_result"
    }
   ],
   "source": [
    "# show the simulation init section\n",
    "\n",
    "display_code_txt(1105, 1106, fabm_lines)"
   ]
  },
  {
   "cell_type": "markdown",
   "metadata": {},
   "source": [
    "NetABM `__init__` input parameter description:\n",
    "- `g` - road graph: the input Osmnx road graph \n",
    "- `n` - number of vehicles: the total number of vehicles used in the simulation run \n",
    "- `bbox` - bounding box: the bounding box of the evacuation zone, lbbox is created by the create_bboxes function with the following buffer [2.1, 4.5, 3, 3]\n",
    "- `fire_perim` - fire perimeter: shapefile of fire perimeters \n",
    "- `fire_ignit_time` - fire ignition time: 'SimTime' value for the first perimeter used in the simulation, can be adjusted to start with a later perimeter, 60 is used because is the first output fire perimeter\n",
    "- `fire_des_ts_sec` - fire update time intervals to seconds: translates intervals between fire times to seconds, used to speed up or slow down a fire spread from the input shapefile, for these experiments 100 is used, so that the fire expands every 100 timesteps (seconds)\n",
    "- `reset_interval` - reset fire interval: flag used to indicate the fire time has been translated\n",
    "- `placement_prob` - vehicle placement probability: value name containing the placement probabilities per initial vehicle placements\n",
    "- `init_strategies` - initial vehicle strategies: dictionary indicating which driving strategies are used and the percentage of vehicles that should be assigned to each strategy"
   ]
  },
  {
   "cell_type": "markdown",
   "metadata": {},
   "source": [
    "Here the simulation `run` function in `FireABM_opt.py` is shown. Not all parameters are used in manuscript experiments; relevant parameters are defined below."
   ]
  },
  {
   "cell_type": "code",
   "execution_count": 8,
   "metadata": {},
   "outputs": [
    {
     "data": {
      "text/html": [
       "<style>.output_html .hll { background-color: #ffffcc }\n",
       ".output_html  { background: #f8f8f8; }\n",
       ".output_html .c { color: #408080; font-style: italic } /* Comment */\n",
       ".output_html .err { border: 1px solid #FF0000 } /* Error */\n",
       ".output_html .k { color: #008000; font-weight: bold } /* Keyword */\n",
       ".output_html .o { color: #666666 } /* Operator */\n",
       ".output_html .ch { color: #408080; font-style: italic } /* Comment.Hashbang */\n",
       ".output_html .cm { color: #408080; font-style: italic } /* Comment.Multiline */\n",
       ".output_html .cp { color: #BC7A00 } /* Comment.Preproc */\n",
       ".output_html .cpf { color: #408080; font-style: italic } /* Comment.PreprocFile */\n",
       ".output_html .c1 { color: #408080; font-style: italic } /* Comment.Single */\n",
       ".output_html .cs { color: #408080; font-style: italic } /* Comment.Special */\n",
       ".output_html .gd { color: #A00000 } /* Generic.Deleted */\n",
       ".output_html .ge { font-style: italic } /* Generic.Emph */\n",
       ".output_html .gr { color: #FF0000 } /* Generic.Error */\n",
       ".output_html .gh { color: #000080; font-weight: bold } /* Generic.Heading */\n",
       ".output_html .gi { color: #00A000 } /* Generic.Inserted */\n",
       ".output_html .go { color: #888888 } /* Generic.Output */\n",
       ".output_html .gp { color: #000080; font-weight: bold } /* Generic.Prompt */\n",
       ".output_html .gs { font-weight: bold } /* Generic.Strong */\n",
       ".output_html .gu { color: #800080; font-weight: bold } /* Generic.Subheading */\n",
       ".output_html .gt { color: #0044DD } /* Generic.Traceback */\n",
       ".output_html .kc { color: #008000; font-weight: bold } /* Keyword.Constant */\n",
       ".output_html .kd { color: #008000; font-weight: bold } /* Keyword.Declaration */\n",
       ".output_html .kn { color: #008000; font-weight: bold } /* Keyword.Namespace */\n",
       ".output_html .kp { color: #008000 } /* Keyword.Pseudo */\n",
       ".output_html .kr { color: #008000; font-weight: bold } /* Keyword.Reserved */\n",
       ".output_html .kt { color: #B00040 } /* Keyword.Type */\n",
       ".output_html .m { color: #666666 } /* Literal.Number */\n",
       ".output_html .s { color: #BA2121 } /* Literal.String */\n",
       ".output_html .na { color: #7D9029 } /* Name.Attribute */\n",
       ".output_html .nb { color: #008000 } /* Name.Builtin */\n",
       ".output_html .nc { color: #0000FF; font-weight: bold } /* Name.Class */\n",
       ".output_html .no { color: #880000 } /* Name.Constant */\n",
       ".output_html .nd { color: #AA22FF } /* Name.Decorator */\n",
       ".output_html .ni { color: #999999; font-weight: bold } /* Name.Entity */\n",
       ".output_html .ne { color: #D2413A; font-weight: bold } /* Name.Exception */\n",
       ".output_html .nf { color: #0000FF } /* Name.Function */\n",
       ".output_html .nl { color: #A0A000 } /* Name.Label */\n",
       ".output_html .nn { color: #0000FF; font-weight: bold } /* Name.Namespace */\n",
       ".output_html .nt { color: #008000; font-weight: bold } /* Name.Tag */\n",
       ".output_html .nv { color: #19177C } /* Name.Variable */\n",
       ".output_html .ow { color: #AA22FF; font-weight: bold } /* Operator.Word */\n",
       ".output_html .w { color: #bbbbbb } /* Text.Whitespace */\n",
       ".output_html .mb { color: #666666 } /* Literal.Number.Bin */\n",
       ".output_html .mf { color: #666666 } /* Literal.Number.Float */\n",
       ".output_html .mh { color: #666666 } /* Literal.Number.Hex */\n",
       ".output_html .mi { color: #666666 } /* Literal.Number.Integer */\n",
       ".output_html .mo { color: #666666 } /* Literal.Number.Oct */\n",
       ".output_html .sa { color: #BA2121 } /* Literal.String.Affix */\n",
       ".output_html .sb { color: #BA2121 } /* Literal.String.Backtick */\n",
       ".output_html .sc { color: #BA2121 } /* Literal.String.Char */\n",
       ".output_html .dl { color: #BA2121 } /* Literal.String.Delimiter */\n",
       ".output_html .sd { color: #BA2121; font-style: italic } /* Literal.String.Doc */\n",
       ".output_html .s2 { color: #BA2121 } /* Literal.String.Double */\n",
       ".output_html .se { color: #BB6622; font-weight: bold } /* Literal.String.Escape */\n",
       ".output_html .sh { color: #BA2121 } /* Literal.String.Heredoc */\n",
       ".output_html .si { color: #BB6688; font-weight: bold } /* Literal.String.Interpol */\n",
       ".output_html .sx { color: #008000 } /* Literal.String.Other */\n",
       ".output_html .sr { color: #BB6688 } /* Literal.String.Regex */\n",
       ".output_html .s1 { color: #BA2121 } /* Literal.String.Single */\n",
       ".output_html .ss { color: #19177C } /* Literal.String.Symbol */\n",
       ".output_html .bp { color: #008000 } /* Name.Builtin.Pseudo */\n",
       ".output_html .fm { color: #0000FF } /* Name.Function.Magic */\n",
       ".output_html .vc { color: #19177C } /* Name.Variable.Class */\n",
       ".output_html .vg { color: #19177C } /* Name.Variable.Global */\n",
       ".output_html .vi { color: #19177C } /* Name.Variable.Instance */\n",
       ".output_html .vm { color: #19177C } /* Name.Variable.Magic */\n",
       ".output_html .il { color: #666666 } /* Literal.Number.Integer.Long */</style><div class=\"highlight\"><pre><span></span><span class=\"mi\">1388</span>     <span class=\"k\">def</span> <span class=\"nf\">run</span><span class=\"p\">(</span><span class=\"bp\">self</span><span class=\"p\">,</span> <span class=\"n\">nsteps</span><span class=\"o\">=</span><span class=\"kc\">None</span><span class=\"p\">,</span> <span class=\"n\">mutate_rate</span><span class=\"o\">=</span><span class=\"mf\">0.005</span><span class=\"p\">,</span> <span class=\"n\">update_interval</span><span class=\"o\">=</span><span class=\"mi\">100</span><span class=\"p\">,</span> <span class=\"n\">save_args</span><span class=\"o\">=</span><span class=\"kc\">None</span><span class=\"p\">,</span> <span class=\"n\">opt_interval</span><span class=\"o\">=</span><span class=\"mi\">35</span><span class=\"p\">,</span> <span class=\"n\">strategies</span><span class=\"o\">=</span><span class=\"p\">[</span><span class=\"s1\">&#39;dist&#39;</span><span class=\"p\">,</span> <span class=\"s1\">&#39;dist+speed&#39;</span><span class=\"p\">],</span> <span class=\"n\">opt_reps</span><span class=\"o\">=</span><span class=\"mi\">1</span><span class=\"p\">,</span> <span class=\"n\">mix_strat</span><span class=\"o\">=</span><span class=\"kc\">True</span><span class=\"p\">,</span> <span class=\"n\">congest_time</span><span class=\"o\">=</span><span class=\"mi\">25</span><span class=\"p\">):</span>\n",
       "</pre></div>\n"
      ],
      "text/latex": [
       "\\begin{Verbatim}[commandchars=\\\\\\{\\}]\n",
       "\\PY{l+m+mi}{1388}     \\PY{k}{def} \\PY{n+nf}{run}\\PY{p}{(}\\PY{n+nb+bp}{self}\\PY{p}{,} \\PY{n}{nsteps}\\PY{o}{=}\\PY{k+kc}{None}\\PY{p}{,} \\PY{n}{mutate\\PYZus{}rate}\\PY{o}{=}\\PY{l+m+mf}{0.005}\\PY{p}{,} \\PY{n}{update\\PYZus{}interval}\\PY{o}{=}\\PY{l+m+mi}{100}\\PY{p}{,} \\PY{n}{save\\PYZus{}args}\\PY{o}{=}\\PY{k+kc}{None}\\PY{p}{,} \\PY{n}{opt\\PYZus{}interval}\\PY{o}{=}\\PY{l+m+mi}{35}\\PY{p}{,} \\PY{n}{strategies}\\PY{o}{=}\\PY{p}{[}\\PY{l+s+s1}{\\PYZsq{}}\\PY{l+s+s1}{dist}\\PY{l+s+s1}{\\PYZsq{}}\\PY{p}{,} \\PY{l+s+s1}{\\PYZsq{}}\\PY{l+s+s1}{dist+speed}\\PY{l+s+s1}{\\PYZsq{}}\\PY{p}{]}\\PY{p}{,} \\PY{n}{opt\\PYZus{}reps}\\PY{o}{=}\\PY{l+m+mi}{1}\\PY{p}{,} \\PY{n}{mix\\PYZus{}strat}\\PY{o}{=}\\PY{k+kc}{True}\\PY{p}{,} \\PY{n}{congest\\PYZus{}time}\\PY{o}{=}\\PY{l+m+mi}{25}\\PY{p}{)}\\PY{p}{:}\n",
       "\\end{Verbatim}\n"
      ],
      "text/plain": [
       "1388     def run(self, nsteps=None, mutate_rate=0.005, update_interval=100, save_args=None, opt_interval=35, strategies=['dist', 'dist+speed'], opt_reps=1, mix_strat=True, congest_time=25):"
      ]
     },
     "execution_count": 8,
     "metadata": {},
     "output_type": "execute_result"
    }
   ],
   "source": [
    "# show the simulation run section\n",
    "\n",
    "display_code_txt(1387, 1388, fabm_lines)"
   ]
  },
  {
   "cell_type": "markdown",
   "metadata": {},
   "source": [
    "NetABM `run` input parameter description:\n",
    "- `mutate_rate` - the road segment closure rate: ignored if a fire shapefile is given, if no fire shapefile it is the rate at which road segments will randomly become blocked at an update interval\n",
    "- `update interval` - the road closure interval: used for to determine how often the mutate rate will check to close roads\n",
    "- `save_args` - save file arguments: used to create simulation animation, contains `fig`, `ax` created by the `setup_sim` function, the result file name, the video file name, the folder name for storing the results, i and j which can be used to keep track of iterating through seeds and driving strategies, the seed used, the short tag describing the treatment, the short text describing the experiment, the experiment number and notebook number, and which road graph file is used. More detailed on these can be found in the 'Simulation output structure and explanation' help document\n",
    "- `congest_time` - congestion time: interval at which congestion is recorded\n",
    "\n",
    "Note that `nsteps`, `opt_interval`, `strategies`, `opt_reps`, and `mix_strat` are not used for the current set of experiments."
   ]
  },
  {
   "cell_type": "markdown",
   "metadata": {},
   "source": [
    "### Running an example simulation on the full road graph"
   ]
  },
  {
   "cell_type": "markdown",
   "metadata": {},
   "source": [
    "`run_fireabm.py` calls both the `__init__` and `run` functions as seen below."
   ]
  },
  {
   "cell_type": "code",
   "execution_count": 9,
   "metadata": {},
   "outputs": [
    {
     "data": {
      "text/html": [
       "<style>.output_html .hll { background-color: #ffffcc }\n",
       ".output_html  { background: #f8f8f8; }\n",
       ".output_html .c { color: #408080; font-style: italic } /* Comment */\n",
       ".output_html .err { border: 1px solid #FF0000 } /* Error */\n",
       ".output_html .k { color: #008000; font-weight: bold } /* Keyword */\n",
       ".output_html .o { color: #666666 } /* Operator */\n",
       ".output_html .ch { color: #408080; font-style: italic } /* Comment.Hashbang */\n",
       ".output_html .cm { color: #408080; font-style: italic } /* Comment.Multiline */\n",
       ".output_html .cp { color: #BC7A00 } /* Comment.Preproc */\n",
       ".output_html .cpf { color: #408080; font-style: italic } /* Comment.PreprocFile */\n",
       ".output_html .c1 { color: #408080; font-style: italic } /* Comment.Single */\n",
       ".output_html .cs { color: #408080; font-style: italic } /* Comment.Special */\n",
       ".output_html .gd { color: #A00000 } /* Generic.Deleted */\n",
       ".output_html .ge { font-style: italic } /* Generic.Emph */\n",
       ".output_html .gr { color: #FF0000 } /* Generic.Error */\n",
       ".output_html .gh { color: #000080; font-weight: bold } /* Generic.Heading */\n",
       ".output_html .gi { color: #00A000 } /* Generic.Inserted */\n",
       ".output_html .go { color: #888888 } /* Generic.Output */\n",
       ".output_html .gp { color: #000080; font-weight: bold } /* Generic.Prompt */\n",
       ".output_html .gs { font-weight: bold } /* Generic.Strong */\n",
       ".output_html .gu { color: #800080; font-weight: bold } /* Generic.Subheading */\n",
       ".output_html .gt { color: #0044DD } /* Generic.Traceback */\n",
       ".output_html .kc { color: #008000; font-weight: bold } /* Keyword.Constant */\n",
       ".output_html .kd { color: #008000; font-weight: bold } /* Keyword.Declaration */\n",
       ".output_html .kn { color: #008000; font-weight: bold } /* Keyword.Namespace */\n",
       ".output_html .kp { color: #008000 } /* Keyword.Pseudo */\n",
       ".output_html .kr { color: #008000; font-weight: bold } /* Keyword.Reserved */\n",
       ".output_html .kt { color: #B00040 } /* Keyword.Type */\n",
       ".output_html .m { color: #666666 } /* Literal.Number */\n",
       ".output_html .s { color: #BA2121 } /* Literal.String */\n",
       ".output_html .na { color: #7D9029 } /* Name.Attribute */\n",
       ".output_html .nb { color: #008000 } /* Name.Builtin */\n",
       ".output_html .nc { color: #0000FF; font-weight: bold } /* Name.Class */\n",
       ".output_html .no { color: #880000 } /* Name.Constant */\n",
       ".output_html .nd { color: #AA22FF } /* Name.Decorator */\n",
       ".output_html .ni { color: #999999; font-weight: bold } /* Name.Entity */\n",
       ".output_html .ne { color: #D2413A; font-weight: bold } /* Name.Exception */\n",
       ".output_html .nf { color: #0000FF } /* Name.Function */\n",
       ".output_html .nl { color: #A0A000 } /* Name.Label */\n",
       ".output_html .nn { color: #0000FF; font-weight: bold } /* Name.Namespace */\n",
       ".output_html .nt { color: #008000; font-weight: bold } /* Name.Tag */\n",
       ".output_html .nv { color: #19177C } /* Name.Variable */\n",
       ".output_html .ow { color: #AA22FF; font-weight: bold } /* Operator.Word */\n",
       ".output_html .w { color: #bbbbbb } /* Text.Whitespace */\n",
       ".output_html .mb { color: #666666 } /* Literal.Number.Bin */\n",
       ".output_html .mf { color: #666666 } /* Literal.Number.Float */\n",
       ".output_html .mh { color: #666666 } /* Literal.Number.Hex */\n",
       ".output_html .mi { color: #666666 } /* Literal.Number.Integer */\n",
       ".output_html .mo { color: #666666 } /* Literal.Number.Oct */\n",
       ".output_html .sa { color: #BA2121 } /* Literal.String.Affix */\n",
       ".output_html .sb { color: #BA2121 } /* Literal.String.Backtick */\n",
       ".output_html .sc { color: #BA2121 } /* Literal.String.Char */\n",
       ".output_html .dl { color: #BA2121 } /* Literal.String.Delimiter */\n",
       ".output_html .sd { color: #BA2121; font-style: italic } /* Literal.String.Doc */\n",
       ".output_html .s2 { color: #BA2121 } /* Literal.String.Double */\n",
       ".output_html .se { color: #BB6622; font-weight: bold } /* Literal.String.Escape */\n",
       ".output_html .sh { color: #BA2121 } /* Literal.String.Heredoc */\n",
       ".output_html .si { color: #BB6688; font-weight: bold } /* Literal.String.Interpol */\n",
       ".output_html .sx { color: #008000 } /* Literal.String.Other */\n",
       ".output_html .sr { color: #BB6688 } /* Literal.String.Regex */\n",
       ".output_html .s1 { color: #BA2121 } /* Literal.String.Single */\n",
       ".output_html .ss { color: #19177C } /* Literal.String.Symbol */\n",
       ".output_html .bp { color: #008000 } /* Name.Builtin.Pseudo */\n",
       ".output_html .fm { color: #0000FF } /* Name.Function.Magic */\n",
       ".output_html .vc { color: #19177C } /* Name.Variable.Class */\n",
       ".output_html .vg { color: #19177C } /* Name.Variable.Global */\n",
       ".output_html .vi { color: #19177C } /* Name.Variable.Instance */\n",
       ".output_html .vm { color: #19177C } /* Name.Variable.Magic */\n",
       ".output_html .il { color: #666666 } /* Literal.Number.Integer.Long */</style><div class=\"highlight\"><pre><span></span><span class=\"mi\">166</span>                 <span class=\"n\">simulation</span> <span class=\"o\">=</span> <span class=\"n\">NetABM</span><span class=\"p\">(</span><span class=\"n\">road_graph</span><span class=\"p\">,</span> <span class=\"n\">args</span><span class=\"o\">.</span><span class=\"n\">num_veh</span><span class=\"p\">,</span> <span class=\"n\">bbox</span><span class=\"o\">=</span><span class=\"n\">lbbox</span><span class=\"p\">,</span> <span class=\"n\">fire_perim</span><span class=\"o\">=</span><span class=\"n\">sr_fire</span><span class=\"p\">,</span> <span class=\"n\">fire_ignit_time</span><span class=\"o\">=</span><span class=\"n\">args</span><span class=\"o\">.</span><span class=\"n\">start_fire_time</span><span class=\"p\">,</span> \n",
       "<span class=\"mi\">167</span>                 <span class=\"n\">fire_des_ts_sec</span><span class=\"o\">=</span><span class=\"mi\">100</span><span class=\"p\">,</span> <span class=\"n\">reset_interval</span><span class=\"o\">=</span><span class=\"kc\">True</span><span class=\"p\">,</span> <span class=\"n\">placement_prob</span><span class=\"o\">=</span><span class=\"s1\">&#39;Pct_HH_Cpd&#39;</span><span class=\"p\">,</span> \n",
       "<span class=\"mi\">168</span>                 <span class=\"n\">init_strategies</span><span class=\"o\">=</span><span class=\"p\">{</span><span class=\"n\">major_strat</span><span class=\"p\">:</span><span class=\"n\">strat_perc</span><span class=\"p\">})</span>\n",
       "</pre></div>\n"
      ],
      "text/latex": [
       "\\begin{Verbatim}[commandchars=\\\\\\{\\}]\n",
       "\\PY{l+m+mi}{166}                 \\PY{n}{simulation} \\PY{o}{=} \\PY{n}{NetABM}\\PY{p}{(}\\PY{n}{road\\PYZus{}graph}\\PY{p}{,} \\PY{n}{args}\\PY{o}{.}\\PY{n}{num\\PYZus{}veh}\\PY{p}{,} \\PY{n}{bbox}\\PY{o}{=}\\PY{n}{lbbox}\\PY{p}{,} \\PY{n}{fire\\PYZus{}perim}\\PY{o}{=}\\PY{n}{sr\\PYZus{}fire}\\PY{p}{,} \\PY{n}{fire\\PYZus{}ignit\\PYZus{}time}\\PY{o}{=}\\PY{n}{args}\\PY{o}{.}\\PY{n}{start\\PYZus{}fire\\PYZus{}time}\\PY{p}{,} \n",
       "\\PY{l+m+mi}{167}                 \\PY{n}{fire\\PYZus{}des\\PYZus{}ts\\PYZus{}sec}\\PY{o}{=}\\PY{l+m+mi}{100}\\PY{p}{,} \\PY{n}{reset\\PYZus{}interval}\\PY{o}{=}\\PY{k+kc}{True}\\PY{p}{,} \\PY{n}{placement\\PYZus{}prob}\\PY{o}{=}\\PY{l+s+s1}{\\PYZsq{}}\\PY{l+s+s1}{Pct\\PYZus{}HH\\PYZus{}Cpd}\\PY{l+s+s1}{\\PYZsq{}}\\PY{p}{,} \n",
       "\\PY{l+m+mi}{168}                 \\PY{n}{init\\PYZus{}strategies}\\PY{o}{=}\\PY{p}{\\PYZob{}}\\PY{n}{major\\PYZus{}strat}\\PY{p}{:}\\PY{n}{strat\\PYZus{}perc}\\PY{p}{\\PYZcb{}}\\PY{p}{)}\n",
       "\\end{Verbatim}\n"
      ],
      "text/plain": [
       "166                 simulation = NetABM(road_graph, args.num_veh, bbox=lbbox, fire_perim=sr_fire, fire_ignit_time=args.start_fire_time, \n",
       "167                 fire_des_ts_sec=100, reset_interval=True, placement_prob='Pct_HH_Cpd', \n",
       "168                 init_strategies={major_strat:strat_perc})"
      ]
     },
     "execution_count": 9,
     "metadata": {},
     "output_type": "execute_result"
    }
   ],
   "source": [
    "# show the simulation __init__ section of run_fireabm.py\n",
    "\n",
    "display_code_txt(165, 168, run_fabm_lines)"
   ]
  },
  {
   "cell_type": "code",
   "execution_count": 10,
   "metadata": {},
   "outputs": [
    {
     "data": {
      "text/html": [
       "<style>.output_html .hll { background-color: #ffffcc }\n",
       ".output_html  { background: #f8f8f8; }\n",
       ".output_html .c { color: #408080; font-style: italic } /* Comment */\n",
       ".output_html .err { border: 1px solid #FF0000 } /* Error */\n",
       ".output_html .k { color: #008000; font-weight: bold } /* Keyword */\n",
       ".output_html .o { color: #666666 } /* Operator */\n",
       ".output_html .ch { color: #408080; font-style: italic } /* Comment.Hashbang */\n",
       ".output_html .cm { color: #408080; font-style: italic } /* Comment.Multiline */\n",
       ".output_html .cp { color: #BC7A00 } /* Comment.Preproc */\n",
       ".output_html .cpf { color: #408080; font-style: italic } /* Comment.PreprocFile */\n",
       ".output_html .c1 { color: #408080; font-style: italic } /* Comment.Single */\n",
       ".output_html .cs { color: #408080; font-style: italic } /* Comment.Special */\n",
       ".output_html .gd { color: #A00000 } /* Generic.Deleted */\n",
       ".output_html .ge { font-style: italic } /* Generic.Emph */\n",
       ".output_html .gr { color: #FF0000 } /* Generic.Error */\n",
       ".output_html .gh { color: #000080; font-weight: bold } /* Generic.Heading */\n",
       ".output_html .gi { color: #00A000 } /* Generic.Inserted */\n",
       ".output_html .go { color: #888888 } /* Generic.Output */\n",
       ".output_html .gp { color: #000080; font-weight: bold } /* Generic.Prompt */\n",
       ".output_html .gs { font-weight: bold } /* Generic.Strong */\n",
       ".output_html .gu { color: #800080; font-weight: bold } /* Generic.Subheading */\n",
       ".output_html .gt { color: #0044DD } /* Generic.Traceback */\n",
       ".output_html .kc { color: #008000; font-weight: bold } /* Keyword.Constant */\n",
       ".output_html .kd { color: #008000; font-weight: bold } /* Keyword.Declaration */\n",
       ".output_html .kn { color: #008000; font-weight: bold } /* Keyword.Namespace */\n",
       ".output_html .kp { color: #008000 } /* Keyword.Pseudo */\n",
       ".output_html .kr { color: #008000; font-weight: bold } /* Keyword.Reserved */\n",
       ".output_html .kt { color: #B00040 } /* Keyword.Type */\n",
       ".output_html .m { color: #666666 } /* Literal.Number */\n",
       ".output_html .s { color: #BA2121 } /* Literal.String */\n",
       ".output_html .na { color: #7D9029 } /* Name.Attribute */\n",
       ".output_html .nb { color: #008000 } /* Name.Builtin */\n",
       ".output_html .nc { color: #0000FF; font-weight: bold } /* Name.Class */\n",
       ".output_html .no { color: #880000 } /* Name.Constant */\n",
       ".output_html .nd { color: #AA22FF } /* Name.Decorator */\n",
       ".output_html .ni { color: #999999; font-weight: bold } /* Name.Entity */\n",
       ".output_html .ne { color: #D2413A; font-weight: bold } /* Name.Exception */\n",
       ".output_html .nf { color: #0000FF } /* Name.Function */\n",
       ".output_html .nl { color: #A0A000 } /* Name.Label */\n",
       ".output_html .nn { color: #0000FF; font-weight: bold } /* Name.Namespace */\n",
       ".output_html .nt { color: #008000; font-weight: bold } /* Name.Tag */\n",
       ".output_html .nv { color: #19177C } /* Name.Variable */\n",
       ".output_html .ow { color: #AA22FF; font-weight: bold } /* Operator.Word */\n",
       ".output_html .w { color: #bbbbbb } /* Text.Whitespace */\n",
       ".output_html .mb { color: #666666 } /* Literal.Number.Bin */\n",
       ".output_html .mf { color: #666666 } /* Literal.Number.Float */\n",
       ".output_html .mh { color: #666666 } /* Literal.Number.Hex */\n",
       ".output_html .mi { color: #666666 } /* Literal.Number.Integer */\n",
       ".output_html .mo { color: #666666 } /* Literal.Number.Oct */\n",
       ".output_html .sa { color: #BA2121 } /* Literal.String.Affix */\n",
       ".output_html .sb { color: #BA2121 } /* Literal.String.Backtick */\n",
       ".output_html .sc { color: #BA2121 } /* Literal.String.Char */\n",
       ".output_html .dl { color: #BA2121 } /* Literal.String.Delimiter */\n",
       ".output_html .sd { color: #BA2121; font-style: italic } /* Literal.String.Doc */\n",
       ".output_html .s2 { color: #BA2121 } /* Literal.String.Double */\n",
       ".output_html .se { color: #BB6622; font-weight: bold } /* Literal.String.Escape */\n",
       ".output_html .sh { color: #BA2121 } /* Literal.String.Heredoc */\n",
       ".output_html .si { color: #BB6688; font-weight: bold } /* Literal.String.Interpol */\n",
       ".output_html .sx { color: #008000 } /* Literal.String.Other */\n",
       ".output_html .sr { color: #BB6688 } /* Literal.String.Regex */\n",
       ".output_html .s1 { color: #BA2121 } /* Literal.String.Single */\n",
       ".output_html .ss { color: #19177C } /* Literal.String.Symbol */\n",
       ".output_html .bp { color: #008000 } /* Name.Builtin.Pseudo */\n",
       ".output_html .fm { color: #0000FF } /* Name.Function.Magic */\n",
       ".output_html .vc { color: #19177C } /* Name.Variable.Class */\n",
       ".output_html .vg { color: #19177C } /* Name.Variable.Global */\n",
       ".output_html .vi { color: #19177C } /* Name.Variable.Instance */\n",
       ".output_html .vm { color: #19177C } /* Name.Variable.Magic */\n",
       ".output_html .il { color: #666666 } /* Literal.Number.Integer.Long */</style><div class=\"highlight\"><pre><span></span><span class=\"mi\">170</span>                 <span class=\"n\">simulation</span><span class=\"o\">.</span><span class=\"n\">run</span><span class=\"p\">(</span><span class=\"n\">save_args</span><span class=\"o\">=</span><span class=\"p\">(</span><span class=\"n\">fig</span><span class=\"p\">,</span> <span class=\"n\">ax</span><span class=\"p\">,</span> <span class=\"n\">args</span><span class=\"o\">.</span><span class=\"n\">rslt_file_name</span><span class=\"p\">,</span> <span class=\"n\">args</span><span class=\"o\">.</span><span class=\"n\">vid_file_name</span><span class=\"p\">,</span> <span class=\"n\">args</span><span class=\"o\">.</span><span class=\"n\">out_folder</span><span class=\"p\">,</span> \n",
       "<span class=\"mi\">171</span>                              <span class=\"n\">i</span><span class=\"p\">,</span> <span class=\"n\">j</span><span class=\"p\">,</span> <span class=\"n\">seed</span><span class=\"p\">,</span> <span class=\"n\">treat_desc</span><span class=\"p\">,</span> <span class=\"n\">args</span><span class=\"o\">.</span><span class=\"n\">exp_desc</span><span class=\"p\">,</span> <span class=\"n\">args</span><span class=\"o\">.</span><span class=\"n\">exp_no</span><span class=\"p\">,</span> <span class=\"n\">args</span><span class=\"o\">.</span><span class=\"n\">nb_no</span><span class=\"p\">,</span> <span class=\"n\">args</span><span class=\"o\">.</span><span class=\"n\">road_graph_pkl</span><span class=\"p\">),</span> <span class=\"n\">mutate_rate</span><span class=\"o\">=</span><span class=\"mf\">0.005</span><span class=\"p\">,</span> <span class=\"n\">update_interval</span><span class=\"o\">=</span><span class=\"mi\">100</span><span class=\"p\">)</span>\n",
       "<span class=\"mi\">172</span>                 <span class=\"n\">run_count</span> <span class=\"o\">+=</span> <span class=\"mi\">1</span>\n",
       "</pre></div>\n"
      ],
      "text/latex": [
       "\\begin{Verbatim}[commandchars=\\\\\\{\\}]\n",
       "\\PY{l+m+mi}{170}                 \\PY{n}{simulation}\\PY{o}{.}\\PY{n}{run}\\PY{p}{(}\\PY{n}{save\\PYZus{}args}\\PY{o}{=}\\PY{p}{(}\\PY{n}{fig}\\PY{p}{,} \\PY{n}{ax}\\PY{p}{,} \\PY{n}{args}\\PY{o}{.}\\PY{n}{rslt\\PYZus{}file\\PYZus{}name}\\PY{p}{,} \\PY{n}{args}\\PY{o}{.}\\PY{n}{vid\\PYZus{}file\\PYZus{}name}\\PY{p}{,} \\PY{n}{args}\\PY{o}{.}\\PY{n}{out\\PYZus{}folder}\\PY{p}{,} \n",
       "\\PY{l+m+mi}{171}                              \\PY{n}{i}\\PY{p}{,} \\PY{n}{j}\\PY{p}{,} \\PY{n}{seed}\\PY{p}{,} \\PY{n}{treat\\PYZus{}desc}\\PY{p}{,} \\PY{n}{args}\\PY{o}{.}\\PY{n}{exp\\PYZus{}desc}\\PY{p}{,} \\PY{n}{args}\\PY{o}{.}\\PY{n}{exp\\PYZus{}no}\\PY{p}{,} \\PY{n}{args}\\PY{o}{.}\\PY{n}{nb\\PYZus{}no}\\PY{p}{,} \\PY{n}{args}\\PY{o}{.}\\PY{n}{road\\PYZus{}graph\\PYZus{}pkl}\\PY{p}{)}\\PY{p}{,} \\PY{n}{mutate\\PYZus{}rate}\\PY{o}{=}\\PY{l+m+mf}{0.005}\\PY{p}{,} \\PY{n}{update\\PYZus{}interval}\\PY{o}{=}\\PY{l+m+mi}{100}\\PY{p}{)}\n",
       "\\PY{l+m+mi}{172}                 \\PY{n}{run\\PYZus{}count} \\PY{o}{+}\\PY{o}{=} \\PY{l+m+mi}{1}\n",
       "\\end{Verbatim}\n"
      ],
      "text/plain": [
       "170                 simulation.run(save_args=(fig, ax, args.rslt_file_name, args.vid_file_name, args.out_folder, \n",
       "171                              i, j, seed, treat_desc, args.exp_desc, args.exp_no, args.nb_no, args.road_graph_pkl), mutate_rate=0.005, update_interval=100)\n",
       "172                 run_count += 1"
      ]
     },
     "execution_count": 10,
     "metadata": {},
     "output_type": "execute_result"
    }
   ],
   "source": [
    "# show the simulation run section of run_fireabm.py\n",
    "\n",
    "display_code_txt(169, 172, run_fabm_lines)"
   ]
  },
  {
   "cell_type": "markdown",
   "metadata": {},
   "source": [
    "The following code demonstrates running a larger simulation using the full road graph used for manuscript experiments (`Sta_Rosa_8000.pkl`). Only 200 vehicles are used so that the runtime is ~15 minutes instead of multiple hours. However, since this takes a while, switch `run_long_full_sim` to `True` in order to run the simulation."
   ]
  },
  {
   "cell_type": "code",
   "execution_count": 11,
   "metadata": {},
   "outputs": [],
   "source": [
    "# the example full simulation takes ~15 minutes\n",
    "# change this variable to True to run\n",
    "\n",
    "run_long_full_sim = False"
   ]
  },
  {
   "cell_type": "code",
   "execution_count": 12,
   "metadata": {},
   "outputs": [
    {
     "name": "stdout",
     "output_type": "stream",
     "text": [
      "Change 'run_long_full_sim' to True to run this simulation!\n"
     ]
    }
   ],
   "source": [
    "# run full example (shortest distance driving strategy, 200 vehicles)\n",
    "\n",
    "if run_long_full_sim:\n",
    "    if not os.path.isdir('demo_full_example'): # create full example output directory\n",
    "        os.mkdir('demo_full_example')\n",
    "    if os.path.isdir(os.path.join(\"demo_full_example\", \"1files\")):\n",
    "        print(\"You have likely already ran this cell: the results will be the same!\")\n",
    "    else:\n",
    "        !python run_fireabm.py -nv 200 -sd 2 -epath \"$out_path\" -ofd demo_full_example -strat dist \\\n",
    "        -rg Sta_Rosa_8000.pkl -exdsc 'Demo quickest strat comp to mjrds and dist' -strd 1.0 -rfn 'demo_result' \\\n",
    "        -vfn 'demo_output'\n",
    "else:\n",
    "    print(\"Change 'run_long_full_sim' to True to run this simulation!\")"
   ]
  },
  {
   "cell_type": "markdown",
   "metadata": {},
   "source": [
    "Once this has finished running, you can view the output data in the `demo_full_example` folder."
   ]
  },
  {
   "cell_type": "markdown",
   "metadata": {},
   "source": [
    "<a id='drive_demo'></a>\n",
    "## Driving Strategy Demonstration\n",
    "([back to Table of Contents](#top))"
   ]
  },
  {
   "cell_type": "markdown",
   "metadata": {},
   "source": [
    "The core element of the experiments run for this manuscript are the three driving strategies. In this section they will be explained in more detail and demonstrated on a small road graph."
   ]
  },
  {
   "cell_type": "markdown",
   "metadata": {},
   "source": [
    "The experiments used for this manuscript compare three driving strategies, described below (see the manuscript for more details):\n",
    "\n",
    "\n",
    "1. **Quickest path:**\n",
    "    - this driving strategy is commonly used in evacuation models\n",
    "    \n",
    "    **How to select the path:**\n",
    "        - Select the shortest path from the vehicle position to the nearest exit using Dijkstra's algorithm weighted by both **road segment length** and **road segment speed limit**\n",
    "        - As the simulation progresses, at each time step, for each road segment that has at least one vehicle on it, estimate the current road segment speed by the average speed of all of the vehicles currently on the road segment\n",
    "        - each time at least one road segment's estimated speed is different from its usual speed (more than a small difference value to adjust for rounding), each vehicle will redetermine the path using the estimated speed in stead of the actual speed for each road segment containing vehicles\n",
    "        - there typically needs to be a relatively large amount of congestion for it to make sense to take a detour that is longer distance wise\n",
    "        - A new path, using the same method as described above, will also selected if a road segment on the current path is closed due to the wildfire spread\n",
    "    \n",
    "    \n",
    "2. **Shortest path:**\n",
    "    - this driving strategy is also commonly used in evacuation models\n",
    "    \n",
    "    **How to select the path:**\n",
    "        - Select the shortest path from the vehicle position to the nearest exit using Dijkstra's algorithm weighted by **road segment length** \n",
    "        - A new path will only be selected if a road segment on the current path is closed due to the wildfire spread\n",
    "    \n",
    "    \n",
    "3. **Major roads:**\n",
    "    - this driving strategy is used in an attempt to more realistically model traffic behavior observed in evacuations\n",
    "    \n",
    "    **How to determine the path:**\n",
    "        - Select the shortest path from the vehicle position to the nearest exit using Dijkstra's algorithm weighted by **road type weight** multiplied by **road segment length**. Road type weights are determined according to the table below. Road type is a value found in OpenStreetMap's 'highway' column.\n",
    "        - A new path will only be selected if a road segment on the current path is closed due to the wildfire spread\n",
    "        \n",
    "        \n",
    "| OSM Road Type | weight |\n",
    "|---------------|--------|\n",
    "|motorway, motorway_link, trunk, trunk_link|1|\n",
    "|primary, primary_link|5|\n",
    "|secondary, secondary_link|10|\n",
    "|tertiary, tertiary_link|15|\n",
    "|unclassified, residential, (other value)|20|"
   ]
  },
  {
   "cell_type": "markdown",
   "metadata": {},
   "source": [
    "### Road Strategy Demonstration"
   ]
  },
  {
   "cell_type": "markdown",
   "metadata": {},
   "source": [
    "First we need to import the road graph. This particular graph only has two exits, both at the bottom left corner, in order to help visualize differences between paths chosen according to each driving strategy."
   ]
  },
  {
   "cell_type": "code",
   "execution_count": 13,
   "metadata": {},
   "outputs": [],
   "source": [
    "# import demo road graph used for driving strategy demo\n",
    "\n",
    "road_graph_pkl = 'demo_road_graph.pkl'\n",
    "road_graph = load_road_graph(road_graph_pkl)\n",
    "gdf_nodes, gdf_edges = get_node_edge_gdf(road_graph)\n",
    "(bbox, lbbox, poly, x, y) = create_bboxes(gdf_nodes, 0.1, buff_adj=[-1, -1, 0.5, -1])"
   ]
  },
  {
   "cell_type": "markdown",
   "metadata": {},
   "source": [
    "The next cell displays the road graph and the bounding box."
   ]
  },
  {
   "cell_type": "code",
   "execution_count": 14,
   "metadata": {},
   "outputs": [
    {
     "data": {
      "image/png": "[encoded data removed]",
      "text/plain": [
       "<Figure size 576x576 with 1 Axes>"
      ]
     },
     "metadata": {
      "needs_background": "light"
     },
     "output_type": "display_data"
    }
   ],
   "source": [
    "# display road graph\n",
    "\n",
    "check_graphs(gdf_edges, x, y);"
   ]
  },
  {
   "cell_type": "markdown",
   "metadata": {},
   "source": [
    "As described above, road segment speeds and road types are important for the different routing strategies, so in the next two cells we view speeds and the road types found in this small road graph. Each segment has the same speed limit, which makes it easier to see differences between driving strategies."
   ]
  },
  {
   "cell_type": "code",
   "execution_count": 15,
   "metadata": {},
   "outputs": [
    {
     "name": "stdout",
     "output_type": "stream",
     "text": [
      "Attribute: speed, Type: int64\n"
     ]
    },
    {
     "data": {
      "image/png": "[encoded data removed]",
      "text/plain": [
       "<Figure size 311.222x576 with 1 Axes>"
      ]
     },
     "metadata": {},
     "output_type": "display_data"
    }
   ],
   "source": [
    "# view speeds\n",
    "\n",
    "view_edge_attrib(road_graph, 'speed', show_val=True, val=[1, 5, 10, 15, 20]);"
   ]
  },
  {
   "cell_type": "markdown",
   "metadata": {},
   "source": [
    "Only one street has the designation of \"motorway\"."
   ]
  },
  {
   "cell_type": "code",
   "execution_count": 16,
   "metadata": {},
   "outputs": [
    {
     "name": "stdout",
     "output_type": "stream",
     "text": [
      "Attribute: highway, Type: object\n"
     ]
    },
    {
     "data": {
      "text/plain": [
       "(<Figure size 311.222x576 with 1 Axes>,\n",
       " <matplotlib.axes._subplots.AxesSubplot at 0x7ff3b77d7a50>)"
      ]
     },
     "execution_count": 16,
     "metadata": {},
     "output_type": "execute_result"
    },
    {
     "data": {
      "image/png": "[encoded data removed]",
      "text/plain": [
       "<Figure size 311.222x576 with 1 Axes>"
      ]
     },
     "metadata": {},
     "output_type": "display_data"
    }
   ],
   "source": [
    "# view road types\n",
    "\n",
    "view_edge_attrib(road_graph, 'highway')"
   ]
  },
  {
   "cell_type": "markdown",
   "metadata": {},
   "source": [
    "Now we will run each driving strategy on this small graph with the following code blocks."
   ]
  },
  {
   "cell_type": "code",
   "execution_count": 17,
   "metadata": {},
   "outputs": [],
   "source": [
    "# make sure output directory exists\n",
    "\n",
    "if not os.path.isdir('demo_driving_compare'):\n",
    "    os.mkdir('demo_driving_compare')"
   ]
  },
  {
   "cell_type": "code",
   "execution_count": 18,
   "metadata": {},
   "outputs": [],
   "source": [
    "# set run parameters\n",
    "\n",
    "seed = 2\n",
    "j = 0\n",
    "exp_no, nb_no = 0, 0\n",
    "strats = ['quickest', 'dist', 'dist+road_type_weight']\n",
    "treat_desc = ['100% quickest', '100% shortest distance', '100% major roads']\n",
    "exp_desc = 'demo compare driving strats'\n",
    "vid_path = out_path / \"demo_driving_compare\" / \"0videos\""
   ]
  },
  {
   "cell_type": "code",
   "execution_count": 19,
   "metadata": {},
   "outputs": [
    {
     "name": "stdout",
     "output_type": "stream",
     "text": [
      "You have likely already ran this cell: the results will be the same!\n"
     ]
    }
   ],
   "source": [
    "# run simulations\n",
    "\n",
    "if os.path.isdir(os.path.join(\"demo_driving_compare\", \"0files\")):\n",
    "    print(\"You have likely already ran this cell: the results will be the same!\")\n",
    "else:\n",
    "    for i in range(len(strats)):\n",
    "        print('Starting simulation run for', strats[i])\n",
    "        start_full_run_time = datetime.now(time_zone)\n",
    "\n",
    "        road_graph_pkl = 'demo_road_graph.pkl'\n",
    "        road_graph = load_road_graph(road_graph_pkl)\n",
    "        gdf_nodes, gdf_edges = get_node_edge_gdf(road_graph)\n",
    "        (bbox, lbbox, poly, x, y) = create_bboxes(gdf_nodes, 0.1, buff_adj=[-1, -1, 0.5, -1])\n",
    "\n",
    "        fig, ax = setup_sim(road_graph, seed)\n",
    "        simulation = NetABM(road_graph, 200, bbox=lbbox, fire_perim=None, fire_ignit_time=None, \n",
    "        fire_des_ts_sec=100, reset_interval=False, placement_prob=None, \n",
    "        init_strategies={strats[i]:1.0})\n",
    "\n",
    "        simulation.run(save_args=(fig, ax, 'demo_driving_out', 'demo_driving_vid', 'demo_driving_compare', \n",
    "                 i, j, seed, treat_desc[i], exp_desc, exp_no, nb_no, 'demo_road_graph.pkl'), \n",
    "                       mutate_rate=0.000, update_interval=100)\n",
    "\n",
    "    end_full_run_time = datetime.now(time_zone) \n",
    "    print('Run complete run at', end_full_run_time.strftime(\"%H:%M:%S\")+',', 'elapsed time:', \n",
    "          (end_full_run_time-start_full_run_time))"
   ]
  },
  {
   "cell_type": "markdown",
   "metadata": {},
   "source": [
    "Now we can view the result videos. We'll start with the simplest driving strategy, shortest distance. Notice that all the vehicles on and to the right of the motorway road use the right most exit."
   ]
  },
  {
   "cell_type": "code",
   "execution_count": 20,
   "metadata": {},
   "outputs": [
    {
     "data": {
      "text/html": [
       "<video width=\"300\" controls><source src=\"demo_driving_compare/0videos/demo_driving_out_1_0_seed2_tspt_03-03-21_20-18_nbno_0_expno_0.mp4\" type=\"video/mp4\"></video>"
      ],
      "text/plain": [
       "<IPython.core.display.HTML object>"
      ]
     },
     "execution_count": 20,
     "metadata": {},
     "output_type": "execute_result"
    }
   ],
   "source": [
    "# view the shortest distance driving strategy \n",
    "\n",
    "dfile = \"/\".join(glob.glob(str(vid_path)+'/demo_driving_out_1*')[0].split(\"/\")[-3:])\n",
    "HTML('<video width=\"300\" controls><source src=\"%s\" type=\"video/mp4\"></video>'%dfile)"
   ]
  },
  {
   "cell_type": "markdown",
   "metadata": {},
   "source": [
    "Now view the quickest driving strategy. Watch closely the vehicles that start at the center top, in this case many of them switch to use the left most exit because of the build up of congestion on the right one."
   ]
  },
  {
   "cell_type": "code",
   "execution_count": 21,
   "metadata": {},
   "outputs": [
    {
     "data": {
      "text/html": [
       "<video width=\"300\" controls><source src=\"demo_driving_compare/0videos/demo_driving_out_0_0_seed2_tspt_03-03-21_20-17_nbno_0_expno_0.mp4\" type=\"video/mp4\"></video>"
      ],
      "text/plain": [
       "<IPython.core.display.HTML object>"
      ]
     },
     "execution_count": 21,
     "metadata": {},
     "output_type": "execute_result"
    }
   ],
   "source": [
    "# view the quickest driving strategy \n",
    "\n",
    "qfile = \"/\".join(glob.glob(str(vid_path)+'/demo_driving_out_0*')[0].split(\"/\")[-3:])\n",
    "HTML('<video width=\"300\" controls><source src=\"%s\" type=\"video/mp4\"></video>'%qfile)"
   ]
  },
  {
   "cell_type": "markdown",
   "metadata": {},
   "source": [
    "Finally, here is the major roads simulation. Here very few vehicles take the left most exit because the highway is preferred."
   ]
  },
  {
   "cell_type": "code",
   "execution_count": 22,
   "metadata": {},
   "outputs": [
    {
     "data": {
      "text/html": [
       "<video width=\"300\" controls><source src=\"demo_driving_compare/0videos/demo_driving_out_2_0_seed2_tspt_03-03-21_20-18_nbno_0_expno_0.mp4\" type=\"video/mp4\"></video>"
      ],
      "text/plain": [
       "<IPython.core.display.HTML object>"
      ]
     },
     "execution_count": 22,
     "metadata": {},
     "output_type": "execute_result"
    }
   ],
   "source": [
    "# view the major roads driving strategy \n",
    "\n",
    "mfile = \"/\".join(glob.glob(str(vid_path)+'/demo_driving_out_2*')[0].split(\"/\")[-3:])\n",
    "HTML('<video width=\"300\" controls><source src=\"%s\" type=\"video/mp4\"></video>'%mfile)"
   ]
  },
  {
   "cell_type": "markdown",
   "metadata": {},
   "source": [
    "<a id='cust_input'></a>\n",
    "## Working With and Customizing Input Data\n",
    "([back to Table of Contents](#top))"
   ]
  },
  {
   "cell_type": "markdown",
   "metadata": {},
   "source": [
    "In order to run the full evacuation simulation in a different location, you will need to create a new road graph, use a new households file, and import a new wildfire perimeter shapefile. More details about these data and the actions needed to create them for a given study area are discussed below."
   ]
  },
  {
   "cell_type": "markdown",
   "metadata": {},
   "source": [
    "### Road Graph"
   ]
  },
  {
   "cell_type": "markdown",
   "metadata": {},
   "source": [
    "We have now used a road graph to see how each driving strategy uses a different routing methods for evacuees to leave the evacuation zone. In this section we will look in more depth at how a road graph is constructed."
   ]
  },
  {
   "cell_type": "markdown",
   "metadata": {},
   "source": [
    "A road graph created with the [OSMnx Python library](https://osmnx.readthedocs.io/) is a form of a [Networkx graph](https://networkx.org/). This graph data structure contains nodes, edges, and data associated with nodes and edges."
   ]
  },
  {
   "cell_type": "markdown",
   "metadata": {},
   "source": [
    "The road graph is specifically a MultiDiGraph, which is a directed graph (i.e. an edge connecting node A and node B is considered different from an edge connecting node B to node A) that can contain self loops (a node can be connected to itself) and parallel edges (there can be multiple edges in the same direction between two nodes."
   ]
  },
  {
   "cell_type": "code",
   "execution_count": 30,
   "metadata": {},
   "outputs": [
    {
     "data": {
      "text/plain": [
       "networkx.classes.multidigraph.MultiDiGraph"
      ]
     },
     "execution_count": 30,
     "metadata": {},
     "output_type": "execute_result"
    }
   ],
   "source": [
    "# view road_graph type (MultiDiGraph)\n",
    "\n",
    "type(road_graph)\n"
   ]
  },
  {
   "cell_type": "markdown",
   "metadata": {},
   "source": [
    "Networkx graph methods can be directly used to interact with the road graph and its data. For example, you can list nodes, and edges, and list data for each."
   ]
  },
  {
   "cell_type": "code",
   "execution_count": 35,
   "metadata": {},
   "outputs": [
    {
     "data": {
      "text/plain": [
       "[38027658, 37995105, 38126875, 38077723, 38126878]"
      ]
     },
     "execution_count": 35,
     "metadata": {},
     "output_type": "execute_result"
    }
   ],
   "source": [
    "# list first nodes in graph \n",
    "\n",
    "list(road_graph.nodes)[:5]\n"
   ]
  },
  {
   "cell_type": "code",
   "execution_count": 36,
   "metadata": {},
   "outputs": [
    {
     "data": {
      "text/plain": [
       "[(38126875, 38062557, 0),\n",
       " (38126875, 37982610, 0),\n",
       " (38126875, 38126878, 0),\n",
       " (38126875, 38123182, 0),\n",
       " (38077723, 38039364, 0)]"
      ]
     },
     "execution_count": 36,
     "metadata": {},
     "output_type": "execute_result"
    }
   ],
   "source": [
    "# list first edges in graph \n",
    "\n",
    "list(road_graph.edges)[:5]\n"
   ]
  },
  {
   "cell_type": "code",
   "execution_count": 41,
   "metadata": {},
   "outputs": [
    {
     "data": {
      "text/plain": [
       "[(38027658,\n",
       "  {'y': 4442613.982683914,\n",
       "   'x': 395159.05469646316,\n",
       "   'osmid': 38027658,\n",
       "   'highway': nan,\n",
       "   'lon': -88.2304975,\n",
       "   'lat': 40.1273174}),\n",
       " (37995105,\n",
       "  {'y': 4442611.456380954,\n",
       "   'x': 395482.3892753059,\n",
       "   'osmid': 37995105,\n",
       "   'highway': nan,\n",
       "   'lon': -88.226703,\n",
       "   'lat': 40.1273349})]"
      ]
     },
     "execution_count": 41,
     "metadata": {},
     "output_type": "execute_result"
    }
   ],
   "source": [
    "# list nodes and data\n",
    "\n",
    "list(road_graph.nodes(data=True))[:2]\n"
   ]
  },
  {
   "cell_type": "code",
   "execution_count": 42,
   "metadata": {},
   "outputs": [
    {
     "data": {
      "text/plain": [
       "[(38126875,\n",
       "  38062557,\n",
       "  {'osmid': 5341699,\n",
       "   'name': 'East Eureka Street',\n",
       "   'highway': 'residential',\n",
       "   'oneway': False,\n",
       "   'length': 141.2340907837702,\n",
       "   'geometry': <shapely.geometry.linestring.LineString at 0x7ff3bc1a6150>,\n",
       "   'seg_time': 9.415606052251347,\n",
       "   'speed': 15,\n",
       "   'ett': 9.415606052251347,\n",
       "   'length_n': 0.8249213332852637,\n",
       "   'rt_weight': 20,\n",
       "   'rt_weighted_len': 2824.681815675404,\n",
       "   'rt_wght_len_n': 0.8658169133484331}),\n",
       " (38126875,\n",
       "  37982610,\n",
       "  {'osmid': 5341699,\n",
       "   'name': 'East Eureka Street',\n",
       "   'highway': 'residential',\n",
       "   'oneway': False,\n",
       "   'length': 140.7986940773007,\n",
       "   'geometry': <shapely.geometry.linestring.LineString at 0x7ff3bc1a65d0>,\n",
       "   'seg_time': 9.38657960515338,\n",
       "   'speed': 15,\n",
       "   'ett': 9.38657960515338,\n",
       "   'length_n': 0.8213591096762171,\n",
       "   'rt_weight': 20,\n",
       "   'rt_weighted_len': 2815.973881546014,\n",
       "   'rt_wght_len_n': 0.8630867682760824})]"
      ]
     },
     "execution_count": 42,
     "metadata": {},
     "output_type": "execute_result"
    }
   ],
   "source": [
    "# list edges and data\n",
    "\n",
    "list(road_graph.edges(data=True))[:2]\n"
   ]
  },
  {
   "cell_type": "markdown",
   "metadata": {},
   "source": [
    "While the direct access to the Networkx structure is powerful, working with a road graph as a Geographic Data Files (.gdf) file format is a useful way to inspect data attributes for nodes and edges. The default view here can be easier to sort and filter data."
   ]
  },
  {
   "cell_type": "markdown",
   "metadata": {},
   "source": [
    "Here it is easy to inspect road graph node attributes. Each node has an OSM ID, x and y coordinates, a highway designation value, longitude and latitude coordinates, and a point geometry column."
   ]
  },
  {
   "cell_type": "code",
   "execution_count": 43,
   "metadata": {},
   "outputs": [
    {
     "data": {
      "text/html": [
       "<div>\n",
       "<style scoped>\n",
       "    .dataframe tbody tr th:only-of-type {\n",
       "        vertical-align: middle;\n",
       "    }\n",
       "\n",
       "    .dataframe tbody tr th {\n",
       "        vertical-align: top;\n",
       "    }\n",
       "\n",
       "    .dataframe thead th {\n",
       "        text-align: right;\n",
       "    }\n",
       "</style>\n",
       "<table border=\"1\" class=\"dataframe\">\n",
       "  <thead>\n",
       "    <tr style=\"text-align: right;\">\n",
       "      <th></th>\n",
       "      <th>y</th>\n",
       "      <th>x</th>\n",
       "      <th>osmid</th>\n",
       "      <th>highway</th>\n",
       "      <th>lon</th>\n",
       "      <th>lat</th>\n",
       "      <th>geometry</th>\n",
       "    </tr>\n",
       "  </thead>\n",
       "  <tbody>\n",
       "    <tr>\n",
       "      <th>38027658</th>\n",
       "      <td>4.442614e+06</td>\n",
       "      <td>395159.054696</td>\n",
       "      <td>38027658</td>\n",
       "      <td>NaN</td>\n",
       "      <td>-88.230497</td>\n",
       "      <td>40.127317</td>\n",
       "      <td>POINT (395159.055 4442613.983)</td>\n",
       "    </tr>\n",
       "    <tr>\n",
       "      <th>37995105</th>\n",
       "      <td>4.442611e+06</td>\n",
       "      <td>395482.389275</td>\n",
       "      <td>37995105</td>\n",
       "      <td>NaN</td>\n",
       "      <td>-88.226703</td>\n",
       "      <td>40.127335</td>\n",
       "      <td>POINT (395482.389 4442611.456)</td>\n",
       "    </tr>\n",
       "    <tr>\n",
       "      <th>38126875</th>\n",
       "      <td>4.442376e+06</td>\n",
       "      <td>395016.213277</td>\n",
       "      <td>38126875</td>\n",
       "      <td>NaN</td>\n",
       "      <td>-88.232135</td>\n",
       "      <td>40.125160</td>\n",
       "      <td>POINT (395016.213 4442376.450)</td>\n",
       "    </tr>\n",
       "    <tr>\n",
       "      <th>38077723</th>\n",
       "      <td>4.441719e+06</td>\n",
       "      <td>395552.668665</td>\n",
       "      <td>38077723</td>\n",
       "      <td>NaN</td>\n",
       "      <td>-88.225734</td>\n",
       "      <td>40.119309</td>\n",
       "      <td>POINT (395552.669 4441719.467)</td>\n",
       "    </tr>\n",
       "    <tr>\n",
       "      <th>38126878</th>\n",
       "      <td>4.442496e+06</td>\n",
       "      <td>395017.693742</td>\n",
       "      <td>38126878</td>\n",
       "      <td>NaN</td>\n",
       "      <td>-88.232137</td>\n",
       "      <td>40.126233</td>\n",
       "      <td>POINT (395017.694 4442495.553)</td>\n",
       "    </tr>\n",
       "  </tbody>\n",
       "</table>\n",
       "</div>"
      ],
      "text/plain": [
       "                     y              x     osmid highway        lon        lat  \\\n",
       "38027658  4.442614e+06  395159.054696  38027658     NaN -88.230497  40.127317   \n",
       "37995105  4.442611e+06  395482.389275  37995105     NaN -88.226703  40.127335   \n",
       "38126875  4.442376e+06  395016.213277  38126875     NaN -88.232135  40.125160   \n",
       "38077723  4.441719e+06  395552.668665  38077723     NaN -88.225734  40.119309   \n",
       "38126878  4.442496e+06  395017.693742  38126878     NaN -88.232137  40.126233   \n",
       "\n",
       "                                geometry  \n",
       "38027658  POINT (395159.055 4442613.983)  \n",
       "37995105  POINT (395482.389 4442611.456)  \n",
       "38126875  POINT (395016.213 4442376.450)  \n",
       "38077723  POINT (395552.669 4441719.467)  \n",
       "38126878  POINT (395017.694 4442495.553)  "
      ]
     },
     "execution_count": 43,
     "metadata": {},
     "output_type": "execute_result"
    }
   ],
   "source": [
    "# inspect the first values of the nodes file\n",
    "\n",
    "gdf_nodes.head()\n"
   ]
  },
  {
   "cell_type": "markdown",
   "metadata": {},
   "source": [
    "Edges connect nodes. Each edge has a starting and ending node, which are designated as `u` and `v` nodes. Key values are used to differentiate between two edges that connect the same two nodes in the same direction (i.e. parallel edges). Edges also have an id and an OSMid. They can have a street name, have a road type (`highway`), have an indication of direction, length, maxspeed, number of lanes, and geometry. Additional columns are created during preprocessing to use in the simulation."
   ]
  },
  {
   "cell_type": "code",
   "execution_count": 44,
   "metadata": {},
   "outputs": [
    {
     "data": {
      "text/html": [
       "<div>\n",
       "<style scoped>\n",
       "    .dataframe tbody tr th:only-of-type {\n",
       "        vertical-align: middle;\n",
       "    }\n",
       "\n",
       "    .dataframe tbody tr th {\n",
       "        vertical-align: top;\n",
       "    }\n",
       "\n",
       "    .dataframe thead th {\n",
       "        text-align: right;\n",
       "    }\n",
       "</style>\n",
       "<table border=\"1\" class=\"dataframe\">\n",
       "  <thead>\n",
       "    <tr style=\"text-align: right;\">\n",
       "      <th></th>\n",
       "      <th>u</th>\n",
       "      <th>v</th>\n",
       "      <th>key</th>\n",
       "      <th>osmid</th>\n",
       "      <th>name</th>\n",
       "      <th>highway</th>\n",
       "      <th>oneway</th>\n",
       "      <th>length</th>\n",
       "      <th>geometry</th>\n",
       "      <th>seg_time</th>\n",
       "      <th>speed</th>\n",
       "      <th>ett</th>\n",
       "      <th>length_n</th>\n",
       "      <th>rt_weight</th>\n",
       "      <th>rt_weighted_len</th>\n",
       "      <th>rt_wght_len_n</th>\n",
       "      <th>lanes</th>\n",
       "      <th>maxspeed</th>\n",
       "      <th>ref</th>\n",
       "    </tr>\n",
       "  </thead>\n",
       "  <tbody>\n",
       "    <tr>\n",
       "      <th>0</th>\n",
       "      <td>38126875</td>\n",
       "      <td>38062557</td>\n",
       "      <td>0</td>\n",
       "      <td>5341699</td>\n",
       "      <td>East Eureka Street</td>\n",
       "      <td>residential</td>\n",
       "      <td>False</td>\n",
       "      <td>141.234091</td>\n",
       "      <td>LINESTRING (395016.213 4442376.450, 395037.851...</td>\n",
       "      <td>9.415606</td>\n",
       "      <td>15</td>\n",
       "      <td>9.415606</td>\n",
       "      <td>0.824921</td>\n",
       "      <td>20</td>\n",
       "      <td>2824.681816</td>\n",
       "      <td>0.865817</td>\n",
       "      <td>NaN</td>\n",
       "      <td>NaN</td>\n",
       "      <td>NaN</td>\n",
       "    </tr>\n",
       "    <tr>\n",
       "      <th>1</th>\n",
       "      <td>38126875</td>\n",
       "      <td>37982610</td>\n",
       "      <td>0</td>\n",
       "      <td>5341699</td>\n",
       "      <td>East Eureka Street</td>\n",
       "      <td>residential</td>\n",
       "      <td>False</td>\n",
       "      <td>140.798694</td>\n",
       "      <td>LINESTRING (395016.213 4442376.450, 394882.417...</td>\n",
       "      <td>9.386580</td>\n",
       "      <td>15</td>\n",
       "      <td>9.386580</td>\n",
       "      <td>0.821359</td>\n",
       "      <td>20</td>\n",
       "      <td>2815.973882</td>\n",
       "      <td>0.863087</td>\n",
       "      <td>NaN</td>\n",
       "      <td>NaN</td>\n",
       "      <td>NaN</td>\n",
       "    </tr>\n",
       "    <tr>\n",
       "      <th>2</th>\n",
       "      <td>38126875</td>\n",
       "      <td>38126878</td>\n",
       "      <td>0</td>\n",
       "      <td>238681201</td>\n",
       "      <td>North Fifth Street</td>\n",
       "      <td>motorway</td>\n",
       "      <td>False</td>\n",
       "      <td>119.111384</td>\n",
       "      <td>LINESTRING (395016.213 4442376.450, 395016.313...</td>\n",
       "      <td>7.940759</td>\n",
       "      <td>15</td>\n",
       "      <td>7.940759</td>\n",
       "      <td>0.643923</td>\n",
       "      <td>1</td>\n",
       "      <td>119.111384</td>\n",
       "      <td>0.017556</td>\n",
       "      <td>NaN</td>\n",
       "      <td>NaN</td>\n",
       "      <td>NaN</td>\n",
       "    </tr>\n",
       "    <tr>\n",
       "      <th>3</th>\n",
       "      <td>38126875</td>\n",
       "      <td>38123182</td>\n",
       "      <td>0</td>\n",
       "      <td>238681201</td>\n",
       "      <td>North Fifth Street</td>\n",
       "      <td>motorway</td>\n",
       "      <td>False</td>\n",
       "      <td>111.791100</td>\n",
       "      <td>LINESTRING (395016.213 4442376.450, 395016.183...</td>\n",
       "      <td>7.452740</td>\n",
       "      <td>15</td>\n",
       "      <td>7.452740</td>\n",
       "      <td>0.584032</td>\n",
       "      <td>1</td>\n",
       "      <td>111.791100</td>\n",
       "      <td>0.015261</td>\n",
       "      <td>NaN</td>\n",
       "      <td>NaN</td>\n",
       "      <td>NaN</td>\n",
       "    </tr>\n",
       "    <tr>\n",
       "      <th>4</th>\n",
       "      <td>38077723</td>\n",
       "      <td>38039364</td>\n",
       "      <td>0</td>\n",
       "      <td>5337865</td>\n",
       "      <td>North Mathews Avenue</td>\n",
       "      <td>residential</td>\n",
       "      <td>False</td>\n",
       "      <td>106.460513</td>\n",
       "      <td>LINESTRING (395552.669 4441719.467, 395552.811...</td>\n",
       "      <td>7.097368</td>\n",
       "      <td>15</td>\n",
       "      <td>7.097368</td>\n",
       "      <td>0.540419</td>\n",
       "      <td>20</td>\n",
       "      <td>2129.210268</td>\n",
       "      <td>0.647770</td>\n",
       "      <td>NaN</td>\n",
       "      <td>NaN</td>\n",
       "      <td>NaN</td>\n",
       "    </tr>\n",
       "  </tbody>\n",
       "</table>\n",
       "</div>"
      ],
      "text/plain": [
       "          u         v  key      osmid                  name      highway  \\\n",
       "0  38126875  38062557    0    5341699    East Eureka Street  residential   \n",
       "1  38126875  37982610    0    5341699    East Eureka Street  residential   \n",
       "2  38126875  38126878    0  238681201    North Fifth Street     motorway   \n",
       "3  38126875  38123182    0  238681201    North Fifth Street     motorway   \n",
       "4  38077723  38039364    0    5337865  North Mathews Avenue  residential   \n",
       "\n",
       "   oneway      length                                           geometry  \\\n",
       "0   False  141.234091  LINESTRING (395016.213 4442376.450, 395037.851...   \n",
       "1   False  140.798694  LINESTRING (395016.213 4442376.450, 394882.417...   \n",
       "2   False  119.111384  LINESTRING (395016.213 4442376.450, 395016.313...   \n",
       "3   False  111.791100  LINESTRING (395016.213 4442376.450, 395016.183...   \n",
       "4   False  106.460513  LINESTRING (395552.669 4441719.467, 395552.811...   \n",
       "\n",
       "   seg_time  speed       ett  length_n  rt_weight  rt_weighted_len  \\\n",
       "0  9.415606     15  9.415606  0.824921         20      2824.681816   \n",
       "1  9.386580     15  9.386580  0.821359         20      2815.973882   \n",
       "2  7.940759     15  7.940759  0.643923          1       119.111384   \n",
       "3  7.452740     15  7.452740  0.584032          1       111.791100   \n",
       "4  7.097368     15  7.097368  0.540419         20      2129.210268   \n",
       "\n",
       "   rt_wght_len_n lanes maxspeed  ref  \n",
       "0       0.865817   NaN      NaN  NaN  \n",
       "1       0.863087   NaN      NaN  NaN  \n",
       "2       0.017556   NaN      NaN  NaN  \n",
       "3       0.015261   NaN      NaN  NaN  \n",
       "4       0.647770   NaN      NaN  NaN  "
      ]
     },
     "execution_count": 44,
     "metadata": {},
     "output_type": "execute_result"
    }
   ],
   "source": [
    "# inspect the first values of the edges file\n",
    "\n",
    "gdf_edges.head()\n"
   ]
  },
  {
   "cell_type": "markdown",
   "metadata": {},
   "source": [
    "A new road graph can be easily created using the [Rebuild_Road_Graphs](./Rebuild_Road_Graphs.ipynb) notebook. This notebook contains the full workflow used for simulations in this manuscript. The current code uses the `ox.graph_from_address` function to create a road graph, which you can use to create a new graph by simply inserting an address central to your location of interest and a distance. Other [Osmnx graph building functions](https://osmnx.readthedocs.io/en/stable/osmnx.html#module-osmnx.graph) work as well."
   ]
  },
  {
   "cell_type": "markdown",
   "metadata": {},
   "source": [
    "Once you have created a new Road Graph, several preprocessing steps need to take place (each of these are included in the [Rebuild_Road_Graphs](./Rebuild_Road_Graphs.ipynb) notebook. The important ones for the manuscript are:\n",
    "- `project_graph`: projects the road graph to UTM\n",
    "- `cleanUp`: removes dead ends and adds missing geometry attributes\n",
    "- `add_unit_speed`: adds speed values and cleans up missing speeds\n",
    "- `add_road_type_weights`: adds weights according to the `highway` attribute (see graph above)\n",
    "- `add_households`: adds household percentages used to initially place vehicles\n",
    "- `normalize_edge_attribute`: standardizes each potential weight to a number between 0 and 1 for ease of combining weights"
   ]
  },
  {
   "cell_type": "markdown",
   "metadata": {},
   "source": [
    "### Wildfire"
   ]
  },
  {
   "cell_type": "markdown",
   "metadata": {},
   "source": [
    "Refer to the [FlamMap Documentation](http://flammaphelp.s3-website-us-west-2.amazonaws.com/) for creating simulated wildfires. For this manuscript, the fire tutorial was used to generate a series of output perimeters. These were resized and relocated to fit in the study area. Although the resulting fire spread is not realistic for the location, it demonstrates how the simulation code can use results generated in FlamMap."
   ]
  },
  {
   "cell_type": "markdown",
   "metadata": {},
   "source": [
    "Looking at the shapefile columns for the wildfire shapefile, we can see that FlamMap has generated attributes for the fire. The most important two columns used in the simulation are the `geometry` column, which contains a polygon that maikes up part of the fire perimeter at a specific point, and the `SimTime` colum, which contains the simulated time in minutes that each row belongs to."
   ]
  },
  {
   "cell_type": "code",
   "execution_count": 71,
   "metadata": {},
   "outputs": [
    {
     "data": {
      "text/html": [
       "<div>\n",
       "<style scoped>\n",
       "    .dataframe tbody tr th:only-of-type {\n",
       "        vertical-align: middle;\n",
       "    }\n",
       "\n",
       "    .dataframe tbody tr th {\n",
       "        vertical-align: top;\n",
       "    }\n",
       "\n",
       "    .dataframe thead th {\n",
       "        text-align: right;\n",
       "    }\n",
       "</style>\n",
       "<table border=\"1\" class=\"dataframe\">\n",
       "  <thead>\n",
       "    <tr style=\"text-align: right;\">\n",
       "      <th></th>\n",
       "      <th>ENTITY</th>\n",
       "      <th>Fire_Type</th>\n",
       "      <th>Month</th>\n",
       "      <th>Day</th>\n",
       "      <th>Hour</th>\n",
       "      <th>SimTime</th>\n",
       "      <th>Acres</th>\n",
       "      <th>geometry</th>\n",
       "    </tr>\n",
       "  </thead>\n",
       "  <tbody>\n",
       "    <tr>\n",
       "      <th>0</th>\n",
       "      <td>0.0</td>\n",
       "      <td>Enclave Fire</td>\n",
       "      <td>7</td>\n",
       "      <td>21</td>\n",
       "      <td>2000</td>\n",
       "      <td>2160.0</td>\n",
       "      <td>0.0</td>\n",
       "      <td>POLYGON ((-2652855.321 4915293.918, -2652857.5...</td>\n",
       "    </tr>\n",
       "    <tr>\n",
       "      <th>1</th>\n",
       "      <td>1.0</td>\n",
       "      <td>Enclave Fire</td>\n",
       "      <td>7</td>\n",
       "      <td>21</td>\n",
       "      <td>2000</td>\n",
       "      <td>2160.0</td>\n",
       "      <td>0.0</td>\n",
       "      <td>POLYGON ((-2653303.602 4916407.759, -2653338.8...</td>\n",
       "    </tr>\n",
       "    <tr>\n",
       "      <th>2</th>\n",
       "      <td>2.0</td>\n",
       "      <td>Enclave Fire</td>\n",
       "      <td>7</td>\n",
       "      <td>21</td>\n",
       "      <td>2000</td>\n",
       "      <td>2160.0</td>\n",
       "      <td>0.0</td>\n",
       "      <td>POLYGON ((-2650361.820 4918183.587, -2650351.8...</td>\n",
       "    </tr>\n",
       "    <tr>\n",
       "      <th>3</th>\n",
       "      <td>3.0</td>\n",
       "      <td>Enclave Fire</td>\n",
       "      <td>7</td>\n",
       "      <td>21</td>\n",
       "      <td>2000</td>\n",
       "      <td>2160.0</td>\n",
       "      <td>0.0</td>\n",
       "      <td>POLYGON ((-2650316.917 4918163.170, -2650315.1...</td>\n",
       "    </tr>\n",
       "    <tr>\n",
       "      <th>4</th>\n",
       "      <td>4.0</td>\n",
       "      <td>Enclave Fire</td>\n",
       "      <td>7</td>\n",
       "      <td>21</td>\n",
       "      <td>2000</td>\n",
       "      <td>2160.0</td>\n",
       "      <td>0.0</td>\n",
       "      <td>POLYGON ((-2653587.593 4916708.431, -2653535.8...</td>\n",
       "    </tr>\n",
       "  </tbody>\n",
       "</table>\n",
       "</div>"
      ],
      "text/plain": [
       "   ENTITY     Fire_Type  Month  Day  Hour  SimTime  Acres  \\\n",
       "0     0.0  Enclave Fire      7   21  2000   2160.0    0.0   \n",
       "1     1.0  Enclave Fire      7   21  2000   2160.0    0.0   \n",
       "2     2.0  Enclave Fire      7   21  2000   2160.0    0.0   \n",
       "3     3.0  Enclave Fire      7   21  2000   2160.0    0.0   \n",
       "4     4.0  Enclave Fire      7   21  2000   2160.0    0.0   \n",
       "\n",
       "                                            geometry  \n",
       "0  POLYGON ((-2652855.321 4915293.918, -2652857.5...  \n",
       "1  POLYGON ((-2653303.602 4916407.759, -2653338.8...  \n",
       "2  POLYGON ((-2650361.820 4918183.587, -2650351.8...  \n",
       "3  POLYGON ((-2650316.917 4918163.170, -2650315.1...  \n",
       "4  POLYGON ((-2653587.593 4916708.431, -2653535.8...  "
      ]
     },
     "execution_count": 71,
     "metadata": {},
     "output_type": "execute_result"
    }
   ],
   "source": [
    "# inspect fire\n",
    "\n",
    "fire_file = load_shpfile(road_graph, (\"fire_input\",'santa_rosa_fire.shp'))\n",
    "fire_file.head()"
   ]
  },
  {
   "cell_type": "markdown",
   "metadata": {},
   "source": [
    "The following code shows the fire perimeters used in the simulation colored by 'SimTime', i.e. the number of minutes elapsed since the start of the simulation. Two different color portions can be seen because in this case the fire does not spread during the night."
   ]
  },
  {
   "cell_type": "code",
   "execution_count": 72,
   "metadata": {},
   "outputs": [
    {
     "data": {
      "text/plain": [
       "<matplotlib.axes._subplots.AxesSubplot at 0x7ff3b7247490>"
      ]
     },
     "execution_count": 72,
     "metadata": {},
     "output_type": "execute_result"
    },
    {
     "data": {
      "image/png": "[encoded data removed]",
      "text/plain": [
       "<Figure size 432x288 with 2 Axes>"
      ]
     },
     "metadata": {
      "needs_background": "light"
     },
     "output_type": "display_data"
    }
   ],
   "source": [
    "# display fire\n",
    "\n",
    "fire_file.plot(column='SimTime', legend=True)\n"
   ]
  },
  {
   "cell_type": "markdown",
   "metadata": {},
   "source": [
    "### Households"
   ]
  },
  {
   "cell_type": "markdown",
   "metadata": {},
   "source": [
    "Household data is used to initially place vehicles in proportion to households within census tracts. Households data have been gathered from [US Census Data Table S1101](https://data.census.gov/cedsci/table?q=S1101&tid=ACSST1Y2018.S1101) 2014-2018 American Community Survey 5-Year Estimates, Table S1101. You can download a CSV from the Census Bureau with household data and join to census tract shapefiles that have been also downloaded from the Census Bureau. Althouugh this simulation code expects census tracts, it could be modified to use other geographic areas."
   ]
  },
  {
   "cell_type": "markdown",
   "metadata": {},
   "source": [
    "This shapefile contains basic information about the census tract from the Census Bureau and the number of households per census tract has been joined to the shapefile. Important columns here are `Tot_Est_HH`, which contains the ACS estimate of total households per census tract from the above table, and `geometry` with the census tract geometry."
   ]
  },
  {
   "cell_type": "code",
   "execution_count": 81,
   "metadata": {},
   "outputs": [
    {
     "data": {
      "text/html": [
       "<div>\n",
       "<style scoped>\n",
       "    .dataframe tbody tr th:only-of-type {\n",
       "        vertical-align: middle;\n",
       "    }\n",
       "\n",
       "    .dataframe tbody tr th {\n",
       "        vertical-align: top;\n",
       "    }\n",
       "\n",
       "    .dataframe thead th {\n",
       "        text-align: right;\n",
       "    }\n",
       "</style>\n",
       "<table border=\"1\" class=\"dataframe\">\n",
       "  <thead>\n",
       "    <tr style=\"text-align: right;\">\n",
       "      <th></th>\n",
       "      <th>STATEFP</th>\n",
       "      <th>COUNTYFP</th>\n",
       "      <th>TRACTCE</th>\n",
       "      <th>GEOID</th>\n",
       "      <th>NAME</th>\n",
       "      <th>NAMELSAD</th>\n",
       "      <th>MTFCC</th>\n",
       "      <th>FUNCSTAT</th>\n",
       "      <th>ALAND</th>\n",
       "      <th>AWATER</th>\n",
       "      <th>INTPTLAT</th>\n",
       "      <th>INTPTLON</th>\n",
       "      <th>Santa_Rosa</th>\n",
       "      <th>Santa_Ro_1</th>\n",
       "      <th>Santa_Ro_2</th>\n",
       "      <th>Tot_Est_HH</th>\n",
       "      <th>geometry</th>\n",
       "    </tr>\n",
       "  </thead>\n",
       "  <tbody>\n",
       "    <tr>\n",
       "      <th>0</th>\n",
       "      <td>06</td>\n",
       "      <td>055</td>\n",
       "      <td>201300</td>\n",
       "      <td>06055201300</td>\n",
       "      <td>2013</td>\n",
       "      <td>Census Tract 2013</td>\n",
       "      <td>G5020</td>\n",
       "      <td>S</td>\n",
       "      <td>3825479</td>\n",
       "      <td>6876</td>\n",
       "      <td>+38.3935118</td>\n",
       "      <td>-122.3655355</td>\n",
       "      <td>None</td>\n",
       "      <td>None</td>\n",
       "      <td>NaN</td>\n",
       "      <td>NaN</td>\n",
       "      <td>POLYGON ((-2625602.592 4895396.940, -2624873.5...</td>\n",
       "    </tr>\n",
       "    <tr>\n",
       "      <th>1</th>\n",
       "      <td>06</td>\n",
       "      <td>055</td>\n",
       "      <td>202000</td>\n",
       "      <td>06055202000</td>\n",
       "      <td>2020</td>\n",
       "      <td>Census Tract 2020</td>\n",
       "      <td>G5020</td>\n",
       "      <td>S</td>\n",
       "      <td>6672855</td>\n",
       "      <td>46827</td>\n",
       "      <td>+38.5814083</td>\n",
       "      <td>-122.5826961</td>\n",
       "      <td>None</td>\n",
       "      <td>None</td>\n",
       "      <td>NaN</td>\n",
       "      <td>NaN</td>\n",
       "      <td>POLYGON ((-2635488.687 4925562.735, -2635376.7...</td>\n",
       "    </tr>\n",
       "    <tr>\n",
       "      <th>2</th>\n",
       "      <td>06</td>\n",
       "      <td>097</td>\n",
       "      <td>151602</td>\n",
       "      <td>06097151602</td>\n",
       "      <td>1516.02</td>\n",
       "      <td>Census Tract 1516.02</td>\n",
       "      <td>G5020</td>\n",
       "      <td>S</td>\n",
       "      <td>33113703</td>\n",
       "      <td>228016</td>\n",
       "      <td>+38.4218634</td>\n",
       "      <td>-122.5985465</td>\n",
       "      <td>1400000US06097151602</td>\n",
       "      <td>Census Tract 1516.02, Sonoma County, California</td>\n",
       "      <td>1852.0</td>\n",
       "      <td>1852.0</td>\n",
       "      <td>POLYGON ((-2646299.185 4912693.434, -2646244.1...</td>\n",
       "    </tr>\n",
       "    <tr>\n",
       "      <th>3</th>\n",
       "      <td>06</td>\n",
       "      <td>097</td>\n",
       "      <td>150607</td>\n",
       "      <td>06097150607</td>\n",
       "      <td>1506.07</td>\n",
       "      <td>Census Tract 1506.07</td>\n",
       "      <td>G5020</td>\n",
       "      <td>S</td>\n",
       "      <td>11093822</td>\n",
       "      <td>0</td>\n",
       "      <td>+38.2766586</td>\n",
       "      <td>-122.6437522</td>\n",
       "      <td>1400000US06097150607</td>\n",
       "      <td>Census Tract 1506.07, Sonoma County, California</td>\n",
       "      <td>1719.0</td>\n",
       "      <td>1719.0</td>\n",
       "      <td>POLYGON ((-2657204.756 4892702.043, -2657201.8...</td>\n",
       "    </tr>\n",
       "    <tr>\n",
       "      <th>4</th>\n",
       "      <td>06</td>\n",
       "      <td>097</td>\n",
       "      <td>150610</td>\n",
       "      <td>06097150610</td>\n",
       "      <td>1506.10</td>\n",
       "      <td>Census Tract 1506.10</td>\n",
       "      <td>G5020</td>\n",
       "      <td>S</td>\n",
       "      <td>1349445</td>\n",
       "      <td>0</td>\n",
       "      <td>+38.2654848</td>\n",
       "      <td>-122.6401777</td>\n",
       "      <td>None</td>\n",
       "      <td>None</td>\n",
       "      <td>NaN</td>\n",
       "      <td>NaN</td>\n",
       "      <td>POLYGON ((-2655973.729 4891745.883, -2655959.1...</td>\n",
       "    </tr>\n",
       "  </tbody>\n",
       "</table>\n",
       "</div>"
      ],
      "text/plain": [
       "  STATEFP COUNTYFP TRACTCE        GEOID     NAME              NAMELSAD  MTFCC  \\\n",
       "0      06      055  201300  06055201300     2013     Census Tract 2013  G5020   \n",
       "1      06      055  202000  06055202000     2020     Census Tract 2020  G5020   \n",
       "2      06      097  151602  06097151602  1516.02  Census Tract 1516.02  G5020   \n",
       "3      06      097  150607  06097150607  1506.07  Census Tract 1506.07  G5020   \n",
       "4      06      097  150610  06097150610  1506.10  Census Tract 1506.10  G5020   \n",
       "\n",
       "  FUNCSTAT     ALAND  AWATER     INTPTLAT      INTPTLON            Santa_Rosa  \\\n",
       "0        S   3825479    6876  +38.3935118  -122.3655355                  None   \n",
       "1        S   6672855   46827  +38.5814083  -122.5826961                  None   \n",
       "2        S  33113703  228016  +38.4218634  -122.5985465  1400000US06097151602   \n",
       "3        S  11093822       0  +38.2766586  -122.6437522  1400000US06097150607   \n",
       "4        S   1349445       0  +38.2654848  -122.6401777                  None   \n",
       "\n",
       "                                        Santa_Ro_1  Santa_Ro_2  Tot_Est_HH  \\\n",
       "0                                             None         NaN         NaN   \n",
       "1                                             None         NaN         NaN   \n",
       "2  Census Tract 1516.02, Sonoma County, California      1852.0      1852.0   \n",
       "3  Census Tract 1506.07, Sonoma County, California      1719.0      1719.0   \n",
       "4                                             None         NaN         NaN   \n",
       "\n",
       "                                            geometry  \n",
       "0  POLYGON ((-2625602.592 4895396.940, -2624873.5...  \n",
       "1  POLYGON ((-2635488.687 4925562.735, -2635376.7...  \n",
       "2  POLYGON ((-2646299.185 4912693.434, -2646244.1...  \n",
       "3  POLYGON ((-2657204.756 4892702.043, -2657201.8...  \n",
       "4  POLYGON ((-2655973.729 4891745.883, -2655959.1...  "
      ]
     },
     "execution_count": 81,
     "metadata": {},
     "output_type": "execute_result"
    }
   ],
   "source": [
    "# inspect households\n",
    "\n",
    "hh_tract = load_shpfile(road_graph, (\"households\", \"Santa_Rosa_tracts_hh.shp\"))\n",
    "hh_tract.head()"
   ]
  },
  {
   "cell_type": "markdown",
   "metadata": {},
   "source": [
    "The following cell shows the estimated number of households per census tract in the Santa Rosa area."
   ]
  },
  {
   "cell_type": "code",
   "execution_count": 24,
   "metadata": {},
   "outputs": [
    {
     "data": {
      "text/plain": [
       "<matplotlib.axes._subplots.AxesSubplot at 0x7ff3b75e8610>"
      ]
     },
     "execution_count": 24,
     "metadata": {},
     "output_type": "execute_result"
    },
    {
     "data": {
      "image/png": "[encoded data removed]",
      "text/plain": [
       "<Figure size 432x288 with 2 Axes>"
      ]
     },
     "metadata": {
      "needs_background": "light"
     },
     "output_type": "display_data"
    }
   ],
   "source": [
    "# display households\n",
    "\n",
    "hh_tract.plot(column=\"Tot_Est_HH\", legend=True)\n"
   ]
  },
  {
   "cell_type": "markdown",
   "metadata": {},
   "source": [
    "<a id='scaling_up'></a>\n",
    "## Scaling Up\n",
    "([back to Table of Contents](#top))"
   ]
  },
  {
   "cell_type": "markdown",
   "metadata": {},
   "source": [
    "As one full simulation run using the quickest driving strategy can take approximately 5 hours to run, batch scripting is very useful to obtain simulation results. Two scripts (jobscript.sh and run_jobs.sh) are provided to assist in running batch jobs and are described below. These are currently setup to use the SLURM Workload Manager used by Virtual Roger (Keeling), but can be adjusted to run on other HPC. Note that the code is not parallel, so requesting multiple nodes will not improve performance. "
   ]
  },
  {
   "cell_type": "markdown",
   "metadata": {},
   "source": [
    "1. `jobscript.sh` \n",
    "\t\n",
    "This file submits one job to the HPC workload manager. It is currently set up to run one simulation for 5 sequential seeds and needs to be called from run_jobs.sh to set the initial seed value.\n",
    "\n",
    "Before running this file, adjust the time to make sure you have enough time to complete the jobs you want to run. The quickest driving strategy takes the longest to run, and is generally good to figure one job takes approximately 5 hours to run for 800 vehicles. The major roads strategy runs quicker, and the shortest distance strategy runs the fastest.\n",
    "\n",
    "Make sure you enter in your email address, change the path to the path to the folder that contains all the code provided code, and change the output folder and driving strategies as needed. It is helpful to run a short test run before committing to a large job.\n",
    "\n",
    "This file calls `run_fireabm.py`, discussed above, which sets up and runs each simulation.\n",
    "\n",
    "2. `run_jobs.sh`\n",
    "\n",
    "This is the file that you will submit to the scheduler that will then call `jobscript.sh` multiple times to set up individual jobs. When running this file, make sure your seed increments match the length of the loop in jobscript.sh so that seeds are not run multiple times or skipped. You may want to also change the output and error folders depending on the run."
   ]
  },
  {
   "cell_type": "markdown",
   "metadata": {},
   "source": [
    "<a id='analyz_res'></a>\n",
    "## Analyzing Simulation Results\n",
    "([back to Table of Contents](#top))"
   ]
  },
  {
   "cell_type": "markdown",
   "metadata": {},
   "source": [
    "[Graph_Results_Final](./Graph_Results_Final.ipynb) contains the code used to analyze simulation results and generate figures used in the manuscript. The core section of this notebook contains code used to visualize aggregate data from a combination of simulation runs. This is because of the random initial vehicle placement component used in this model; data from each driving strategy is a combination of 100 individual simulation runs each resulting in a slightly different pattern of vehicle traffic.\n",
    "\n",
    "Refer to that notebook for creating overview maps of the road graph (similar to the ones displayed above for the demo road graph), kernel density maps (videos and stills) for each of the driving strategy combined data at 25 time step intervals, and clearance time graphs and charts."
   ]
  },
  {
   "cell_type": "code",
   "execution_count": null,
   "metadata": {},
   "outputs": [],
   "source": []
  }
 ],
 "metadata": {
  "kernelspec": {
   "display_name": "Python 3",
   "language": "python",
   "name": "python3"
  },
  "language_info": {
   "codemirror_mode": {
    "name": "ipython",
    "version": 3
   },
   "file_extension": ".py",
   "mimetype": "text/x-python",
   "name": "python",
   "nbconvert_exporter": "python",
   "pygments_lexer": "ipython3",
   "version": "3.7.6"
  }
 },
 "nbformat": 4,
 "nbformat_minor": 4
}
