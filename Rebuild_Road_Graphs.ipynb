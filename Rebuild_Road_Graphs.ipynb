{
 "cells": [
  {
   "cell_type": "markdown",
   "metadata": {},
   "source": [
    "# Road Graph Creation Workflow"
   ]
  },
  {
   "cell_type": "markdown",
   "metadata": {},
   "source": [
    "This notebook creates a stored road graph file so that the Osmnx API is not called for every run and the same cleaning techniques are used for each road graph. This saves time that would otherwise be needed to rebuild graphs for each simulation run.\n",
    "\n",
    "This notebook demonstrates code to run a wildfire evacuation agent based model. This notebook is a companion to the forthcoming manuscript, \"Evaluating Routing Strategies for Emergency Evacuation: A Spatially Explicit Agent-Based Modeling Approach\" by Rebecca Vandewalle, Furqan Baig, Santiago Nunez-Corrales, Jeon Young Kang, and Shaowen Wang.\n",
    "\n",
    "Notebook author: Rebecca Vandewalle\n",
    "<br>Last updated: 1-4-24"
   ]
  },
  {
   "cell_type": "markdown",
   "metadata": {},
   "source": [
    "<a id='top'></a>\n",
    "## Table of Contents\n",
    "- [Initial setup](#setup)\n",
    "- [Rebuild road graph](#rebuild)"
   ]
  },
  {
   "cell_type": "markdown",
   "metadata": {},
   "source": [
    "<a id='setup'></a>\n",
    "## Initial setup\n",
    "([back to Table of Contents](#top))"
   ]
  },
  {
   "cell_type": "markdown",
   "metadata": {},
   "source": [
    "These code cells import the primary code and set the parameters used for creating the road graphs."
   ]
  },
  {
   "cell_type": "code",
   "execution_count": 1,
   "metadata": {},
   "outputs": [
    {
     "name": "stderr",
     "output_type": "stream",
     "text": [
      "/cvmfs/iguide.purdue.edu/software/conda/iguide/lib/python3.8/site-packages/geopandas/_compat.py:124: UserWarning: The Shapely GEOS version (3.10.3-CAPI-1.16.1) is incompatible with the GEOS version PyGEOS was compiled with (3.11.2-CAPI-1.17.2). Conversions between both will be slow.\n",
      "  warnings.warn(\n"
     ]
    },
    {
     "name": "stdout",
     "output_type": "stream",
     "text": [
      "1.2.2\n"
     ]
    }
   ],
   "source": [
    "# import Osmnx library\n",
    "try:\n",
    "    import osmnx\n",
    "except:\n",
    "    print('Installing osmnx')\n",
    "    ! pip install 'osmnx==1.2.2' \n",
    "    import osmnx\n",
    "\n",
    "import osmnx as ox\n",
    "print (ox.__version__) # expected version 1.2.2\n",
    "\n",
    "# import functions from main code base\n",
    "from FireABM_opt import *\n"
   ]
  },
  {
   "cell_type": "code",
   "execution_count": 2,
   "metadata": {},
   "outputs": [],
   "source": [
    "# set road graph parameters - these were used in the accompanying manuscript\n",
    "# this downloads road graphs for the city of Santa Rosa, California\n",
    "central_addresses = ['100 Santa Rosa Ave, Santa Rosa, CA 95404']\n",
    "names = ['Sta_Rosa_demo']\n",
    "hhs = [\"Santa_Rosa_tracts_hh.shp\"]\n",
    "fires = [\"santa_rosa_fire.shp\"]\n",
    "distances = [2000, 8000]\n"
   ]
  },
  {
   "cell_type": "markdown",
   "metadata": {},
   "source": [
    "<a id='rebuild'></a>\n",
    "## Rebuild road graph\n",
    "([back to Table of Contents](#top))"
   ]
  },
  {
   "cell_type": "markdown",
   "metadata": {},
   "source": [
    "### CAUTION!!!\n",
    "\n",
    "**Running the script in this notebook will overwrite contents of Sta_Rosa_2000.pkl and Sta_Rosa_8000.pkl**\n",
    "\n",
    "Four road graph files are provided with this notebook; Sta_Rosa_2000.pkl, Sta_Rosa_8000.pkl, Sta_Rosa_2000_orig.pkl, and Sta_Rosa_8000_orig.pkl. Road network information are from OpenStreetMap, so road network data can be edited by OpenStreetMap users at any time. Sta_Rosa_2000.pkl and Sta_Rosa_8000.pkl are created using code in this notebook (Rebuild_Road_Graphs). If you run this notebook, you will overwrite the existing road network files with new ones. For replicability sake, Sta_Rosa_2000_orig.pkl and Sta_Rosa_8000_orig.pkl were the road network files used in the manuscript experiments. Because the base Open Street Map data has changed since the experiments were preformed, these files will be different than ones generated with the Rebuild_Road_Graphs code."
   ]
  },
  {
   "cell_type": "markdown",
   "metadata": {},
   "source": [
    "The graph building process can take a few minutes (but no more than ~5 minutes). Because of this, the next cell has a flag. If `run_rebuild` is set to `False`, the rebuilding graph code will not run. If you change the value of `run_rebuild` to `True` the rebuilding graph code will run."
   ]
  },
  {
   "cell_type": "code",
   "execution_count": 7,
   "metadata": {},
   "outputs": [],
   "source": [
    "# flag to rebuild road graphs\n",
    "# set to True to run following cell\n",
    "run_rebuild = False"
   ]
  },
  {
   "cell_type": "markdown",
   "metadata": {},
   "source": [
    "The code in the next cell builds the road graphs and preprocesses the data in preparation for use in the experiments used in the manuscript. First it requests the raw files from OpenStreetMap, then fills in missing attributes, projects the graph, and finally adds functionality used in the simulation."
   ]
  },
  {
   "cell_type": "code",
   "execution_count": 6,
   "metadata": {},
   "outputs": [
    {
     "name": "stderr",
     "output_type": "stream",
     "text": [
      "/cvmfs/iguide.purdue.edu/software/conda/iguide/lib/python3.8/site-packages/IPython/core/interactiveshell.py:3397: FutureWarning: The `op` parameter is deprecated and will be removed in a future release. Please use the `predicate` parameter instead.\n",
      "  exec(code_obj, self.user_global_ns, self.user_ns)\n"
     ]
    },
    {
     "ename": "KeyError",
     "evalue": "'u'",
     "output_type": "error",
     "traceback": [
      "\u001b[0;31m---------------------------------------------------------------------------\u001b[0m",
      "\u001b[0;31mKeyError\u001b[0m                                  Traceback (most recent call last)",
      "File \u001b[0;32m/cvmfs/iguide.purdue.edu/software/conda/iguide/lib/python3.8/site-packages/pandas/core/indexes/base.py:3652\u001b[0m, in \u001b[0;36mIndex.get_loc\u001b[0;34m(self, key)\u001b[0m\n\u001b[1;32m   3651\u001b[0m \u001b[38;5;28;01mtry\u001b[39;00m:\n\u001b[0;32m-> 3652\u001b[0m     \u001b[38;5;28;01mreturn\u001b[39;00m \u001b[38;5;28;43mself\u001b[39;49m\u001b[38;5;241;43m.\u001b[39;49m\u001b[43m_engine\u001b[49m\u001b[38;5;241;43m.\u001b[39;49m\u001b[43mget_loc\u001b[49m\u001b[43m(\u001b[49m\u001b[43mcasted_key\u001b[49m\u001b[43m)\u001b[49m\n\u001b[1;32m   3653\u001b[0m \u001b[38;5;28;01mexcept\u001b[39;00m \u001b[38;5;167;01mKeyError\u001b[39;00m \u001b[38;5;28;01mas\u001b[39;00m err:\n",
      "File \u001b[0;32m/cvmfs/iguide.purdue.edu/software/conda/iguide/lib/python3.8/site-packages/pandas/_libs/index.pyx:147\u001b[0m, in \u001b[0;36mpandas._libs.index.IndexEngine.get_loc\u001b[0;34m()\u001b[0m\n",
      "File \u001b[0;32m/cvmfs/iguide.purdue.edu/software/conda/iguide/lib/python3.8/site-packages/pandas/_libs/index.pyx:176\u001b[0m, in \u001b[0;36mpandas._libs.index.IndexEngine.get_loc\u001b[0;34m()\u001b[0m\n",
      "File \u001b[0;32mpandas/_libs/hashtable_class_helper.pxi:7080\u001b[0m, in \u001b[0;36mpandas._libs.hashtable.PyObjectHashTable.get_item\u001b[0;34m()\u001b[0m\n",
      "File \u001b[0;32mpandas/_libs/hashtable_class_helper.pxi:7088\u001b[0m, in \u001b[0;36mpandas._libs.hashtable.PyObjectHashTable.get_item\u001b[0;34m()\u001b[0m\n",
      "\u001b[0;31mKeyError\u001b[0m: 'u'",
      "\nThe above exception was the direct cause of the following exception:\n",
      "\u001b[0;31mKeyError\u001b[0m                                  Traceback (most recent call last)",
      "Input \u001b[0;32mIn [6]\u001b[0m, in \u001b[0;36m<cell line: 2>\u001b[0;34m()\u001b[0m\n\u001b[1;32m     29\u001b[0m hh_tract \u001b[38;5;241m=\u001b[39m load_shpfile(road_graph, (\u001b[38;5;124m\"\u001b[39m\u001b[38;5;124mhouseholds\u001b[39m\u001b[38;5;124m\"\u001b[39m, hhs[indx]))\n\u001b[1;32m     30\u001b[0m \u001b[38;5;66;03m# adds households to road graph\u001b[39;00m\n\u001b[0;32m---> 31\u001b[0m road_graph, overlap \u001b[38;5;241m=\u001b[39m \u001b[43madd_households\u001b[49m\u001b[43m(\u001b[49m\u001b[43mroad_graph\u001b[49m\u001b[43m,\u001b[49m\u001b[43m \u001b[49m\u001b[43mhh_tract\u001b[49m\u001b[43m,\u001b[49m\u001b[43m \u001b[49m\u001b[43mhhs\u001b[49m\u001b[43m[\u001b[49m\u001b[43mindx\u001b[49m\u001b[43m]\u001b[49m\u001b[43m,\u001b[49m\n\u001b[1;32m     32\u001b[0m \u001b[43m                                     \u001b[49m\u001b[38;5;124;43m\"\u001b[39;49m\u001b[38;5;124;43mTot_Est_HH\u001b[39;49m\u001b[38;5;124;43m\"\u001b[39;49m\u001b[43m,\u001b[49m\u001b[43m \u001b[49m\u001b[43mnum_col\u001b[49m\u001b[38;5;241;43m=\u001b[39;49m\u001b[38;5;241;43m4\u001b[39;49m\u001b[43m,\u001b[49m\n\u001b[1;32m     33\u001b[0m \u001b[43m                                     \u001b[49m\u001b[43mbbox_poly\u001b[49m\u001b[38;5;241;43m=\u001b[39;49m\u001b[43mpoly\u001b[49m\u001b[43m)\u001b[49m\n\u001b[1;32m     35\u001b[0m \u001b[38;5;66;03m# loads fire shapefile\u001b[39;00m\n\u001b[1;32m     36\u001b[0m fire_file \u001b[38;5;241m=\u001b[39m load_shpfile(road_graph, (\u001b[38;5;124m\"\u001b[39m\u001b[38;5;124mfire_input\u001b[39m\u001b[38;5;124m\"\u001b[39m, fires[indx]))\n",
      "File \u001b[0;32m~/FireABM_Modeling_Notebook/FireABM_opt.py:539\u001b[0m, in \u001b[0;36madd_households\u001b[0;34m(g, hh_shp, shp_name, hh_col_name, cut_off_len, num_col, bbox_poly)\u001b[0m\n\u001b[1;32m    536\u001b[0m hh_dict \u001b[38;5;241m=\u001b[39m {}\n\u001b[1;32m    537\u001b[0m tract_dict \u001b[38;5;241m=\u001b[39m {}\n\u001b[0;32m--> 539\u001b[0m \u001b[38;5;28;01mfor\u001b[39;00m i \u001b[38;5;129;01min\u001b[39;00m \u001b[38;5;28mlist\u001b[39m(\u001b[38;5;28mzip\u001b[39m(\u001b[43medges_with_hhs\u001b[49m\u001b[43m[\u001b[49m\u001b[38;5;124;43m'\u001b[39;49m\u001b[38;5;124;43mu\u001b[39;49m\u001b[38;5;124;43m'\u001b[39;49m\u001b[43m]\u001b[49m, edges_with_hhs[\u001b[38;5;124m'\u001b[39m\u001b[38;5;124mv\u001b[39m\u001b[38;5;124m'\u001b[39m], edges_with_hhs[\u001b[38;5;124m'\u001b[39m\u001b[38;5;124mkey\u001b[39m\u001b[38;5;124m'\u001b[39m], edges_with_hhs[hh_col_name])):\n\u001b[1;32m    540\u001b[0m     hh_dict[(i[\u001b[38;5;241m0\u001b[39m], i[\u001b[38;5;241m1\u001b[39m], i[\u001b[38;5;241m2\u001b[39m])] \u001b[38;5;241m=\u001b[39m i[\u001b[38;5;241m3\u001b[39m]\n\u001b[1;32m    542\u001b[0m \u001b[38;5;28;01mfor\u001b[39;00m i \u001b[38;5;129;01min\u001b[39;00m \u001b[38;5;28mlist\u001b[39m(\u001b[38;5;28mzip\u001b[39m(edges_with_hhs[\u001b[38;5;124m'\u001b[39m\u001b[38;5;124mu\u001b[39m\u001b[38;5;124m'\u001b[39m], edges_with_hhs[\u001b[38;5;124m'\u001b[39m\u001b[38;5;124mv\u001b[39m\u001b[38;5;124m'\u001b[39m], edges_with_hhs[\u001b[38;5;124m'\u001b[39m\u001b[38;5;124mkey\u001b[39m\u001b[38;5;124m'\u001b[39m], edges_with_hhs[\u001b[38;5;124m'\u001b[39m\u001b[38;5;124mNAME\u001b[39m\u001b[38;5;124m'\u001b[39m])):\n",
      "File \u001b[0;32m/cvmfs/iguide.purdue.edu/software/conda/iguide/lib/python3.8/site-packages/geopandas/geodataframe.py:1475\u001b[0m, in \u001b[0;36mGeoDataFrame.__getitem__\u001b[0;34m(self, key)\u001b[0m\n\u001b[1;32m   1469\u001b[0m \u001b[38;5;28;01mdef\u001b[39;00m \u001b[38;5;21m__getitem__\u001b[39m(\u001b[38;5;28mself\u001b[39m, key):\n\u001b[1;32m   1470\u001b[0m \u001b[38;5;250m    \u001b[39m\u001b[38;5;124;03m\"\"\"\u001b[39;00m\n\u001b[1;32m   1471\u001b[0m \u001b[38;5;124;03m    If the result is a column containing only 'geometry', return a\u001b[39;00m\n\u001b[1;32m   1472\u001b[0m \u001b[38;5;124;03m    GeoSeries. If it's a DataFrame with any columns of GeometryDtype,\u001b[39;00m\n\u001b[1;32m   1473\u001b[0m \u001b[38;5;124;03m    return a GeoDataFrame.\u001b[39;00m\n\u001b[1;32m   1474\u001b[0m \u001b[38;5;124;03m    \"\"\"\u001b[39;00m\n\u001b[0;32m-> 1475\u001b[0m     result \u001b[38;5;241m=\u001b[39m \u001b[38;5;28;43msuper\u001b[39;49m\u001b[43m(\u001b[49m\u001b[43m)\u001b[49m\u001b[38;5;241;43m.\u001b[39;49m\u001b[38;5;21;43m__getitem__\u001b[39;49m\u001b[43m(\u001b[49m\u001b[43mkey\u001b[49m\u001b[43m)\u001b[49m\n\u001b[1;32m   1476\u001b[0m     \u001b[38;5;66;03m# Custom logic to avoid waiting for pandas GH51895\u001b[39;00m\n\u001b[1;32m   1477\u001b[0m     \u001b[38;5;66;03m# result is not geometry dtype for multi-indexes\u001b[39;00m\n\u001b[1;32m   1478\u001b[0m     \u001b[38;5;28;01mif\u001b[39;00m (\n\u001b[1;32m   1479\u001b[0m         pd\u001b[38;5;241m.\u001b[39mapi\u001b[38;5;241m.\u001b[39mtypes\u001b[38;5;241m.\u001b[39mis_scalar(key)\n\u001b[1;32m   1480\u001b[0m         \u001b[38;5;129;01mand\u001b[39;00m key \u001b[38;5;241m==\u001b[39m \u001b[38;5;124m\"\u001b[39m\u001b[38;5;124m\"\u001b[39m\n\u001b[0;32m   (...)\u001b[0m\n\u001b[1;32m   1483\u001b[0m         \u001b[38;5;129;01mand\u001b[39;00m \u001b[38;5;129;01mnot\u001b[39;00m is_geometry_type(result)\n\u001b[1;32m   1484\u001b[0m     ):\n",
      "File \u001b[0;32m/cvmfs/iguide.purdue.edu/software/conda/iguide/lib/python3.8/site-packages/pandas/core/frame.py:3761\u001b[0m, in \u001b[0;36mDataFrame.__getitem__\u001b[0;34m(self, key)\u001b[0m\n\u001b[1;32m   3759\u001b[0m \u001b[38;5;28;01mif\u001b[39;00m \u001b[38;5;28mself\u001b[39m\u001b[38;5;241m.\u001b[39mcolumns\u001b[38;5;241m.\u001b[39mnlevels \u001b[38;5;241m>\u001b[39m \u001b[38;5;241m1\u001b[39m:\n\u001b[1;32m   3760\u001b[0m     \u001b[38;5;28;01mreturn\u001b[39;00m \u001b[38;5;28mself\u001b[39m\u001b[38;5;241m.\u001b[39m_getitem_multilevel(key)\n\u001b[0;32m-> 3761\u001b[0m indexer \u001b[38;5;241m=\u001b[39m \u001b[38;5;28;43mself\u001b[39;49m\u001b[38;5;241;43m.\u001b[39;49m\u001b[43mcolumns\u001b[49m\u001b[38;5;241;43m.\u001b[39;49m\u001b[43mget_loc\u001b[49m\u001b[43m(\u001b[49m\u001b[43mkey\u001b[49m\u001b[43m)\u001b[49m\n\u001b[1;32m   3762\u001b[0m \u001b[38;5;28;01mif\u001b[39;00m is_integer(indexer):\n\u001b[1;32m   3763\u001b[0m     indexer \u001b[38;5;241m=\u001b[39m [indexer]\n",
      "File \u001b[0;32m/cvmfs/iguide.purdue.edu/software/conda/iguide/lib/python3.8/site-packages/pandas/core/indexes/base.py:3654\u001b[0m, in \u001b[0;36mIndex.get_loc\u001b[0;34m(self, key)\u001b[0m\n\u001b[1;32m   3652\u001b[0m     \u001b[38;5;28;01mreturn\u001b[39;00m \u001b[38;5;28mself\u001b[39m\u001b[38;5;241m.\u001b[39m_engine\u001b[38;5;241m.\u001b[39mget_loc(casted_key)\n\u001b[1;32m   3653\u001b[0m \u001b[38;5;28;01mexcept\u001b[39;00m \u001b[38;5;167;01mKeyError\u001b[39;00m \u001b[38;5;28;01mas\u001b[39;00m err:\n\u001b[0;32m-> 3654\u001b[0m     \u001b[38;5;28;01mraise\u001b[39;00m \u001b[38;5;167;01mKeyError\u001b[39;00m(key) \u001b[38;5;28;01mfrom\u001b[39;00m \u001b[38;5;21;01merr\u001b[39;00m\n\u001b[1;32m   3655\u001b[0m \u001b[38;5;28;01mexcept\u001b[39;00m \u001b[38;5;167;01mTypeError\u001b[39;00m:\n\u001b[1;32m   3656\u001b[0m     \u001b[38;5;66;03m# If we have a listlike key, _check_indexing_error will raise\u001b[39;00m\n\u001b[1;32m   3657\u001b[0m     \u001b[38;5;66;03m#  InvalidIndexError. Otherwise we fall through and re-raise\u001b[39;00m\n\u001b[1;32m   3658\u001b[0m     \u001b[38;5;66;03m#  the TypeError.\u001b[39;00m\n\u001b[1;32m   3659\u001b[0m     \u001b[38;5;28mself\u001b[39m\u001b[38;5;241m.\u001b[39m_check_indexing_error(key)\n",
      "\u001b[0;31mKeyError\u001b[0m: 'u'"
     ]
    }
   ],
   "source": [
    "# rebuild road graphs\n",
    "if run_rebuild:  # flag to protect this code block from auto running\n",
    "    # iterate through parameters\n",
    "    for indx in range(len(central_addresses)):\n",
    "        for dist in distances:\n",
    "            road_graph = ox.graph_from_address(\n",
    "                central_addresses[indx], dist=dist, dist_type='bbox',\n",
    "                network_type='drive',\n",
    "                clean_periphery=True, truncate_by_edge=True)\n",
    "\n",
    "            # adds bearings (directions)\n",
    "            road_graph = ox.add_edge_bearings(road_graph)\n",
    "            # projects graph\n",
    "            road_graph = ox.project_graph(road_graph)\n",
    "            # fills missing speeds, removes dead ends\n",
    "            road_graph = cleanUp(road_graph)\n",
    "\n",
    "            # adds unit speed\n",
    "            road_graph = add_unit_speed(road_graph)\n",
    "            # adds weights for road types\n",
    "            road_graph = add_road_type_weights(road_graph)\n",
    "\n",
    "            # exports nodes and edges for easier functionality\n",
    "            gdf_nodes, gdf_edges = get_node_edge_gdf(road_graph)\n",
    "            # creates bounding boxes\n",
    "            (bbox, lbbox, poly, x, y) = create_bboxes(gdf_nodes, 0.01)\n",
    "\n",
    "            # loads households shapefile\n",
    "            hh_tract = load_shpfile(road_graph, (\"households\", hhs[indx]))\n",
    "            # adds households to road graph\n",
    "            road_graph, overlap = add_households(road_graph, hh_tract, hhs[indx],\n",
    "                                                 \"Tot_Est_HH\", num_col=4,\n",
    "                                                 bbox_poly=poly)\n",
    "\n",
    "            # loads fire shapefile\n",
    "            fire_file = load_shpfile(road_graph, (\"fire_input\", fires[indx]))\n",
    "            # sets fire shapefile start time\n",
    "            init_fire = fire_file[fire_file['SimTime'] == 60]\n",
    "            # adds distance from fire\n",
    "            road_graph = add_fire_distance(road_graph, init_fire)\n",
    "\n",
    "            # exports nodes and edges again to add household and fire info\n",
    "            gdf_nodes, gdf_edges = get_node_edge_gdf(road_graph)\n",
    "\n",
    "            # normalizes certain attributes\n",
    "            road_graph = normalize_edge_attribute(road_graph, 'length',\n",
    "                                                  min(gdf_edges.length),\n",
    "                                                  max(gdf_edges.length),\n",
    "                                                  'length_n')\n",
    "            road_graph = normalize_edge_attribute(road_graph, 'rt_weighted_len',\n",
    "                                                  min(gdf_edges.rt_weighted_len),\n",
    "                                                  max(gdf_edges.rt_weighted_len),\n",
    "                                                  'rt_wght_len_n')\n",
    "            road_graph = normalize_edge_attribute(road_graph, 'fire_dist',\n",
    "                                                  min(gdf_edges.fire_dist),\n",
    "                                                  max(gdf_edges.fire_dist),\n",
    "                                                  'fire_dist_n')\n",
    "            road_graph = invert_norm_edge_attribute(road_graph,\n",
    "                                                    'fire_dist_n',\n",
    "                                                    'inv_fire_dist_n')\n",
    "\n",
    "            # exports graphs to file\n",
    "            outname = names[indx]+'_'+str(dist)+'.pkl'\n",
    "            nx.write_gpickle(road_graph, path=outname)\n",
    "            print(outname)\n"
   ]
  },
  {
   "cell_type": "code",
   "execution_count": null,
   "metadata": {},
   "outputs": [],
   "source": []
  }
 ],
 "metadata": {
  "kernelspec": {
   "display_name": "iguide",
   "language": "python",
   "name": "iguide"
  },
  "language_info": {
   "codemirror_mode": {
    "name": "ipython",
    "version": 3
   },
   "file_extension": ".py",
   "mimetype": "text/x-python",
   "name": "python",
   "nbconvert_exporter": "python",
   "pygments_lexer": "ipython3",
   "version": "3.8.16"
  }
 },
 "nbformat": 4,
 "nbformat_minor": 4
}
