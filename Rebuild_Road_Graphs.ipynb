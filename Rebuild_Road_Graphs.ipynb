{
 "cells": [
  {
   "cell_type": "markdown",
   "metadata": {},
   "source": [
    "## Road Graph Creation Workflow\n",
    "This notebook creates a stored road graph file so that the Osmnx API is not called for every run and the same cleaning techniques are used for each road graph. This saves time that would otherwise be needed to rebuild graphs for each simulation run."
   ]
  },
  {
   "cell_type": "code",
   "execution_count": null,
   "metadata": {},
   "outputs": [],
   "source": [
    "# import functions from main code base\n",
    "from FireABM_opt import *"
   ]
  },
  {
   "cell_type": "code",
   "execution_count": null,
   "metadata": {},
   "outputs": [],
   "source": [
    "# set road graph parameters - these were used in the accompanying manuscript\n",
    "central_addresses = ['100 Santa Rosa Ave, Santa Rosa, CA 95404']\n",
    "names = ['Sta_Rosa']\n",
    "hhs = [\"Santa_Rosa_tracts_hh.shp\"]\n",
    "fires = [\"santa_rosa_fire.shp\"]\n",
    "distances = [2000, 8000]"
   ]
  },
  {
   "cell_type": "code",
   "execution_count": null,
   "metadata": {},
   "outputs": [],
   "source": [
    "for indx in range(len(central_addresses)):\n",
    "    for dist in distances:\n",
    "        road_graph = ox.graph_from_address(\n",
    "            central_addresses[indx], distance=dist, distance_type='bbox', network_type='drive', \n",
    "            clean_periphery=True, truncate_by_edge=True)\n",
    "        \n",
    "        road_graph = ox.add_edge_bearings(road_graph)\n",
    "        road_graph = ox.project_graph(road_graph) # projects graph\n",
    "        road_graph = cleanUp(road_graph) # fills missing speeds, removes dead ends\n",
    "        \n",
    "        road_graph = add_unit_speed(road_graph) # adds unit speed\n",
    "        road_graph = add_road_type_weights(road_graph) # adds weights for road types\n",
    "        \n",
    "        gdf_nodes, gdf_edges = get_node_edge_gdf(road_graph)\n",
    "        (bbox, lbbox, poly, x, y) = create_bboxes(gdf_nodes, 0.01)\n",
    "        \n",
    "        hh_tract = load_shpfile(road_graph, (\"households\", hhs[indx]))\n",
    "        road_graph, overlap = add_households(road_graph, hh_tract, hhs[indx], \n",
    "                                             \"Tot_Est_HH\", num_col=4, bbox_poly=poly) # adds households\n",
    "        \n",
    "        fire_file = load_shpfile(road_graph, (\"fire_input\",fires[indx]))\n",
    "        init_fire = fire_file[fire_file['SimTime'] == 60]\n",
    "        road_graph = add_fire_distance(road_graph, init_fire) # adds distance from fire\n",
    "        \n",
    "        gdf_nodes, gdf_edges = get_node_edge_gdf(road_graph)\n",
    "        \n",
    "        # normalizes some attributes\n",
    "        road_graph = normalize_edge_attribute(road_graph, 'length', min(gdf_edges.length), \n",
    "                                      max(gdf_edges.length), 'length_n')\n",
    "        road_graph = normalize_edge_attribute(road_graph, 'rt_weighted_len', min(gdf_edges.rt_weighted_len), \n",
    "                                      max(gdf_edges.rt_weighted_len), 'rt_wght_len_n')\n",
    "        road_graph = normalize_edge_attribute(road_graph, 'fire_dist', min(gdf_edges.fire_dist), \n",
    "                                      max(gdf_edges.fire_dist), 'fire_dist_n')\n",
    "        road_graph = invert_norm_edge_attribute(road_graph, 'fire_dist_n', 'inv_fire_dist_n')\n",
    "        \n",
    "        outname = names[indx]+'_'+str(dist)+'.pkl'\n",
    "        nx.write_gpickle(road_graph, path=outname)\n",
    "        print(outname)"
   ]
  },
  {
   "cell_type": "code",
   "execution_count": null,
   "metadata": {},
   "outputs": [],
   "source": []
  }
 ],
 "metadata": {
  "kernelspec": {
   "display_name": "Python 3",
   "language": "python",
   "name": "python3"
  },
  "language_info": {
   "codemirror_mode": {
    "name": "ipython",
    "version": 3
   },
   "file_extension": ".py",
   "mimetype": "text/x-python",
   "name": "python",
   "nbconvert_exporter": "python",
   "pygments_lexer": "ipython3",
   "version": "3.7.6"
  }
 },
 "nbformat": 4,
 "nbformat_minor": 4
}
